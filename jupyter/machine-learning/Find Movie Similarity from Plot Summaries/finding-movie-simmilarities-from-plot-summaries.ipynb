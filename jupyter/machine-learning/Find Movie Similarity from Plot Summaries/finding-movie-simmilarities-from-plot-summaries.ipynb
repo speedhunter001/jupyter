{
 "cells": [
  {
   "cell_type": "markdown",
   "metadata": {
    "dc": {
     "key": "3"
    },
    "deletable": false,
    "editable": false,
    "run_control": {
     "frozen": true
    },
    "tags": [
     "context"
    ]
   },
   "source": [
    "## 1. Import and observe dataset\n",
    "<p>We all love watching movies! There are some movies we like, some we don't. Most people have a preference for movies of a similar genre. Some of us love watching action movies, while some of us like watching horror. Some of us like watching movies that have ninjas in them, while some of us like watching superheroes.</p>\n",
    "<p>Movies within a genre often share common base parameters. Consider the following two movies:</p>\n",
    "<p><img style=\"margin:5px 20px 5px 1px; height: 250px; display: inline-block;\" alt=\"2001: A Space Odyssey\" src=\"https://assets.datacamp.com/production/project_648/img/movie1.jpg\">\n",
    "<img style=\"margin:5px 20px 5px 1px; height: 250px; display: inline-block;\" alt=\"Close Encounters of the Third Kind\" src=\"https://assets.datacamp.com/production/project_648/img/movie2.jpg\"></p>\n",
    "<p>Both movies, <em>2001: A Space Odyssey</em> and <em>Close Encounters of the Third Kind</em>, are movies based on aliens coming to Earth. I've seen both, and they indeed share many similarities. We could conclude that both of these fall into the same genre of movies based on intuition, but that's no fun in a data science context. In this notebook, we will quantify the similarity of movies based on their plot summaries available on IMDb and Wikipedia, then separate them into groups, also known as clusters. We'll create a dendrogram to represent how closely the movies are related to each other.</p>\n",
    "<p>Let's start by importing the dataset and observing the data provided.</p>"
   ]
  },
  {
   "cell_type": "code",
   "execution_count": 168,
   "metadata": {
    "dc": {
     "key": "3"
    },
    "tags": [
     "sample_code"
    ]
   },
   "outputs": [
    {
     "name": "stdout",
     "output_type": "stream",
     "text": [
      "Number of movies loaded: 100 \n"
     ]
    },
    {
     "data": {
      "text/html": [
       "<div>\n",
       "<style scoped>\n",
       "    .dataframe tbody tr th:only-of-type {\n",
       "        vertical-align: middle;\n",
       "    }\n",
       "\n",
       "    .dataframe tbody tr th {\n",
       "        vertical-align: top;\n",
       "    }\n",
       "\n",
       "    .dataframe thead th {\n",
       "        text-align: right;\n",
       "    }\n",
       "</style>\n",
       "<table border=\"1\" class=\"dataframe\">\n",
       "  <thead>\n",
       "    <tr style=\"text-align: right;\">\n",
       "      <th></th>\n",
       "      <th>rank</th>\n",
       "      <th>title</th>\n",
       "      <th>genre</th>\n",
       "      <th>wiki_plot</th>\n",
       "      <th>imdb_plot</th>\n",
       "    </tr>\n",
       "  </thead>\n",
       "  <tbody>\n",
       "    <tr>\n",
       "      <th>0</th>\n",
       "      <td>0</td>\n",
       "      <td>The Godfather</td>\n",
       "      <td>[u' Crime', u' Drama']</td>\n",
       "      <td>On the day of his only daughter's wedding, Vit...</td>\n",
       "      <td>In late summer 1945, guests are gathered for t...</td>\n",
       "    </tr>\n",
       "    <tr>\n",
       "      <th>1</th>\n",
       "      <td>1</td>\n",
       "      <td>The Shawshank Redemption</td>\n",
       "      <td>[u' Crime', u' Drama']</td>\n",
       "      <td>In 1947, banker Andy Dufresne is convicted of ...</td>\n",
       "      <td>In 1947, Andy Dufresne (Tim Robbins), a banker...</td>\n",
       "    </tr>\n",
       "    <tr>\n",
       "      <th>2</th>\n",
       "      <td>2</td>\n",
       "      <td>Schindler's List</td>\n",
       "      <td>[u' Biography', u' Drama', u' History']</td>\n",
       "      <td>In 1939, the Germans move Polish Jews into the...</td>\n",
       "      <td>The relocation of Polish Jews from surrounding...</td>\n",
       "    </tr>\n",
       "    <tr>\n",
       "      <th>3</th>\n",
       "      <td>3</td>\n",
       "      <td>Raging Bull</td>\n",
       "      <td>[u' Biography', u' Drama', u' Sport']</td>\n",
       "      <td>In a brief scene in 1964, an aging, overweight...</td>\n",
       "      <td>The film opens in 1964, where an older and fat...</td>\n",
       "    </tr>\n",
       "    <tr>\n",
       "      <th>4</th>\n",
       "      <td>4</td>\n",
       "      <td>Casablanca</td>\n",
       "      <td>[u' Drama', u' Romance', u' War']</td>\n",
       "      <td>It is early December 1941. American expatriate...</td>\n",
       "      <td>In the early years of World War II, December 1...</td>\n",
       "    </tr>\n",
       "    <tr>\n",
       "      <th>5</th>\n",
       "      <td>5</td>\n",
       "      <td>One Flew Over the Cuckoo's Nest</td>\n",
       "      <td>[u' Drama']</td>\n",
       "      <td>In 1963 Oregon, Randle Patrick \"Mac\" McMurphy ...</td>\n",
       "      <td>In 1963 Oregon, Randle Patrick McMurphy (Nicho...</td>\n",
       "    </tr>\n",
       "    <tr>\n",
       "      <th>6</th>\n",
       "      <td>6</td>\n",
       "      <td>Gone with the Wind</td>\n",
       "      <td>[u' Drama', u' Romance', u' War']</td>\n",
       "      <td>\\nPart 1\\n  \\n  Part 1  Part 1  \\n  \\n  On the...</td>\n",
       "      <td>The film opens in Tara, a cotton plantation ow...</td>\n",
       "    </tr>\n",
       "    <tr>\n",
       "      <th>7</th>\n",
       "      <td>7</td>\n",
       "      <td>Citizen Kane</td>\n",
       "      <td>[u' Drama', u' Mystery']</td>\n",
       "      <td>\\n\\n\\n\\nOrson Welles as Charles Foster Kane\\n\\...</td>\n",
       "      <td>It's 1941, and newspaper tycoon Charles Foster...</td>\n",
       "    </tr>\n",
       "    <tr>\n",
       "      <th>8</th>\n",
       "      <td>8</td>\n",
       "      <td>The Wizard of Oz</td>\n",
       "      <td>[u' Adventure', u' Family', u' Fantasy', u' Mu...</td>\n",
       "      <td>The film starts in sepia-tinted Kansas in the ...</td>\n",
       "      <td>Dorothy Gale (Judy Garland) is an orphaned tee...</td>\n",
       "    </tr>\n",
       "    <tr>\n",
       "      <th>9</th>\n",
       "      <td>9</td>\n",
       "      <td>Titanic</td>\n",
       "      <td>[u' Drama', u' Romance']</td>\n",
       "      <td>In 1996, treasure hunter Brock Lovett and his ...</td>\n",
       "      <td>In 1996, treasure hunter Brock Lovett and his ...</td>\n",
       "    </tr>\n",
       "    <tr>\n",
       "      <th>10</th>\n",
       "      <td>10</td>\n",
       "      <td>Lawrence of Arabia</td>\n",
       "      <td>[u' Adventure', u' Biography', u' Drama', u' H...</td>\n",
       "      <td>]  \\n  The film is presented in two parts, s...</td>\n",
       "      <td>In 1935, T. E. Lawrence (Peter O'Toole) is kil...</td>\n",
       "    </tr>\n",
       "    <tr>\n",
       "      <th>11</th>\n",
       "      <td>11</td>\n",
       "      <td>The Godfather: Part II</td>\n",
       "      <td>[u' Crime', u' Drama']</td>\n",
       "      <td>\\nIn 1901 Corleone, Sicily, nine-year-old Vito...</td>\n",
       "      <td>The Godfather Part II presents two parallel st...</td>\n",
       "    </tr>\n",
       "    <tr>\n",
       "      <th>12</th>\n",
       "      <td>12</td>\n",
       "      <td>Psycho</td>\n",
       "      <td>[u' Horror', u' Mystery', u' Thriller']</td>\n",
       "      <td>Patrick Bateman is a wealthy investment banker...</td>\n",
       "      <td>In a Phoenix hotel room on a Friday afternoon,...</td>\n",
       "    </tr>\n",
       "    <tr>\n",
       "      <th>13</th>\n",
       "      <td>13</td>\n",
       "      <td>Sunset Blvd.</td>\n",
       "      <td>[u' Drama', u' Film-Noir']</td>\n",
       "      <td>At a Sunset Boulevard mansion, the body of Joe...</td>\n",
       "      <td>The film opens with the camera tracking down S...</td>\n",
       "    </tr>\n",
       "    <tr>\n",
       "      <th>14</th>\n",
       "      <td>14</td>\n",
       "      <td>Vertigo</td>\n",
       "      <td>[u' Mystery', u' Romance', u' Thriller']</td>\n",
       "      <td>ridge, Fort Point\\n\\n  \\n  \\n\\n\\n\"Madeleine\" a...</td>\n",
       "      <td>A woman's face gives way to a kaleidoscope of ...</td>\n",
       "    </tr>\n",
       "    <tr>\n",
       "      <th>15</th>\n",
       "      <td>15</td>\n",
       "      <td>On the Waterfront</td>\n",
       "      <td>[u' Crime', u' Drama']</td>\n",
       "      <td>Mob-connected union boss Johnny Friendly (Lee ...</td>\n",
       "      <td>Terry Malloy (Marlon Brando) once dreamt of be...</td>\n",
       "    </tr>\n",
       "    <tr>\n",
       "      <th>16</th>\n",
       "      <td>16</td>\n",
       "      <td>Forrest Gump</td>\n",
       "      <td>[u' Drama', u' Romance']</td>\n",
       "      <td>While waiting at a bus stop in 1981, Forrest G...</td>\n",
       "      <td>The film begins with a feather falling to the ...</td>\n",
       "    </tr>\n",
       "    <tr>\n",
       "      <th>17</th>\n",
       "      <td>17</td>\n",
       "      <td>The Sound of Music</td>\n",
       "      <td>[u' Biography', u' Drama', u' Family', u' Musi...</td>\n",
       "      <td>In 1938, while living as a young postulant at ...</td>\n",
       "      <td>The widowed, retired Austrian naval officer, C...</td>\n",
       "    </tr>\n",
       "    <tr>\n",
       "      <th>18</th>\n",
       "      <td>18</td>\n",
       "      <td>West Side Story</td>\n",
       "      <td>[u' Crime', u' Drama', u' Musical', u' Romance...</td>\n",
       "      <td>]  ]  \\n  In the West Side's Lincoln Square ne...</td>\n",
       "      <td>A fight set to music between an American gang,...</td>\n",
       "    </tr>\n",
       "    <tr>\n",
       "      <th>19</th>\n",
       "      <td>19</td>\n",
       "      <td>Star Wars</td>\n",
       "      <td>[u' Action', u' Adventure', u' Fantasy', u' Sc...</td>\n",
       "      <td>The galaxy is in a civil war, and spies for th...</td>\n",
       "      <td>\\nNote: Italicized paragraphs denote scenes ad...</td>\n",
       "    </tr>\n",
       "    <tr>\n",
       "      <th>20</th>\n",
       "      <td>20</td>\n",
       "      <td>E.T. the Extra-Terrestrial</td>\n",
       "      <td>[u' Adventure', u' Family', u' Sci-Fi']</td>\n",
       "      <td>In a California forest, a group of alien botan...</td>\n",
       "      <td>In a forested area overlooking a sprawling sub...</td>\n",
       "    </tr>\n",
       "    <tr>\n",
       "      <th>21</th>\n",
       "      <td>21</td>\n",
       "      <td>2001: A Space Odyssey</td>\n",
       "      <td>[u' Mystery', u' Sci-Fi']</td>\n",
       "      <td>The film consists of four major sections, all ...</td>\n",
       "      <td>To Richard Strauss' tone poem \"Thus Spake Zara...</td>\n",
       "    </tr>\n",
       "    <tr>\n",
       "      <th>22</th>\n",
       "      <td>22</td>\n",
       "      <td>The Silence of the Lambs</td>\n",
       "      <td>[u' Crime', u' Drama', u' Thriller']</td>\n",
       "      <td>is pulled from her training at the FBI Academy...</td>\n",
       "      <td>Promising FBI Academy student Clarice Starling...</td>\n",
       "    </tr>\n",
       "    <tr>\n",
       "      <th>23</th>\n",
       "      <td>23</td>\n",
       "      <td>Chinatown</td>\n",
       "      <td>[u' Drama', u' Mystery', u' Thriller']</td>\n",
       "      <td>A woman identifying herself as Evelyn Mulwray ...</td>\n",
       "      <td>Set in 1937 Los Angeles, a private investigato...</td>\n",
       "    </tr>\n",
       "    <tr>\n",
       "      <th>24</th>\n",
       "      <td>24</td>\n",
       "      <td>The Bridge on the River Kwai</td>\n",
       "      <td>[u' Adventure', u' Drama', u' War']</td>\n",
       "      <td>In World War II, British prisoners arrive at a...</td>\n",
       "      <td>this synopsis is primarily from the wikipedia ...</td>\n",
       "    </tr>\n",
       "    <tr>\n",
       "      <th>25</th>\n",
       "      <td>25</td>\n",
       "      <td>Singin' in the Rain</td>\n",
       "      <td>[u' Comedy', u' Musical', u' Romance']</td>\n",
       "      <td>Don Lockwood is a popular silent film star wit...</td>\n",
       "      <td>Don Lockwood (Gene Kelly) is a popular silent ...</td>\n",
       "    </tr>\n",
       "    <tr>\n",
       "      <th>26</th>\n",
       "      <td>26</td>\n",
       "      <td>It's a Wonderful Life</td>\n",
       "      <td>[u' Drama', u' Family', u' Fantasy']</td>\n",
       "      <td>\\n\\n\\n\\nDonna Reed (as Mary Bailey) and James ...</td>\n",
       "      <td>This movie is about a divine intervention by a...</td>\n",
       "    </tr>\n",
       "    <tr>\n",
       "      <th>27</th>\n",
       "      <td>27</td>\n",
       "      <td>Some Like It Hot</td>\n",
       "      <td>[u' Comedy']</td>\n",
       "      <td>It is February 1929 in the city of Chicago. Jo...</td>\n",
       "      <td>Joe and Jerry, a saxophonist and bassist, resp...</td>\n",
       "    </tr>\n",
       "    <tr>\n",
       "      <th>28</th>\n",
       "      <td>28</td>\n",
       "      <td>12 Angry Men</td>\n",
       "      <td>[u' Drama']</td>\n",
       "      <td>The story begins in a New York City courthous...</td>\n",
       "      <td>A teenaged Hispanic boy has just been tried fo...</td>\n",
       "    </tr>\n",
       "    <tr>\n",
       "      <th>29</th>\n",
       "      <td>29</td>\n",
       "      <td>Dr. Strangelove or: How I Learned to Stop Worr...</td>\n",
       "      <td>[u' Comedy', u' War']</td>\n",
       "      <td>United States Air Force Brigadier General Jack...</td>\n",
       "      <td>At the Burpelson U.S. Air Force Base somewhere...</td>\n",
       "    </tr>\n",
       "    <tr>\n",
       "      <th>...</th>\n",
       "      <td>...</td>\n",
       "      <td>...</td>\n",
       "      <td>...</td>\n",
       "      <td>...</td>\n",
       "      <td>...</td>\n",
       "    </tr>\n",
       "    <tr>\n",
       "      <th>70</th>\n",
       "      <td>70</td>\n",
       "      <td>Rain Man</td>\n",
       "      <td>[u' Drama']</td>\n",
       "      <td>Charlie Babbitt is in the middle of importing ...</td>\n",
       "      <td>Charlie Babbitt (Tom Cruise), a Los Angeles ca...</td>\n",
       "    </tr>\n",
       "    <tr>\n",
       "      <th>71</th>\n",
       "      <td>71</td>\n",
       "      <td>Annie Hall</td>\n",
       "      <td>[u' Comedy', u' Drama', u' Romance']</td>\n",
       "      <td>The comedian Alvy Singer (Woody Allen) is tryi...</td>\n",
       "      <td>Annie Hall is a film about a comedian, Alvy Si...</td>\n",
       "    </tr>\n",
       "    <tr>\n",
       "      <th>72</th>\n",
       "      <td>72</td>\n",
       "      <td>Out of Africa</td>\n",
       "      <td>[u' Biography', u' Drama', u' Romance']</td>\n",
       "      <td>The story begins in 1913 in Denmark, when Kare...</td>\n",
       "      <td>[Out Of Africa]A well-heeled Danish lady goes ...</td>\n",
       "    </tr>\n",
       "    <tr>\n",
       "      <th>73</th>\n",
       "      <td>73</td>\n",
       "      <td>Good Will Hunting</td>\n",
       "      <td>[u' Drama']</td>\n",
       "      <td>Twenty-year-old Will Hunting (Damon) of South ...</td>\n",
       "      <td>Though Will Hunting (Matt Damon) has genius-le...</td>\n",
       "    </tr>\n",
       "    <tr>\n",
       "      <th>74</th>\n",
       "      <td>74</td>\n",
       "      <td>Terms of Endearment</td>\n",
       "      <td>[u' Comedy', u' Drama']</td>\n",
       "      <td>Aurora Greenway (Shirley MacLaine) and her dau...</td>\n",
       "      <td>NaN</td>\n",
       "    </tr>\n",
       "    <tr>\n",
       "      <th>75</th>\n",
       "      <td>75</td>\n",
       "      <td>Tootsie</td>\n",
       "      <td>[u' Comedy', u' Drama', u' Romance']</td>\n",
       "      <td>Michael Dorsey (Dustin Hoffman) is a respected...</td>\n",
       "      <td>Michael Dorsey is an actor living and working ...</td>\n",
       "    </tr>\n",
       "    <tr>\n",
       "      <th>76</th>\n",
       "      <td>76</td>\n",
       "      <td>Fargo</td>\n",
       "      <td>[u' Crime', u' Drama', u' Thriller']</td>\n",
       "      <td>In the winter of 1987, Minneapolis car salesma...</td>\n",
       "      <td>The movie opens with a car towing a new tan Ol...</td>\n",
       "    </tr>\n",
       "    <tr>\n",
       "      <th>77</th>\n",
       "      <td>77</td>\n",
       "      <td>Giant</td>\n",
       "      <td>[u' Drama', u' Romance']</td>\n",
       "      <td>Jordan \"Bick\" Benedict (Rock Hudson), head of ...</td>\n",
       "      <td>In the early 1920s, Jordan \"Bick\" Benedict (Ro...</td>\n",
       "    </tr>\n",
       "    <tr>\n",
       "      <th>78</th>\n",
       "      <td>78</td>\n",
       "      <td>The Grapes of Wrath</td>\n",
       "      <td>[u' Drama']</td>\n",
       "      <td>The film opens with Tom Joad (Henry Fonda), re...</td>\n",
       "      <td>After serving four years in prison for killing...</td>\n",
       "    </tr>\n",
       "    <tr>\n",
       "      <th>79</th>\n",
       "      <td>79</td>\n",
       "      <td>Shane</td>\n",
       "      <td>[u' Drama', u' Romance', u' Western']</td>\n",
       "      <td>\\n\\n\\n\\nAlan Ladd and Jean Arthur\\n\\n  \\n  \\n\\...</td>\n",
       "      <td>NaN</td>\n",
       "    </tr>\n",
       "    <tr>\n",
       "      <th>80</th>\n",
       "      <td>80</td>\n",
       "      <td>The Green Mile</td>\n",
       "      <td>[u' Crime', u' Drama', u' Fantasy', u' Mystery']</td>\n",
       "      <td>In a Louisiana nursing home in 1999, Paul Edge...</td>\n",
       "      <td>The movie begins with an old man named Paul Ed...</td>\n",
       "    </tr>\n",
       "    <tr>\n",
       "      <th>81</th>\n",
       "      <td>81</td>\n",
       "      <td>Close Encounters of the Third Kind</td>\n",
       "      <td>[u' Drama', u' Sci-Fi']</td>\n",
       "      <td>In the Sonoran Desert, French scientist Claude...</td>\n",
       "      <td>In what appers to be the Sonoran Desert; in or...</td>\n",
       "    </tr>\n",
       "    <tr>\n",
       "      <th>82</th>\n",
       "      <td>82</td>\n",
       "      <td>Network</td>\n",
       "      <td>[u' Drama']</td>\n",
       "      <td>Howard Beale, the longtime anchor of the Union...</td>\n",
       "      <td>NaN</td>\n",
       "    </tr>\n",
       "    <tr>\n",
       "      <th>83</th>\n",
       "      <td>83</td>\n",
       "      <td>Nashville</td>\n",
       "      <td>[u' Drama', u' Music']</td>\n",
       "      <td>The overarching plot takes place over five day...</td>\n",
       "      <td>The overarching plot takes place over five day...</td>\n",
       "    </tr>\n",
       "    <tr>\n",
       "      <th>84</th>\n",
       "      <td>84</td>\n",
       "      <td>The Graduate</td>\n",
       "      <td>[u' Comedy', u' Drama', u' Romance']</td>\n",
       "      <td>Benjamin Braddock, going on from twenty to twe...</td>\n",
       "      <td>The film explores the life of 21-year-old Ben ...</td>\n",
       "    </tr>\n",
       "    <tr>\n",
       "      <th>85</th>\n",
       "      <td>85</td>\n",
       "      <td>American Graffiti</td>\n",
       "      <td>[u' Comedy', u' Drama']</td>\n",
       "      <td>In late August 1962 recent high school graduat...</td>\n",
       "      <td>It's the last night of the summer in 1962, and...</td>\n",
       "    </tr>\n",
       "    <tr>\n",
       "      <th>86</th>\n",
       "      <td>86</td>\n",
       "      <td>Pulp Fiction</td>\n",
       "      <td>[u' Crime', u' Drama', u' Thriller']</td>\n",
       "      <td>The Diner\"  \"Prologue—The Diner\"  \\n  \"Pumpkin...</td>\n",
       "      <td>Late one morning in the Hawthorne Grill, a res...</td>\n",
       "    </tr>\n",
       "    <tr>\n",
       "      <th>87</th>\n",
       "      <td>87</td>\n",
       "      <td>The African Queen</td>\n",
       "      <td>[u' Adventure', u' Romance', u' War']</td>\n",
       "      <td>Robert Morley and Katharine Hepburn play Samue...</td>\n",
       "      <td>An English spinster, Rose (Katharine Hepburn),...</td>\n",
       "    </tr>\n",
       "    <tr>\n",
       "      <th>88</th>\n",
       "      <td>88</td>\n",
       "      <td>Stagecoach</td>\n",
       "      <td>[u' Adventure', u' Western']</td>\n",
       "      <td>In 1880, a motley group of strangers boards th...</td>\n",
       "      <td>NaN</td>\n",
       "    </tr>\n",
       "    <tr>\n",
       "      <th>89</th>\n",
       "      <td>89</td>\n",
       "      <td>Mutiny on the Bounty</td>\n",
       "      <td>[u' Adventure', u' Drama', u' History']</td>\n",
       "      <td>In the year 1787, the Bounty sets sail from En...</td>\n",
       "      <td>NaN</td>\n",
       "    </tr>\n",
       "    <tr>\n",
       "      <th>90</th>\n",
       "      <td>90</td>\n",
       "      <td>The Maltese Falcon</td>\n",
       "      <td>[u' Drama', u' Film-Noir', u' Mystery']</td>\n",
       "      <td>\\n\\n\\nIn 1539 the Knight Templars of Malta, pa...</td>\n",
       "      <td>Private eye Sam Spade and his partner Miles Ar...</td>\n",
       "    </tr>\n",
       "    <tr>\n",
       "      <th>91</th>\n",
       "      <td>91</td>\n",
       "      <td>A Clockwork Orange</td>\n",
       "      <td>[u' Crime', u' Drama', u' Sci-Fi']</td>\n",
       "      <td>In futuristic London, Alex DeLarge is the lead...</td>\n",
       "      <td>A bit of the old ultra-violence\".London, Engla...</td>\n",
       "    </tr>\n",
       "    <tr>\n",
       "      <th>92</th>\n",
       "      <td>92</td>\n",
       "      <td>Taxi Driver</td>\n",
       "      <td>[u' Crime', u' Drama']</td>\n",
       "      <td>Travis Bickle, an honorably discharged U.S. Ma...</td>\n",
       "      <td>Travis Bickle (Robert De Niro) goes to a New Y...</td>\n",
       "    </tr>\n",
       "    <tr>\n",
       "      <th>93</th>\n",
       "      <td>93</td>\n",
       "      <td>Wuthering Heights</td>\n",
       "      <td>[u' Drama', u' Romance']</td>\n",
       "      <td>A traveller named Lockwood (Miles Mander) is c...</td>\n",
       "      <td>NaN</td>\n",
       "    </tr>\n",
       "    <tr>\n",
       "      <th>94</th>\n",
       "      <td>94</td>\n",
       "      <td>Double Indemnity</td>\n",
       "      <td>[u' Crime', u' Drama', u' Film-Noir', u' Thril...</td>\n",
       "      <td>\\n\\n\\n\\nNeff confesses into a Dictaphone.\\n\\n ...</td>\n",
       "      <td>Walter Neff (MacMurray) is a successful insura...</td>\n",
       "    </tr>\n",
       "    <tr>\n",
       "      <th>95</th>\n",
       "      <td>95</td>\n",
       "      <td>Rebel Without a Cause</td>\n",
       "      <td>[u' Drama']</td>\n",
       "      <td>\\n\\n\\n\\nJim Stark is in police custody.\\n\\n  \\...</td>\n",
       "      <td>Shortly after moving to Los Angeles with his p...</td>\n",
       "    </tr>\n",
       "    <tr>\n",
       "      <th>96</th>\n",
       "      <td>96</td>\n",
       "      <td>Rear Window</td>\n",
       "      <td>[u' Mystery', u' Thriller']</td>\n",
       "      <td>\\n\\n\\n\\nJames Stewart as L.B. Jefferies\\n\\n  \\...</td>\n",
       "      <td>L.B. \"Jeff\" Jeffries (James Stewart) recuperat...</td>\n",
       "    </tr>\n",
       "    <tr>\n",
       "      <th>97</th>\n",
       "      <td>97</td>\n",
       "      <td>The Third Man</td>\n",
       "      <td>[u' Film-Noir', u' Mystery', u' Thriller']</td>\n",
       "      <td>\\n\\n\\n\\nSocial network mapping all major chara...</td>\n",
       "      <td>Sights of Vienna, Austria, flash across the sc...</td>\n",
       "    </tr>\n",
       "    <tr>\n",
       "      <th>98</th>\n",
       "      <td>98</td>\n",
       "      <td>North by Northwest</td>\n",
       "      <td>[u' Mystery', u' Thriller']</td>\n",
       "      <td>Advertising executive Roger O. Thornhill is mi...</td>\n",
       "      <td>At the end of an ordinary work day, advertisin...</td>\n",
       "    </tr>\n",
       "    <tr>\n",
       "      <th>99</th>\n",
       "      <td>99</td>\n",
       "      <td>Yankee Doodle Dandy</td>\n",
       "      <td>[u' Biography', u' Drama', u' Musical']</td>\n",
       "      <td>\\n  In the early days of World War II, Cohan ...</td>\n",
       "      <td>NaN</td>\n",
       "    </tr>\n",
       "  </tbody>\n",
       "</table>\n",
       "<p>100 rows × 5 columns</p>\n",
       "</div>"
      ],
      "text/plain": [
       "    rank                                              title  \\\n",
       "0      0                                      The Godfather   \n",
       "1      1                           The Shawshank Redemption   \n",
       "2      2                                   Schindler's List   \n",
       "3      3                                        Raging Bull   \n",
       "4      4                                         Casablanca   \n",
       "5      5                    One Flew Over the Cuckoo's Nest   \n",
       "6      6                                 Gone with the Wind   \n",
       "7      7                                       Citizen Kane   \n",
       "8      8                                   The Wizard of Oz   \n",
       "9      9                                            Titanic   \n",
       "10    10                                 Lawrence of Arabia   \n",
       "11    11                             The Godfather: Part II   \n",
       "12    12                                             Psycho   \n",
       "13    13                                       Sunset Blvd.   \n",
       "14    14                                            Vertigo   \n",
       "15    15                                  On the Waterfront   \n",
       "16    16                                       Forrest Gump   \n",
       "17    17                                 The Sound of Music   \n",
       "18    18                                    West Side Story   \n",
       "19    19                                          Star Wars   \n",
       "20    20                         E.T. the Extra-Terrestrial   \n",
       "21    21                              2001: A Space Odyssey   \n",
       "22    22                           The Silence of the Lambs   \n",
       "23    23                                          Chinatown   \n",
       "24    24                       The Bridge on the River Kwai   \n",
       "25    25                                Singin' in the Rain   \n",
       "26    26                              It's a Wonderful Life   \n",
       "27    27                                   Some Like It Hot   \n",
       "28    28                                       12 Angry Men   \n",
       "29    29  Dr. Strangelove or: How I Learned to Stop Worr...   \n",
       "..   ...                                                ...   \n",
       "70    70                                           Rain Man   \n",
       "71    71                                         Annie Hall   \n",
       "72    72                                      Out of Africa   \n",
       "73    73                                  Good Will Hunting   \n",
       "74    74                                Terms of Endearment   \n",
       "75    75                                            Tootsie   \n",
       "76    76                                              Fargo   \n",
       "77    77                                              Giant   \n",
       "78    78                                The Grapes of Wrath   \n",
       "79    79                                              Shane   \n",
       "80    80                                     The Green Mile   \n",
       "81    81                 Close Encounters of the Third Kind   \n",
       "82    82                                            Network   \n",
       "83    83                                          Nashville   \n",
       "84    84                                       The Graduate   \n",
       "85    85                                  American Graffiti   \n",
       "86    86                                       Pulp Fiction   \n",
       "87    87                                  The African Queen   \n",
       "88    88                                         Stagecoach   \n",
       "89    89                               Mutiny on the Bounty   \n",
       "90    90                                 The Maltese Falcon   \n",
       "91    91                                 A Clockwork Orange   \n",
       "92    92                                        Taxi Driver   \n",
       "93    93                                  Wuthering Heights   \n",
       "94    94                                   Double Indemnity   \n",
       "95    95                              Rebel Without a Cause   \n",
       "96    96                                        Rear Window   \n",
       "97    97                                      The Third Man   \n",
       "98    98                                 North by Northwest   \n",
       "99    99                                Yankee Doodle Dandy   \n",
       "\n",
       "                                                genre  \\\n",
       "0                              [u' Crime', u' Drama']   \n",
       "1                              [u' Crime', u' Drama']   \n",
       "2             [u' Biography', u' Drama', u' History']   \n",
       "3               [u' Biography', u' Drama', u' Sport']   \n",
       "4                   [u' Drama', u' Romance', u' War']   \n",
       "5                                         [u' Drama']   \n",
       "6                   [u' Drama', u' Romance', u' War']   \n",
       "7                            [u' Drama', u' Mystery']   \n",
       "8   [u' Adventure', u' Family', u' Fantasy', u' Mu...   \n",
       "9                            [u' Drama', u' Romance']   \n",
       "10  [u' Adventure', u' Biography', u' Drama', u' H...   \n",
       "11                             [u' Crime', u' Drama']   \n",
       "12            [u' Horror', u' Mystery', u' Thriller']   \n",
       "13                         [u' Drama', u' Film-Noir']   \n",
       "14           [u' Mystery', u' Romance', u' Thriller']   \n",
       "15                             [u' Crime', u' Drama']   \n",
       "16                           [u' Drama', u' Romance']   \n",
       "17  [u' Biography', u' Drama', u' Family', u' Musi...   \n",
       "18  [u' Crime', u' Drama', u' Musical', u' Romance...   \n",
       "19  [u' Action', u' Adventure', u' Fantasy', u' Sc...   \n",
       "20            [u' Adventure', u' Family', u' Sci-Fi']   \n",
       "21                          [u' Mystery', u' Sci-Fi']   \n",
       "22               [u' Crime', u' Drama', u' Thriller']   \n",
       "23             [u' Drama', u' Mystery', u' Thriller']   \n",
       "24                [u' Adventure', u' Drama', u' War']   \n",
       "25             [u' Comedy', u' Musical', u' Romance']   \n",
       "26               [u' Drama', u' Family', u' Fantasy']   \n",
       "27                                       [u' Comedy']   \n",
       "28                                        [u' Drama']   \n",
       "29                              [u' Comedy', u' War']   \n",
       "..                                                ...   \n",
       "70                                        [u' Drama']   \n",
       "71               [u' Comedy', u' Drama', u' Romance']   \n",
       "72            [u' Biography', u' Drama', u' Romance']   \n",
       "73                                        [u' Drama']   \n",
       "74                            [u' Comedy', u' Drama']   \n",
       "75               [u' Comedy', u' Drama', u' Romance']   \n",
       "76               [u' Crime', u' Drama', u' Thriller']   \n",
       "77                           [u' Drama', u' Romance']   \n",
       "78                                        [u' Drama']   \n",
       "79              [u' Drama', u' Romance', u' Western']   \n",
       "80   [u' Crime', u' Drama', u' Fantasy', u' Mystery']   \n",
       "81                            [u' Drama', u' Sci-Fi']   \n",
       "82                                        [u' Drama']   \n",
       "83                             [u' Drama', u' Music']   \n",
       "84               [u' Comedy', u' Drama', u' Romance']   \n",
       "85                            [u' Comedy', u' Drama']   \n",
       "86               [u' Crime', u' Drama', u' Thriller']   \n",
       "87              [u' Adventure', u' Romance', u' War']   \n",
       "88                       [u' Adventure', u' Western']   \n",
       "89            [u' Adventure', u' Drama', u' History']   \n",
       "90            [u' Drama', u' Film-Noir', u' Mystery']   \n",
       "91                 [u' Crime', u' Drama', u' Sci-Fi']   \n",
       "92                             [u' Crime', u' Drama']   \n",
       "93                           [u' Drama', u' Romance']   \n",
       "94  [u' Crime', u' Drama', u' Film-Noir', u' Thril...   \n",
       "95                                        [u' Drama']   \n",
       "96                        [u' Mystery', u' Thriller']   \n",
       "97         [u' Film-Noir', u' Mystery', u' Thriller']   \n",
       "98                        [u' Mystery', u' Thriller']   \n",
       "99            [u' Biography', u' Drama', u' Musical']   \n",
       "\n",
       "                                            wiki_plot  \\\n",
       "0   On the day of his only daughter's wedding, Vit...   \n",
       "1   In 1947, banker Andy Dufresne is convicted of ...   \n",
       "2   In 1939, the Germans move Polish Jews into the...   \n",
       "3   In a brief scene in 1964, an aging, overweight...   \n",
       "4   It is early December 1941. American expatriate...   \n",
       "5   In 1963 Oregon, Randle Patrick \"Mac\" McMurphy ...   \n",
       "6   \\nPart 1\\n  \\n  Part 1  Part 1  \\n  \\n  On the...   \n",
       "7   \\n\\n\\n\\nOrson Welles as Charles Foster Kane\\n\\...   \n",
       "8   The film starts in sepia-tinted Kansas in the ...   \n",
       "9   In 1996, treasure hunter Brock Lovett and his ...   \n",
       "10    ]  \\n  The film is presented in two parts, s...   \n",
       "11  \\nIn 1901 Corleone, Sicily, nine-year-old Vito...   \n",
       "12  Patrick Bateman is a wealthy investment banker...   \n",
       "13  At a Sunset Boulevard mansion, the body of Joe...   \n",
       "14  ridge, Fort Point\\n\\n  \\n  \\n\\n\\n\"Madeleine\" a...   \n",
       "15  Mob-connected union boss Johnny Friendly (Lee ...   \n",
       "16  While waiting at a bus stop in 1981, Forrest G...   \n",
       "17  In 1938, while living as a young postulant at ...   \n",
       "18  ]  ]  \\n  In the West Side's Lincoln Square ne...   \n",
       "19  The galaxy is in a civil war, and spies for th...   \n",
       "20  In a California forest, a group of alien botan...   \n",
       "21  The film consists of four major sections, all ...   \n",
       "22  is pulled from her training at the FBI Academy...   \n",
       "23  A woman identifying herself as Evelyn Mulwray ...   \n",
       "24  In World War II, British prisoners arrive at a...   \n",
       "25  Don Lockwood is a popular silent film star wit...   \n",
       "26  \\n\\n\\n\\nDonna Reed (as Mary Bailey) and James ...   \n",
       "27  It is February 1929 in the city of Chicago. Jo...   \n",
       "28   The story begins in a New York City courthous...   \n",
       "29  United States Air Force Brigadier General Jack...   \n",
       "..                                                ...   \n",
       "70  Charlie Babbitt is in the middle of importing ...   \n",
       "71  The comedian Alvy Singer (Woody Allen) is tryi...   \n",
       "72  The story begins in 1913 in Denmark, when Kare...   \n",
       "73  Twenty-year-old Will Hunting (Damon) of South ...   \n",
       "74  Aurora Greenway (Shirley MacLaine) and her dau...   \n",
       "75  Michael Dorsey (Dustin Hoffman) is a respected...   \n",
       "76  In the winter of 1987, Minneapolis car salesma...   \n",
       "77  Jordan \"Bick\" Benedict (Rock Hudson), head of ...   \n",
       "78  The film opens with Tom Joad (Henry Fonda), re...   \n",
       "79  \\n\\n\\n\\nAlan Ladd and Jean Arthur\\n\\n  \\n  \\n\\...   \n",
       "80  In a Louisiana nursing home in 1999, Paul Edge...   \n",
       "81  In the Sonoran Desert, French scientist Claude...   \n",
       "82  Howard Beale, the longtime anchor of the Union...   \n",
       "83  The overarching plot takes place over five day...   \n",
       "84  Benjamin Braddock, going on from twenty to twe...   \n",
       "85  In late August 1962 recent high school graduat...   \n",
       "86  The Diner\"  \"Prologue—The Diner\"  \\n  \"Pumpkin...   \n",
       "87  Robert Morley and Katharine Hepburn play Samue...   \n",
       "88  In 1880, a motley group of strangers boards th...   \n",
       "89  In the year 1787, the Bounty sets sail from En...   \n",
       "90  \\n\\n\\nIn 1539 the Knight Templars of Malta, pa...   \n",
       "91  In futuristic London, Alex DeLarge is the lead...   \n",
       "92  Travis Bickle, an honorably discharged U.S. Ma...   \n",
       "93  A traveller named Lockwood (Miles Mander) is c...   \n",
       "94  \\n\\n\\n\\nNeff confesses into a Dictaphone.\\n\\n ...   \n",
       "95  \\n\\n\\n\\nJim Stark is in police custody.\\n\\n  \\...   \n",
       "96  \\n\\n\\n\\nJames Stewart as L.B. Jefferies\\n\\n  \\...   \n",
       "97  \\n\\n\\n\\nSocial network mapping all major chara...   \n",
       "98  Advertising executive Roger O. Thornhill is mi...   \n",
       "99   \\n  In the early days of World War II, Cohan ...   \n",
       "\n",
       "                                            imdb_plot  \n",
       "0   In late summer 1945, guests are gathered for t...  \n",
       "1   In 1947, Andy Dufresne (Tim Robbins), a banker...  \n",
       "2   The relocation of Polish Jews from surrounding...  \n",
       "3   The film opens in 1964, where an older and fat...  \n",
       "4   In the early years of World War II, December 1...  \n",
       "5   In 1963 Oregon, Randle Patrick McMurphy (Nicho...  \n",
       "6   The film opens in Tara, a cotton plantation ow...  \n",
       "7   It's 1941, and newspaper tycoon Charles Foster...  \n",
       "8   Dorothy Gale (Judy Garland) is an orphaned tee...  \n",
       "9   In 1996, treasure hunter Brock Lovett and his ...  \n",
       "10  In 1935, T. E. Lawrence (Peter O'Toole) is kil...  \n",
       "11  The Godfather Part II presents two parallel st...  \n",
       "12  In a Phoenix hotel room on a Friday afternoon,...  \n",
       "13  The film opens with the camera tracking down S...  \n",
       "14  A woman's face gives way to a kaleidoscope of ...  \n",
       "15  Terry Malloy (Marlon Brando) once dreamt of be...  \n",
       "16  The film begins with a feather falling to the ...  \n",
       "17  The widowed, retired Austrian naval officer, C...  \n",
       "18  A fight set to music between an American gang,...  \n",
       "19  \\nNote: Italicized paragraphs denote scenes ad...  \n",
       "20  In a forested area overlooking a sprawling sub...  \n",
       "21  To Richard Strauss' tone poem \"Thus Spake Zara...  \n",
       "22  Promising FBI Academy student Clarice Starling...  \n",
       "23  Set in 1937 Los Angeles, a private investigato...  \n",
       "24  this synopsis is primarily from the wikipedia ...  \n",
       "25  Don Lockwood (Gene Kelly) is a popular silent ...  \n",
       "26  This movie is about a divine intervention by a...  \n",
       "27  Joe and Jerry, a saxophonist and bassist, resp...  \n",
       "28  A teenaged Hispanic boy has just been tried fo...  \n",
       "29  At the Burpelson U.S. Air Force Base somewhere...  \n",
       "..                                                ...  \n",
       "70  Charlie Babbitt (Tom Cruise), a Los Angeles ca...  \n",
       "71  Annie Hall is a film about a comedian, Alvy Si...  \n",
       "72  [Out Of Africa]A well-heeled Danish lady goes ...  \n",
       "73  Though Will Hunting (Matt Damon) has genius-le...  \n",
       "74                                                NaN  \n",
       "75  Michael Dorsey is an actor living and working ...  \n",
       "76  The movie opens with a car towing a new tan Ol...  \n",
       "77  In the early 1920s, Jordan \"Bick\" Benedict (Ro...  \n",
       "78  After serving four years in prison for killing...  \n",
       "79                                                NaN  \n",
       "80  The movie begins with an old man named Paul Ed...  \n",
       "81  In what appers to be the Sonoran Desert; in or...  \n",
       "82                                                NaN  \n",
       "83  The overarching plot takes place over five day...  \n",
       "84  The film explores the life of 21-year-old Ben ...  \n",
       "85  It's the last night of the summer in 1962, and...  \n",
       "86  Late one morning in the Hawthorne Grill, a res...  \n",
       "87  An English spinster, Rose (Katharine Hepburn),...  \n",
       "88                                                NaN  \n",
       "89                                                NaN  \n",
       "90  Private eye Sam Spade and his partner Miles Ar...  \n",
       "91  A bit of the old ultra-violence\".London, Engla...  \n",
       "92  Travis Bickle (Robert De Niro) goes to a New Y...  \n",
       "93                                                NaN  \n",
       "94  Walter Neff (MacMurray) is a successful insura...  \n",
       "95  Shortly after moving to Los Angeles with his p...  \n",
       "96  L.B. \"Jeff\" Jeffries (James Stewart) recuperat...  \n",
       "97  Sights of Vienna, Austria, flash across the sc...  \n",
       "98  At the end of an ordinary work day, advertisin...  \n",
       "99                                                NaN  \n",
       "\n",
       "[100 rows x 5 columns]"
      ]
     },
     "execution_count": 168,
     "metadata": {},
     "output_type": "execute_result"
    }
   ],
   "source": [
    "# Import modules\n",
    "import numpy as np\n",
    "import pandas as pd\n",
    "import nltk\n",
    "\n",
    "# Set seed for reproducibility\n",
    "np.random.seed(5)\n",
    "\n",
    "# Read in IMDb and Wikipedia movie data (both in same file)\n",
    "movies_df = pd.read_csv('datasets/movies.csv')\n",
    "\n",
    "print(\"Number of movies loaded: %s \" % (len(movies_df)))\n",
    "\n",
    "# Display the data\n",
    "movies_df"
   ]
  },
  {
   "cell_type": "markdown",
   "metadata": {
    "dc": {
     "key": "10"
    },
    "deletable": false,
    "editable": false,
    "run_control": {
     "frozen": true
    },
    "tags": [
     "context"
    ]
   },
   "source": [
    "## 2. Combine Wikipedia and IMDb plot summaries\n",
    "<p>The dataset we imported currently contains two columns titled <code>wiki_plot</code> and <code>imdb_plot</code>. They are the plot found for the movies on Wikipedia and IMDb, respectively. The text in the two columns is similar, however, they are often written in different tones and thus provide context on a movie in a different manner of linguistic expression. Further, sometimes the text in one column may mention a feature of the plot that is not present in the other column. For example, consider the following plot extracts from <em>The Godfather</em>:</p>\n",
    "<ul>\n",
    "<li>Wikipedia: \"On the day of his only daughter's wedding, Vito Corleone\"</li>\n",
    "<li>IMDb: \"In late summer 1945, guests are gathered for the wedding reception of Don Vito Corleone's daughter Connie\"</li>\n",
    "</ul>\n",
    "<p>While the Wikipedia plot only mentions it is the day of the daughter's wedding, the IMDb plot also mentions the year of the scene and the name of the daughter. </p>\n",
    "<p>Let's combine both the columns to avoid the overheads in computation associated with extra columns to process.</p>"
   ]
  },
  {
   "cell_type": "code",
   "execution_count": 170,
   "metadata": {
    "dc": {
     "key": "10"
    },
    "tags": [
     "sample_code"
    ]
   },
   "outputs": [
    {
     "data": {
      "text/html": [
       "<div>\n",
       "<style scoped>\n",
       "    .dataframe tbody tr th:only-of-type {\n",
       "        vertical-align: middle;\n",
       "    }\n",
       "\n",
       "    .dataframe tbody tr th {\n",
       "        vertical-align: top;\n",
       "    }\n",
       "\n",
       "    .dataframe thead th {\n",
       "        text-align: right;\n",
       "    }\n",
       "</style>\n",
       "<table border=\"1\" class=\"dataframe\">\n",
       "  <thead>\n",
       "    <tr style=\"text-align: right;\">\n",
       "      <th></th>\n",
       "      <th>rank</th>\n",
       "      <th>title</th>\n",
       "      <th>genre</th>\n",
       "      <th>wiki_plot</th>\n",
       "      <th>imdb_plot</th>\n",
       "      <th>plot</th>\n",
       "    </tr>\n",
       "  </thead>\n",
       "  <tbody>\n",
       "    <tr>\n",
       "      <th>0</th>\n",
       "      <td>0</td>\n",
       "      <td>The Godfather</td>\n",
       "      <td>[u' Crime', u' Drama']</td>\n",
       "      <td>On the day of his only daughter's wedding, Vit...</td>\n",
       "      <td>In late summer 1945, guests are gathered for t...</td>\n",
       "      <td>On the day of his only daughter's wedding, Vit...</td>\n",
       "    </tr>\n",
       "    <tr>\n",
       "      <th>1</th>\n",
       "      <td>1</td>\n",
       "      <td>The Shawshank Redemption</td>\n",
       "      <td>[u' Crime', u' Drama']</td>\n",
       "      <td>In 1947, banker Andy Dufresne is convicted of ...</td>\n",
       "      <td>In 1947, Andy Dufresne (Tim Robbins), a banker...</td>\n",
       "      <td>In 1947, banker Andy Dufresne is convicted of ...</td>\n",
       "    </tr>\n",
       "    <tr>\n",
       "      <th>2</th>\n",
       "      <td>2</td>\n",
       "      <td>Schindler's List</td>\n",
       "      <td>[u' Biography', u' Drama', u' History']</td>\n",
       "      <td>In 1939, the Germans move Polish Jews into the...</td>\n",
       "      <td>The relocation of Polish Jews from surrounding...</td>\n",
       "      <td>In 1939, the Germans move Polish Jews into the...</td>\n",
       "    </tr>\n",
       "    <tr>\n",
       "      <th>3</th>\n",
       "      <td>3</td>\n",
       "      <td>Raging Bull</td>\n",
       "      <td>[u' Biography', u' Drama', u' Sport']</td>\n",
       "      <td>In a brief scene in 1964, an aging, overweight...</td>\n",
       "      <td>The film opens in 1964, where an older and fat...</td>\n",
       "      <td>In a brief scene in 1964, an aging, overweight...</td>\n",
       "    </tr>\n",
       "    <tr>\n",
       "      <th>4</th>\n",
       "      <td>4</td>\n",
       "      <td>Casablanca</td>\n",
       "      <td>[u' Drama', u' Romance', u' War']</td>\n",
       "      <td>It is early December 1941. American expatriate...</td>\n",
       "      <td>In the early years of World War II, December 1...</td>\n",
       "      <td>It is early December 1941. American expatriate...</td>\n",
       "    </tr>\n",
       "  </tbody>\n",
       "</table>\n",
       "</div>"
      ],
      "text/plain": [
       "   rank                     title                                    genre  \\\n",
       "0     0             The Godfather                   [u' Crime', u' Drama']   \n",
       "1     1  The Shawshank Redemption                   [u' Crime', u' Drama']   \n",
       "2     2          Schindler's List  [u' Biography', u' Drama', u' History']   \n",
       "3     3               Raging Bull    [u' Biography', u' Drama', u' Sport']   \n",
       "4     4                Casablanca        [u' Drama', u' Romance', u' War']   \n",
       "\n",
       "                                           wiki_plot  \\\n",
       "0  On the day of his only daughter's wedding, Vit...   \n",
       "1  In 1947, banker Andy Dufresne is convicted of ...   \n",
       "2  In 1939, the Germans move Polish Jews into the...   \n",
       "3  In a brief scene in 1964, an aging, overweight...   \n",
       "4  It is early December 1941. American expatriate...   \n",
       "\n",
       "                                           imdb_plot  \\\n",
       "0  In late summer 1945, guests are gathered for t...   \n",
       "1  In 1947, Andy Dufresne (Tim Robbins), a banker...   \n",
       "2  The relocation of Polish Jews from surrounding...   \n",
       "3  The film opens in 1964, where an older and fat...   \n",
       "4  In the early years of World War II, December 1...   \n",
       "\n",
       "                                                plot  \n",
       "0  On the day of his only daughter's wedding, Vit...  \n",
       "1  In 1947, banker Andy Dufresne is convicted of ...  \n",
       "2  In 1939, the Germans move Polish Jews into the...  \n",
       "3  In a brief scene in 1964, an aging, overweight...  \n",
       "4  It is early December 1941. American expatriate...  "
      ]
     },
     "execution_count": 170,
     "metadata": {},
     "output_type": "execute_result"
    }
   ],
   "source": [
    "# Combine wiki_plot and imdb_plot into a single column\n",
    "movies_df['plot'] = movies_df['wiki_plot'].astype(str) + \"\\n\" + \\\n",
    "                 movies_df['imdb_plot'].astype(str)\n",
    "\n",
    "# Inspect the new DataFrame\n",
    "movies_df.head()"
   ]
  },
  {
   "cell_type": "markdown",
   "metadata": {
    "dc": {
     "key": "17"
    },
    "deletable": false,
    "editable": false,
    "run_control": {
     "frozen": true
    },
    "tags": [
     "context"
    ]
   },
   "source": [
    "## 3. Tokenization\n",
    "<p>Tokenization is the process  by which we break down articles into individual sentences or words, as needed. Besides the tokenization method provided by NLTK, we might have to perform additional filtration to remove tokens which are entirely numeric values or punctuation.</p>\n",
    "<p>While a program may fail to build context from \"While waiting at a bus stop in 1981\" (<em>Forrest Gump</em>), because this string would not match in any dictionary, it is possible to build context from the words \"while\", \"waiting\" or \"bus\" because they are present in the English dictionary. </p>\n",
    "<p>Let us perform tokenization on a small extract from <em>The Godfather</em>.</p>"
   ]
  },
  {
   "cell_type": "code",
   "execution_count": 172,
   "metadata": {
    "dc": {
     "key": "17"
    },
    "tags": [
     "sample_code"
    ]
   },
   "outputs": [
    {
     "data": {
      "text/plain": [
       "['Today', 'May', 'is', 'his', 'only', 'daughter', \"'s\", 'wedding']"
      ]
     },
     "execution_count": 172,
     "metadata": {},
     "output_type": "execute_result"
    }
   ],
   "source": [
    "# Tokenize a paragraph into sentences and store in sent_tokenized\n",
    "sent_tokenized = [sent for sent in nltk.sent_tokenize(\"\"\"\n",
    "                        Today (May 19, 2016) is his only daughter's wedding. \n",
    "                        Vito Corleone is the Godfather.\n",
    "                        \"\"\")]\n",
    "\n",
    "# Word Tokenize first sentence from sent_tokenized, save as words_tokenized\n",
    "words_tokenized = [word for word in nltk.word_tokenize(sent_tokenized[0])]\n",
    "\n",
    "# Remove tokens that do not contain any letters from words_tokenized\n",
    "import re\n",
    "\n",
    "filtered = [word for word in words_tokenized if re.search('[a-zA-Z]', word)]\n",
    "\n",
    "# Display filtered words to observe words after tokenization\n",
    "filtered"
   ]
  },
  {
   "cell_type": "markdown",
   "metadata": {
    "dc": {
     "key": "24"
    },
    "deletable": false,
    "editable": false,
    "run_control": {
     "frozen": true
    },
    "tags": [
     "context"
    ]
   },
   "source": [
    "## 4. Stemming\n",
    "<p>Stemming is the process by which we bring down a word from its different forms to the root word. This helps us establish meaning to different forms of the same words without having to deal with each form separately. For example, the words 'fishing', 'fished', and 'fisher' all get stemmed to the word 'fish'.</p>\n",
    "<p>Consider the following sentences:</p>\n",
    "<ul>\n",
    "<li>\"Young William Wallace witnesses the treachery of Longshanks\" ~ <em>Gladiator</em></li>\n",
    "<li>\"escapes to the city walls only to witness Cicero's death\" ~ <em>Braveheart</em></li>\n",
    "</ul>\n",
    "<p>Instead of building separate dictionary entries for both witnesses and witness, which mean the same thing outside of quantity, stemming them reduces them to 'wit'.</p>\n",
    "<p>There are different algorithms available for stemming such as the Porter Stemmer, Snowball Stemmer, etc. We shall use the Snowball Stemmer.</p>"
   ]
  },
  {
   "cell_type": "code",
   "execution_count": 174,
   "metadata": {
    "dc": {
     "key": "24"
    },
    "tags": [
     "sample_code"
    ]
   },
   "outputs": [
    {
     "name": "stdout",
     "output_type": "stream",
     "text": [
      "Without stemming:  ['Today', 'May', 'is', 'his', 'only', 'daughter', \"'s\", 'wedding']\n",
      "After stemming:    ['today', 'may', 'is', 'his', 'onli', 'daughter', \"'s\", 'wed']\n"
     ]
    }
   ],
   "source": [
    "# Import the SnowballStemmer to perform stemming\n",
    "from nltk.stem.snowball import SnowballStemmer\n",
    "\n",
    "# Create an English language SnowballStemmer object\n",
    "stemmer = SnowballStemmer(\"english\")\n",
    "\n",
    "# Print filtered to observe words without stemming\n",
    "print(\"Without stemming: \", filtered)\n",
    "\n",
    "# Stem the words from filtered and store in stemmed_words\n",
    "stemmed_words = [stemmer.stem(word) for word in filtered]\n",
    "\n",
    "# Print the stemmed_words to observe words after stemming\n",
    "print(\"After stemming:   \", stemmed_words)"
   ]
  },
  {
   "cell_type": "markdown",
   "metadata": {
    "dc": {
     "key": "31"
    },
    "deletable": false,
    "editable": false,
    "run_control": {
     "frozen": true
    },
    "tags": [
     "context"
    ]
   },
   "source": [
    "## 5. Club together Tokenize & Stem\n",
    "<p>We are now able to tokenize and stem sentences. But we may have to use the two functions repeatedly one after the other to handle a large amount of data, hence we can think of wrapping them in a function and passing the text to be tokenized and stemmed as the function argument. Then we can pass the new wrapping function, which shall perform both tokenizing and stemming instead of just tokenizing, as the tokenizer argument while creating the TF-IDF vector of the text.  </p>\n",
    "<p>What difference does it make though? Consider the sentence from the plot of <em>The Godfather</em>: \"Today (May 19, 2016) is his only daughter's wedding.\" If we do a 'tokenize-only' for this sentence, we have the following result:</p>\n",
    "<blockquote>\n",
    "  <p>'today', 'may', 'is', 'his', 'only', 'daughter', \"'s\", 'wedding'</p>\n",
    "</blockquote>\n",
    "<p>But when we do a 'tokenize-and-stem' operation we get:</p>\n",
    "<blockquote>\n",
    "  <p>'today', 'may', 'is', 'his', 'onli', 'daughter', \"'s\", 'wed'</p>\n",
    "</blockquote>\n",
    "<p>All the words are in their root form, which will lead to a better establishment of meaning as some of the non-root forms may not be present in the NLTK training corpus.</p>"
   ]
  },
  {
   "cell_type": "code",
   "execution_count": 176,
   "metadata": {
    "dc": {
     "key": "31"
    },
    "tags": [
     "sample_code"
    ]
   },
   "outputs": [
    {
     "name": "stdout",
     "output_type": "stream",
     "text": [
      "['today', 'may', 'is', 'his', 'onli', 'daughter', \"'s\", 'wed']\n"
     ]
    }
   ],
   "source": [
    "# Define a function to perform both stemming and tokenization\n",
    "def tokenize_and_stem(text):\n",
    "    \n",
    "    # Tokenize by sentence, then by word\n",
    "    tokens = [word for sent in nltk.sent_tokenize(text) for word in nltk.word_tokenize(sent)]\n",
    "    \n",
    "    # Filter out raw tokens to remove noise\n",
    "    filtered_tokens = [token for token in tokens if re.search('[a-zA-Z]', token)]\n",
    "    \n",
    "    # Stem the filtered_tokens\n",
    "    stems = [SnowballStemmer('english').stem(word) for word in filtered_tokens]\n",
    "    \n",
    "    return stems\n",
    "\n",
    "words_stemmed = tokenize_and_stem(\"Today (May 19, 2016) is his only daughter's wedding.\")\n",
    "print(words_stemmed)"
   ]
  },
  {
   "cell_type": "markdown",
   "metadata": {
    "dc": {
     "key": "38"
    },
    "deletable": false,
    "editable": false,
    "run_control": {
     "frozen": true
    },
    "tags": [
     "context"
    ]
   },
   "source": [
    "## 6. Create TfidfVectorizer\n",
    "<p>Computers do not <em>understand</em> text. These are machines only capable of understanding numbers and performing numerical computation. Hence, we must convert our textual plot summaries to numbers for the computer to be able to extract meaning from them. One simple method of doing this would be to count all the occurrences of each word in the entire vocabulary and return the counts in a vector. Enter <code>CountVectorizer</code>.</p>\n",
    "<p>Consider the word 'the'. It appears quite frequently in almost all movie plots and will have a high count in each case. But obviously, it isn't the theme of all the movies! <a href=\"https://campus.datacamp.com/courses/natural-language-processing-fundamentals-in-python/simple-topic-identification?ex=11\">Term Frequency-Inverse Document Frequency</a> (TF-IDF) is one method which overcomes the shortcomings of <code>CountVectorizer</code>. The Term Frequency of a word is the measure of how often it appears in a document, while the Inverse Document Frequency is the parameter which reduces the importance of a word if it frequently appears in several documents.</p>\n",
    "<p>For example, when we apply the TF-IDF on the first 3 sentences from the plot of <em>The Wizard of Oz</em>, we are told that the most important word there is 'Toto', the pet dog of the lead character. This is because the movie begins with 'Toto' biting someone due to which the journey of Oz begins!</p>\n",
    "<p>In simplest terms, TF-IDF recognizes words which are unique and important to any given document. Let's create one for our purposes.</p>"
   ]
  },
  {
   "cell_type": "code",
   "execution_count": 178,
   "metadata": {
    "collapsed": true,
    "dc": {
     "key": "38"
    },
    "tags": [
     "sample_code"
    ]
   },
   "outputs": [],
   "source": [
    "# Import TfidfVectorizer to create TF-IDF vectors\n",
    "from sklearn.feature_extraction.text import TfidfVectorizer\n",
    "\n",
    "# Instantiate TfidfVectorizer object with stopwords and tokenizer\n",
    "# parameters for efficient processing of text\n",
    "tfidf_vectorizer = TfidfVectorizer(max_df=0.8, max_features=200000,\n",
    "                                 min_df=0.2, stop_words='english',\n",
    "                                 use_idf=True, tokenizer=tokenize_and_stem,\n",
    "                                 ngram_range=(1,3))"
   ]
  },
  {
   "cell_type": "markdown",
   "metadata": {
    "dc": {
     "key": "45"
    },
    "deletable": false,
    "editable": false,
    "run_control": {
     "frozen": true
    },
    "tags": [
     "context"
    ]
   },
   "source": [
    "## 7. Fit transform TfidfVectorizer\n",
    "<p>Once we create a TF-IDF Vectorizer, we must fit the text to it and then transform the text to produce the corresponding numeric form of the data which the computer will be able to understand and derive meaning from. To do this, we use the <code>fit_transform()</code> method of the <code>TfidfVectorizer</code> object. </p>\n",
    "<p>If we observe the <code>TfidfVectorizer</code> object we created, we come across a parameter stopwords. 'stopwords' are those words in a given text which do not contribute considerably towards the meaning of the sentence and are generally grammatical filler words. For example, in the sentence 'Dorothy Gale lives with her dog Toto on the farm of her Aunt Em and Uncle Henry', we could drop the words 'her' and 'the', and still have a similar overall meaning to the sentence. Thus, 'her' and 'the' are stopwords and can be conveniently dropped from the sentence. </p>\n",
    "<p>On setting the stopwords to 'english', we direct the vectorizer to drop all stopwords from a pre-defined list of English language stopwords present in the nltk module. Another parameter, <code>ngram_range</code>, defines the length of the ngrams to be formed while vectorizing the text.</p>"
   ]
  },
  {
   "cell_type": "code",
   "execution_count": 180,
   "metadata": {
    "dc": {
     "key": "45"
    },
    "tags": [
     "sample_code"
    ]
   },
   "outputs": [
    {
     "name": "stdout",
     "output_type": "stream",
     "text": [
      "(100, 564)\n"
     ]
    }
   ],
   "source": [
    "# Fit and transform the tfidf_vectorizer with the \"plot\" of each movie\n",
    "# to create a vector representation of the plot summaries\n",
    "tfidf_matrix = tfidf_vectorizer.fit_transform([x for x in movies_df[\"plot\"]])\n",
    "\n",
    "print(tfidf_matrix.shape)"
   ]
  },
  {
   "cell_type": "markdown",
   "metadata": {
    "dc": {
     "key": "52"
    },
    "deletable": false,
    "editable": false,
    "run_control": {
     "frozen": true
    },
    "tags": [
     "context"
    ]
   },
   "source": [
    "## 8. Import KMeans and create clusters\n",
    "<p>To determine how closely one movie is related to the other by the help of unsupervised learning, we can use clustering techniques. Clustering is the method of grouping together a number of items such that they exhibit similar properties. According to the measure of similarity desired, a given sample of items can have one or more clusters. </p>\n",
    "<p>A good basis of clustering in our dataset could be the genre of the movies. Say we could have a cluster '0' which holds movies of the 'Drama' genre. We would expect movies like <em>Chinatown</em> or <em>Psycho</em> to belong to this cluster. Similarly, the cluster '1' in this project holds movies which belong to the 'Adventure' genre (<em>Lawrence of Arabia</em> and the <em>Raiders of the Lost Ark</em>, for example).</p>\n",
    "<p>K-means is an algorithm which helps us to implement clustering in Python. The name derives from its method of implementation: the given sample is divided into <b><i>K</i></b> clusters where each cluster is denoted by the <b><i>mean</i></b> of all the items lying in that cluster. </p>\n",
    "<p>We get the following distribution for the clusters:</p>\n",
    "<p><img src=\"https://assets.datacamp.com/production/project_648/img/bar_clusters.png\" alt=\"bar graph of clusters\"></p>"
   ]
  },
  {
   "cell_type": "code",
   "execution_count": 182,
   "metadata": {
    "dc": {
     "key": "52"
    },
    "tags": [
     "sample_code"
    ]
   },
   "outputs": [
    {
     "name": "stdout",
     "output_type": "stream",
     "text": [
      "[2, 3, 1, 2, 3, 2, 3, 2, 3, 3, 1, 2, 0, 0, 0, 2, 3, 3, 2, 3, 3, 2, 2, 0, 1, 0, 4, 0, 2, 1, 2, 1, 0, 1, 1, 1, 1, 2, 1, 2, 3, 4, 2, 4, 3, 2, 3, 3, 1, 2, 2, 2, 1, 1, 2, 1, 1, 1, 3, 2, 2, 3, 1, 0, 2, 4, 2, 4, 2, 2, 2, 2, 3, 3, 2, 4, 0, 3, 3, 2, 1, 1, 0, 0, 2, 0, 0, 3, 1, 1, 2, 0, 2, 0, 0, 2, 2, 2, 0, 4]\n"
     ]
    },
    {
     "data": {
      "text/plain": [
       "2    35\n",
       "1    21\n",
       "3    20\n",
       "0    17\n",
       "4     7\n",
       "Name: cluster, dtype: int64"
      ]
     },
     "execution_count": 182,
     "metadata": {},
     "output_type": "execute_result"
    }
   ],
   "source": [
    "# Import k-means to perform clusters\n",
    "from sklearn.cluster import KMeans\n",
    "\n",
    "# Create a KMeans object with 5 clusters and save as km\n",
    "km = KMeans(n_clusters=5)\n",
    "\n",
    "# Fit the k-means object with tfidf_matrix\n",
    "km.fit(tfidf_matrix)\n",
    "\n",
    "clusters = km.labels_.tolist()\n",
    "print(clusters)\n",
    "\n",
    "# Create a column cluster to denote the generated cluster for each movie\n",
    "movies_df[\"cluster\"] = clusters\n",
    "\n",
    "# Display number of films per cluster (clusters from 0 to 4)\n",
    "movies_df['cluster'].value_counts() "
   ]
  },
  {
   "cell_type": "markdown",
   "metadata": {
    "dc": {
     "key": "59"
    },
    "deletable": false,
    "editable": false,
    "run_control": {
     "frozen": true
    },
    "tags": [
     "context"
    ]
   },
   "source": [
    "## 9. Calculate similarity distance\n",
    "<p>Consider the following two sentences from the movie <em>The Wizard of Oz</em>: </p>\n",
    "<blockquote>\n",
    "  <p>\"they find in the Emerald City\"</p>\n",
    "  <p>\"they finally reach the Emerald City\"</p>\n",
    "</blockquote>\n",
    "<p>If we put the above sentences in a <code>CountVectorizer</code>, the vocabulary produced would be \"they, find, in, the, Emerald, City, finally, reach\" and the vectors for each sentence would be as follows: </p>\n",
    "<blockquote>\n",
    "  <p>1, 1, 1, 1, 1, 1, 0, 0</p>\n",
    "  <p>1, 0, 0, 1, 1, 1, 1, 1</p>\n",
    "</blockquote>\n",
    "<p>When we calculate the cosine angle formed between the vectors represented by the above, we get a score of 0.667. This means the above sentences are very closely related. <em>Similarity distance</em> is 1 - <a href=\"https://en.wikipedia.org/wiki/Cosine_similarity\">cosine similarity angle</a>. This follows from that if the vectors are similar, the cosine of their angle would be 1 and hence, the distance between then would be 1 - 1 = 0.</p>\n",
    "<p>Let's calculate the similarity distance for all of our movies.</p>"
   ]
  },
  {
   "cell_type": "code",
   "execution_count": 184,
   "metadata": {
    "dc": {
     "key": "59"
    },
    "tags": [
     "sample_code"
    ]
   },
   "outputs": [
    {
     "name": "stdout",
     "output_type": "stream",
     "text": [
      "[[ 2.22044605e-16  8.00647121e-01  7.62940926e-01 ...  6.40219588e-01\n",
      "   6.70755751e-01  8.24021128e-01]\n",
      " [ 8.00647121e-01 -2.22044605e-16  7.33477850e-01 ...  7.33549186e-01\n",
      "   7.71609239e-01  8.92974798e-01]\n",
      " [ 7.62940926e-01  7.33477850e-01 -4.44089210e-16 ...  7.24253122e-01\n",
      "   7.49489708e-01  8.58673233e-01]\n",
      " ...\n",
      " [ 6.40219588e-01  7.33549186e-01  7.24253122e-01 ...  4.44089210e-16\n",
      "   4.51766590e-01  9.17598092e-01]\n",
      " [ 6.70755751e-01  7.71609239e-01  7.49489708e-01 ...  4.51766590e-01\n",
      "  -2.22044605e-16  8.68599864e-01]\n",
      " [ 8.24021128e-01  8.92974798e-01  8.58673233e-01 ...  9.17598092e-01\n",
      "   8.68599864e-01 -2.22044605e-16]]\n"
     ]
    }
   ],
   "source": [
    "# Import cosine_similarity to calculate similarity of movie plots\n",
    "from sklearn.metrics.pairwise import cosine_similarity\n",
    "\n",
    "# Calculate the similarity distance\n",
    "similarity_distance = 1 - cosine_similarity(tfidf_matrix)\n",
    "print(similarity_distance)"
   ]
  },
  {
   "cell_type": "markdown",
   "metadata": {
    "dc": {
     "key": "66"
    },
    "deletable": false,
    "editable": false,
    "run_control": {
     "frozen": true
    },
    "tags": [
     "context"
    ]
   },
   "source": [
    "## 10. Import Matplotlib, Linkage, and Dendrograms\n",
    "<p>We shall now create a tree-like diagram (called a dendrogram) of the movie titles to help us understand the level of similarity between them visually. Dendrograms help visualize the results of hierarchical clustering, which is an alternative to k-means clustering. Two pairs of movies at the same level of hierarchical clustering are expected to have similar strength of similarity between the corresponding pairs of movies. For example, the movie <em>Fargo</em> would be as similar to <em>North By Northwest</em> as the movie <em>Platoon</em> is to <em>Saving Private Ryan</em>, given both the pairs exhibit the same level of the hierarchy.</p>\n",
    "<p>Let's import the modules we'll need to create our dendrogram.</p>"
   ]
  },
  {
   "cell_type": "code",
   "execution_count": 186,
   "metadata": {
    "dc": {
     "key": "66"
    },
    "tags": [
     "sample_code"
    ]
   },
   "outputs": [],
   "source": [
    "# Import matplotlib.pyplot for plotting graphs\n",
    "import matplotlib.pyplot as plt\n",
    "\n",
    "# Configure matplotlib to display the output inline\n",
    "%matplotlib inline\n",
    "\n",
    "# Import modules necessary to plot dendrogram\n",
    "from scipy.cluster.hierarchy import linkage, dendrogram"
   ]
  },
  {
   "cell_type": "markdown",
   "metadata": {
    "dc": {
     "key": "73"
    },
    "deletable": false,
    "editable": false,
    "run_control": {
     "frozen": true
    },
    "tags": [
     "context"
    ]
   },
   "source": [
    "## 11. Create merging and plot dendrogram\n",
    "<p>We shall plot a dendrogram of the movies whose similarity measure will be given by the similarity distance we previously calculated. The lower the similarity distance between any two movies, the lower their linkage will make an intercept on the y-axis. For instance, the lowest dendrogram linkage we shall discover will be between the movies, <em>It's a Wonderful Life</em> and <em>A Place in the Sun</em>. This indicates that the movies are very similar to each other in their plots.</p>"
   ]
  },
  {
   "cell_type": "code",
   "execution_count": 188,
   "metadata": {
    "dc": {
     "key": "73"
    },
    "tags": [
     "sample_code"
    ]
   },
   "outputs": [
    {
     "data": {
      "image/png": "[encoded data removed]",
      "text/plain": [
       "<Figure size 2160x1512 with 1 Axes>"
      ]
     },
     "metadata": {
      "needs_background": "light"
     },
     "output_type": "display_data"
    }
   ],
   "source": [
    "# Create mergings matrix \n",
    "mergings = linkage(similarity_distance, method='complete')\n",
    "\n",
    "# Plot the dendrogram, using title as label column\n",
    "dendrogram_ = dendrogram(mergings,\n",
    "               labels=[x for x in movies_df[\"title\"]],\n",
    "               leaf_rotation=90,\n",
    "               leaf_font_size=16,\n",
    ")\n",
    "\n",
    "# Adjust the plot\n",
    "fig = plt.gcf()\n",
    "_ = [lbl.set_color('r') for lbl in plt.gca().get_xmajorticklabels()]\n",
    "fig.set_size_inches(30, 21)\n",
    "\n",
    "# Show the plotted dendrogram\n",
    "plt.show()"
   ]
  },
  {
   "cell_type": "markdown",
   "metadata": {
    "dc": {
     "key": "80"
    },
    "deletable": false,
    "editable": false,
    "run_control": {
     "frozen": true
    },
    "tags": [
     "context"
    ]
   },
   "source": [
    "## 12. Which movies are most similar?\n",
    "<p>We can now determine the similarity between movies based on their plots! To wrap up, let's answer one final question: which movie is most similar to the movie <em>Braveheart</em>?</p>"
   ]
  },
  {
   "cell_type": "code",
   "execution_count": 190,
   "metadata": {
    "dc": {
     "key": "80"
    },
    "tags": [
     "sample_code"
    ]
   },
   "outputs": [
    {
     "name": "stdout",
     "output_type": "stream",
     "text": [
      "Gladiator\n"
     ]
    }
   ],
   "source": [
    "# Answer the question \n",
    "ans = \"Gladiator\"\n",
    "print(ans)"
   ]
  }
 ],
 "metadata": {
  "kernelspec": {
   "display_name": "Python 3",
   "language": "python",
   "name": "python3"
  },
  "language_info": {
   "codemirror_mode": {
    "name": "ipython",
    "version": 3
   },
   "file_extension": ".py",
   "mimetype": "text/x-python",
   "name": "python",
   "nbconvert_exporter": "python",
   "pygments_lexer": "ipython3",
   "version": "3.8.3"
  }
 },
 "nbformat": 4,
 "nbformat_minor": 2
}
