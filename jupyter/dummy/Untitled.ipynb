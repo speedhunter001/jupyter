{
 "cells": [
  {
   "cell_type": "code",
   "execution_count": 1,
   "metadata": {},
   "outputs": [],
   "source": [
    "import pandas as pd"
   ]
  },
  {
   "cell_type": "code",
   "execution_count": 8,
   "metadata": {},
   "outputs": [],
   "source": [
    "df = pd.read_excel('matching.xlsx', skiprows=2, nrows=5000)"
   ]
  },
  {
   "cell_type": "code",
   "execution_count": null,
   "metadata": {},
   "outputs": [],
   "source": []
  },
  {
   "cell_type": "code",
   "execution_count": 9,
   "metadata": {},
   "outputs": [
    {
     "data": {
      "text/html": [
       "<div>\n",
       "<style scoped>\n",
       "    .dataframe tbody tr th:only-of-type {\n",
       "        vertical-align: middle;\n",
       "    }\n",
       "\n",
       "    .dataframe tbody tr th {\n",
       "        vertical-align: top;\n",
       "    }\n",
       "\n",
       "    .dataframe thead th {\n",
       "        text-align: right;\n",
       "    }\n",
       "</style>\n",
       "<table border=\"1\" class=\"dataframe\">\n",
       "  <thead>\n",
       "    <tr style=\"text-align: right;\">\n",
       "      <th></th>\n",
       "      <th>Employer</th>\n",
       "      <th>Employer City</th>\n",
       "      <th>Employer Representative</th>\n",
       "      <th>Unnamed: 3</th>\n",
       "      <th>NEW Employer</th>\n",
       "    </tr>\n",
       "  </thead>\n",
       "  <tbody>\n",
       "    <tr>\n",
       "      <th>0</th>\n",
       "      <td>4</td>\n",
       "      <td>CLEVELAND</td>\n",
       "      <td>JOSEPH E PREKOP</td>\n",
       "      <td>NaN</td>\n",
       "      <td>NaN</td>\n",
       "    </tr>\n",
       "    <tr>\n",
       "      <th>1</th>\n",
       "      <td>NOV</td>\n",
       "      <td>DAYTON</td>\n",
       "      <td>Schmidt, Lisa</td>\n",
       "      <td>NaN</td>\n",
       "      <td>NaN</td>\n",
       "    </tr>\n",
       "    <tr>\n",
       "      <th>2</th>\n",
       "      <td>1</td>\n",
       "      <td>(blank)</td>\n",
       "      <td>(blank)</td>\n",
       "      <td>NaN</td>\n",
       "      <td>NaN</td>\n",
       "    </tr>\n",
       "    <tr>\n",
       "      <th>3</th>\n",
       "      <td>NaN</td>\n",
       "      <td>WEST PALM BEACH</td>\n",
       "      <td>NaN</td>\n",
       "      <td>NaN</td>\n",
       "      <td>NaN</td>\n",
       "    </tr>\n",
       "    <tr>\n",
       "      <th>4</th>\n",
       "      <td>Aberdeen Health Mart</td>\n",
       "      <td>ABERDEEN</td>\n",
       "      <td>Quinby, Christopher</td>\n",
       "      <td>NaN</td>\n",
       "      <td>NaN</td>\n",
       "    </tr>\n",
       "  </tbody>\n",
       "</table>\n",
       "</div>"
      ],
      "text/plain": [
       "                 Employer    Employer City Employer Representative  \\\n",
       "0                       4        CLEVELAND         JOSEPH E PREKOP   \n",
       "1                     NOV           DAYTON          Schmidt, Lisa    \n",
       "2                       1          (blank)                 (blank)   \n",
       "3                     NaN  WEST PALM BEACH                     NaN   \n",
       "4    Aberdeen Health Mart         ABERDEEN     Quinby, Christopher   \n",
       "\n",
       "   Unnamed: 3 NEW Employer  \n",
       "0         NaN          NaN  \n",
       "1         NaN          NaN  \n",
       "2         NaN          NaN  \n",
       "3         NaN          NaN  \n",
       "4         NaN          NaN  "
      ]
     },
     "execution_count": 9,
     "metadata": {},
     "output_type": "execute_result"
    }
   ],
   "source": [
    "df.head()"
   ]
  },
  {
   "cell_type": "code",
   "execution_count": 10,
   "metadata": {},
   "outputs": [],
   "source": [
    "df_2 = df.sort_values(by='Employer')"
   ]
  },
  {
   "cell_type": "code",
   "execution_count": 12,
   "metadata": {},
   "outputs": [
    {
     "data": {
      "text/html": [
       "<div>\n",
       "<style scoped>\n",
       "    .dataframe tbody tr th:only-of-type {\n",
       "        vertical-align: middle;\n",
       "    }\n",
       "\n",
       "    .dataframe tbody tr th {\n",
       "        vertical-align: top;\n",
       "    }\n",
       "\n",
       "    .dataframe thead th {\n",
       "        text-align: right;\n",
       "    }\n",
       "</style>\n",
       "<table border=\"1\" class=\"dataframe\">\n",
       "  <thead>\n",
       "    <tr style=\"text-align: right;\">\n",
       "      <th></th>\n",
       "      <th>Employer</th>\n",
       "      <th>Employer City</th>\n",
       "      <th>Employer Representative</th>\n",
       "      <th>Unnamed: 3</th>\n",
       "      <th>NEW Employer</th>\n",
       "    </tr>\n",
       "  </thead>\n",
       "  <tbody>\n",
       "    <tr>\n",
       "      <th>4</th>\n",
       "      <td>Aberdeen Health Mart</td>\n",
       "      <td>ABERDEEN</td>\n",
       "      <td>Quinby, Christopher</td>\n",
       "      <td>NaN</td>\n",
       "      <td>NaN</td>\n",
       "    </tr>\n",
       "    <tr>\n",
       "      <th>8</th>\n",
       "      <td>AMSCOR INC.</td>\n",
       "      <td>BROOKLYN</td>\n",
       "      <td>Silberglied, Scott</td>\n",
       "      <td>NaN</td>\n",
       "      <td>NaN</td>\n",
       "    </tr>\n",
       "    <tr>\n",
       "      <th>5</th>\n",
       "      <td>Alstom</td>\n",
       "      <td>LENEXA</td>\n",
       "      <td>Herzog , Dave</td>\n",
       "      <td>NaN</td>\n",
       "      <td>NaN</td>\n",
       "    </tr>\n",
       "    <tr>\n",
       "      <th>6</th>\n",
       "      <td>Ambassador, fka, Moroun</td>\n",
       "      <td>DETROIT</td>\n",
       "      <td>Moroun, John</td>\n",
       "      <td>NaN</td>\n",
       "      <td>NaN</td>\n",
       "    </tr>\n",
       "    <tr>\n",
       "      <th>9</th>\n",
       "      <td>Arizona Opera Company</td>\n",
       "      <td>TUCSON</td>\n",
       "      <td>Provost, Doug</td>\n",
       "      <td>NaN</td>\n",
       "      <td>NaN</td>\n",
       "    </tr>\n",
       "  </tbody>\n",
       "</table>\n",
       "</div>"
      ],
      "text/plain": [
       "                   Employer Employer City Employer Representative  Unnamed: 3  \\\n",
       "4      Aberdeen Health Mart      ABERDEEN     Quinby, Christopher         NaN   \n",
       "8               AMSCOR INC.      BROOKLYN      Silberglied, Scott         NaN   \n",
       "5                    Alstom        LENEXA           Herzog , Dave         NaN   \n",
       "6   Ambassador, fka, Moroun       DETROIT            Moroun, John         NaN   \n",
       "9     Arizona Opera Company        TUCSON           Provost, Doug         NaN   \n",
       "\n",
       "  NEW Employer  \n",
       "4          NaN  \n",
       "8          NaN  \n",
       "5          NaN  \n",
       "6          NaN  \n",
       "9          NaN  "
      ]
     },
     "execution_count": 12,
     "metadata": {},
     "output_type": "execute_result"
    }
   ],
   "source": [
    "df_2.head()"
   ]
  },
  {
   "cell_type": "code",
   "execution_count": 13,
   "metadata": {},
   "outputs": [],
   "source": [
    "df_2.to_excel('dummy.xlsx')"
   ]
  },
  {
   "cell_type": "code",
   "execution_count": 19,
   "metadata": {},
   "outputs": [],
   "source": [
    "df_2['Employer'] = df_2['Employer'].astype(str).apply(lambda st: st.strip(' '))"
   ]
  },
  {
   "cell_type": "code",
   "execution_count": 20,
   "metadata": {},
   "outputs": [
    {
     "data": {
      "text/plain": [
       "4          Aberdeen Health Mart\n",
       "8                   AMSCOR INC.\n",
       "5                        Alstom\n",
       "6       Ambassador, fka, Moroun\n",
       "9         Arizona Opera Company\n",
       "                 ...           \n",
       "4995                        nan\n",
       "4996                        nan\n",
       "4997                        nan\n",
       "4998                        nan\n",
       "4999                        nan\n",
       "Name: Employer, Length: 5000, dtype: object"
      ]
     },
     "execution_count": 20,
     "metadata": {},
     "output_type": "execute_result"
    }
   ],
   "source": [
    "for d in df_2[]"
   ]
  },
  {
   "cell_type": "code",
   "execution_count": null,
   "metadata": {},
   "outputs": [],
   "source": []
  }
 ],
 "metadata": {
  "kernelspec": {
   "display_name": "Python 3",
   "language": "python",
   "name": "python3"
  },
  "language_info": {
   "codemirror_mode": {
    "name": "ipython",
    "version": 3
   },
   "file_extension": ".py",
   "mimetype": "text/x-python",
   "name": "python",
   "nbconvert_exporter": "python",
   "pygments_lexer": "ipython3",
   "version": "3.8.3"
  }
 },
 "nbformat": 4,
 "nbformat_minor": 4
}
