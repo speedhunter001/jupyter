{
 "cells": [
  {
   "cell_type": "code",
   "execution_count": 1,
   "metadata": {},
   "outputs": [
    {
     "data": {
      "text/html": [
       "\n",
       "    <div class=\"bk-root\">\n",
       "        <a href=\"https://bokeh.org\" target=\"_blank\" class=\"bk-logo bk-logo-small bk-logo-notebook\"></a>\n",
       "        <span id=\"1001\">Loading BokehJS ...</span>\n",
       "    </div>"
      ]
     },
     "metadata": {},
     "output_type": "display_data"
    },
    {
     "data": {
      "application/javascript": [
       "\n",
       "(function(root) {\n",
       "  function now() {\n",
       "    return new Date();\n",
       "  }\n",
       "\n",
       "  var force = true;\n",
       "\n",
       "  if (typeof root._bokeh_onload_callbacks === \"undefined\" || force === true) {\n",
       "    root._bokeh_onload_callbacks = [];\n",
       "    root._bokeh_is_loading = undefined;\n",
       "  }\n",
       "\n",
       "  var JS_MIME_TYPE = 'application/javascript';\n",
       "  var HTML_MIME_TYPE = 'text/html';\n",
       "  var EXEC_MIME_TYPE = 'application/vnd.bokehjs_exec.v0+json';\n",
       "  var CLASS_NAME = 'output_bokeh rendered_html';\n",
       "\n",
       "  /**\n",
       "   * Render data to the DOM node\n",
       "   */\n",
       "  function render(props, node) {\n",
       "    var script = document.createElement(\"script\");\n",
       "    node.appendChild(script);\n",
       "  }\n",
       "\n",
       "  /**\n",
       "   * Handle when an output is cleared or removed\n",
       "   */\n",
       "  function handleClearOutput(event, handle) {\n",
       "    var cell = handle.cell;\n",
       "\n",
       "    var id = cell.output_area._bokeh_element_id;\n",
       "    var server_id = cell.output_area._bokeh_server_id;\n",
       "    // Clean up Bokeh references\n",
       "    if (id != null && id in Bokeh.index) {\n",
       "      Bokeh.index[id].model.document.clear();\n",
       "      delete Bokeh.index[id];\n",
       "    }\n",
       "\n",
       "    if (server_id !== undefined) {\n",
       "      // Clean up Bokeh references\n",
       "      var cmd = \"from bokeh.io.state import curstate; print(curstate().uuid_to_server['\" + server_id + \"'].get_sessions()[0].document.roots[0]._id)\";\n",
       "      cell.notebook.kernel.execute(cmd, {\n",
       "        iopub: {\n",
       "          output: function(msg) {\n",
       "            var id = msg.content.text.trim();\n",
       "            if (id in Bokeh.index) {\n",
       "              Bokeh.index[id].model.document.clear();\n",
       "              delete Bokeh.index[id];\n",
       "            }\n",
       "          }\n",
       "        }\n",
       "      });\n",
       "      // Destroy server and session\n",
       "      var cmd = \"import bokeh.io.notebook as ion; ion.destroy_server('\" + server_id + \"')\";\n",
       "      cell.notebook.kernel.execute(cmd);\n",
       "    }\n",
       "  }\n",
       "\n",
       "  /**\n",
       "   * Handle when a new output is added\n",
       "   */\n",
       "  function handleAddOutput(event, handle) {\n",
       "    var output_area = handle.output_area;\n",
       "    var output = handle.output;\n",
       "\n",
       "    // limit handleAddOutput to display_data with EXEC_MIME_TYPE content only\n",
       "    if ((output.output_type != \"display_data\") || (!output.data.hasOwnProperty(EXEC_MIME_TYPE))) {\n",
       "      return\n",
       "    }\n",
       "\n",
       "    var toinsert = output_area.element.find(\".\" + CLASS_NAME.split(' ')[0]);\n",
       "\n",
       "    if (output.metadata[EXEC_MIME_TYPE][\"id\"] !== undefined) {\n",
       "      toinsert[toinsert.length - 1].firstChild.textContent = output.data[JS_MIME_TYPE];\n",
       "      // store reference to embed id on output_area\n",
       "      output_area._bokeh_element_id = output.metadata[EXEC_MIME_TYPE][\"id\"];\n",
       "    }\n",
       "    if (output.metadata[EXEC_MIME_TYPE][\"server_id\"] !== undefined) {\n",
       "      var bk_div = document.createElement(\"div\");\n",
       "      bk_div.innerHTML = output.data[HTML_MIME_TYPE];\n",
       "      var script_attrs = bk_div.children[0].attributes;\n",
       "      for (var i = 0; i < script_attrs.length; i++) {\n",
       "        toinsert[toinsert.length - 1].firstChild.setAttribute(script_attrs[i].name, script_attrs[i].value);\n",
       "        toinsert[toinsert.length - 1].firstChild.textContent = bk_div.children[0].textContent\n",
       "      }\n",
       "      // store reference to server id on output_area\n",
       "      output_area._bokeh_server_id = output.metadata[EXEC_MIME_TYPE][\"server_id\"];\n",
       "    }\n",
       "  }\n",
       "\n",
       "  function register_renderer(events, OutputArea) {\n",
       "\n",
       "    function append_mime(data, metadata, element) {\n",
       "      // create a DOM node to render to\n",
       "      var toinsert = this.create_output_subarea(\n",
       "        metadata,\n",
       "        CLASS_NAME,\n",
       "        EXEC_MIME_TYPE\n",
       "      );\n",
       "      this.keyboard_manager.register_events(toinsert);\n",
       "      // Render to node\n",
       "      var props = {data: data, metadata: metadata[EXEC_MIME_TYPE]};\n",
       "      render(props, toinsert[toinsert.length - 1]);\n",
       "      element.append(toinsert);\n",
       "      return toinsert\n",
       "    }\n",
       "\n",
       "    /* Handle when an output is cleared or removed */\n",
       "    events.on('clear_output.CodeCell', handleClearOutput);\n",
       "    events.on('delete.Cell', handleClearOutput);\n",
       "\n",
       "    /* Handle when a new output is added */\n",
       "    events.on('output_added.OutputArea', handleAddOutput);\n",
       "\n",
       "    /**\n",
       "     * Register the mime type and append_mime function with output_area\n",
       "     */\n",
       "    OutputArea.prototype.register_mime_type(EXEC_MIME_TYPE, append_mime, {\n",
       "      /* Is output safe? */\n",
       "      safe: true,\n",
       "      /* Index of renderer in `output_area.display_order` */\n",
       "      index: 0\n",
       "    });\n",
       "  }\n",
       "\n",
       "  // register the mime type if in Jupyter Notebook environment and previously unregistered\n",
       "  if (root.Jupyter !== undefined) {\n",
       "    var events = require('base/js/events');\n",
       "    var OutputArea = require('notebook/js/outputarea').OutputArea;\n",
       "\n",
       "    if (OutputArea.prototype.mime_types().indexOf(EXEC_MIME_TYPE) == -1) {\n",
       "      register_renderer(events, OutputArea);\n",
       "    }\n",
       "  }\n",
       "\n",
       "  \n",
       "  if (typeof (root._bokeh_timeout) === \"undefined\" || force === true) {\n",
       "    root._bokeh_timeout = Date.now() + 5000;\n",
       "    root._bokeh_failed_load = false;\n",
       "  }\n",
       "\n",
       "  var NB_LOAD_WARNING = {'data': {'text/html':\n",
       "     \"<div style='background-color: #fdd'>\\n\"+\n",
       "     \"<p>\\n\"+\n",
       "     \"BokehJS does not appear to have successfully loaded. If loading BokehJS from CDN, this \\n\"+\n",
       "     \"may be due to a slow or bad network connection. Possible fixes:\\n\"+\n",
       "     \"</p>\\n\"+\n",
       "     \"<ul>\\n\"+\n",
       "     \"<li>re-rerun `output_notebook()` to attempt to load from CDN again, or</li>\\n\"+\n",
       "     \"<li>use INLINE resources instead, as so:</li>\\n\"+\n",
       "     \"</ul>\\n\"+\n",
       "     \"<code>\\n\"+\n",
       "     \"from bokeh.resources import INLINE\\n\"+\n",
       "     \"output_notebook(resources=INLINE)\\n\"+\n",
       "     \"</code>\\n\"+\n",
       "     \"</div>\"}};\n",
       "\n",
       "  function display_loaded() {\n",
       "    var el = document.getElementById(\"1001\");\n",
       "    if (el != null) {\n",
       "      el.textContent = \"BokehJS is loading...\";\n",
       "    }\n",
       "    if (root.Bokeh !== undefined) {\n",
       "      if (el != null) {\n",
       "        el.textContent = \"BokehJS \" + root.Bokeh.version + \" successfully loaded.\";\n",
       "      }\n",
       "    } else if (Date.now() < root._bokeh_timeout) {\n",
       "      setTimeout(display_loaded, 100)\n",
       "    }\n",
       "  }\n",
       "\n",
       "\n",
       "  function run_callbacks() {\n",
       "    try {\n",
       "      root._bokeh_onload_callbacks.forEach(function(callback) {\n",
       "        if (callback != null)\n",
       "          callback();\n",
       "      });\n",
       "    } finally {\n",
       "      delete root._bokeh_onload_callbacks\n",
       "    }\n",
       "    console.debug(\"Bokeh: all callbacks have finished\");\n",
       "  }\n",
       "\n",
       "  function load_libs(css_urls, js_urls, callback) {\n",
       "    if (css_urls == null) css_urls = [];\n",
       "    if (js_urls == null) js_urls = [];\n",
       "\n",
       "    root._bokeh_onload_callbacks.push(callback);\n",
       "    if (root._bokeh_is_loading > 0) {\n",
       "      console.debug(\"Bokeh: BokehJS is being loaded, scheduling callback at\", now());\n",
       "      return null;\n",
       "    }\n",
       "    if (js_urls == null || js_urls.length === 0) {\n",
       "      run_callbacks();\n",
       "      return null;\n",
       "    }\n",
       "    console.debug(\"Bokeh: BokehJS not loaded, scheduling load and callback at\", now());\n",
       "    root._bokeh_is_loading = css_urls.length + js_urls.length;\n",
       "\n",
       "    function on_load() {\n",
       "      root._bokeh_is_loading--;\n",
       "      if (root._bokeh_is_loading === 0) {\n",
       "        console.debug(\"Bokeh: all BokehJS libraries/stylesheets loaded\");\n",
       "        run_callbacks()\n",
       "      }\n",
       "    }\n",
       "\n",
       "    function on_error() {\n",
       "      console.error(\"failed to load \" + url);\n",
       "    }\n",
       "\n",
       "    for (var i = 0; i < css_urls.length; i++) {\n",
       "      var url = css_urls[i];\n",
       "      const element = document.createElement(\"link\");\n",
       "      element.onload = on_load;\n",
       "      element.onerror = on_error;\n",
       "      element.rel = \"stylesheet\";\n",
       "      element.type = \"text/css\";\n",
       "      element.href = url;\n",
       "      console.debug(\"Bokeh: injecting link tag for BokehJS stylesheet: \", url);\n",
       "      document.body.appendChild(element);\n",
       "    }\n",
       "\n",
       "    const hashes = {\"https://cdn.bokeh.org/bokeh/release/bokeh-2.1.1.min.js\": \"kLr4fYcqcSpbuI95brIH3vnnYCquzzSxHPU6XGQCIkQRGJwhg0StNbj1eegrHs12\", \"https://cdn.bokeh.org/bokeh/release/bokeh-widgets-2.1.1.min.js\": \"xIGPmVtaOm+z0BqfSOMn4lOR6ciex448GIKG4eE61LsAvmGj48XcMQZtKcE/UXZe\", \"https://cdn.bokeh.org/bokeh/release/bokeh-tables-2.1.1.min.js\": \"Dc9u1wF/0zApGIWoBbH77iWEHtdmkuYWG839Uzmv8y8yBLXebjO9ZnERsde5Ln/P\", \"https://cdn.bokeh.org/bokeh/release/bokeh-gl-2.1.1.min.js\": \"cT9JaBz7GiRXdENrJLZNSC6eMNF3nh3fa5fTF51Svp+ukxPdwcU5kGXGPBgDCa2j\"};\n",
       "\n",
       "    for (var i = 0; i < js_urls.length; i++) {\n",
       "      var url = js_urls[i];\n",
       "      var element = document.createElement('script');\n",
       "      element.onload = on_load;\n",
       "      element.onerror = on_error;\n",
       "      element.async = false;\n",
       "      element.src = url;\n",
       "      if (url in hashes) {\n",
       "        element.crossOrigin = \"anonymous\";\n",
       "        element.integrity = \"sha384-\" + hashes[url];\n",
       "      }\n",
       "      console.debug(\"Bokeh: injecting script tag for BokehJS library: \", url);\n",
       "      document.head.appendChild(element);\n",
       "    }\n",
       "  };\n",
       "\n",
       "  function inject_raw_css(css) {\n",
       "    const element = document.createElement(\"style\");\n",
       "    element.appendChild(document.createTextNode(css));\n",
       "    document.body.appendChild(element);\n",
       "  }\n",
       "\n",
       "  \n",
       "  var js_urls = [\"https://cdn.bokeh.org/bokeh/release/bokeh-2.1.1.min.js\", \"https://cdn.bokeh.org/bokeh/release/bokeh-widgets-2.1.1.min.js\", \"https://cdn.bokeh.org/bokeh/release/bokeh-tables-2.1.1.min.js\", \"https://cdn.bokeh.org/bokeh/release/bokeh-gl-2.1.1.min.js\"];\n",
       "  var css_urls = [];\n",
       "  \n",
       "\n",
       "  var inline_js = [\n",
       "    function(Bokeh) {\n",
       "      Bokeh.set_log_level(\"info\");\n",
       "    },\n",
       "    function(Bokeh) {\n",
       "    \n",
       "    \n",
       "    }\n",
       "  ];\n",
       "\n",
       "  function run_inline_js() {\n",
       "    \n",
       "    if (root.Bokeh !== undefined || force === true) {\n",
       "      \n",
       "    for (var i = 0; i < inline_js.length; i++) {\n",
       "      inline_js[i].call(root, root.Bokeh);\n",
       "    }\n",
       "    if (force === true) {\n",
       "        display_loaded();\n",
       "      }} else if (Date.now() < root._bokeh_timeout) {\n",
       "      setTimeout(run_inline_js, 100);\n",
       "    } else if (!root._bokeh_failed_load) {\n",
       "      console.log(\"Bokeh: BokehJS failed to load within specified timeout.\");\n",
       "      root._bokeh_failed_load = true;\n",
       "    } else if (force !== true) {\n",
       "      var cell = $(document.getElementById(\"1001\")).parents('.cell').data().cell;\n",
       "      cell.output_area.append_execute_result(NB_LOAD_WARNING)\n",
       "    }\n",
       "\n",
       "  }\n",
       "\n",
       "  if (root._bokeh_is_loading === 0) {\n",
       "    console.debug(\"Bokeh: BokehJS loaded, going straight to plotting\");\n",
       "    run_inline_js();\n",
       "  } else {\n",
       "    load_libs(css_urls, js_urls, function() {\n",
       "      console.debug(\"Bokeh: BokehJS plotting callback run at\", now());\n",
       "      run_inline_js();\n",
       "    });\n",
       "  }\n",
       "}(window));"
      ],
      "application/vnd.bokehjs_load.v0+json": "\n(function(root) {\n  function now() {\n    return new Date();\n  }\n\n  var force = true;\n\n  if (typeof root._bokeh_onload_callbacks === \"undefined\" || force === true) {\n    root._bokeh_onload_callbacks = [];\n    root._bokeh_is_loading = undefined;\n  }\n\n  \n\n  \n  if (typeof (root._bokeh_timeout) === \"undefined\" || force === true) {\n    root._bokeh_timeout = Date.now() + 5000;\n    root._bokeh_failed_load = false;\n  }\n\n  var NB_LOAD_WARNING = {'data': {'text/html':\n     \"<div style='background-color: #fdd'>\\n\"+\n     \"<p>\\n\"+\n     \"BokehJS does not appear to have successfully loaded. If loading BokehJS from CDN, this \\n\"+\n     \"may be due to a slow or bad network connection. Possible fixes:\\n\"+\n     \"</p>\\n\"+\n     \"<ul>\\n\"+\n     \"<li>re-rerun `output_notebook()` to attempt to load from CDN again, or</li>\\n\"+\n     \"<li>use INLINE resources instead, as so:</li>\\n\"+\n     \"</ul>\\n\"+\n     \"<code>\\n\"+\n     \"from bokeh.resources import INLINE\\n\"+\n     \"output_notebook(resources=INLINE)\\n\"+\n     \"</code>\\n\"+\n     \"</div>\"}};\n\n  function display_loaded() {\n    var el = document.getElementById(\"1001\");\n    if (el != null) {\n      el.textContent = \"BokehJS is loading...\";\n    }\n    if (root.Bokeh !== undefined) {\n      if (el != null) {\n        el.textContent = \"BokehJS \" + root.Bokeh.version + \" successfully loaded.\";\n      }\n    } else if (Date.now() < root._bokeh_timeout) {\n      setTimeout(display_loaded, 100)\n    }\n  }\n\n\n  function run_callbacks() {\n    try {\n      root._bokeh_onload_callbacks.forEach(function(callback) {\n        if (callback != null)\n          callback();\n      });\n    } finally {\n      delete root._bokeh_onload_callbacks\n    }\n    console.debug(\"Bokeh: all callbacks have finished\");\n  }\n\n  function load_libs(css_urls, js_urls, callback) {\n    if (css_urls == null) css_urls = [];\n    if (js_urls == null) js_urls = [];\n\n    root._bokeh_onload_callbacks.push(callback);\n    if (root._bokeh_is_loading > 0) {\n      console.debug(\"Bokeh: BokehJS is being loaded, scheduling callback at\", now());\n      return null;\n    }\n    if (js_urls == null || js_urls.length === 0) {\n      run_callbacks();\n      return null;\n    }\n    console.debug(\"Bokeh: BokehJS not loaded, scheduling load and callback at\", now());\n    root._bokeh_is_loading = css_urls.length + js_urls.length;\n\n    function on_load() {\n      root._bokeh_is_loading--;\n      if (root._bokeh_is_loading === 0) {\n        console.debug(\"Bokeh: all BokehJS libraries/stylesheets loaded\");\n        run_callbacks()\n      }\n    }\n\n    function on_error() {\n      console.error(\"failed to load \" + url);\n    }\n\n    for (var i = 0; i < css_urls.length; i++) {\n      var url = css_urls[i];\n      const element = document.createElement(\"link\");\n      element.onload = on_load;\n      element.onerror = on_error;\n      element.rel = \"stylesheet\";\n      element.type = \"text/css\";\n      element.href = url;\n      console.debug(\"Bokeh: injecting link tag for BokehJS stylesheet: \", url);\n      document.body.appendChild(element);\n    }\n\n    const hashes = {\"https://cdn.bokeh.org/bokeh/release/bokeh-2.1.1.min.js\": \"kLr4fYcqcSpbuI95brIH3vnnYCquzzSxHPU6XGQCIkQRGJwhg0StNbj1eegrHs12\", \"https://cdn.bokeh.org/bokeh/release/bokeh-widgets-2.1.1.min.js\": \"xIGPmVtaOm+z0BqfSOMn4lOR6ciex448GIKG4eE61LsAvmGj48XcMQZtKcE/UXZe\", \"https://cdn.bokeh.org/bokeh/release/bokeh-tables-2.1.1.min.js\": \"Dc9u1wF/0zApGIWoBbH77iWEHtdmkuYWG839Uzmv8y8yBLXebjO9ZnERsde5Ln/P\", \"https://cdn.bokeh.org/bokeh/release/bokeh-gl-2.1.1.min.js\": \"cT9JaBz7GiRXdENrJLZNSC6eMNF3nh3fa5fTF51Svp+ukxPdwcU5kGXGPBgDCa2j\"};\n\n    for (var i = 0; i < js_urls.length; i++) {\n      var url = js_urls[i];\n      var element = document.createElement('script');\n      element.onload = on_load;\n      element.onerror = on_error;\n      element.async = false;\n      element.src = url;\n      if (url in hashes) {\n        element.crossOrigin = \"anonymous\";\n        element.integrity = \"sha384-\" + hashes[url];\n      }\n      console.debug(\"Bokeh: injecting script tag for BokehJS library: \", url);\n      document.head.appendChild(element);\n    }\n  };\n\n  function inject_raw_css(css) {\n    const element = document.createElement(\"style\");\n    element.appendChild(document.createTextNode(css));\n    document.body.appendChild(element);\n  }\n\n  \n  var js_urls = [\"https://cdn.bokeh.org/bokeh/release/bokeh-2.1.1.min.js\", \"https://cdn.bokeh.org/bokeh/release/bokeh-widgets-2.1.1.min.js\", \"https://cdn.bokeh.org/bokeh/release/bokeh-tables-2.1.1.min.js\", \"https://cdn.bokeh.org/bokeh/release/bokeh-gl-2.1.1.min.js\"];\n  var css_urls = [];\n  \n\n  var inline_js = [\n    function(Bokeh) {\n      Bokeh.set_log_level(\"info\");\n    },\n    function(Bokeh) {\n    \n    \n    }\n  ];\n\n  function run_inline_js() {\n    \n    if (root.Bokeh !== undefined || force === true) {\n      \n    for (var i = 0; i < inline_js.length; i++) {\n      inline_js[i].call(root, root.Bokeh);\n    }\n    if (force === true) {\n        display_loaded();\n      }} else if (Date.now() < root._bokeh_timeout) {\n      setTimeout(run_inline_js, 100);\n    } else if (!root._bokeh_failed_load) {\n      console.log(\"Bokeh: BokehJS failed to load within specified timeout.\");\n      root._bokeh_failed_load = true;\n    } else if (force !== true) {\n      var cell = $(document.getElementById(\"1001\")).parents('.cell').data().cell;\n      cell.output_area.append_execute_result(NB_LOAD_WARNING)\n    }\n\n  }\n\n  if (root._bokeh_is_loading === 0) {\n    console.debug(\"Bokeh: BokehJS loaded, going straight to plotting\");\n    run_inline_js();\n  } else {\n    load_libs(css_urls, js_urls, function() {\n      console.debug(\"Bokeh: BokehJS plotting callback run at\", now());\n      run_inline_js();\n    });\n  }\n}(window));"
     },
     "metadata": {},
     "output_type": "display_data"
    }
   ],
   "source": [
    "import matplotlib.pyplot as plt\n",
    "import numpy as np\n",
    "import seaborn as sns\n",
    "from collections import Counter, defaultdict\n",
    "from bokeh.io import show, output_notebook\n",
    "from bokeh.plotting import figure\n",
    "\n",
    "output_notebook()\n",
    "sns.set(color_codes=True)\n",
    "sns.set_style('white')"
   ]
  },
  {
   "cell_type": "code",
   "execution_count": 2,
   "metadata": {},
   "outputs": [],
   "source": [
    "np.random.seed(42)  # For sake of reproducible randomness"
   ]
  },
  {
   "cell_type": "code",
   "execution_count": 3,
   "metadata": {},
   "outputs": [],
   "source": [
    "def flip(num=1):\n",
    "    flips = []\n",
    "    \n",
    "    for i in range(num):\n",
    "        num = np.random.uniform(low=0.0, high=1.0)\n",
    "        if num >= 0.28:  # float number is For tails \n",
    "            flips.append('H')\n",
    "        else:\n",
    "            flips.append('T')\n",
    "    return flips\n",
    "\n",
    "\n",
    "def get_freqs(flips):\n",
    "    keys = Counter(flips).keys()\n",
    "    vals = Counter(flips).values()\n",
    "    \n",
    "    return defaultdict(int, dict(zip(keys, vals)))  # defaultdict coz what it will give error for nomarl dictionay if either 'H' or 'T' is not present"
   ]
  },
  {
   "cell_type": "code",
   "execution_count": 4,
   "metadata": {},
   "outputs": [
    {
     "name": "stdout",
     "output_type": "stream",
     "text": [
      "['H', 'H', 'H', 'H', 'T', 'T', 'T', 'H', 'H', 'H']\n",
      "['H' 'T'] [7 3]\n"
     ]
    }
   ],
   "source": [
    "flips = flip(10)\n",
    "values, counts = np.unique(flips, return_counts=True)\n",
    "\n",
    "print(flips)\n",
    "print(values, counts)"
   ]
  },
  {
   "cell_type": "code",
   "execution_count": 5,
   "metadata": {},
   "outputs": [
    {
     "name": "stdout",
     "output_type": "stream",
     "text": [
      "defaultdict(<class 'int'>, {'H': 7, 'T': 3})\n"
     ]
    }
   ],
   "source": [
    "freqs = get_freqs(flips)\n",
    "print(freqs)"
   ]
  },
  {
   "cell_type": "code",
   "execution_count": 6,
   "metadata": {},
   "outputs": [
    {
     "name": "stdout",
     "output_type": "stream",
     "text": [
      "0.7\n"
     ]
    }
   ],
   "source": [
    "prob_h = freqs['H'] / len(flips)\n",
    "print(prob_h)"
   ]
  },
  {
   "cell_type": "code",
   "execution_count": 7,
   "metadata": {},
   "outputs": [],
   "source": [
    "# Running experiment\n",
    "maximum_flips = 2000\n",
    "\n",
    "probs_h = [] \n",
    "for num_flips in range(1, maximum_flips):\n",
    "    flips = flip(num_flips)\n",
    "    freqs = get_freqs(flips)\n",
    "#     if freqs['H'] % 2 == 0: \n",
    "#         prob_h = freqs['H']/len(flips)   # Didn't Work? \n",
    "    prob_h = freqs['H'] / len(flips)\n",
    "\n",
    "    probs_h.append(prob_h)"
   ]
  },
  {
   "cell_type": "code",
   "execution_count": 8,
   "metadata": {},
   "outputs": [
    {
     "name": "stdout",
     "output_type": "stream",
     "text": [
      "1999\n"
     ]
    }
   ],
   "source": [
    "print(len(probs_h))"
   ]
  },
  {
   "cell_type": "code",
   "execution_count": 9,
   "metadata": {},
   "outputs": [],
   "source": [
    "p = figure(title=\"Simple Line Plot in Bokeh\", \n",
    "           x_axis_label='Number of Flips in Experiment', \n",
    "           y_axis_label='Estimated Probability of Head', \n",
    "           plot_width=580, plot_height=380)"
   ]
  },
  {
   "cell_type": "code",
   "execution_count": 10,
   "metadata": {},
   "outputs": [
    {
     "data": {
      "text/html": [
       "\n",
       "\n",
       "\n",
       "\n",
       "\n",
       "\n",
       "  <div class=\"bk-root\" id=\"e8ee4a5f-fb44-4d27-b29d-66e223612051\" data-root-id=\"1002\"></div>\n"
      ]
     },
     "metadata": {},
     "output_type": "display_data"
    },
    {
     "data": {
      "application/javascript": [
       "(function(root) {\n",
       "  function embed_document(root) {\n",
       "    \n",
       "  var docs_json = {\"0cd16c71-8241-498e-b51b-277c5e80189e\":{\"roots\":{\"references\":[{\"attributes\":{\"below\":[{\"id\":\"1013\"}],\"center\":[{\"id\":\"1016\"},{\"id\":\"1020\"}],\"left\":[{\"id\":\"1017\"}],\"plot_height\":380,\"plot_width\":580,\"renderers\":[{\"id\":\"1038\"}],\"title\":{\"id\":\"1003\"},\"toolbar\":{\"id\":\"1028\"},\"x_range\":{\"id\":\"1005\"},\"x_scale\":{\"id\":\"1009\"},\"y_range\":{\"id\":\"1007\"},\"y_scale\":{\"id\":\"1011\"}},\"id\":\"1002\",\"subtype\":\"Figure\",\"type\":\"Plot\"},{\"attributes\":{},\"id\":\"1026\",\"type\":\"HelpTool\"},{\"attributes\":{\"axis_label\":\"Number of Flips in Experiment\",\"formatter\":{\"id\":\"1042\"},\"ticker\":{\"id\":\"1014\"}},\"id\":\"1013\",\"type\":\"LinearAxis\"},{\"attributes\":{},\"id\":\"1046\",\"type\":\"UnionRenderers\"},{\"attributes\":{\"text\":\"Simple Line Plot in Bokeh\"},\"id\":\"1003\",\"type\":\"Title\"},{\"attributes\":{\"axis\":{\"id\":\"1017\"},\"dimension\":1,\"ticker\":null},\"id\":\"1020\",\"type\":\"Grid\"},{\"attributes\":{},\"id\":\"1025\",\"type\":\"ResetTool\"},{\"attributes\":{},\"id\":\"1024\",\"type\":\"SaveTool\"},{\"attributes\":{\"bottom_units\":\"screen\",\"fill_alpha\":0.5,\"fill_color\":\"lightgrey\",\"left_units\":\"screen\",\"level\":\"overlay\",\"line_alpha\":1.0,\"line_color\":\"black\",\"line_dash\":[4,4],\"line_width\":2,\"right_units\":\"screen\",\"top_units\":\"screen\"},\"id\":\"1027\",\"type\":\"BoxAnnotation\"},{\"attributes\":{},\"id\":\"1022\",\"type\":\"WheelZoomTool\"},{\"attributes\":{},\"id\":\"1044\",\"type\":\"BasicTickFormatter\"},{\"attributes\":{\"data_source\":{\"id\":\"1035\"},\"glyph\":{\"id\":\"1036\"},\"hover_glyph\":null,\"muted_glyph\":null,\"nonselection_glyph\":{\"id\":\"1037\"},\"selection_glyph\":null,\"view\":{\"id\":\"1039\"}},\"id\":\"1038\",\"type\":\"GlyphRenderer\"},{\"attributes\":{},\"id\":\"1021\",\"type\":\"PanTool\"},{\"attributes\":{\"active_drag\":\"auto\",\"active_inspect\":\"auto\",\"active_multi\":null,\"active_scroll\":\"auto\",\"active_tap\":\"auto\",\"tools\":[{\"id\":\"1021\"},{\"id\":\"1022\"},{\"id\":\"1023\"},{\"id\":\"1024\"},{\"id\":\"1025\"},{\"id\":\"1026\"}]},\"id\":\"1028\",\"type\":\"Toolbar\"},{\"attributes\":{\"line_color\":\"#1f77b4\",\"x\":{\"field\":\"x\"},\"y\":{\"field\":\"y\"}},\"id\":\"1036\",\"type\":\"Line\"},{\"attributes\":{\"data\":{\"x\":[1,2,3,4,5,6,7,8,9,10,11,12,13,14,15,16,17,18,19,20,21,22,23,24,25,26,27,28,29,30,31,32,33,34,35,36,37,38,39,40,41,42,43,44,45,46,47,48,49,50,51,52,53,54,55,56,57,58,59,60,61,62,63,64,65,66,67,68,69,70,71,72,73,74,75,76,77,78,79,80,81,82,83,84,85,86,87,88,89,90,91,92,93,94,95,96,97,98,99,100,101,102,103,104,105,106,107,108,109,110,111,112,113,114,115,116,117,118,119,120,121,122,123,124,125,126,127,128,129,130,131,132,133,134,135,136,137,138,139,140,141,142,143,144,145,146,147,148,149,150,151,152,153,154,155,156,157,158,159,160,161,162,163,164,165,166,167,168,169,170,171,172,173,174,175,176,177,178,179,180,181,182,183,184,185,186,187,188,189,190,191,192,193,194,195,196,197,198,199,200,201,202,203,204,205,206,207,208,209,210,211,212,213,214,215,216,217,218,219,220,221,222,223,224,225,226,227,228,229,230,231,232,233,234,235,236,237,238,239,240,241,242,243,244,245,246,247,248,249,250,251,252,253,254,255,256,257,258,259,260,261,262,263,264,265,266,267,268,269,270,271,272,273,274,275,276,277,278,279,280,281,282,283,284,285,286,287,288,289,290,291,292,293,294,295,296,297,298,299,300,301,302,303,304,305,306,307,308,309,310,311,312,313,314,315,316,317,318,319,320,321,322,323,324,325,326,327,328,329,330,331,332,333,334,335,336,337,338,339,340,341,342,343,344,345,346,347,348,349,350,351,352,353,354,355,356,357,358,359,360,361,362,363,364,365,366,367,368,369,370,371,372,373,374,375,376,377,378,379,380,381,382,383,384,385,386,387,388,389,390,391,392,393,394,395,396,397,398,399,400,401,402,403,404,405,406,407,408,409,410,411,412,413,414,415,416,417,418,419,420,421,422,423,424,425,426,427,428,429,430,431,432,433,434,435,436,437,438,439,440,441,442,443,444,445,446,447,448,449,450,451,452,453,454,455,456,457,458,459,460,461,462,463,464,465,466,467,468,469,470,471,472,473,474,475,476,477,478,479,480,481,482,483,484,485,486,487,488,489,490,491,492,493,494,495,496,497,498,499,500,501,502,503,504,505,506,507,508,509,510,511,512,513,514,515,516,517,518,519,520,521,522,523,524,525,526,527,528,529,530,531,532,533,534,535,536,537,538,539,540,541,542,543,544,545,546,547,548,549,550,551,552,553,554,555,556,557,558,559,560,561,562,563,564,565,566,567,568,569,570,571,572,573,574,575,576,577,578,579,580,581,582,583,584,585,586,587,588,589,590,591,592,593,594,595,596,597,598,599,600,601,602,603,604,605,606,607,608,609,610,611,612,613,614,615,616,617,618,619,620,621,622,623,624,625,626,627,628,629,630,631,632,633,634,635,636,637,638,639,640,641,642,643,644,645,646,647,648,649,650,651,652,653,654,655,656,657,658,659,660,661,662,663,664,665,666,667,668,669,670,671,672,673,674,675,676,677,678,679,680,681,682,683,684,685,686,687,688,689,690,691,692,693,694,695,696,697,698,699,700,701,702,703,704,705,706,707,708,709,710,711,712,713,714,715,716,717,718,719,720,721,722,723,724,725,726,727,728,729,730,731,732,733,734,735,736,737,738,739,740,741,742,743,744,745,746,747,748,749,750,751,752,753,754,755,756,757,758,759,760,761,762,763,764,765,766,767,768,769,770,771,772,773,774,775,776,777,778,779,780,781,782,783,784,785,786,787,788,789,790,791,792,793,794,795,796,797,798,799,800,801,802,803,804,805,806,807,808,809,810,811,812,813,814,815,816,817,818,819,820,821,822,823,824,825,826,827,828,829,830,831,832,833,834,835,836,837,838,839,840,841,842,843,844,845,846,847,848,849,850,851,852,853,854,855,856,857,858,859,860,861,862,863,864,865,866,867,868,869,870,871,872,873,874,875,876,877,878,879,880,881,882,883,884,885,886,887,888,889,890,891,892,893,894,895,896,897,898,899,900,901,902,903,904,905,906,907,908,909,910,911,912,913,914,915,916,917,918,919,920,921,922,923,924,925,926,927,928,929,930,931,932,933,934,935,936,937,938,939,940,941,942,943,944,945,946,947,948,949,950,951,952,953,954,955,956,957,958,959,960,961,962,963,964,965,966,967,968,969,970,971,972,973,974,975,976,977,978,979,980,981,982,983,984,985,986,987,988,989,990,991,992,993,994,995,996,997,998,999,1000,1001,1002,1003,1004,1005,1006,1007,1008,1009,1010,1011,1012,1013,1014,1015,1016,1017,1018,1019,1020,1021,1022,1023,1024,1025,1026,1027,1028,1029,1030,1031,1032,1033,1034,1035,1036,1037,1038,1039,1040,1041,1042,1043,1044,1045,1046,1047,1048,1049,1050,1051,1052,1053,1054,1055,1056,1057,1058,1059,1060,1061,1062,1063,1064,1065,1066,1067,1068,1069,1070,1071,1072,1073,1074,1075,1076,1077,1078,1079,1080,1081,1082,1083,1084,1085,1086,1087,1088,1089,1090,1091,1092,1093,1094,1095,1096,1097,1098,1099,1100,1101,1102,1103,1104,1105,1106,1107,1108,1109,1110,1111,1112,1113,1114,1115,1116,1117,1118,1119,1120,1121,1122,1123,1124,1125,1126,1127,1128,1129,1130,1131,1132,1133,1134,1135,1136,1137,1138,1139,1140,1141,1142,1143,1144,1145,1146,1147,1148,1149,1150,1151,1152,1153,1154,1155,1156,1157,1158,1159,1160,1161,1162,1163,1164,1165,1166,1167,1168,1169,1170,1171,1172,1173,1174,1175,1176,1177,1178,1179,1180,1181,1182,1183,1184,1185,1186,1187,1188,1189,1190,1191,1192,1193,1194,1195,1196,1197,1198,1199,1200,1201,1202,1203,1204,1205,1206,1207,1208,1209,1210,1211,1212,1213,1214,1215,1216,1217,1218,1219,1220,1221,1222,1223,1224,1225,1226,1227,1228,1229,1230,1231,1232,1233,1234,1235,1236,1237,1238,1239,1240,1241,1242,1243,1244,1245,1246,1247,1248,1249,1250,1251,1252,1253,1254,1255,1256,1257,1258,1259,1260,1261,1262,1263,1264,1265,1266,1267,1268,1269,1270,1271,1272,1273,1274,1275,1276,1277,1278,1279,1280,1281,1282,1283,1284,1285,1286,1287,1288,1289,1290,1291,1292,1293,1294,1295,1296,1297,1298,1299,1300,1301,1302,1303,1304,1305,1306,1307,1308,1309,1310,1311,1312,1313,1314,1315,1316,1317,1318,1319,1320,1321,1322,1323,1324,1325,1326,1327,1328,1329,1330,1331,1332,1333,1334,1335,1336,1337,1338,1339,1340,1341,1342,1343,1344,1345,1346,1347,1348,1349,1350,1351,1352,1353,1354,1355,1356,1357,1358,1359,1360,1361,1362,1363,1364,1365,1366,1367,1368,1369,1370,1371,1372,1373,1374,1375,1376,1377,1378,1379,1380,1381,1382,1383,1384,1385,1386,1387,1388,1389,1390,1391,1392,1393,1394,1395,1396,1397,1398,1399,1400,1401,1402,1403,1404,1405,1406,1407,1408,1409,1410,1411,1412,1413,1414,1415,1416,1417,1418,1419,1420,1421,1422,1423,1424,1425,1426,1427,1428,1429,1430,1431,1432,1433,1434,1435,1436,1437,1438,1439,1440,1441,1442,1443,1444,1445,1446,1447,1448,1449,1450,1451,1452,1453,1454,1455,1456,1457,1458,1459,1460,1461,1462,1463,1464,1465,1466,1467,1468,1469,1470,1471,1472,1473,1474,1475,1476,1477,1478,1479,1480,1481,1482,1483,1484,1485,1486,1487,1488,1489,1490,1491,1492,1493,1494,1495,1496,1497,1498,1499,1500,1501,1502,1503,1504,1505,1506,1507,1508,1509,1510,1511,1512,1513,1514,1515,1516,1517,1518,1519,1520,1521,1522,1523,1524,1525,1526,1527,1528,1529,1530,1531,1532,1533,1534,1535,1536,1537,1538,1539,1540,1541,1542,1543,1544,1545,1546,1547,1548,1549,1550,1551,1552,1553,1554,1555,1556,1557,1558,1559,1560,1561,1562,1563,1564,1565,1566,1567,1568,1569,1570,1571,1572,1573,1574,1575,1576,1577,1578,1579,1580,1581,1582,1583,1584,1585,1586,1587,1588,1589,1590,1591,1592,1593,1594,1595,1596,1597,1598,1599,1600,1601,1602,1603,1604,1605,1606,1607,1608,1609,1610,1611,1612,1613,1614,1615,1616,1617,1618,1619,1620,1621,1622,1623,1624,1625,1626,1627,1628,1629,1630,1631,1632,1633,1634,1635,1636,1637,1638,1639,1640,1641,1642,1643,1644,1645,1646,1647,1648,1649,1650,1651,1652,1653,1654,1655,1656,1657,1658,1659,1660,1661,1662,1663,1664,1665,1666,1667,1668,1669,1670,1671,1672,1673,1674,1675,1676,1677,1678,1679,1680,1681,1682,1683,1684,1685,1686,1687,1688,1689,1690,1691,1692,1693,1694,1695,1696,1697,1698,1699,1700,1701,1702,1703,1704,1705,1706,1707,1708,1709,1710,1711,1712,1713,1714,1715,1716,1717,1718,1719,1720,1721,1722,1723,1724,1725,1726,1727,1728,1729,1730,1731,1732,1733,1734,1735,1736,1737,1738,1739,1740,1741,1742,1743,1744,1745,1746,1747,1748,1749,1750,1751,1752,1753,1754,1755,1756,1757,1758,1759,1760,1761,1762,1763,1764,1765,1766,1767,1768,1769,1770,1771,1772,1773,1774,1775,1776,1777,1778,1779,1780,1781,1782,1783,1784,1785,1786,1787,1788,1789,1790,1791,1792,1793,1794,1795,1796,1797,1798,1799,1800,1801,1802,1803,1804,1805,1806,1807,1808,1809,1810,1811,1812,1813,1814,1815,1816,1817,1818,1819,1820,1821,1822,1823,1824,1825,1826,1827,1828,1829,1830,1831,1832,1833,1834,1835,1836,1837,1838,1839,1840,1841,1842,1843,1844,1845,1846,1847,1848,1849,1850,1851,1852,1853,1854,1855,1856,1857,1858,1859,1860,1861,1862,1863,1864,1865,1866,1867,1868,1869,1870,1871,1872,1873,1874,1875,1876,1877,1878,1879,1880,1881,1882,1883,1884,1885,1886,1887,1888,1889,1890,1891,1892,1893,1894,1895,1896,1897,1898,1899,1900,1901,1902,1903,1904,1905,1906,1907,1908,1909,1910,1911,1912,1913,1914,1915,1916,1917,1918,1919,1920,1921,1922,1923,1924,1925,1926,1927,1928,1929,1930,1931,1932,1933,1934,1935,1936,1937,1938,1939,1940,1941,1942,1943,1944,1945,1946,1947,1948,1949,1950,1951,1952,1953,1954,1955,1956,1957,1958,1959,1960,1961,1962,1963,1964,1965,1966,1967,1968,1969,1970,1971,1972,1973,1974,1975,1976,1977,1978,1979,1980,1981,1982,1983,1984,1985,1986,1987,1988,1989,1990,1991,1992,1993,1994,1995,1996,1997,1998,1999],\"y\":[0.0,1.0,0.0,1.0,0.8,0.6666666666666666,0.5714285714285714,0.625,0.8888888888888888,0.6,0.6363636363636364,0.75,0.6923076923076923,0.7142857142857143,0.7333333333333333,0.75,0.6470588235294118,0.6111111111111112,0.7894736842105263,0.6,0.7142857142857143,0.8181818181818182,0.9130434782608695,0.7083333333333334,0.6,0.7307692307692307,0.6666666666666666,0.8928571428571429,0.6896551724137931,0.7,0.8064516129032258,0.8125,0.7575757575757576,0.5,0.6571428571428571,0.6388888888888888,0.6756756756756757,0.7631578947368421,0.7435897435897436,0.825,0.6341463414634146,0.5238095238095238,0.6744186046511628,0.6818181818181818,0.7555555555555555,0.7391304347826086,0.6382978723404256,0.8125,0.673469387755102,0.7,0.6666666666666666,0.7115384615384616,0.6415094339622641,0.7962962962962963,0.7272727272727273,0.6607142857142857,0.7719298245614035,0.6896551724137931,0.7288135593220338,0.6833333333333333,0.7540983606557377,0.7741935483870968,0.6349206349206349,0.6875,0.7692307692307693,0.7727272727272727,0.7313432835820896,0.6911764705882353,0.7391304347826086,0.7857142857142857,0.7464788732394366,0.7222222222222222,0.726027397260274,0.6891891891891891,0.68,0.7763157894736842,0.7922077922077922,0.6923076923076923,0.6962025316455697,0.6625,0.7283950617283951,0.6463414634146342,0.7831325301204819,0.6785714285714286,0.6705882352941176,0.6976744186046512,0.735632183908046,0.7613636363636364,0.6179775280898876,0.7111111111111111,0.7472527472527473,0.7391304347826086,0.7204301075268817,0.6808510638297872,0.7052631578947368,0.7916666666666666,0.7216494845360825,0.6632653061224489,0.7474747474747475,0.74,0.7227722772277227,0.7647058823529411,0.7184466019417476,0.7211538461538461,0.7047619047619048,0.6981132075471698,0.6822429906542056,0.7222222222222222,0.7155963302752294,0.7090909090909091,0.6306306306306306,0.7589285714285714,0.7433628318584071,0.6666666666666666,0.7217391304347827,0.7758620689655172,0.6581196581196581,0.711864406779661,0.7142857142857143,0.7166666666666667,0.7107438016528925,0.6967213114754098,0.7317073170731707,0.7016129032258065,0.664,0.6587301587301587,0.7322834645669292,0.6953125,0.7286821705426356,0.6846153846153846,0.7480916030534351,0.6590909090909091,0.7293233082706767,0.7388059701492538,0.7703703703703704,0.7647058823529411,0.7372262773722628,0.7246376811594203,0.6906474820143885,0.7214285714285714,0.6950354609929078,0.6971830985915493,0.7132867132867133,0.7430555555555556,0.7655172413793103,0.7191780821917808,0.7551020408163265,0.7297297297297297,0.7919463087248322,0.6733333333333333,0.7417218543046358,0.75,0.6928104575163399,0.6753246753246753,0.7290322580645161,0.6987179487179487,0.7452229299363057,0.6708860759493671,0.7044025157232704,0.71875,0.7329192546583851,0.6604938271604939,0.7484662576687117,0.7073170731707317,0.7151515151515152,0.6566265060240963,0.6826347305389222,0.75,0.6568047337278107,0.7470588235294118,0.7602339181286549,0.7674418604651163,0.7052023121387283,0.6494252873563219,0.7314285714285714,0.7613636363636364,0.7175141242937854,0.6179775280898876,0.7430167597765364,0.7722222222222223,0.7237569060773481,0.7637362637362637,0.7650273224043715,0.7608695652173914,0.7567567567567568,0.7473118279569892,0.7433155080213903,0.75,0.7037037037037037,0.7736842105263158,0.7120418848167539,0.734375,0.7823834196891192,0.7371134020618557,0.676923076923077,0.7244897959183674,0.751269035532995,0.7424242424242424,0.7286432160804021,0.735,0.7213930348258707,0.7376237623762376,0.7832512315270936,0.7598039215686274,0.7073170731707317,0.7038834951456311,0.6908212560386473,0.7355769230769231,0.7464114832535885,0.7952380952380952,0.7345971563981043,0.7735849056603774,0.7276995305164319,0.7616822429906542,0.7069767441860465,0.7037037037037037,0.7511520737327189,0.7522935779816514,0.6757990867579908,0.7681818181818182,0.6968325791855203,0.7207207207207207,0.6995515695067265,0.7455357142857143,0.7288888888888889,0.6991150442477876,0.7224669603524229,0.7280701754385965,0.7205240174672489,0.7304347826086957,0.7316017316017316,0.6724137931034483,0.7381974248927039,0.7264957264957265,0.6893617021276596,0.7288135593220338,0.70042194092827,0.7100840336134454,0.7071129707112971,0.7458333333333333,0.7261410788381742,0.6735537190082644,0.757201646090535,0.7172131147540983,0.6816326530612244,0.7439024390243902,0.7327935222672065,0.6532258064516129,0.7630522088353414,0.696,0.7330677290836654,0.7103174603174603,0.7193675889328063,0.7125984251968503,0.6901960784313725,0.7421875,0.7626459143968871,0.7015503875968992,0.7142857142857143,0.7115384615384616,0.7471264367816092,0.6946564885496184,0.7300380228136882,0.7765151515151515,0.6981132075471698,0.6578947368421053,0.7191011235955056,0.6977611940298507,0.7323420074349443,0.6666666666666666,0.6531365313653137,0.7132352941176471,0.7655677655677655,0.7627737226277372,0.7018181818181818,0.7355072463768116,0.7292418772563177,0.7194244604316546,0.7634408602150538,0.7071428571428572,0.7259786476868327,0.6808510638297872,0.7102473498233216,0.7570422535211268,0.6771929824561403,0.7307692307692307,0.7282229965156795,0.7152777777777778,0.7093425605536332,0.6931034482758621,0.7319587628865979,0.7363013698630136,0.7235494880546075,0.7210884353741497,0.6847457627118644,0.7027027027027027,0.734006734006734,0.6912751677852349,0.725752508361204,0.71,0.7109634551495017,0.7185430463576159,0.7095709570957096,0.7171052631578947,0.6983606557377049,0.7156862745098039,0.7068403908794788,0.685064935064935,0.7540453074433657,0.667741935483871,0.6945337620578779,0.7243589743589743,0.6996805111821086,0.732484076433121,0.7174603174603175,0.7436708860759493,0.6656151419558359,0.7389937106918238,0.7648902821316614,0.71875,0.7383177570093458,0.6987577639751553,0.7461300309597523,0.7160493827160493,0.72,0.7484662576687117,0.7186544342507645,0.7134146341463414,0.7537993920972644,0.7303030303030303,0.716012084592145,0.75,0.7267267267267268,0.6916167664670658,0.7313432835820896,0.7410714285714286,0.7418397626112759,0.7071005917159763,0.7286135693215339,0.75,0.7360703812316716,0.7046783625730995,0.7434402332361516,0.7558139534883721,0.7159420289855073,0.6907514450867052,0.7319884726224783,0.7097701149425287,0.7478510028653295,0.7342857142857143,0.7207977207977208,0.7215909090909091,0.7223796033994334,0.7231638418079096,0.7183098591549296,0.7275280898876404,0.6834733893557423,0.6955307262569832,0.7465181058495822,0.7027777777777777,0.7119113573407202,0.7320441988950276,0.7382920110192838,0.717032967032967,0.7315068493150685,0.7540983606557377,0.7084468664850136,0.7364130434782609,0.7344173441734417,0.7243243243243244,0.7304582210242587,0.7634408602150538,0.7506702412868632,0.7058823529411765,0.712,0.7180851063829787,0.7427055702917772,0.708994708994709,0.7335092348284961,0.7421052631578947,0.7270341207349081,0.7277486910994765,0.7362924281984334,0.7057291666666666,0.7064935064935065,0.7150259067357513,0.7235142118863049,0.711340206185567,0.7275064267352185,0.7230769230769231,0.6879795396419437,0.7040816326530612,0.7175572519083969,0.7360406091370558,0.7139240506329114,0.7297979797979798,0.6977329974811083,0.7211055276381909,0.7117794486215538,0.725,0.7057356608478803,0.7263681592039801,0.7320099255583127,0.7227722772277227,0.7407407407407407,0.7068965517241379,0.7100737100737101,0.7205882352941176,0.7237163814180929,0.7317073170731707,0.7420924574209246,0.75,0.6634382566585957,0.6908212560386473,0.7614457831325301,0.7211538461538461,0.7002398081534772,0.6626794258373205,0.7446300715990454,0.7,0.7030878859857482,0.6919431279620853,0.7257683215130024,0.7004716981132075,0.72,0.7089201877934272,0.7049180327868853,0.7313084112149533,0.6993006993006993,0.7162790697674418,0.7447795823665894,0.6944444444444444,0.6836027713625866,0.716589861751152,0.696551724137931,0.6926605504587156,0.6704805491990846,0.7123287671232876,0.7608200455580866,0.725,0.7074829931972789,0.6832579185520362,0.6997742663656885,0.7274774774774775,0.7123595505617978,0.7354260089686099,0.7114093959731543,0.7388392857142857,0.7238307349665924,0.7444444444444445,0.70509977827051,0.6969026548672567,0.717439293598234,0.724669603524229,0.7164835164835165,0.7149122807017544,0.7439824945295405,0.7117903930131004,0.6971677559912854,0.7347826086956522,0.7310195227765727,0.7445887445887446,0.7300215982721382,0.7241379310344828,0.7333333333333333,0.7360515021459227,0.6937901498929336,0.6837606837606838,0.7398720682302772,0.7297872340425532,0.7197452229299363,0.7309322033898306,0.6871035940803383,0.7257383966244726,0.7178947368421053,0.7247899159663865,0.7337526205450734,0.7112970711297071,0.7244258872651357,0.6875,0.7297297297297297,0.7261410788381742,0.6811594202898551,0.7396694214876033,0.7072164948453609,0.742798353909465,0.7145790554414785,0.7192622950819673,0.7055214723926381,0.7040816326530612,0.6945010183299389,0.7378048780487805,0.6937119675456389,0.7267206477732794,0.7191919191919192,0.6935483870967742,0.6800804828973843,0.7248995983935743,0.7274549098196392,0.72,0.7325349301397206,0.7290836653386454,0.7037773359840954,0.7261904761904762,0.7128712871287128,0.7193675889328063,0.7396449704142012,0.7322834645669292,0.7328094302554028,0.7,0.7279843444227005,0.724609375,0.7192982456140351,0.7354085603112841,0.7359223300970874,0.7209302325581395,0.7001934235976789,0.7181467181467182,0.7167630057803468,0.7173076923076923,0.7024952015355086,0.7701149425287356,0.7246653919694073,0.7290076335877863,0.7123809523809523,0.7186311787072244,0.7362428842504743,0.7234848484848485,0.7391304347826086,0.7037735849056603,0.7325800376647834,0.7218045112781954,0.7467166979362101,0.7284644194756554,0.7140186915887851,0.7313432835820896,0.7206703910614525,0.7156133828996283,0.7050092764378478,0.7555555555555555,0.7190388170055453,0.7416974169741697,0.714548802946593,0.71875,0.7559633027522936,0.7271062271062271,0.7440585009140768,0.6843065693430657,0.7103825136612022,0.7381818181818182,0.7132486388384754,0.7010869565217391,0.6980108499095841,0.7418772563176895,0.7171171171171171,0.7122302158273381,0.7163375224416517,0.7347670250896058,0.7101967799642218,0.675,0.7183600713012478,0.7330960854092526,0.69449378330373,0.7464539007092199,0.7345132743362832,0.726148409893993,0.7142857142857143,0.7200704225352113,0.7082601054481547,0.7157894736842105,0.7338003502626971,0.75,0.7190226876090751,0.7160278745644599,0.7391304347826086,0.71875,0.7279029462738301,0.7214532871972318,0.7357512953367875,0.7258620689655172,0.7263339070567987,0.7233676975945017,0.7101200686106347,0.7328767123287672,0.7111111111111111,0.7235494880546075,0.7103918228279387,0.7244897959183674,0.7538200339558574,0.7203389830508474,0.7140439932318104,0.7280405405405406,0.7065767284991569,0.7070707070707071,0.704201680672269,0.7416107382550335,0.7420435510887772,0.7307692307692307,0.7228714524207012,0.7483333333333333,0.7387687188019967,0.7275747508305648,0.6998341625207297,0.7350993377483444,0.7239669421487603,0.7277227722772277,0.7084019769357496,0.6990131578947368,0.7257799671592775,0.7,0.7250409165302782,0.7467320261437909,0.7194127243066885,0.7280130293159609,0.7495934959349594,0.7402597402597403,0.7325769854132901,0.7038834951456311,0.7237479806138933,0.7129032258064516,0.7439613526570048,0.7138263665594855,0.7207062600321027,0.7099358974358975,0.72,0.7252396166134185,0.7113237639553429,0.7038216560509554,0.7186009538950715,0.6968253968253968,0.7179080824088748,0.680379746835443,0.7045813586097947,0.7003154574132492,0.7149606299212599,0.7012578616352201,0.7221350078492935,0.713166144200627,0.7073552425665102,0.725,0.7082683307332294,0.7180685358255452,0.6889580093312597,0.7375776397515528,0.724031007751938,0.7198142414860681,0.7109737248840804,0.7098765432098766,0.7057010785824345,0.6938461538461539,0.7450076804915514,0.7223926380368099,0.7274119448698315,0.6850152905198776,0.7389312977099237,0.7164634146341463,0.7625570776255708,0.7127659574468085,0.7405159332321699,0.7303030303030303,0.7034795763993948,0.7280966767371602,0.7345399698340875,0.7003012048192772,0.718796992481203,0.7057057057057057,0.7436281859070465,0.7350299401197605,0.7085201793721974,0.7313432835820896,0.7228017883755589,0.7291666666666666,0.7667161961367014,0.7418397626112759,0.7214814814814815,0.7130177514792899,0.741506646971935,0.7064896755162242,0.7172312223858616,0.7191176470588235,0.7400881057268722,0.7052785923753666,0.7115666178623719,0.7149122807017544,0.7284671532846715,0.7113702623906706,0.7248908296943232,0.7383720930232558,0.7082728592162555,0.7057971014492753,0.7163531114327062,0.7153179190751445,0.7417027417027418,0.7132564841498559,0.7093525179856115,0.7227011494252874,0.7446197991391679,0.6948424068767909,0.7224606580829757,0.74,0.6975748930099858,0.7321937321937322,0.7510668563300142,0.7088068181818182,0.7276595744680852,0.7138810198300283,0.7256011315417256,0.7048022598870056,0.689703808180536,0.704225352112676,0.7510548523206751,0.7247191011235955,0.7307152875175316,0.7282913165266106,0.6979020979020979,0.7346368715083799,0.708507670850767,0.713091922005571,0.7440890125173852,0.7611111111111111,0.7087378640776699,0.7202216066481995,0.739972337482711,0.7348066298342542,0.7337931034482759,0.7038567493112947,0.7372764786795049,0.7239010989010989,0.7160493827160493,0.7178082191780822,0.7222982216142271,0.7418032786885246,0.732605729877217,0.7193460490463215,0.7333333333333333,0.7391304347826086,0.7299864314789688,0.7140921409214093,0.7320703653585927,0.7189189189189189,0.7260458839406208,0.7398921832884097,0.7348586810228802,0.7110215053763441,0.7315436241610739,0.7158176943699732,0.6974564926372155,0.7245989304812834,0.7222963951935915,0.7093333333333334,0.7177097203728362,0.7180851063829787,0.6945551128818062,0.7122015915119363,0.7284768211920529,0.7129629629629629,0.7107001321003963,0.7387862796833773,0.7220026350461133,0.6960526315789474,0.7174770039421814,0.6758530183727034,0.7234600262123198,0.7264397905759162,0.730718954248366,0.7219321148825065,0.7301173402868318,0.6979166666666666,0.7139141742522757,0.7090909090909091,0.7198443579766537,0.7227979274611399,0.7347994825355757,0.7222222222222222,0.704516129032258,0.7216494845360825,0.7155727155727156,0.7082262210796915,0.7329910141206675,0.7,0.7234314980793854,0.7084398976982097,0.7088122605363985,0.7091836734693877,0.7719745222929937,0.7379134860050891,0.7179161372299873,0.7144670050761421,0.6996197718631179,0.7063291139240506,0.7155499367888748,0.726010101010101,0.7175283732660782,0.7141057934508817,0.6918238993710691,0.714824120603015,0.7176913425345044,0.7393483709273183,0.7171464330413017,0.71625,0.717852684144819,0.7206982543640897,0.7048567870485679,0.7325870646766169,0.7254658385093168,0.7320099255583127,0.7050805452292441,0.7178217821782178,0.695920889987639,0.7185185185185186,0.7040690505548706,0.7327586206896551,0.7109471094710947,0.742014742014742,0.7288343558282209,0.7169117647058824,0.7013463892288861,0.7298288508557457,0.7228327228327228,0.7378048780487805,0.7222898903775883,0.6970802919708029,0.6974483596597812,0.7087378640776699,0.7442424242424243,0.7142857142857143,0.7267230955259976,0.7053140096618358,0.7430639324487334,0.7048192771084337,0.7111913357400722,0.7103365384615384,0.7190876350540216,0.6918465227817746,0.7425149700598802,0.7069377990430622,0.7287933094384708,0.7231503579952268,0.7199046483909416,0.7261904761904762,0.7241379310344828,0.7292161520190024,0.7212336892052195,0.7239336492890995,0.7349112426035503,0.6903073286052009,0.693034238488784,0.7075471698113207,0.7031802120141343,0.7470588235294118,0.7332549941245593,0.7335680751173709,0.738569753810082,0.7400468384074942,0.7017543859649122,0.7219626168224299,0.704784130688448,0.7086247086247086,0.7287543655413271,0.7197674418604652,0.6898954703832753,0.7064965197215777,0.7427578215527231,0.6979166666666666,0.7433526011560694,0.7228637413394919,0.7104959630911188,0.7108294930875576,0.7031070195627158,0.7183908045977011,0.7313432835820896,0.7385321100917431,0.711340206185567,0.7013729977116705,0.7085714285714285,0.7100456621004566,0.7320410490307868,0.7095671981776766,0.732650739476678,0.7181818181818181,0.7275822928490352,0.735827664399093,0.7066817667044167,0.7364253393665159,0.7231638418079096,0.7392776523702032,0.7305524239007892,0.7286036036036037,0.7120359955005624,0.7067415730337079,0.7115600448933782,0.7219730941704036,0.7189249720044792,0.7203579418344519,0.7195530726256983,0.7075892857142857,0.6956521739130435,0.7115812917594655,0.7174638487208009,0.7411111111111112,0.7380688124306326,0.7372505543237251,0.7098560354374308,0.7002212389380531,0.7314917127071823,0.7295805739514348,0.7607497243660419,0.7191629955947136,0.7084708470847084,0.7307692307692307,0.725576289791438,0.7269736842105263,0.7185104052573932,0.7089715536105032,0.7387978142076502,0.7237991266375546,0.7055616139585605,0.7309368191721133,0.7149075081610446,0.7086956521739131,0.7274701411509229,0.720173535791757,0.7540628385698809,0.7088744588744589,0.7178378378378378,0.7224622030237581,0.7011866235167206,0.7176724137931034,0.7255113024757804,0.6913978494623656,0.7218045112781954,0.7296137339055794,0.7052518756698821,0.7044967880085653,0.7197860962566844,0.7168803418803419,0.7331910352187834,0.7217484008528785,0.7039403620873269,0.7287234042553191,0.722635494155154,0.7346072186836518,0.7179215270413574,0.7245762711864406,0.708994708994709,0.7251585623678647,0.7191129883843717,0.7215189873417721,0.7281348788198103,0.7442105263157894,0.7276550998948476,0.7321428571428571,0.7040923399790137,0.7232704402515723,0.7078534031413612,0.7374476987447699,0.7084639498432602,0.7400835073068893,0.7393117831074035,0.696875,0.6940686784599376,0.6995841995841996,0.7331256490134995,0.7012448132780082,0.7233160621761658,0.7204968944099379,0.7373319544984488,0.7283057851239669,0.7368421052631579,0.7319587628865979,0.729145211122554,0.720164609053498,0.7266187050359713,0.731006160164271,0.7066666666666667,0.7346311475409836,0.736949846468782,0.7157464212678937,0.7293156281920327,0.7061224489795919,0.7288481141692151,0.7321792260692465,0.7060020345879959,0.7357723577235772,0.7116751269035533,0.6886409736308317,0.7193515704154002,0.7257085020242915,0.7431749241658241,0.7202020202020202,0.7204843592330978,0.7298387096774194,0.7200402819738168,0.7072434607645876,0.7055276381909548,0.7248995983935743,0.7051153460381143,0.7254509018036072,0.7187187187187187,0.745,0.7142857142857143,0.6936127744510978,0.7308075772681955,0.7390438247011952,0.709452736318408,0.7047713717693836,0.7209533267130089,0.7142857142857143,0.7046580773042617,0.7257425742574257,0.7062314540059347,0.7154150197628458,0.7107601184600197,0.7189349112426036,0.7300492610837438,0.7253937007874016,0.7364798426745329,0.7220039292730844,0.7144259077526988,0.7176470588235294,0.7159647404505387,0.7367906066536204,0.7194525904203324,0.7109375,0.7190243902439024,0.7387914230019493,0.7351509250243428,0.7208171206225681,0.7395529640427599,0.7087378640776699,0.7352085354025218,0.7432170542635659,0.7289448209099709,0.730174081237911,0.714975845410628,0.7152509652509652,0.7280617164898746,0.7129094412331407,0.7420596727622714,0.739423076923077,0.7406340057636888,0.7072936660268714,0.7277085330776606,0.7212643678160919,0.7215311004784689,0.6931166347992351,0.7220630372492837,0.7414122137404581,0.7178265014299333,0.7142857142857143,0.7373929590865842,0.7347908745247148,0.6989553656220323,0.715370018975332,0.7251184834123223,0.709280303030303,0.7199621570482497,0.7438563327032136,0.7101038715769594,0.7273584905660377,0.7219604147031102,0.7184557438794726,0.7102539981185324,0.7265037593984962,0.7183098591549296,0.7307692307692307,0.697282099343955,0.7144194756554307,0.695977549111319,0.7242990654205608,0.7170868347338936,0.7341417910447762,0.7148182665424044,0.7039106145251397,0.7255813953488373,0.7146840148698885,0.72330547818013,0.725417439703154,0.7080630213160334,0.712037037037037,0.7150786308973173,0.7162661737523105,0.7239150507848569,0.7214022140221402,0.6912442396313364,0.7265193370165746,0.7166513339466422,0.7178308823529411,0.7226813590449954,0.7128440366972477,0.7323556370302475,0.7188644688644689,0.7145471180237878,0.7312614259597806,0.7205479452054795,0.7098540145985401,0.6900638103919782,0.7422586520947176,0.6960873521383075,0.7272727272727273,0.7238873751135332,0.7268602540834845,0.7071622846781505,0.7210144927536232,0.7158371040723982,0.6943942133815552,0.7289972899728997,0.7256317689530686,0.7204688908926962,0.7315315315315315,0.7074707470747075,0.7140287769784173,0.7259658580413297,0.725314183123878,0.726457399103139,0.7222222222222222,0.7323187108325873,0.7262969588550984,0.7068811438784629,0.71875,0.7100802854594113,0.7245989304812834,0.7390917186108638,0.7286476868327402,0.7155555555555555,0.6971580817051509,0.743566992014197,0.7118794326241135,0.6891054030115146,0.7221238938053097,0.7329796640141468,0.7367491166077739,0.7122683142100618,0.7380952380952381,0.7594713656387665,0.7139084507042254,0.6912928759894459,0.7293497363796133,0.7208077260755048,0.7412280701754386,0.7397020157756354,0.7267950963222417,0.7209098862642169,0.7403846153846154,0.7056768558951965,0.7085514834205934,0.7227550130775937,0.7282229965156795,0.7336814621409922,0.6921739130434783,0.7341442224152911,0.7118055555555556,0.7155247181266262,0.7322357019064125,0.7168831168831169,0.7067474048442907,0.7294727744165946,0.7176165803108808,0.7100949094046591,0.7129310344827586,0.7372954349698536,0.7065404475043029,0.7360275150472915,0.7414089347079038,0.7175965665236052,0.7221269296740995,0.7223650385604113,0.7037671232876712,0.7228400342172797,0.7444444444444445,0.7335610589239966,0.7389078498293515,0.7212276214833759,0.7342419080068143,0.7140425531914893,0.7295918367346939,0.7391673746813934,0.7173174872665535,0.727735368956743,0.7050847457627119,0.707874682472481,0.7292724196277496,0.7159763313609467,0.745777027027027,0.7426160337552743,0.7293423271500843,0.7363100252737995,0.7281144781144782,0.7174095878889823,0.6983193277310924,0.7296389588581025,0.7332214765100671,0.7074601844090528,0.7051926298157454,0.7154811715481172,0.7115384615384616,0.7309941520467836,0.7153589315525877,0.749791492910759,0.71,0.7293921731890092,0.718801996672213,0.7098919368246052,0.7275747508305648,0.7195020746887967,0.7263681592039801,0.7033968516984258,0.7061258278145696,0.7270471464019851,0.7239669421487603,0.6829066886870355,0.7343234323432343,0.7114591920857378,0.7075782537067545,0.7144032921810699,0.696546052631579,0.686113393590797,0.7479474548440066,0.7145200984413453,0.7172131147540983,0.7346437346437347,0.7324058919803601,0.7080948487326247,0.7279411764705882,0.7395918367346939,0.7071778140293637,0.7310513447432763,0.7223127035830619,0.7274206672091131,0.7203252032520325,0.7116165718927701,0.7313311688311688,0.7210056772100568,0.7025931928687196,0.7360323886639676,0.7071197411003236,0.719482619240097,0.7261712439418416,0.7239709443099274,0.7024193548387097,0.7211925866236906,0.7318840579710145,0.7023330651649236,0.7033762057877814,0.7180722891566265,0.7174959871589085,0.7265437048917401,0.7275641025641025,0.7253803042433947,0.7272,0.7162270183852918,0.7212460063897763,0.713487629688747,0.7248803827751196,0.7219123505976096,0.7229299363057324,0.7120127287191726,0.7058823529411765,0.7204130262112788,0.719047619047619,0.7192704203013481,0.7123613312202852,0.714172604908947,0.7254746835443038,0.7264822134387352,0.717219589257504,0.7316495659037096,0.7200315457413249,0.7265563435776202,0.6952755905511812,0.7261998426435877,0.7342767295597484,0.7454831107619796,0.7001569858712716,0.7239215686274509,0.7476489028213166,0.7392325763508223,0.6979655712050078,0.7208756841282252,0.71640625,0.7236533957845434,0.7293291731669267,0.7045985970381917,0.7165109034267912,0.7066147859922179,0.7076205287713841,0.7101787101787101,0.7399068322981367,0.7145073700543056,0.7403100775193798,0.7219209914794733,0.7167182662538699,0.7347254447022429,0.7256568778979907,0.7359073359073359,0.7245370370370371,0.7124132613723978,0.7164869029275809,0.7382602001539645,0.713076923076923,0.7125288239815527,0.7150537634408602,0.7413660782808903,0.727760736196319,0.7164750957854407,0.718989280245023,0.7299158377964805,0.7125382262996942,0.7188693659281895,0.7290076335877863,0.7177726926010679,0.7278963414634146,0.7121096725057121,0.7290715372907154,0.7247148288973384,0.7021276595744681,0.7076689445709947,0.7215477996965098,0.7255496588324488,0.696969696969697,0.7191521574564723,0.7276853252647504,0.7188208616780045,0.7250755287009063,0.7086792452830188,0.726998491704374,0.7256970610399397,0.7183734939759037,0.7148231753197893,0.7225563909774436,0.7392937640871525,0.7184684684684685,0.7209302325581395,0.7218890554722639,0.7048689138576779,0.7125748502994012,0.7225130890052356,0.7152466367713004,0.6915608663181478,0.7335820895522388,0.732289336316182,0.7228017883755589,0.7215189873417721,0.7306547619047619,0.7174721189591078,0.7273402674591382,0.7201187824795843,0.7247774480712166,0.6901408450704225,0.7007407407407408,0.7113249444855663,0.7085798816568047,0.7117516629711752,0.7385524372230429,0.7335793357933579,0.7278761061946902,0.7008106116433309,0.707658321060383,0.7108167770419426,0.7375,0.7075679647318148,0.7165932452276065,0.7204695524578136,0.7324046920821115,0.7377289377289378,0.7349926793557833,0.7117776152158011,0.7112573099415205,0.7158509861212564,0.7036496350364964,0.7315827862873815,0.7332361516034985,0.7093954843408594,0.7183406113537117,0.7076363636363636,0.7165697674418605,0.7109658678286129,0.6894049346879536,0.7121102248005802,0.7181159420289855,0.7320782041998551,0.7199710564399421,0.720173535791757,0.7167630057803468,0.7133574007220217,0.7135642135642135,0.7130497476568133,0.728386167146974,0.706983441324694,0.7158273381294964,0.7138749101365924,0.7277298850574713,0.7150035893754487,0.7187948350071736,0.7275985663082437,0.7292263610315186,0.7322834645669292,0.7360515021459227,0.7183702644746247,0.7278571428571429,0.702355460385439,0.7253922967189729,0.7177476835352815,0.7272079772079773,0.7302491103202847,0.7425320056899004,0.7100213219616205,0.7066761363636364,0.7274662881476224,0.7262411347517731,0.7165131112686038,0.7415014164305949,0.7225760792639774,0.7135785007072136,0.7187279151943463,0.7281073446327684,0.6937191249117854,0.734132581100141,0.7307963354474982,0.7161971830985916,0.7234342012667135,0.7229254571026723,0.7266338721011947,0.7254213483146067,0.7178947368421053,0.7103786816269285,0.7266993693062369,0.7331932773109243,0.7102869139258222,0.720979020979021,0.7372466806429071,0.7220670391061452,0.7020237264480111,0.701534170153417,0.716376306620209,0.6998607242339833,0.7112038970076549,0.7253129346314325,0.7192494788047255,0.7111111111111111,0.7175572519083969,0.7205270457697642,0.7165627165627165,0.7119113573407202,0.71280276816609,0.7081604426002767,0.7055977885279889,0.7341160220994475,0.7287784679089027,0.7158620689655173,0.70434183321847,0.7417355371900827,0.7329662766689607,0.7214580467675378,0.7319587628865979,0.7101648351648352,0.7220315717227179,0.7133058984910837,0.7080191912268677,0.708904109589041,0.7180013689253936,0.7359781121751026,0.7382091592617909,0.73224043715847,0.7139931740614335,0.7462482946793997,0.6980231765507839,0.7125340599455041,0.7147719537100068,0.726530612244898,0.7144799456152278,0.717391304347826,0.7338764426340801,0.7048846675712347,0.696271186440678,0.7330623306233063,0.7163168584969533,0.7347767253044655,0.7079107505070994,0.7418918918918919,0.7062795408507765,0.708502024291498,0.7410654079568443,0.7223719676549866,0.7205387205387206,0.7348586810228802,0.7269670477471419,0.7143817204301075,0.7219610476830087,0.7154362416107383,0.7062374245472837,0.7238605898123325,0.7314132618888145,0.7269076305220884,0.7204013377926421,0.7159090909090909,0.717434869739479,0.7242990654205608,0.7064709806537692,0.702,0.7348434377081945,0.7270306258322237,0.718562874251497,0.7094414893617021,0.7089700996677741,0.7350597609561753,0.7358991373589914,0.7102122015915119,0.7150430748840292,0.7218543046357616,0.7418927862342819,0.7136243386243386,0.7058823529411765,0.7073976221928666,0.7267326732673267,0.7130606860158312,0.7237969676994067,0.7180500658761528,0.728110599078341,0.7223684210526315,0.7291255752794215,0.7082785808147175,0.7202889034799738,0.7217847769028871,0.740327868852459,0.7208387942332897,0.6869679109364768,0.7270942408376964,0.7135382603008502,0.7235294117647059,0.7276290006531678,0.7016971279373369,0.730593607305936,0.7196870925684485,0.7022801302931596,0.7037760416666666,0.7384515289525049,0.7347204161248374,0.7244964262508122,0.7272727272727273,0.7034393251135627,0.7055771725032426,0.7174335709656513,0.7117875647668394,0.7171521035598706,0.7128072445019404,0.729153199741435,0.7157622739018088,0.7101355713363461,0.7129032258064516,0.7221147646679562,0.7048969072164949,0.733419188667096,0.7297297297297297,0.7176848874598071,0.7030848329048843,0.7257546563904945,0.7406931964056482,0.7126363053239256,0.6961538461538461,0.7040358744394619,0.7163892445582587,0.7133717210492643,0.717391304347826,0.7150159744408946,0.7349936143039592,0.7223994894703255,0.7213010204081632,0.7329509241555131,0.7286624203821656,0.7192870782940802,0.7232824427480916,0.7209154481881754,0.7293519695044473,0.7098412698412698,0.7043147208121827,0.7305009511731135,0.7389100126742713,0.7333755541481951,0.7170886075949368,0.7096774193548387,0.7345132743362832,0.7233101705622236,0.7190656565656566,0.7362776025236593,0.7225725094577553,0.7195967233774417,0.7115869017632241,0.7142857142857143,0.7025157232704402,0.7196731615336267,0.7047738693467337,0.7018204645323289,0.7308657465495608,0.6927899686520376,0.7080200501253133,0.7238572323105823,0.7334167709637046,0.7035647279549718,0.7225,0.7183010618363522,0.6997503121098627,0.7248908296943232,0.6951371571072319,0.7426791277258566,0.7191780821917808,0.7261978842563783,0.7101990049751243,0.7315102548166563,0.7118012422360248,0.7138423339540658,0.7382133995037221,0.7011779293242405,0.7149938042131351,0.7337461300309598,0.7289603960396039,0.7037724180581324,0.7262051915945612,0.7331686226065472,0.7086419753086419,0.7143738433066008,0.7207151664611591,0.722735674676525,0.7426108374384236,0.7372307692307692,0.7097170971709718,0.727719729563614,0.7254299754299754,0.7188459177409454,0.7355828220858895,0.7326793378295524,0.7377450980392157,0.7183098591549296,0.715422276621787,0.7314984709480122,0.7255501222493888,0.7263286499694563,0.71001221001221,0.7107992678462477,0.7268292682926829,0.7263863497867155,0.715590742996346,0.7212416311625076,0.7311435523114356,0.7361702127659574,0.7551640340218712,0.7219186399514268,0.7226941747572816,0.7459066100667071,0.7357575757575757,0.7510599636583889,0.6997578692493946,0.7277676950998185,0.7067714631197098,0.7141993957703927,0.7028985507246377,0.7356668678334339,0.7038600723763571,0.7148884870403858,0.7048192771084337,0.7236604455147502,0.7322503008423586,0.724594107035478,0.7175480769230769,0.7177177177177178,0.7214885954381752,0.7186562687462508,0.7314148681055156,0.7309766327142001,0.7113772455089821,0.7211250748055057,0.72188995215311,0.7077106993424985,0.7144563918757467,0.7223880597014926,0.7183770883054893,0.7268932617769827,0.7169249106078666,0.6968433591423466,0.7196428571428571,0.7227840571088637,0.7193816884661117,0.7040998217468806,0.7351543942992874,0.7127596439169139,0.730723606168446,0.7243627741553053,0.7132701421800948,0.7116637063351096,0.7136094674556213,0.7238320520402128,0.7127659574468085,0.70939161252215,0.7119244391971665,0.7233038348082595,0.7175707547169812,0.7171479080730702,0.726148409893993,0.7180694526191878,0.7241176470588235,0.7113462669018225,0.7197414806110458,0.719906048150323,0.721830985915493,0.7219941348973608,0.716295427901524,0.7193907439953134,0.7371194379391101,0.7121123464014043,0.7169590643274854,0.6995908825248393,0.709696261682243,0.7116170461179218,0.7082847141190198,0.7294460641399417,0.6981351981351981,0.7402446126965637,0.7031431897555297,0.7254217568353694,0.727906976744186,0.726321905868681,0.7224157955865272,0.7051654091700522,0.7053364269141531,0.7217391304347827,0.7427578215527231,0.7220613781123335,0.7123842592592593,0.7171775592828225,0.7144508670520231,0.7250144425187752,0.691108545034642,0.7207155222158107,0.7306805074971164,0.7175792507204611,0.7292626728110599,0.7380541162924582,0.7215189873417721,0.718803910293272,0.7270114942528736,0.7082136703044227,0.7181400688863375,0.7102696500286861,0.7264908256880734,0.7146131805157593,0.7359679266895762,0.7115054378935318,0.744279176201373,0.7204116638078902,0.7554285714285714,0.7190177041690463,0.7031963470319634,0.7204791785510554,0.7274800456100342,0.7282051282051282,0.7181093394077449,0.7410358565737052,0.7195676905574516,0.7237066515065378,0.709659090909091,0.7251561612720046,0.7128263337116912,0.7231990924560409,0.7159863945578231,0.7291784702549575,0.7242355605889015,0.7130730050933786,0.7234162895927602,0.711136235161108,0.727683615819209,0.7216261998870694,0.7065462753950339,0.7230682459108855,0.709695603156708,0.7346478873239437,0.7201576576576577,0.7197523916713562,0.7080989876265467,0.7121978639685217,0.7213483146067415,0.7153284671532847,0.7255892255892256,0.7206954570947841,0.719170403587444,0.7187675070028011,0.729003359462486,0.7078903189703414,0.7114093959731543,0.7076579094466182,0.7212290502793296,0.7046342825237297,0.7170758928571429,0.739542665923034,0.7229654403567447,0.7103064066852368,0.7266146993318485,0.7312186978297162,0.735817575083426,0.7198443579766537,0.705,0.714047751249306,0.730299667036626,0.7154742096505824,0.729490022172949,0.718005540166205,0.7231450719822813,0.7172108467072495,0.7328539823008849,0.7313432835820896,0.7071823204419889,0.7156267255659856,0.7268211920529801,0.7115278543849972,0.6990077177508269,0.734435261707989,0.7400881057268722,0.7138139790864062,0.7244224422442245,0.7157778999450247,0.7043956043956044,0.7320153761669412,0.725576289791438,0.7290181020296215,0.7160087719298246,0.7150684931506849,0.7283680175246441,0.7219485495347564,0.7226477024070022,0.7014762165117551,0.7120218579234973,0.732386673948662,0.7183406113537117,0.7206764866339335,0.7066521264994547,0.7449591280653951,0.7287581699346405,0.7267283614589004,0.736126224156692,0.7330070690592714,0.7081521739130435,0.7039652362846279,0.7133550488599348,0.7308735756918069,0.7277657266811279,0.7170731707317073,0.718851570964247,0.7287493232268544,0.7196969696969697,0.72796106003245,0.7075675675675676,0.7239330091842248,0.7273218142548596,0.7317862924986508,0.7135922330097088,0.720754716981132,0.7192887931034483,0.7388260635433495,0.7368137782561894,0.7245831091984938,0.7102150537634409,0.7006985491671145,0.7207303974221267,0.7230273752012882,0.7006437768240343,0.7158176943699732,0.7127545551982851,0.7070166041778254,0.7125267665952891,0.7116104868913857,0.7165775401069518,0.7183324425440941,0.7318376068376068,0.7213027229044314,0.7086446104589115,0.7162666666666667,0.732409381663113,0.7378795950985615,0.7124600638977636,0.7168706758914316,0.7292553191489362,0.7363104731525785,0.7093517534537725,0.7137546468401487,0.7223991507430998,0.7145888594164457,0.7253446447507953,0.7180710121886592,0.7245762711864406,0.7273689782953944,0.7195767195767195,0.7292437863564252,0.7145877378435518,0.7337559429477021,0.7275607180570222,0.7087071240105541,0.7072784810126582,0.7301001581444386,0.7075869336143309,0.7240652975250131,0.7373684210526316,0.7101525512887954,0.7171398527865405,0.743037309511298,0.7205882352941176,0.726509186351706,0.7282266526757608,0.7205034084950184,0.7012578616352201,0.7328444211629125,0.7083769633507854,0.706436420722135,0.7327405857740585,0.7088342916884475,0.7105538140020898,0.7080939947780679,0.7270354906054279,0.7063119457485655,0.7111574556830031,0.7300677436164669,0.7151041666666667,0.7194169703279542,0.7148803329864725,0.7077483099323973,0.7193347193347194,0.7163636363636363,0.7217030114226376,0.7176959003632589,0.720954356846473,0.7174701918092276,0.7305699481865285,0.7105126877265665,0.717391304347826,0.7366787377133989,0.7135470527404343,0.7116279069767442,0.71849173553719,0.7243159525038719,0.7223942208462333,0.7173800928313564,0.722680412371134,0.7284904688304997,0.7209062821833162,0.7205352547606794,0.7253086419753086,0.715681233933162,0.7153134635149023,0.7103235747303543,0.7166324435318275,0.7213955874807594,0.7287179487179487,0.7288569964120963,0.6967213114754098,0.7183819764464926,0.7231320368474923,0.7350383631713555,0.7208588957055214,0.7107818088911599,0.6981613891726252,0.7228177641653905,0.7209183673469388,0.717491075981642,0.7313965341488278,0.7269485481406012,0.7143584521384929,0.7236641221374046,0.7238046795523907,0.6985256736146416,0.709349593495935,0.7272727272727273,0.7060913705583757,0.7052257737189244,0.7058823529411765,0.7187024835276229,0.71580547112462,0.7144303797468354,0.7307692307692307,0.7263530601922105,0.7123356926188069,0.7064173825164224,0.7313131313131314,0.7218576476527007,0.7194752774974773,0.734745335350479,0.7474798387096774,0.7193954659949622,0.7109768378650554,0.7216909914443885,0.7359154929577465,0.7300150829562594,0.7035175879396985,0.7373179306880965,0.7223895582329317,0.7320622177621676,0.7136409227683049,0.7243107769423559,0.7159318637274549,0.7275913870806209,0.7222222222222222,0.7113556778389195]},\"selected\":{\"id\":\"1047\"},\"selection_policy\":{\"id\":\"1046\"}},\"id\":\"1035\",\"type\":\"ColumnDataSource\"},{\"attributes\":{},\"id\":\"1005\",\"type\":\"DataRange1d\"},{\"attributes\":{\"overlay\":{\"id\":\"1027\"}},\"id\":\"1023\",\"type\":\"BoxZoomTool\"},{\"attributes\":{},\"id\":\"1018\",\"type\":\"BasicTicker\"},{\"attributes\":{},\"id\":\"1042\",\"type\":\"BasicTickFormatter\"},{\"attributes\":{},\"id\":\"1009\",\"type\":\"LinearScale\"},{\"attributes\":{\"axis\":{\"id\":\"1013\"},\"ticker\":null},\"id\":\"1016\",\"type\":\"Grid\"},{\"attributes\":{},\"id\":\"1007\",\"type\":\"DataRange1d\"},{\"attributes\":{\"line_alpha\":0.1,\"line_color\":\"#1f77b4\",\"x\":{\"field\":\"x\"},\"y\":{\"field\":\"y\"}},\"id\":\"1037\",\"type\":\"Line\"},{\"attributes\":{},\"id\":\"1011\",\"type\":\"LinearScale\"},{\"attributes\":{\"source\":{\"id\":\"1035\"}},\"id\":\"1039\",\"type\":\"CDSView\"},{\"attributes\":{\"axis_label\":\"Estimated Probability of Head\",\"formatter\":{\"id\":\"1044\"},\"ticker\":{\"id\":\"1018\"}},\"id\":\"1017\",\"type\":\"LinearAxis\"},{\"attributes\":{},\"id\":\"1014\",\"type\":\"BasicTicker\"},{\"attributes\":{},\"id\":\"1047\",\"type\":\"Selection\"}],\"root_ids\":[\"1002\"]},\"title\":\"Bokeh Application\",\"version\":\"2.1.1\"}};\n",
       "  var render_items = [{\"docid\":\"0cd16c71-8241-498e-b51b-277c5e80189e\",\"root_ids\":[\"1002\"],\"roots\":{\"1002\":\"e8ee4a5f-fb44-4d27-b29d-66e223612051\"}}];\n",
       "  root.Bokeh.embed.embed_items_notebook(docs_json, render_items);\n",
       "\n",
       "  }\n",
       "  if (root.Bokeh !== undefined) {\n",
       "    embed_document(root);\n",
       "  } else {\n",
       "    var attempts = 0;\n",
       "    var timer = setInterval(function(root) {\n",
       "      if (root.Bokeh !== undefined) {\n",
       "        clearInterval(timer);\n",
       "        embed_document(root);\n",
       "      } else {\n",
       "        attempts++;\n",
       "        if (attempts > 100) {\n",
       "          clearInterval(timer);\n",
       "          console.log(\"Bokeh: ERROR: Unable to run BokehJS code because BokehJS library is missing\");\n",
       "        }\n",
       "      }\n",
       "    }, 10, root)\n",
       "  }\n",
       "})(window);"
      ],
      "application/vnd.bokehjs_exec.v0+json": ""
     },
     "metadata": {
      "application/vnd.bokehjs_exec.v0+json": {
       "id": "1002"
      }
     },
     "output_type": "display_data"
    }
   ],
   "source": [
    "# Add a line renderer with legend and line thickness\n",
    "x = range(1, maximum_flips)\n",
    "p.line(x=x, y=probs_h)\n",
    "\n",
    "# Show the results\n",
    "show(p)"
   ]
  },
  {
   "cell_type": "code",
   "execution_count": 11,
   "metadata": {},
   "outputs": [],
   "source": [
    "poss = [('H',0.72), ('T',0.28)]\n",
    "outcomes = []\n",
    "\n",
    "# Really stupid you couldn't come up with a better solution?!\n",
    "for one in poss:\n",
    "    res = ''\n",
    "    for two in poss:\n",
    "        for three in poss:\n",
    "            for four in poss:\n",
    "                for five in poss:\n",
    "                    for six in poss:\n",
    "                        for seven in poss:\n",
    "                            for eight in poss:\n",
    "                                for nine in poss:\n",
    "                                    for ten in poss:\n",
    "                                        res = one[0] + two[0] + three[0] + four[0] + five[0] + six[0] + seven[0] + eight[0] + nine[0] + ten[0]\n",
    "                                        prob = one[1] * two[1] * three[1] * four[1] * five[1] * six[1] * seven[1] * eight[1] * nine[1] * ten[1]\n",
    "                                        outcomes.append((res,prob))"
   ]
  },
  {
   "cell_type": "code",
   "execution_count": 17,
   "metadata": {},
   "outputs": [
    {
     "name": "stdout",
     "output_type": "stream",
     "text": [
      "[('HHHHHHHHHH', 0.03743906242624486), ('HHHHHHHHHT', 0.014559635387984113), ('HHHHHHHHTH', 0.014559635387984115), ('HHHHHHHHTT', 0.00566208042866049), ('HHHHHHHTHH', 0.014559635387984115), ('HHHHHHHTHT', 0.00566208042866049), ('HHHHHHHTTH', 0.005662080428660489), ('HHHHHHHTTT', 0.0022019201667013016), ('HHHHHHTHHH', 0.014559635387984115), ('HHHHHHTHHT', 0.00566208042866049)]\n"
     ]
    }
   ],
   "source": [
    "print(outcomes[:10])"
   ]
  },
  {
   "cell_type": "code",
   "execution_count": 13,
   "metadata": {},
   "outputs": [
    {
     "name": "stdout",
     "output_type": "stream",
     "text": [
      "1024\n"
     ]
    }
   ],
   "source": [
    "print(len(outcomes))"
   ]
  },
  {
   "cell_type": "code",
   "execution_count": 14,
   "metadata": {},
   "outputs": [],
   "source": [
    "def is_even_heads(result_prob):\n",
    "    result = result_prob[0]\n",
    "    c = 0\n",
    "    \n",
    "    for head_or_tail in result_prob[0]:\n",
    "        if head_or_tail == 'H':\n",
    "            c = c + 1\n",
    "    \n",
    "    return c % 2 == 0"
   ]
  },
  {
   "cell_type": "code",
   "execution_count": 15,
   "metadata": {},
   "outputs": [
    {
     "name": "stdout",
     "output_type": "stream",
     "text": [
      "512\n"
     ]
    }
   ],
   "source": [
    "evens = list(filter(is_even_heads, outcomes))\n",
    "print(len(evens))"
   ]
  },
  {
   "cell_type": "code",
   "execution_count": 16,
   "metadata": {},
   "outputs": [
    {
     "name": "stdout",
     "output_type": "stream",
     "text": [
      "The probability of head to come even times when coin is tossed 10 times is : 0.5001359868047001\n"
     ]
    }
   ],
   "source": [
    "print(\"The probability of head to come even times when coin is tossed 10 times is :\", sum( [res[1] for res in evens] ))"
   ]
  },
  {
   "cell_type": "markdown",
   "metadata": {},
   "source": [
    "## You flip a fair coin two times. You know that one of them was heads. What is the probability that the other one was tails ?\n",
    "\n",
    "Let A = One of them is heads\n",
    "\n",
    "Let B = One of them is tails\n",
    "\n",
    "$\\Omega\\$ = {HH, HT, TH, TT}\n",
    "\n",
    "atleast one of them is heads so :\n",
    "New universe = {HH, HT, TH}  \n",
    "\n",
    "P(A) = 3/4 = 0.75\n",
    "\n",
    "P(B) = 3/4 = 0.75\n",
    "\n",
    "As A and B are independent\n",
    "P(A$\\bigcap\\$B) = 2/4 = 1/2 = 0.5   \n",
    "\n",
    "**P(B | A)** = P(A$\\bigcap\\$B) / P(A)\n",
    "         = 0.5 / 0.75\n",
    "         **= 0.667**      \n",
    "\n",
    "0.667 Or 2/3 As 3 are the number of outcomes in our new universe and 2/3 satisfy event B given A\n",
    "      \n",
    "      \n",
    "## Does your answer change if we change the statement to: You flip a fair coin two times. You know that the second flip was heads. What is the probability that the first one was tails?\n",
    "\n",
    "Let A = Second flip is heads\n",
    "\n",
    "Let B = First one is tails\n",
    "\n",
    "$\\Omega\\$ = {HH, HT, TH, TT}\n",
    "\n",
    "Second flip is heads so :\n",
    "New universe = {HH, TH}  \n",
    "\n",
    "P(A) = 2/4 = 1/2 = 0.5\n",
    "\n",
    "P(B) = 2/4 = 1/2 = 0.5\n",
    "\n",
    "As A and B are independent\n",
    "P(A$\\bigcap\\$B) = 1/4 = 0.25   \n",
    "\n",
    "**P(B | A)** = P(A$\\bigcap\\$B) / P(A)\n",
    "         = 0.25 / 0.5\n",
    "         **= 0.5**      \n",
    "      \n",
    "0.5 Or 1/2 As 2 are the number of outcomes in our new universe and 1/2 satisfy event B given A"
   ]
  }
 ],
 "metadata": {
  "kernelspec": {
   "display_name": "Python 3",
   "language": "python",
   "name": "python3"
  },
  "language_info": {
   "codemirror_mode": {
    "name": "ipython",
    "version": 3
   },
   "file_extension": ".py",
   "mimetype": "text/x-python",
   "name": "python",
   "nbconvert_exporter": "python",
   "pygments_lexer": "ipython3",
   "version": "3.8.3"
  }
 },
 "nbformat": 4,
 "nbformat_minor": 4
}
