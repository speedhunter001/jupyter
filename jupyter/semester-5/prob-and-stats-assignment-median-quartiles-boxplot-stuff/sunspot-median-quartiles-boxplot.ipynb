{
 "cells": [
  {
   "cell_type": "code",
   "execution_count": 1,
   "metadata": {},
   "outputs": [],
   "source": [
    "import pandas as pd\n",
    "import numpy as np\n",
    "import statistics as stats\n",
    "import matplotlib.pyplot as plt\n",
    "import seaborn as sns"
   ]
  },
  {
   "cell_type": "markdown",
   "metadata": {},
   "source": [
    "# Sunspots Data"
   ]
  },
  {
   "cell_type": "code",
   "execution_count": 2,
   "metadata": {},
   "outputs": [],
   "source": [
    "df = pd.read_csv('./Sunspots.csv', index_col=0) # First column would be treated as index values whicha are just records"
   ]
  },
  {
   "cell_type": "code",
   "execution_count": 3,
   "metadata": {},
   "outputs": [
    {
     "name": "stdout",
     "output_type": "stream",
     "text": [
      "<class 'pandas.core.frame.DataFrame'>\n",
      "Int64Index: 3235 entries, 0 to 3234\n",
      "Data columns (total 2 columns):\n",
      " #   Column                             Non-Null Count  Dtype  \n",
      "---  ------                             --------------  -----  \n",
      " 0   Date                               3235 non-null   object \n",
      " 1   Monthly Mean Total Sunspot Number  3235 non-null   float64\n",
      "dtypes: float64(1), object(1)\n",
      "memory usage: 75.8+ KB\n"
     ]
    }
   ],
   "source": [
    "df.info()  "
   ]
  },
  {
   "cell_type": "code",
   "execution_count": 4,
   "metadata": {},
   "outputs": [
    {
     "data": {
      "text/html": [
       "<div>\n",
       "<style scoped>\n",
       "    .dataframe tbody tr th:only-of-type {\n",
       "        vertical-align: middle;\n",
       "    }\n",
       "\n",
       "    .dataframe tbody tr th {\n",
       "        vertical-align: top;\n",
       "    }\n",
       "\n",
       "    .dataframe thead th {\n",
       "        text-align: right;\n",
       "    }\n",
       "</style>\n",
       "<table border=\"1\" class=\"dataframe\">\n",
       "  <thead>\n",
       "    <tr style=\"text-align: right;\">\n",
       "      <th></th>\n",
       "      <th>Date</th>\n",
       "      <th>Monthly Mean Total Sunspot Number</th>\n",
       "    </tr>\n",
       "  </thead>\n",
       "  <tbody>\n",
       "    <tr>\n",
       "      <th>0</th>\n",
       "      <td>1749-01-31</td>\n",
       "      <td>96.7</td>\n",
       "    </tr>\n",
       "    <tr>\n",
       "      <th>1</th>\n",
       "      <td>1749-02-28</td>\n",
       "      <td>104.3</td>\n",
       "    </tr>\n",
       "    <tr>\n",
       "      <th>2</th>\n",
       "      <td>1749-03-31</td>\n",
       "      <td>116.7</td>\n",
       "    </tr>\n",
       "    <tr>\n",
       "      <th>3</th>\n",
       "      <td>1749-04-30</td>\n",
       "      <td>92.8</td>\n",
       "    </tr>\n",
       "    <tr>\n",
       "      <th>4</th>\n",
       "      <td>1749-05-31</td>\n",
       "      <td>141.7</td>\n",
       "    </tr>\n",
       "  </tbody>\n",
       "</table>\n",
       "</div>"
      ],
      "text/plain": [
       "         Date  Monthly Mean Total Sunspot Number\n",
       "0  1749-01-31                               96.7\n",
       "1  1749-02-28                              104.3\n",
       "2  1749-03-31                              116.7\n",
       "3  1749-04-30                               92.8\n",
       "4  1749-05-31                              141.7"
      ]
     },
     "execution_count": 4,
     "metadata": {},
     "output_type": "execute_result"
    }
   ],
   "source": [
    "df.head()"
   ]
  },
  {
   "cell_type": "code",
   "execution_count": 5,
   "metadata": {},
   "outputs": [
    {
     "name": "stdout",
     "output_type": "stream",
     "text": [
      "[ 72.5  75.5  84.5  92.8  94.   96.7 101.2 104.3 105.5 109.5 110.5 116.7\n",
      " 116.7 122.2 125.7 125.8 126.5 126.5 139.2 141.7 142.  142.3 147.2 148.7\n",
      " 150.  152.  158.  166.7 171.7 264.3]\n"
     ]
    }
   ],
   "source": [
    "# .loc is an accessor, Filtering first 30 (29 is inclusive) records and Monthly.. col\n",
    "data = df.loc[:29, 'Monthly Mean Total Sunspot Number'].to_numpy() \n",
    "# sort doesn't effects mean but nemerical order is necessary for median (for sake of manual calculation)\n",
    "data = np.sort(data) \n",
    "print(data)"
   ]
  },
  {
   "cell_type": "markdown",
   "metadata": {},
   "source": [
    "# **We would be dealing with first 30 records of Montly Mean Total Sunspot Number**\n",
    "\n",
    "## Finding Mean\n",
    "3830.9 / 30 \n",
    "\n",
    "**Mean = 127.6967**\n",
    "        \n",
    "## Finding Median\n",
    "Numbers in Numerical Order => \n",
    "\n",
    "\n",
    "72.5, 75.5, 84.5, 92.8, 94.0, 96.7, 101.2, 104.3, 105.5, 109.5, 110.5, \n",
    "\n",
    "116.7, 116.7, 122.2, **125.7, 125.8**, 126.5, 126.5, 139.2,  141.7, \n",
    "\n",
    "142.0, 142.3, 147.2, 148.7, 150.0, 152.0, 158.0, 166.7, 171.7, 264.3\n",
    "\n",
    "As we have even length so we take middle two numbers and take their mean\n",
    "\n",
    "Middle two numbers are : 125.7, 125.8, their mean results in median: 125.7 + 125.8 / 2 => 125.75\n",
    "\n",
    "**Median = 125.75**\n",
    "\n",
    "## Finding Q1\n",
    "0.25 x (30 + 1) - 1  => 6.75 value which is **103.525**\n",
    "\n",
    "## Finding Q3\n",
    "0.75 x (30 + 1) - 1  =>  22.25 value which is **147.575**"
   ]
  },
  {
   "cell_type": "code",
   "execution_count": 6,
   "metadata": {},
   "outputs": [
    {
     "name": "stdout",
     "output_type": "stream",
     "text": [
      "Mean is : 127.69666666666667\n",
      "Median is: 125.75\n",
      "Quantiles are: [103.52499999999999, 125.75, 147.575]\n"
     ]
    }
   ],
   "source": [
    "print(\"Mean is :\", np.mean(data))\n",
    "print(\"Median is:\", np.median(data))\n",
    "print(\"Quantiles are:\", stats.quantiles(data))\n",
    "# print(\"Q1 is:\", np.quantile(data, q=0.25)) \n",
    "# print(\"Q3 is:\", np.quantile(data, q=0.75)) # It shows different?!"
   ]
  },
  {
   "cell_type": "code",
   "execution_count": 42,
   "metadata": {},
   "outputs": [
    {
     "data": {
      "image/png": "[encoded data removed]",
      "text/plain": [
       "<Figure size 432x288 with 1 Axes>"
      ]
     },
     "metadata": {},
     "output_type": "display_data"
    }
   ],
   "source": [
    "font_size = 13  \n",
    "sns.set_style(style='whitegrid')  # {darkgrid, whitegrid, dark, white, ticks}\n",
    "\n",
    "sns.boxplot(data)\n",
    "plt.tight_layout()  # Spreads a bit\n",
    "\n",
    "plt.title(\"Boxplot of Monthly Mean Total Sunspot Number\", fontdict={'fontsize':font_size})  \n",
    "plt.xlabel('Monthly Mean Total Sunspot Values', fontsize=font_size)\n",
    "plt.xticks(fontsize=font_size)  # xticks are the values of x-axis\n",
    "\n",
    "plt.show()"
   ]
  }
 ],
 "metadata": {
  "kernelspec": {
   "display_name": "Python 3",
   "language": "python",
   "name": "python3"
  },
  "language_info": {
   "codemirror_mode": {
    "name": "ipython",
    "version": 3
   },
   "file_extension": ".py",
   "mimetype": "text/x-python",
   "name": "python",
   "nbconvert_exporter": "python",
   "pygments_lexer": "ipython3",
   "version": "3.8.3"
  }
 },
 "nbformat": 4,
 "nbformat_minor": 4
}
