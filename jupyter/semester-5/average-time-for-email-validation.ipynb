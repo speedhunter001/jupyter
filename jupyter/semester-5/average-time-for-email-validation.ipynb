{
 "cells": [
  {
   "cell_type": "code",
   "execution_count": 23,
   "metadata": {},
   "outputs": [],
   "source": [
    "def validate_recipient(recipient):\n",
    "    import string\n",
    "    \n",
    "#     if len(recipient) > 64:  # The recipient name may be maximum of 64 characters long\n",
    "#         return False\n",
    "    if recipient[0] in string.punctuation:\n",
    "        return False\n",
    "    for char in recipient:\n",
    "        if char in string.ascii_letters:\n",
    "            pass\n",
    "        elif char in string.digits:\n",
    "            pass\n",
    "        elif char in string.punctuation:\n",
    "            pass\n",
    "        else:\n",
    "            return False\n",
    "        \n",
    "    return True\n",
    "\n",
    "def validate_domain(domain):\n",
    "    import string\n",
    "    \n",
    "    if domain[0] in string.punctuation or domain[-1] in string.punctuation or '.' not in domain:\n",
    "        return False\n",
    "    \n",
    "    for index, char in enumerate(domain):\n",
    "        if char in string.ascii_letters:\n",
    "            pass\n",
    "        elif char in string.digits:\n",
    "            pass\n",
    "        elif char in ['.', '-']:  # This may let the second '.' be valid too as subdomain can exist too\n",
    "            try:\n",
    "                previous = domain[index-1]\n",
    "                after = domain[index+1]  # This may give indexoutofbound error\n",
    "                if previous not in string.ascii_letters and previous not in string.digits:\n",
    "                    return False\n",
    "                if after not in string.ascii_letters and after not in string.digits:\n",
    "                    return False\n",
    "            except:\n",
    "                return False\n",
    "        else:\n",
    "            return False\n",
    "    \n",
    "    return True\n",
    "\n",
    "def validate_email(email):\n",
    "    import string\n",
    "    \n",
    "    # According to stackoverflow more than one '@' can exist in email which is not usual but like \"'user@something'@example.com\" but for not complicating things its considered not valid\n",
    "    at_sign_index = email.find('@')   # .find() returns lowest index where found\n",
    "    if at_sign_index != email.rfind('@') or at_sign_index == -1:   # .rfind() returns highest index where found so this means that only one @ in email\n",
    "        return False\n",
    "    \n",
    "    recipient, domain = email.split('@')\n",
    "    is_recipient_valid = validate_recipient(recipient)\n",
    "    is_domain_valid = validate_domain(domain)\n",
    "    \n",
    "    if is_recipient_valid and is_domain_valid:\n",
    "        return True\n",
    "    return False"
   ]
  },
  {
   "cell_type": "code",
   "execution_count": 24,
   "metadata": {},
   "outputs": [],
   "source": [
    "def validate_email_regex(email):\n",
    "\timport re\n",
    "\trecipient_pattern = r\"[^._][a-zA-Z0-9._]+\"\n",
    "\tdomain_pattern = r\".+\\.+[^.-]\"\n",
    "\n",
    "\temail_pattern = recipient_pattern + '@' + domain_pattern \n",
    "\tresult = re.match(email_pattern, email)\n",
    "\n",
    "\tif result:\n",
    "\t\treturn True\n",
    "\telse:\n",
    "\t\treturn False\n"
   ]
  },
  {
   "cell_type": "code",
   "execution_count": 25,
   "metadata": {},
   "outputs": [],
   "source": [
    "def validate_emails_from_file(function):\n",
    "    with open('emails.txt') as f:\n",
    "        for line in f:\n",
    "            function(line)"
   ]
  },
  {
   "cell_type": "code",
   "execution_count": 26,
   "metadata": {},
   "outputs": [
    {
     "name": "stdout",
     "output_type": "stream",
     "text": [
      "The slowest run took 80.34 times longer than the fastest. This could mean that an intermediate result is being cached.\n",
      "435 µs ± 1.09 ms per loop (mean ± std. dev. of 10 runs, 10 loops each)\n"
     ]
    }
   ],
   "source": [
    "times = %timeit -r10 -n10 -o validate_emails_from_file(validate_email)"
   ]
  },
  {
   "cell_type": "code",
   "execution_count": 19,
   "metadata": {},
   "outputs": [
    {
     "data": {
      "text/plain": [
       "0.0012573130296368617"
      ]
     },
     "execution_count": 19,
     "metadata": {},
     "output_type": "execute_result"
    }
   ],
   "source": [
    "times_regex = %timeit -r10 -n10 -o validate_emails_from_file(validate_email_regex)"
   ]
  },
  {
   "cell_type": "code",
   "execution_count": 27,
   "metadata": {},
   "outputs": [
    {
     "name": "stdout",
     "output_type": "stream",
     "text": [
      "Normal run took on average 0.000434505659941351\n",
      "Regex logic to on average  5.068293990916573e-05\n"
     ]
    }
   ],
   "source": [
    "print(\"Normal run took on average {}\".format(times.average))\n",
    "print(\"Regex logic to on average  {}\".format(times_regex.average))"
   ]
  },
  {
   "cell_type": "code",
   "execution_count": null,
   "metadata": {},
   "outputs": [],
   "source": []
  },
  {
   "cell_type": "code",
   "execution_count": null,
   "metadata": {},
   "outputs": [],
   "source": []
  }
 ],
 "metadata": {
  "kernelspec": {
   "display_name": "Python 3",
   "language": "python",
   "name": "python3"
  },
  "language_info": {
   "codemirror_mode": {
    "name": "ipython",
    "version": 3
   },
   "file_extension": ".py",
   "mimetype": "text/x-python",
   "name": "python",
   "nbconvert_exporter": "python",
   "pygments_lexer": "ipython3",
   "version": "3.8.3"
  }
 },
 "nbformat": 4,
 "nbformat_minor": 4
}
