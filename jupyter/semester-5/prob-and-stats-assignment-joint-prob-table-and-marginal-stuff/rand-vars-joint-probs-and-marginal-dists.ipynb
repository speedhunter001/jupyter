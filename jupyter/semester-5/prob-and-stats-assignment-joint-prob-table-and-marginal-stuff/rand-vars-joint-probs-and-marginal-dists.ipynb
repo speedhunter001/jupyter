{
 "cells": [
  {
   "cell_type": "code",
   "execution_count": 1,
   "metadata": {},
   "outputs": [],
   "source": [
    "from prob140 import Table\n",
    "import matplotlib.pyplot as plt\n",
    "import numpy as np\n",
    "%matplotlib inline"
   ]
  },
  {
   "cell_type": "code",
   "execution_count": 2,
   "metadata": {},
   "outputs": [],
   "source": [
    "def add(num1, num2):\n",
    "    return num1 + num2\n",
    "\n",
    "dice = [1, 2, 3, 4, 5, 6]\n",
    "X = set()\n",
    "Y = set()\n",
    "all_poss = []\n",
    "\n",
    "for d1 in dice:\n",
    "    for d2 in dice:\n",
    "        all_poss.append( str(d1)+str(d2) )  \n",
    "        X.add( max(d1,d2) )\n",
    "        Y.add( add(d1, d2) )"
   ]
  },
  {
   "cell_type": "code",
   "execution_count": 3,
   "metadata": {
    "scrolled": true
   },
   "outputs": [
    {
     "name": "stdout",
     "output_type": "stream",
     "text": [
      "All possibilities are ['11', '12', '13', '14', '15', '16', '21', '22', '23', '24', '25', '26', '31', '32', '33', '34', '35', '36', '41', '42', '43', '44', '45', '46', '51', '52', '53', '54', '55', '56', '61', '62', '63', '64', '65', '66']\n",
      "Random Variable X: {1, 2, 3, 4, 5, 6}\n",
      "Random Variable Y: {2, 3, 4, 5, 6, 7, 8, 9, 10, 11, 12}\n"
     ]
    }
   ],
   "source": [
    "print(\"All possibilities are\", all_poss)\n",
    "print(\"Random Variable X:\", X)\n",
    "print(\"Random Variable Y:\", Y)"
   ]
  },
  {
   "cell_type": "code",
   "execution_count": 4,
   "metadata": {},
   "outputs": [
    {
     "name": "stdout",
     "output_type": "stream",
     "text": [
      "True\n",
      "True\n",
      "{1: 0.027777777777777776, 2: 0.08333333333333333, 3: 0.1388888888888889, 4: 0.19444444444444445, 5: 0.25, 6: 0.3055555555555556} \n",
      "\n",
      "{2: 0.027777777777777776, 3: 0.05555555555555555, 4: 0.08333333333333333, 5: 0.1111111111111111, 6: 0.1388888888888889, 7: 0.16666666666666666, 8: 0.1388888888888889, 9: 0.1111111111111111, 10: 0.08333333333333333, 11: 0.05555555555555555, 12: 0.027777777777777776}\n"
     ]
    }
   ],
   "source": [
    "def str_max(str_poss):\n",
    "    num1 = int(str_poss[0])\n",
    "    num2 = int(str_poss[1])\n",
    "    return max(num1,num2)\n",
    "\n",
    "def str_add(str_poss):\n",
    "    num1 = int(str_poss[0])\n",
    "    num2 = int(str_poss[1])\n",
    "    return num1 + num2\n",
    "\n",
    "\n",
    "def calc_prob(num, all_poss, fun):\n",
    "    c = 0\n",
    "    \n",
    "    for poss in all_poss:\n",
    "        if fun(poss) == num:   # If this poss satisfies the Random Variable's individual then increase counter\n",
    "            c = c + 1\n",
    "    \n",
    "    prob = c/len(all_poss)  \n",
    "#     print(num, \"occurs\", c, \"with\", fun, \"having\", prob)\n",
    "    return prob\n",
    "\n",
    "\n",
    "# Calculating probs of all values of Random Variables\n",
    "X_probs = {}\n",
    "for x in X:\n",
    "    X_probs[x] = calc_prob(x, all_poss, str_max)\n",
    "# print()\n",
    "Y_probs = {}\n",
    "for y in Y:\n",
    "    Y_probs[y] = calc_prob(y, all_poss, str_add)\n",
    "    \n",
    "print(round(sum(X_probs.values())) == 1)\n",
    "print(round(sum(Y_probs.values())) == 1)\n",
    "print(X_probs, '\\n')\n",
    "print(Y_probs)"
   ]
  },
  {
   "cell_type": "code",
   "execution_count": 5,
   "metadata": {
    "scrolled": true
   },
   "outputs": [],
   "source": [
    "res = []   # Calculating probs of all cartesian pairs of X and Y\n",
    "for x in X:\n",
    "    for y in Y:\n",
    "        prob = X_probs[x] * Y_probs[y]\n",
    "#         print(x,\"with\",X_probs[x], y, \"with\", Y_probs[y], \"has\", prob)\n",
    "        res.append(prob)"
   ]
  },
  {
   "cell_type": "code",
   "execution_count": 6,
   "metadata": {},
   "outputs": [
    {
     "name": "stdout",
     "output_type": "stream",
     "text": [
      "True\n",
      "66\n"
     ]
    }
   ],
   "source": [
    "print(round(sum(res)) == 1)\n",
    "print(len(res))"
   ]
  },
  {
   "cell_type": "code",
   "execution_count": 7,
   "metadata": {
    "scrolled": true
   },
   "outputs": [
    {
     "name": "stdout",
     "output_type": "stream",
     "text": [
      "X    | Y\n",
      "1    | 2\n",
      "1    | 3\n",
      "1    | 4\n",
      "1    | 5\n",
      "1    | 6\n",
      "1    | 7\n",
      "1    | 8\n",
      "1    | 9\n",
      "1    | 10\n",
      "1    | 11\n",
      "... (56 rows omitted) \n",
      "\n",
      "X    | Y\n",
      "[66] | [66]\n"
     ]
    },
    {
     "name": "stderr",
     "output_type": "stream",
     "text": [
      "/home/muhammadammarabid/anaconda3/lib/python3.8/site-packages/datascience/tables.py:222: FutureWarning: Implicit column method lookup is deprecated.\n",
      "  warnings.warn(\"Implicit column method lookup is deprecated.\", FutureWarning)\n"
     ]
    }
   ],
   "source": [
    "dist = Table().domain(\"X\", X, \"Y\", Y)\n",
    "print(dist, '\\n')\n",
    "print(dist.shape)"
   ]
  },
  {
   "cell_type": "code",
   "execution_count": 8,
   "metadata": {},
   "outputs": [],
   "source": [
    "dist = dist.probabilities(res)"
   ]
  },
  {
   "cell_type": "code",
   "execution_count": 9,
   "metadata": {},
   "outputs": [
    {
     "data": {
      "text/html": [
       "<div>\n",
       "<style scoped>\n",
       "    .dataframe tbody tr th:only-of-type {\n",
       "        vertical-align: middle;\n",
       "    }\n",
       "\n",
       "    .dataframe tbody tr th {\n",
       "        vertical-align: top;\n",
       "    }\n",
       "\n",
       "    .dataframe thead th {\n",
       "        text-align: right;\n",
       "    }\n",
       "</style>\n",
       "<table border=\"1\" class=\"dataframe\">\n",
       "  <thead>\n",
       "    <tr style=\"text-align: right;\">\n",
       "      <th></th>\n",
       "      <th>X=1</th>\n",
       "      <th>X=2</th>\n",
       "      <th>X=3</th>\n",
       "      <th>X=4</th>\n",
       "      <th>X=5</th>\n",
       "      <th>X=6</th>\n",
       "    </tr>\n",
       "  </thead>\n",
       "  <tbody>\n",
       "    <tr>\n",
       "      <th>Y=12</th>\n",
       "      <td>0.000772</td>\n",
       "      <td>0.002315</td>\n",
       "      <td>0.003858</td>\n",
       "      <td>0.005401</td>\n",
       "      <td>0.006944</td>\n",
       "      <td>0.008488</td>\n",
       "    </tr>\n",
       "    <tr>\n",
       "      <th>Y=11</th>\n",
       "      <td>0.001543</td>\n",
       "      <td>0.004630</td>\n",
       "      <td>0.007716</td>\n",
       "      <td>0.010802</td>\n",
       "      <td>0.013889</td>\n",
       "      <td>0.016975</td>\n",
       "    </tr>\n",
       "    <tr>\n",
       "      <th>Y=10</th>\n",
       "      <td>0.002315</td>\n",
       "      <td>0.006944</td>\n",
       "      <td>0.011574</td>\n",
       "      <td>0.016204</td>\n",
       "      <td>0.020833</td>\n",
       "      <td>0.025463</td>\n",
       "    </tr>\n",
       "    <tr>\n",
       "      <th>Y=9</th>\n",
       "      <td>0.003086</td>\n",
       "      <td>0.009259</td>\n",
       "      <td>0.015432</td>\n",
       "      <td>0.021605</td>\n",
       "      <td>0.027778</td>\n",
       "      <td>0.033951</td>\n",
       "    </tr>\n",
       "    <tr>\n",
       "      <th>Y=8</th>\n",
       "      <td>0.003858</td>\n",
       "      <td>0.011574</td>\n",
       "      <td>0.019290</td>\n",
       "      <td>0.027006</td>\n",
       "      <td>0.034722</td>\n",
       "      <td>0.042438</td>\n",
       "    </tr>\n",
       "    <tr>\n",
       "      <th>Y=7</th>\n",
       "      <td>0.004630</td>\n",
       "      <td>0.013889</td>\n",
       "      <td>0.023148</td>\n",
       "      <td>0.032407</td>\n",
       "      <td>0.041667</td>\n",
       "      <td>0.050926</td>\n",
       "    </tr>\n",
       "    <tr>\n",
       "      <th>Y=6</th>\n",
       "      <td>0.003858</td>\n",
       "      <td>0.011574</td>\n",
       "      <td>0.019290</td>\n",
       "      <td>0.027006</td>\n",
       "      <td>0.034722</td>\n",
       "      <td>0.042438</td>\n",
       "    </tr>\n",
       "    <tr>\n",
       "      <th>Y=5</th>\n",
       "      <td>0.003086</td>\n",
       "      <td>0.009259</td>\n",
       "      <td>0.015432</td>\n",
       "      <td>0.021605</td>\n",
       "      <td>0.027778</td>\n",
       "      <td>0.033951</td>\n",
       "    </tr>\n",
       "    <tr>\n",
       "      <th>Y=4</th>\n",
       "      <td>0.002315</td>\n",
       "      <td>0.006944</td>\n",
       "      <td>0.011574</td>\n",
       "      <td>0.016204</td>\n",
       "      <td>0.020833</td>\n",
       "      <td>0.025463</td>\n",
       "    </tr>\n",
       "    <tr>\n",
       "      <th>Y=3</th>\n",
       "      <td>0.001543</td>\n",
       "      <td>0.004630</td>\n",
       "      <td>0.007716</td>\n",
       "      <td>0.010802</td>\n",
       "      <td>0.013889</td>\n",
       "      <td>0.016975</td>\n",
       "    </tr>\n",
       "    <tr>\n",
       "      <th>Y=2</th>\n",
       "      <td>0.000772</td>\n",
       "      <td>0.002315</td>\n",
       "      <td>0.003858</td>\n",
       "      <td>0.005401</td>\n",
       "      <td>0.006944</td>\n",
       "      <td>0.008488</td>\n",
       "    </tr>\n",
       "  </tbody>\n",
       "</table>\n",
       "</div>"
      ],
      "text/plain": [
       "           X=1       X=2       X=3       X=4       X=5       X=6\n",
       "Y=12  0.000772  0.002315  0.003858  0.005401  0.006944  0.008488\n",
       "Y=11  0.001543  0.004630  0.007716  0.010802  0.013889  0.016975\n",
       "Y=10  0.002315  0.006944  0.011574  0.016204  0.020833  0.025463\n",
       "Y=9   0.003086  0.009259  0.015432  0.021605  0.027778  0.033951\n",
       "Y=8   0.003858  0.011574  0.019290  0.027006  0.034722  0.042438\n",
       "Y=7   0.004630  0.013889  0.023148  0.032407  0.041667  0.050926\n",
       "Y=6   0.003858  0.011574  0.019290  0.027006  0.034722  0.042438\n",
       "Y=5   0.003086  0.009259  0.015432  0.021605  0.027778  0.033951\n",
       "Y=4   0.002315  0.006944  0.011574  0.016204  0.020833  0.025463\n",
       "Y=3   0.001543  0.004630  0.007716  0.010802  0.013889  0.016975\n",
       "Y=2   0.000772  0.002315  0.003858  0.005401  0.006944  0.008488"
      ]
     },
     "execution_count": 9,
     "metadata": {},
     "output_type": "execute_result"
    }
   ],
   "source": [
    "dist"
   ]
  },
  {
   "cell_type": "code",
   "execution_count": 10,
   "metadata": {},
   "outputs": [
    {
     "data": {
      "text/html": [
       "<div>\n",
       "<style scoped>\n",
       "    .dataframe tbody tr th:only-of-type {\n",
       "        vertical-align: middle;\n",
       "    }\n",
       "\n",
       "    .dataframe tbody tr th {\n",
       "        vertical-align: top;\n",
       "    }\n",
       "\n",
       "    .dataframe thead th {\n",
       "        text-align: right;\n",
       "    }\n",
       "</style>\n",
       "<table border=\"1\" class=\"dataframe\">\n",
       "  <thead>\n",
       "    <tr style=\"text-align: right;\">\n",
       "      <th></th>\n",
       "      <th>X=1</th>\n",
       "      <th>X=2</th>\n",
       "      <th>X=3</th>\n",
       "      <th>X=4</th>\n",
       "      <th>X=5</th>\n",
       "      <th>X=6</th>\n",
       "      <th>Sum: Marginal of Y</th>\n",
       "    </tr>\n",
       "  </thead>\n",
       "  <tbody>\n",
       "    <tr>\n",
       "      <th>Y=12</th>\n",
       "      <td>0.000772</td>\n",
       "      <td>0.002315</td>\n",
       "      <td>0.003858</td>\n",
       "      <td>0.005401</td>\n",
       "      <td>0.006944</td>\n",
       "      <td>0.008488</td>\n",
       "      <td>0.027778</td>\n",
       "    </tr>\n",
       "    <tr>\n",
       "      <th>Y=11</th>\n",
       "      <td>0.001543</td>\n",
       "      <td>0.004630</td>\n",
       "      <td>0.007716</td>\n",
       "      <td>0.010802</td>\n",
       "      <td>0.013889</td>\n",
       "      <td>0.016975</td>\n",
       "      <td>0.055556</td>\n",
       "    </tr>\n",
       "    <tr>\n",
       "      <th>Y=10</th>\n",
       "      <td>0.002315</td>\n",
       "      <td>0.006944</td>\n",
       "      <td>0.011574</td>\n",
       "      <td>0.016204</td>\n",
       "      <td>0.020833</td>\n",
       "      <td>0.025463</td>\n",
       "      <td>0.083333</td>\n",
       "    </tr>\n",
       "    <tr>\n",
       "      <th>Y=9</th>\n",
       "      <td>0.003086</td>\n",
       "      <td>0.009259</td>\n",
       "      <td>0.015432</td>\n",
       "      <td>0.021605</td>\n",
       "      <td>0.027778</td>\n",
       "      <td>0.033951</td>\n",
       "      <td>0.111111</td>\n",
       "    </tr>\n",
       "    <tr>\n",
       "      <th>Y=8</th>\n",
       "      <td>0.003858</td>\n",
       "      <td>0.011574</td>\n",
       "      <td>0.019290</td>\n",
       "      <td>0.027006</td>\n",
       "      <td>0.034722</td>\n",
       "      <td>0.042438</td>\n",
       "      <td>0.138889</td>\n",
       "    </tr>\n",
       "    <tr>\n",
       "      <th>Y=7</th>\n",
       "      <td>0.004630</td>\n",
       "      <td>0.013889</td>\n",
       "      <td>0.023148</td>\n",
       "      <td>0.032407</td>\n",
       "      <td>0.041667</td>\n",
       "      <td>0.050926</td>\n",
       "      <td>0.166667</td>\n",
       "    </tr>\n",
       "    <tr>\n",
       "      <th>Y=6</th>\n",
       "      <td>0.003858</td>\n",
       "      <td>0.011574</td>\n",
       "      <td>0.019290</td>\n",
       "      <td>0.027006</td>\n",
       "      <td>0.034722</td>\n",
       "      <td>0.042438</td>\n",
       "      <td>0.138889</td>\n",
       "    </tr>\n",
       "    <tr>\n",
       "      <th>Y=5</th>\n",
       "      <td>0.003086</td>\n",
       "      <td>0.009259</td>\n",
       "      <td>0.015432</td>\n",
       "      <td>0.021605</td>\n",
       "      <td>0.027778</td>\n",
       "      <td>0.033951</td>\n",
       "      <td>0.111111</td>\n",
       "    </tr>\n",
       "    <tr>\n",
       "      <th>Y=4</th>\n",
       "      <td>0.002315</td>\n",
       "      <td>0.006944</td>\n",
       "      <td>0.011574</td>\n",
       "      <td>0.016204</td>\n",
       "      <td>0.020833</td>\n",
       "      <td>0.025463</td>\n",
       "      <td>0.083333</td>\n",
       "    </tr>\n",
       "    <tr>\n",
       "      <th>Y=3</th>\n",
       "      <td>0.001543</td>\n",
       "      <td>0.004630</td>\n",
       "      <td>0.007716</td>\n",
       "      <td>0.010802</td>\n",
       "      <td>0.013889</td>\n",
       "      <td>0.016975</td>\n",
       "      <td>0.055556</td>\n",
       "    </tr>\n",
       "    <tr>\n",
       "      <th>Y=2</th>\n",
       "      <td>0.000772</td>\n",
       "      <td>0.002315</td>\n",
       "      <td>0.003858</td>\n",
       "      <td>0.005401</td>\n",
       "      <td>0.006944</td>\n",
       "      <td>0.008488</td>\n",
       "      <td>0.027778</td>\n",
       "    </tr>\n",
       "    <tr>\n",
       "      <th>Sum: Marginal of X</th>\n",
       "      <td>0.027778</td>\n",
       "      <td>0.083333</td>\n",
       "      <td>0.138889</td>\n",
       "      <td>0.194444</td>\n",
       "      <td>0.250000</td>\n",
       "      <td>0.305556</td>\n",
       "      <td>1.000000</td>\n",
       "    </tr>\n",
       "  </tbody>\n",
       "</table>\n",
       "</div>"
      ],
      "text/plain": [
       "                         X=1       X=2       X=3       X=4       X=5  \\\n",
       "Y=12                0.000772  0.002315  0.003858  0.005401  0.006944   \n",
       "Y=11                0.001543  0.004630  0.007716  0.010802  0.013889   \n",
       "Y=10                0.002315  0.006944  0.011574  0.016204  0.020833   \n",
       "Y=9                 0.003086  0.009259  0.015432  0.021605  0.027778   \n",
       "Y=8                 0.003858  0.011574  0.019290  0.027006  0.034722   \n",
       "Y=7                 0.004630  0.013889  0.023148  0.032407  0.041667   \n",
       "Y=6                 0.003858  0.011574  0.019290  0.027006  0.034722   \n",
       "Y=5                 0.003086  0.009259  0.015432  0.021605  0.027778   \n",
       "Y=4                 0.002315  0.006944  0.011574  0.016204  0.020833   \n",
       "Y=3                 0.001543  0.004630  0.007716  0.010802  0.013889   \n",
       "Y=2                 0.000772  0.002315  0.003858  0.005401  0.006944   \n",
       "Sum: Marginal of X  0.027778  0.083333  0.138889  0.194444  0.250000   \n",
       "\n",
       "                         X=6  Sum: Marginal of Y  \n",
       "Y=12                0.008488            0.027778  \n",
       "Y=11                0.016975            0.055556  \n",
       "Y=10                0.025463            0.083333  \n",
       "Y=9                 0.033951            0.111111  \n",
       "Y=8                 0.042438            0.138889  \n",
       "Y=7                 0.050926            0.166667  \n",
       "Y=6                 0.042438            0.138889  \n",
       "Y=5                 0.033951            0.111111  \n",
       "Y=4                 0.025463            0.083333  \n",
       "Y=3                 0.016975            0.055556  \n",
       "Y=2                 0.008488            0.027778  \n",
       "Sum: Marginal of X  0.305556            1.000000  "
      ]
     },
     "execution_count": 10,
     "metadata": {},
     "output_type": "execute_result"
    }
   ],
   "source": [
    "dist.both_marginals()"
   ]
  },
  {
   "cell_type": "code",
   "execution_count": 11,
   "metadata": {},
   "outputs": [
    {
     "name": "stdout",
     "output_type": "stream",
     "text": [
      "Value | Probability\n",
      "1     | 0.0277778\n",
      "2     | 0.0833333\n",
      "3     | 0.138889\n",
      "4     | 0.194444\n",
      "5     | 0.25\n",
      "6     | 0.305556\n"
     ]
    }
   ],
   "source": [
    "X_marginal_dist = dist.marginal_dist(\"X\")\n",
    "print(X_marginal_dist)"
   ]
  },
  {
   "cell_type": "code",
   "execution_count": 12,
   "metadata": {},
   "outputs": [
    {
     "name": "stdout",
     "output_type": "stream",
     "text": [
      "[1 2 3 4 5 6] [0.02777778 0.08333333 0.13888889 0.19444444 0.25       0.30555556]\n"
     ]
    }
   ],
   "source": [
    "X_vals, X_probs = X_marginal_dist[0], X_marginal_dist[1]\n",
    "print( X_vals, X_probs)"
   ]
  },
  {
   "cell_type": "code",
   "execution_count": 13,
   "metadata": {},
   "outputs": [
    {
     "data": {
      "image/png": "[encoded data removed]",
      "text/plain": [
       "<Figure size 432x288 with 1 Axes>"
      ]
     },
     "metadata": {
      "needs_background": "light"
     },
     "output_type": "display_data"
    }
   ],
   "source": [
    "def plot_X_marginal_dist(X_vals, X_probs):\n",
    "    plt.bar(X_vals, X_probs)\n",
    "    plt.yticks(np.arange(0.1, 1.10, 0.10))\n",
    "    plt.xlabel(\"X Random Variable\")\n",
    "    plt.ylabel(\"X Marginal Values or Probabilities\")\n",
    "    plt.title(\"X Random Variable Marginal Distribution\")\n",
    "    plt.show()\n",
    "    \n",
    "plot_X_marginal_dist(X_vals, X_probs)"
   ]
  },
  {
   "cell_type": "code",
   "execution_count": 15,
   "metadata": {},
   "outputs": [
    {
     "name": "stdout",
     "output_type": "stream",
     "text": [
      "Value | Probability\n",
      "2     | 0.0277778\n",
      "3     | 0.0555556\n",
      "4     | 0.0833333\n",
      "5     | 0.111111\n",
      "6     | 0.138889\n",
      "7     | 0.166667\n",
      "8     | 0.138889\n",
      "9     | 0.111111\n",
      "10    | 0.0833333\n",
      "11    | 0.0555556\n",
      "... (1 rows omitted)\n"
     ]
    }
   ],
   "source": [
    "Y_marginal_dist = dist.marginal_dist(\"Y\")\n",
    "print(Y_marginal_dist)"
   ]
  },
  {
   "cell_type": "code",
   "execution_count": 16,
   "metadata": {},
   "outputs": [
    {
     "name": "stdout",
     "output_type": "stream",
     "text": [
      "[ 2  3  4  5  6  7  8  9 10 11 12] [0.02777778 0.05555556 0.08333333 0.11111111 0.13888889 0.16666667\n",
      " 0.13888889 0.11111111 0.08333333 0.05555556 0.02777778]\n"
     ]
    }
   ],
   "source": [
    "Y_vals, Y_probs = Y_marginal_dist[0], Y_marginal_dist[1]\n",
    "print(Y_vals, Y_probs)"
   ]
  },
  {
   "cell_type": "code",
   "execution_count": 17,
   "metadata": {},
   "outputs": [
    {
     "data": {
      "image/png": "[encoded data removed]",
      "text/plain": [
       "<Figure size 432x288 with 1 Axes>"
      ]
     },
     "metadata": {
      "needs_background": "light"
     },
     "output_type": "display_data"
    }
   ],
   "source": [
    "def plot_Y_marginal_dist(Y_vals, Y_probs):\n",
    "    plt.bar(Y_vals, Y_probs)\n",
    "    plt.xticks(np.arange(2, 13, 1))\n",
    "    plt.yticks(np.arange(0.1, 1.10, 0.10))\n",
    "    plt.xlabel(\"Y Random Variable\")\n",
    "    plt.ylabel(\"Y Marginal Values or Probabilities\")\n",
    "    plt.title(\"Y Random Variable Marginal Distribution\")\n",
    "    plt.show()\n",
    "\n",
    "plot_Y_marginal_dist(Y_vals, Y_probs)"
   ]
  },
  {
   "cell_type": "markdown",
   "metadata": {},
   "source": [
    "# Let's Try Challenge Question"
   ]
  },
  {
   "cell_type": "code",
   "execution_count": 18,
   "metadata": {},
   "outputs": [
    {
     "name": "stdout",
     "output_type": "stream",
     "text": [
      "All possibilities are [('11', 0.017777777777777778), ('12', 0.017777777777777778), ('13', 0.017777777777777778), ('14', 0.026666666666666665), ('15', 0.026666666666666665), ('16', 0.026666666666666665), ('21', 0.017777777777777778), ('22', 0.017777777777777778), ('23', 0.017777777777777778), ('24', 0.026666666666666665), ('25', 0.026666666666666665), ('26', 0.026666666666666665), ('31', 0.017777777777777778), ('32', 0.017777777777777778), ('33', 0.017777777777777778), ('34', 0.026666666666666665), ('35', 0.026666666666666665), ('36', 0.026666666666666665), ('41', 0.026666666666666665), ('42', 0.026666666666666665), ('43', 0.026666666666666665), ('44', 0.039999999999999994), ('45', 0.039999999999999994), ('46', 0.039999999999999994), ('51', 0.026666666666666665), ('52', 0.026666666666666665), ('53', 0.026666666666666665), ('54', 0.039999999999999994), ('55', 0.039999999999999994), ('56', 0.039999999999999994), ('61', 0.026666666666666665), ('62', 0.026666666666666665), ('63', 0.026666666666666665), ('64', 0.039999999999999994), ('65', 0.039999999999999994), ('66', 0.039999999999999994)]\n",
      "Random Variable X: {1, 2, 3, 4, 5, 6}\n",
      "Random Variable Y: {2, 3, 4, 5, 6, 7, 8, 9, 10, 11, 12}\n",
      "True\n"
     ]
    }
   ],
   "source": [
    "first_half_prob = 0.4/3   # because 0.4 is prob of 1-3 but then prob of each would be 0.4/3\n",
    "second_half_prob = 0.6/3  # because 0.6 is prob of 4-6 but then prob of each would be 0.6/3\n",
    "unfair_dice = [(1, first_half_prob), (2, first_half_prob), (3, first_half_prob), \n",
    "               (4, second_half_prob), (5, second_half_prob), (6, second_half_prob)]\n",
    "all_poss = []\n",
    "\n",
    "for d1 in unfair_dice:\n",
    "    for d2 in unfair_dice:\n",
    "        all_poss.append( (str(d1[0])+str(d2[0]), d1[1]*d2[1]) )\n",
    "\n",
    "print(\"All possibilities are\", all_poss)\n",
    "print(\"Random Variable X:\", X)\n",
    "print(\"Random Variable Y:\", Y)\n",
    "print( round(sum(p[1] for p in all_poss)) == 1 )"
   ]
  },
  {
   "cell_type": "code",
   "execution_count": 19,
   "metadata": {},
   "outputs": [],
   "source": [
    "# This logic could be used for above case too, it would give same results\n",
    "def calc_prob(num, all_poss, fun):\n",
    "    total_prob = 0   \n",
    "    \n",
    "    for poss in all_poss:\n",
    "        # Summing the probs of the possibilities which satisfy Random Variable's individual\n",
    "        if fun(poss[0]) == num:   \n",
    "            total_prob = total_prob + poss[1]\n",
    "    \n",
    "    return total_prob"
   ]
  },
  {
   "cell_type": "code",
   "execution_count": 20,
   "metadata": {},
   "outputs": [
    {
     "name": "stdout",
     "output_type": "stream",
     "text": [
      "True\n",
      "True\n",
      "{1: 0.017777777777777778, 2: 0.05333333333333333, 3: 0.08888888888888889, 4: 0.2, 5: 0.27999999999999997, 6: 0.35999999999999993} \n",
      "\n",
      "{2: 0.017777777777777778, 3: 0.035555555555555556, 4: 0.05333333333333333, 5: 0.08888888888888888, 6: 0.12444444444444444, 7: 0.16, 8: 0.14666666666666667, 9: 0.1333333333333333, 10: 0.11999999999999998, 11: 0.07999999999999999, 12: 0.039999999999999994}\n"
     ]
    }
   ],
   "source": [
    "X_probs = {}\n",
    "for x in X:\n",
    "    X_probs[x] = calc_prob(x, all_poss, str_max)\n",
    "# print()\n",
    "Y_probs = {}\n",
    "for y in Y:\n",
    "    Y_probs[y] = calc_prob(y, all_poss, str_add)\n",
    "    \n",
    "print(round(sum(X_probs.values())) == 1)\n",
    "print(round(sum(Y_probs.values())) == 1)\n",
    "print(X_probs, '\\n')\n",
    "print(Y_probs)"
   ]
  },
  {
   "cell_type": "code",
   "execution_count": 21,
   "metadata": {},
   "outputs": [
    {
     "name": "stdout",
     "output_type": "stream",
     "text": [
      "\n",
      "True\n",
      "66\n"
     ]
    }
   ],
   "source": [
    "# Probs of all cartesian pairs\n",
    "res = []\n",
    "for x in X:\n",
    "    for y in Y:\n",
    "        prob = X_probs[x] * Y_probs[y]\n",
    "#         print(x,\"with\",X_probs[x], y, \"with\", Y_probs[y], \"has\", prob)\n",
    "        res.append(prob)\n",
    "\n",
    "print()        \n",
    "print(round(sum(res)) == 1)\n",
    "print(len(res))        "
   ]
  },
  {
   "cell_type": "code",
   "execution_count": 22,
   "metadata": {},
   "outputs": [
    {
     "name": "stdout",
     "output_type": "stream",
     "text": [
      "X    | Y\n",
      "1    | 2\n",
      "1    | 3\n",
      "1    | 4\n",
      "1    | 5\n",
      "1    | 6\n",
      "1    | 7\n",
      "1    | 8\n",
      "1    | 9\n",
      "1    | 10\n",
      "1    | 11\n",
      "... (56 rows omitted) \n",
      "\n",
      "X    | Y\n",
      "[66] | [66]\n"
     ]
    },
    {
     "name": "stderr",
     "output_type": "stream",
     "text": [
      "/home/muhammadammarabid/anaconda3/lib/python3.8/site-packages/datascience/tables.py:222: FutureWarning: Implicit column method lookup is deprecated.\n",
      "  warnings.warn(\"Implicit column method lookup is deprecated.\", FutureWarning)\n"
     ]
    }
   ],
   "source": [
    "dist = Table().domain(\"X\", X, \"Y\", Y)\n",
    "print(dist, '\\n')\n",
    "print(dist.shape)\n",
    "dist = dist.probabilities(res)"
   ]
  },
  {
   "cell_type": "code",
   "execution_count": 23,
   "metadata": {},
   "outputs": [
    {
     "data": {
      "text/html": [
       "<div>\n",
       "<style scoped>\n",
       "    .dataframe tbody tr th:only-of-type {\n",
       "        vertical-align: middle;\n",
       "    }\n",
       "\n",
       "    .dataframe tbody tr th {\n",
       "        vertical-align: top;\n",
       "    }\n",
       "\n",
       "    .dataframe thead th {\n",
       "        text-align: right;\n",
       "    }\n",
       "</style>\n",
       "<table border=\"1\" class=\"dataframe\">\n",
       "  <thead>\n",
       "    <tr style=\"text-align: right;\">\n",
       "      <th></th>\n",
       "      <th>X=1</th>\n",
       "      <th>X=2</th>\n",
       "      <th>X=3</th>\n",
       "      <th>X=4</th>\n",
       "      <th>X=5</th>\n",
       "      <th>X=6</th>\n",
       "    </tr>\n",
       "  </thead>\n",
       "  <tbody>\n",
       "    <tr>\n",
       "      <th>Y=12</th>\n",
       "      <td>0.000711</td>\n",
       "      <td>0.002133</td>\n",
       "      <td>0.003556</td>\n",
       "      <td>0.008000</td>\n",
       "      <td>0.011200</td>\n",
       "      <td>0.0144</td>\n",
       "    </tr>\n",
       "    <tr>\n",
       "      <th>Y=11</th>\n",
       "      <td>0.001422</td>\n",
       "      <td>0.004267</td>\n",
       "      <td>0.007111</td>\n",
       "      <td>0.016000</td>\n",
       "      <td>0.022400</td>\n",
       "      <td>0.0288</td>\n",
       "    </tr>\n",
       "    <tr>\n",
       "      <th>Y=10</th>\n",
       "      <td>0.002133</td>\n",
       "      <td>0.006400</td>\n",
       "      <td>0.010667</td>\n",
       "      <td>0.024000</td>\n",
       "      <td>0.033600</td>\n",
       "      <td>0.0432</td>\n",
       "    </tr>\n",
       "    <tr>\n",
       "      <th>Y=9</th>\n",
       "      <td>0.002370</td>\n",
       "      <td>0.007111</td>\n",
       "      <td>0.011852</td>\n",
       "      <td>0.026667</td>\n",
       "      <td>0.037333</td>\n",
       "      <td>0.0480</td>\n",
       "    </tr>\n",
       "    <tr>\n",
       "      <th>Y=8</th>\n",
       "      <td>0.002607</td>\n",
       "      <td>0.007822</td>\n",
       "      <td>0.013037</td>\n",
       "      <td>0.029333</td>\n",
       "      <td>0.041067</td>\n",
       "      <td>0.0528</td>\n",
       "    </tr>\n",
       "    <tr>\n",
       "      <th>Y=7</th>\n",
       "      <td>0.002844</td>\n",
       "      <td>0.008533</td>\n",
       "      <td>0.014222</td>\n",
       "      <td>0.032000</td>\n",
       "      <td>0.044800</td>\n",
       "      <td>0.0576</td>\n",
       "    </tr>\n",
       "    <tr>\n",
       "      <th>Y=6</th>\n",
       "      <td>0.002212</td>\n",
       "      <td>0.006637</td>\n",
       "      <td>0.011062</td>\n",
       "      <td>0.024889</td>\n",
       "      <td>0.034844</td>\n",
       "      <td>0.0448</td>\n",
       "    </tr>\n",
       "    <tr>\n",
       "      <th>Y=5</th>\n",
       "      <td>0.001580</td>\n",
       "      <td>0.004741</td>\n",
       "      <td>0.007901</td>\n",
       "      <td>0.017778</td>\n",
       "      <td>0.024889</td>\n",
       "      <td>0.0320</td>\n",
       "    </tr>\n",
       "    <tr>\n",
       "      <th>Y=4</th>\n",
       "      <td>0.000948</td>\n",
       "      <td>0.002844</td>\n",
       "      <td>0.004741</td>\n",
       "      <td>0.010667</td>\n",
       "      <td>0.014933</td>\n",
       "      <td>0.0192</td>\n",
       "    </tr>\n",
       "    <tr>\n",
       "      <th>Y=3</th>\n",
       "      <td>0.000632</td>\n",
       "      <td>0.001896</td>\n",
       "      <td>0.003160</td>\n",
       "      <td>0.007111</td>\n",
       "      <td>0.009956</td>\n",
       "      <td>0.0128</td>\n",
       "    </tr>\n",
       "    <tr>\n",
       "      <th>Y=2</th>\n",
       "      <td>0.000316</td>\n",
       "      <td>0.000948</td>\n",
       "      <td>0.001580</td>\n",
       "      <td>0.003556</td>\n",
       "      <td>0.004978</td>\n",
       "      <td>0.0064</td>\n",
       "    </tr>\n",
       "  </tbody>\n",
       "</table>\n",
       "</div>"
      ],
      "text/plain": [
       "           X=1       X=2       X=3       X=4       X=5     X=6\n",
       "Y=12  0.000711  0.002133  0.003556  0.008000  0.011200  0.0144\n",
       "Y=11  0.001422  0.004267  0.007111  0.016000  0.022400  0.0288\n",
       "Y=10  0.002133  0.006400  0.010667  0.024000  0.033600  0.0432\n",
       "Y=9   0.002370  0.007111  0.011852  0.026667  0.037333  0.0480\n",
       "Y=8   0.002607  0.007822  0.013037  0.029333  0.041067  0.0528\n",
       "Y=7   0.002844  0.008533  0.014222  0.032000  0.044800  0.0576\n",
       "Y=6   0.002212  0.006637  0.011062  0.024889  0.034844  0.0448\n",
       "Y=5   0.001580  0.004741  0.007901  0.017778  0.024889  0.0320\n",
       "Y=4   0.000948  0.002844  0.004741  0.010667  0.014933  0.0192\n",
       "Y=3   0.000632  0.001896  0.003160  0.007111  0.009956  0.0128\n",
       "Y=2   0.000316  0.000948  0.001580  0.003556  0.004978  0.0064"
      ]
     },
     "execution_count": 23,
     "metadata": {},
     "output_type": "execute_result"
    }
   ],
   "source": [
    "dist"
   ]
  },
  {
   "cell_type": "code",
   "execution_count": 24,
   "metadata": {},
   "outputs": [
    {
     "data": {
      "text/html": [
       "<div>\n",
       "<style scoped>\n",
       "    .dataframe tbody tr th:only-of-type {\n",
       "        vertical-align: middle;\n",
       "    }\n",
       "\n",
       "    .dataframe tbody tr th {\n",
       "        vertical-align: top;\n",
       "    }\n",
       "\n",
       "    .dataframe thead th {\n",
       "        text-align: right;\n",
       "    }\n",
       "</style>\n",
       "<table border=\"1\" class=\"dataframe\">\n",
       "  <thead>\n",
       "    <tr style=\"text-align: right;\">\n",
       "      <th></th>\n",
       "      <th>X=1</th>\n",
       "      <th>X=2</th>\n",
       "      <th>X=3</th>\n",
       "      <th>X=4</th>\n",
       "      <th>X=5</th>\n",
       "      <th>X=6</th>\n",
       "      <th>Sum: Marginal of Y</th>\n",
       "    </tr>\n",
       "  </thead>\n",
       "  <tbody>\n",
       "    <tr>\n",
       "      <th>Y=12</th>\n",
       "      <td>0.000711</td>\n",
       "      <td>0.002133</td>\n",
       "      <td>0.003556</td>\n",
       "      <td>0.008000</td>\n",
       "      <td>0.011200</td>\n",
       "      <td>0.0144</td>\n",
       "      <td>0.040000</td>\n",
       "    </tr>\n",
       "    <tr>\n",
       "      <th>Y=11</th>\n",
       "      <td>0.001422</td>\n",
       "      <td>0.004267</td>\n",
       "      <td>0.007111</td>\n",
       "      <td>0.016000</td>\n",
       "      <td>0.022400</td>\n",
       "      <td>0.0288</td>\n",
       "      <td>0.080000</td>\n",
       "    </tr>\n",
       "    <tr>\n",
       "      <th>Y=10</th>\n",
       "      <td>0.002133</td>\n",
       "      <td>0.006400</td>\n",
       "      <td>0.010667</td>\n",
       "      <td>0.024000</td>\n",
       "      <td>0.033600</td>\n",
       "      <td>0.0432</td>\n",
       "      <td>0.120000</td>\n",
       "    </tr>\n",
       "    <tr>\n",
       "      <th>Y=9</th>\n",
       "      <td>0.002370</td>\n",
       "      <td>0.007111</td>\n",
       "      <td>0.011852</td>\n",
       "      <td>0.026667</td>\n",
       "      <td>0.037333</td>\n",
       "      <td>0.0480</td>\n",
       "      <td>0.133333</td>\n",
       "    </tr>\n",
       "    <tr>\n",
       "      <th>Y=8</th>\n",
       "      <td>0.002607</td>\n",
       "      <td>0.007822</td>\n",
       "      <td>0.013037</td>\n",
       "      <td>0.029333</td>\n",
       "      <td>0.041067</td>\n",
       "      <td>0.0528</td>\n",
       "      <td>0.146667</td>\n",
       "    </tr>\n",
       "    <tr>\n",
       "      <th>Y=7</th>\n",
       "      <td>0.002844</td>\n",
       "      <td>0.008533</td>\n",
       "      <td>0.014222</td>\n",
       "      <td>0.032000</td>\n",
       "      <td>0.044800</td>\n",
       "      <td>0.0576</td>\n",
       "      <td>0.160000</td>\n",
       "    </tr>\n",
       "    <tr>\n",
       "      <th>Y=6</th>\n",
       "      <td>0.002212</td>\n",
       "      <td>0.006637</td>\n",
       "      <td>0.011062</td>\n",
       "      <td>0.024889</td>\n",
       "      <td>0.034844</td>\n",
       "      <td>0.0448</td>\n",
       "      <td>0.124444</td>\n",
       "    </tr>\n",
       "    <tr>\n",
       "      <th>Y=5</th>\n",
       "      <td>0.001580</td>\n",
       "      <td>0.004741</td>\n",
       "      <td>0.007901</td>\n",
       "      <td>0.017778</td>\n",
       "      <td>0.024889</td>\n",
       "      <td>0.0320</td>\n",
       "      <td>0.088889</td>\n",
       "    </tr>\n",
       "    <tr>\n",
       "      <th>Y=4</th>\n",
       "      <td>0.000948</td>\n",
       "      <td>0.002844</td>\n",
       "      <td>0.004741</td>\n",
       "      <td>0.010667</td>\n",
       "      <td>0.014933</td>\n",
       "      <td>0.0192</td>\n",
       "      <td>0.053333</td>\n",
       "    </tr>\n",
       "    <tr>\n",
       "      <th>Y=3</th>\n",
       "      <td>0.000632</td>\n",
       "      <td>0.001896</td>\n",
       "      <td>0.003160</td>\n",
       "      <td>0.007111</td>\n",
       "      <td>0.009956</td>\n",
       "      <td>0.0128</td>\n",
       "      <td>0.035556</td>\n",
       "    </tr>\n",
       "    <tr>\n",
       "      <th>Y=2</th>\n",
       "      <td>0.000316</td>\n",
       "      <td>0.000948</td>\n",
       "      <td>0.001580</td>\n",
       "      <td>0.003556</td>\n",
       "      <td>0.004978</td>\n",
       "      <td>0.0064</td>\n",
       "      <td>0.017778</td>\n",
       "    </tr>\n",
       "    <tr>\n",
       "      <th>Sum: Marginal of X</th>\n",
       "      <td>0.017778</td>\n",
       "      <td>0.053333</td>\n",
       "      <td>0.088889</td>\n",
       "      <td>0.200000</td>\n",
       "      <td>0.280000</td>\n",
       "      <td>0.3600</td>\n",
       "      <td>1.000000</td>\n",
       "    </tr>\n",
       "  </tbody>\n",
       "</table>\n",
       "</div>"
      ],
      "text/plain": [
       "                         X=1       X=2       X=3       X=4       X=5     X=6  \\\n",
       "Y=12                0.000711  0.002133  0.003556  0.008000  0.011200  0.0144   \n",
       "Y=11                0.001422  0.004267  0.007111  0.016000  0.022400  0.0288   \n",
       "Y=10                0.002133  0.006400  0.010667  0.024000  0.033600  0.0432   \n",
       "Y=9                 0.002370  0.007111  0.011852  0.026667  0.037333  0.0480   \n",
       "Y=8                 0.002607  0.007822  0.013037  0.029333  0.041067  0.0528   \n",
       "Y=7                 0.002844  0.008533  0.014222  0.032000  0.044800  0.0576   \n",
       "Y=6                 0.002212  0.006637  0.011062  0.024889  0.034844  0.0448   \n",
       "Y=5                 0.001580  0.004741  0.007901  0.017778  0.024889  0.0320   \n",
       "Y=4                 0.000948  0.002844  0.004741  0.010667  0.014933  0.0192   \n",
       "Y=3                 0.000632  0.001896  0.003160  0.007111  0.009956  0.0128   \n",
       "Y=2                 0.000316  0.000948  0.001580  0.003556  0.004978  0.0064   \n",
       "Sum: Marginal of X  0.017778  0.053333  0.088889  0.200000  0.280000  0.3600   \n",
       "\n",
       "                    Sum: Marginal of Y  \n",
       "Y=12                          0.040000  \n",
       "Y=11                          0.080000  \n",
       "Y=10                          0.120000  \n",
       "Y=9                           0.133333  \n",
       "Y=8                           0.146667  \n",
       "Y=7                           0.160000  \n",
       "Y=6                           0.124444  \n",
       "Y=5                           0.088889  \n",
       "Y=4                           0.053333  \n",
       "Y=3                           0.035556  \n",
       "Y=2                           0.017778  \n",
       "Sum: Marginal of X            1.000000  "
      ]
     },
     "execution_count": 24,
     "metadata": {},
     "output_type": "execute_result"
    }
   ],
   "source": [
    "dist.both_marginals()"
   ]
  },
  {
   "cell_type": "code",
   "execution_count": 25,
   "metadata": {},
   "outputs": [
    {
     "name": "stdout",
     "output_type": "stream",
     "text": [
      "[1 2 3 4 5 6] [0.01777778 0.05333333 0.08888889 0.2        0.28       0.36      ] \n",
      "\n",
      "[ 2  3  4  5  6  7  8  9 10 11 12] [0.01777778 0.03555556 0.05333333 0.08888889 0.12444444 0.16\n",
      " 0.14666667 0.13333333 0.12       0.08       0.04      ]\n"
     ]
    }
   ],
   "source": [
    "X_marginal_dist = dist.marginal_dist(\"X\")\n",
    "X_vals, X_probs = X_marginal_dist[0], X_marginal_dist[1]\n",
    "print(X_vals, X_probs, '\\n')\n",
    "\n",
    "Y_marginal_dist = dist.marginal_dist(\"Y\")\n",
    "Y_vals, Y_probs = Y_marginal_dist[0], Y_marginal_dist[1]\n",
    "print(Y_vals, Y_probs)"
   ]
  },
  {
   "cell_type": "code",
   "execution_count": 26,
   "metadata": {},
   "outputs": [
    {
     "data": {
      "image/png": "[encoded data removed]",
      "text/plain": [
       "<Figure size 432x288 with 1 Axes>"
      ]
     },
     "metadata": {
      "needs_background": "light"
     },
     "output_type": "display_data"
    }
   ],
   "source": [
    "plot_X_marginal_dist(X_vals, X_probs)  # Difference btw 1-3 and 4-6 is little bit more compared to fair one"
   ]
  },
  {
   "cell_type": "code",
   "execution_count": 27,
   "metadata": {},
   "outputs": [
    {
     "data": {
      "image/png": "[encoded data removed]",
      "text/plain": [
       "<Figure size 432x288 with 1 Axes>"
      ]
     },
     "metadata": {
      "needs_background": "light"
     },
     "output_type": "display_data"
    }
   ],
   "source": [
    "plot_Y_marginal_dist(Y_vals, Y_probs) # Change after 7 compared to last one"
   ]
  },
  {
   "cell_type": "code",
   "execution_count": null,
   "metadata": {},
   "outputs": [],
   "source": []
  }
 ],
 "metadata": {
  "kernelspec": {
   "display_name": "Python 3",
   "language": "python",
   "name": "python3"
  },
  "language_info": {
   "codemirror_mode": {
    "name": "ipython",
    "version": 3
   },
   "file_extension": ".py",
   "mimetype": "text/x-python",
   "name": "python",
   "nbconvert_exporter": "python",
   "pygments_lexer": "ipython3",
   "version": "3.8.3"
  }
 },
 "nbformat": 4,
 "nbformat_minor": 4
}
