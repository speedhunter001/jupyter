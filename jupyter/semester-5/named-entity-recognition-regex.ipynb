{
 "cells": [
  {
   "cell_type": "code",
   "execution_count": 2,
   "metadata": {},
   "outputs": [],
   "source": [
    "import re"
   ]
  },
  {
   "cell_type": "code",
   "execution_count": null,
   "metadata": {},
   "outputs": [],
   "source": [
    "def find_language(row):\n",
    "    data = row.split(',')\n",
    "    language = data[-1]\n",
    "    \n",
    "    if language == '':\n",
    "        return False\n",
    "    return language"
   ]
  },
  {
   "cell_type": "code",
   "execution_count": 8,
   "metadata": {},
   "outputs": [
    {
     "name": "stdout",
     "output_type": "stream",
     "text": [
      "JavaScript\n"
     ]
    }
   ],
   "source": [
    "language = \"[A-Z]{1}.*\"\n",
    "result = re.search(language, \"1,18594426,,,3,JavaScript\")\n",
    "print(result.group(0))"
   ]
  },
  {
   "cell_type": "code",
   "execution_count": 1,
   "metadata": {},
   "outputs": [],
   "source": [
    "with open('stackoverflow.csv') as f:\n",
    "    language = \"[A-Z].*\"\n",
    "    for line in f:\n",
    "        print(line)\n",
    "        lin\n",
    "        result = re.match(language, line)\n",
    "        if result:\n",
    "            print(\"{} has language {}\".format(line, result.group(0)))"
   ]
  },
  {
   "cell_type": "code",
   "execution_count": 18,
   "metadata": {},
   "outputs": [
    {
     "name": "stdout",
     "output_type": "stream",
     "text": [
      "1,27233496,,,0,C#\n",
      "\n",
      "C#\n",
      "1,23698767,,,9,C#\n",
      "\n",
      "C#\n",
      "1,5484340,,,0,C#\n",
      "\n",
      "C#\n",
      "2,5494879,,5484340,1,\n",
      "\n",
      "1,9419744,,,2,Objective-C\n",
      "\n",
      "Objective-C\n",
      "1,26875732,,,1,C#\n",
      "\n",
      "C#\n",
      "1,9002525,,,2,C++\n",
      "\n",
      "C++\n",
      "2,9003401,,9002525,4,\n",
      "\n",
      "2,9003942,,9002525,1,\n",
      "\n",
      "2,9005311,,9002525,0,\n",
      "\n",
      "1,5257894,,,1,Java\n",
      "\n",
      "Java\n",
      "1,21984912,,,0,Java\n",
      "\n",
      "Java\n",
      "2,21985273,,21984912,0,\n",
      "\n",
      "1,27398936,,,0,PHP\n",
      "\n",
      "PHP\n",
      "1,28903923,,,0,PHP\n",
      "\n",
      "PHP\n",
      "2,28904080,,28903923,0,\n",
      "\n",
      "1,20990204,,,6,PHP\n",
      "\n",
      "PHP\n",
      "1,5077978,,,-2,Python\n",
      "\n",
      "Python\n",
      "2,5078493,,5077978,4,\n",
      "\n",
      "2,5078743,,5077978,3,\n",
      "\n",
      "1,8031082,,,8,Objective-C\n",
      "\n",
      "Objective-C\n",
      "2,8031100,,8031082,6,\n",
      "\n",
      "2,8031125,,8031082,1,\n",
      "\n",
      "1,16551759,,,9,C++\n",
      "\n",
      "C++\n",
      "2,16551822,,16551759,7,\n",
      "\n",
      "2,16551829,,16551759,1,\n",
      "\n",
      "2,16551831,,16551759,0,\n",
      "\n",
      "2,16551845,,16551759,2,\n",
      "\n",
      "2,16552071,,16551759,1,\n",
      "\n",
      "1,17826681,,,0,PHP\n",
      "\n",
      "PHP\n"
     ]
    }
   ],
   "source": [
    "language = \"[A-Z]{1}.*\"\n",
    "for row in rows:\n",
    "    print(row)\n",
    "    row = row.strip('\\n')\n",
    "    result = re.search(language, row)\n",
    "    if result:\n",
    "        print(result.group(0))"
   ]
  },
  {
   "cell_type": "code",
   "execution_count": null,
   "metadata": {},
   "outputs": [],
   "source": []
  }
 ],
 "metadata": {
  "kernelspec": {
   "display_name": "Python 3",
   "language": "python",
   "name": "python3"
  },
  "language_info": {
   "codemirror_mode": {
    "name": "ipython",
    "version": 3
   },
   "file_extension": ".py",
   "mimetype": "text/x-python",
   "name": "python",
   "nbconvert_exporter": "python",
   "pygments_lexer": "ipython3",
   "version": "3.8.3"
  }
 },
 "nbformat": 4,
 "nbformat_minor": 4
}
