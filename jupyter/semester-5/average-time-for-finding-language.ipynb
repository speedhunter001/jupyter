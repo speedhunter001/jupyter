{
 "cells": [
  {
   "cell_type": "code",
   "execution_count": 2,
   "metadata": {},
   "outputs": [],
   "source": [
    "def find_language(row):\n",
    "    data = row.split(',')\n",
    "    language = data[-1]\n",
    "    \n",
    "    if language == '':\n",
    "        return None\n",
    "    return language"
   ]
  },
  {
   "cell_type": "code",
   "execution_count": 1,
   "metadata": {},
   "outputs": [],
   "source": [
    "def find_language_regex(row):\n",
    "\timport re\n",
    "\tlanguage = r\"[A-Z]{1}.*\"\n",
    "\tlanguage = re.search(language, row)\n",
    "\tif language:\n",
    "\t\treturn language.group(0)\n",
    "\treturn None"
   ]
  },
  {
   "cell_type": "code",
   "execution_count": 3,
   "metadata": {},
   "outputs": [],
   "source": [
    "def open_stackoverflow_file(function):\n",
    "    with open('stackoverflow.csv') as f:\n",
    "        for line in f:\n",
    "            function(line)"
   ]
  },
  {
   "cell_type": "code",
   "execution_count": 5,
   "metadata": {},
   "outputs": [
    {
     "name": "stdout",
     "output_type": "stream",
     "text": [
      "The slowest run took 267361.86 times longer than the fastest. This could mean that an intermediate result is being cached.\n",
      "497 ms ± 1.21 s per loop (mean ± std. dev. of 10 runs, 10 loops each)\n"
     ]
    }
   ],
   "source": [
    "times = %timeit -r10 -n10 -o open_stackoverflow_file(find_language)"
   ]
  },
  {
   "cell_type": "code",
   "execution_count": 6,
   "metadata": {},
   "outputs": [
    {
     "name": "stdout",
     "output_type": "stream",
     "text": [
      "5.32 ms ± 915 µs per loop (mean ± std. dev. of 10 runs, 10 loops each)\n"
     ]
    }
   ],
   "source": [
    "times_regex = %timeit -r10 -n10 -o open_stackoverflow_file(find_language_regex)"
   ]
  },
  {
   "cell_type": "code",
   "execution_count": 8,
   "metadata": {},
   "outputs": [
    {
     "name": "stdout",
     "output_type": "stream",
     "text": [
      "Normal run took on average 0.4965670624800259\n",
      "Regex logic to on average  0.005323738110018894\n"
     ]
    }
   ],
   "source": [
    "print(\"Normal run took on average {}\".format(times.average))\n",
    "print(\"Regex logic to on average  {}\".format(times_regex.average))"
   ]
  },
  {
   "cell_type": "code",
   "execution_count": null,
   "metadata": {},
   "outputs": [],
   "source": []
  }
 ],
 "metadata": {
  "kernelspec": {
   "display_name": "Python 3",
   "language": "python",
   "name": "python3"
  },
  "language_info": {
   "codemirror_mode": {
    "name": "ipython",
    "version": 3
   },
   "file_extension": ".py",
   "mimetype": "text/x-python",
   "name": "python",
   "nbconvert_exporter": "python",
   "pygments_lexer": "ipython3",
   "version": "3.8.3"
  }
 },
 "nbformat": 4,
 "nbformat_minor": 4
}
