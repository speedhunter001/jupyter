{
 "cells": [
  {
   "cell_type": "code",
   "execution_count": 41,
   "metadata": {},
   "outputs": [],
   "source": [
    "import pandas as pd\n",
    "import numpy as np\n",
    "\n",
    "from sklearn.metrics import normalized_mutual_info_score, confusion_matrix"
   ]
  },
  {
   "cell_type": "code",
   "execution_count": 6,
   "metadata": {},
   "outputs": [
    {
     "data": {
      "text/html": [
       "<div>\n",
       "<style scoped>\n",
       "    .dataframe tbody tr th:only-of-type {\n",
       "        vertical-align: middle;\n",
       "    }\n",
       "\n",
       "    .dataframe tbody tr th {\n",
       "        vertical-align: top;\n",
       "    }\n",
       "\n",
       "    .dataframe thead th {\n",
       "        text-align: right;\n",
       "    }\n",
       "</style>\n",
       "<table border=\"1\" class=\"dataframe\">\n",
       "  <thead>\n",
       "    <tr style=\"text-align: right;\">\n",
       "      <th></th>\n",
       "      <th>id of item</th>\n",
       "      <th>cluster_no</th>\n",
       "    </tr>\n",
       "  </thead>\n",
       "  <tbody>\n",
       "    <tr>\n",
       "      <th>0</th>\n",
       "      <td>1</td>\n",
       "      <td>2</td>\n",
       "    </tr>\n",
       "    <tr>\n",
       "      <th>1</th>\n",
       "      <td>2</td>\n",
       "      <td>0</td>\n",
       "    </tr>\n",
       "    <tr>\n",
       "      <th>2</th>\n",
       "      <td>3</td>\n",
       "      <td>2</td>\n",
       "    </tr>\n",
       "    <tr>\n",
       "      <th>3</th>\n",
       "      <td>4</td>\n",
       "      <td>1</td>\n",
       "    </tr>\n",
       "    <tr>\n",
       "      <th>4</th>\n",
       "      <td>5</td>\n",
       "      <td>2</td>\n",
       "    </tr>\n",
       "  </tbody>\n",
       "</table>\n",
       "</div>"
      ],
      "text/plain": [
       "   id of item  cluster_no\n",
       "0           1           2\n",
       "1           2           0\n",
       "2           3           2\n",
       "3           4           1\n",
       "4           5           2"
      ]
     },
     "execution_count": 6,
     "metadata": {},
     "output_type": "execute_result"
    }
   ],
   "source": [
    "ground_truth = pd.read_csv('./data/partitions.txt', sep=' ', names=['id of item', 'cluster_no'])\n",
    "ground_truth.head()"
   ]
  },
  {
   "cell_type": "code",
   "execution_count": 11,
   "metadata": {},
   "outputs": [
    {
     "name": "stdout",
     "output_type": "stream",
     "text": [
      "[2 0 2 1 2 1 1 1 2 2 0 0 1 1 1 2 1 1 1 2 1 0 0 2 1 2 1 0 2 1 2 0 1 0 2 2 0\n",
      " 0 1 1 2 0 0 2 0 1 0 1 0 1 2 1 1 1 1 1 2 0 1 2 2 0 0 0 1 0 0 1 2 0 2 1 1 2\n",
      " 2 0 2 2 1 0 0 1 0 0 1 2 1 2 1 2 0 1 1 0 1 2 1 1 2 1 2 2 2 1 2 2 1 0 0 1 0\n",
      " 2 0 1 0 0 2 0 2 2 2 2 0 0 2 0 0 0 2 0 2 0 1 0 1 2 2 0 0 2 1 0 0 0 2 0 0 1\n",
      " 0 0 2 0 0 2 2 2 2 1 1 1 0 1 2 2 0 2 0 0 2 0 1 2 0 0 1 1 0 0 1 1 2 2 0 0 2\n",
      " 0 1 2 2 1 1 2 0 1 0 1 0 1 0 2 1 2 2 1 0 1 0 1 2 0 1 2 1 2 2 1 0 2 1 2 2 2\n",
      " 0 2 1 2 1 1 0 1 1 1 0 1 1 0 1 2 1 0 0 2 0 1 2 0 0 1 0 0 1 1 1 2 0 0 2 2 2\n",
      " 0 0 2 1 2 2 1 2 0 1 2 1 0 2 1 1 2 1 2 1 0 1 0 1 1 1 0 0 2 1 0 2 0 2 2 2 0\n",
      " 0 2 2 2]\n"
     ]
    }
   ],
   "source": [
    "ground_truth_array = ground_truth.to_numpy()[:, 1]  # Because 0 index would be item number\n",
    "print(ground_truth_array)"
   ]
  },
  {
   "cell_type": "code",
   "execution_count": 27,
   "metadata": {},
   "outputs": [],
   "source": [
    "file_names = ['clustering_1.txt', \n",
    "              'clustering_2.txt', \n",
    "              'clustering_3.txt', \n",
    "              'clustering_4.txt', \n",
    "              'clustering_5.txt']\n",
    "all_data = []\n",
    "\n",
    "for file_name in file_names:\n",
    "    file_path = './data/' + file_name\n",
    "    df = pd.read_csv(file_path, sep=' ', names=['id of item', 'cluster_no'])\n",
    "    \n",
    "    data_array = df.to_numpy()[:, 1]\n",
    "    all_data.append(data_array)"
   ]
  },
  {
   "cell_type": "code",
   "execution_count": 28,
   "metadata": {},
   "outputs": [
    {
     "name": "stdout",
     "output_type": "stream",
     "text": [
      "[array([2, 0, 2, 1, 2, 1, 1, 1, 2, 2, 0, 0, 1, 1, 1, 2, 1, 0, 1, 2, 1, 0,\n",
      "       0, 2, 1, 2, 1, 0, 2, 1, 2, 0, 1, 0, 2, 2, 0, 0, 1, 1, 2, 0, 0, 2,\n",
      "       0, 1, 2, 1, 0, 1, 2, 1, 1, 1, 1, 1, 2, 0, 1, 2, 2, 0, 0, 0, 1, 0,\n",
      "       0, 1, 2, 0, 2, 1, 1, 2, 2, 0, 2, 2, 1, 0, 0, 2, 0, 0, 1, 2, 1, 2,\n",
      "       1, 2, 0, 1, 1, 0, 1, 2, 1, 1, 2, 1, 2, 2, 2, 1, 2, 2, 1, 0, 0, 1,\n",
      "       0, 2, 0, 1, 0, 0, 2, 0, 2, 2, 2, 2, 0, 0, 2, 0, 0, 0, 2, 0, 2, 0,\n",
      "       1, 1, 1, 2, 2, 0, 0, 2, 1, 0, 0, 0, 2, 0, 0, 1, 0, 0, 2, 0, 0, 2,\n",
      "       2, 2, 2, 1, 1, 1, 0, 1, 2, 2, 0, 1, 0, 0, 2, 0, 1, 2, 0, 0, 1, 1,\n",
      "       0, 0, 0, 1, 2, 2, 0, 0, 1, 0, 1, 2, 2, 1, 1, 2, 0, 1, 0, 1, 0, 1,\n",
      "       0, 2, 1, 2, 2, 1, 0, 1, 0, 1, 2, 0, 1, 2, 1, 2, 2, 1, 0, 2, 1, 2,\n",
      "       2, 2, 0, 2, 1, 2, 1, 1, 0, 1, 1, 1, 0, 1, 1, 0, 1, 2, 1, 0, 0, 2,\n",
      "       0, 1, 2, 0, 0, 1, 0, 0, 1, 1, 1, 2, 0, 0, 2, 2, 2, 0, 0, 2, 1, 2,\n",
      "       2, 1, 2, 0, 1, 2, 1, 0, 2, 1, 1, 2, 1, 2, 1, 0, 1, 0, 1, 1, 1, 0,\n",
      "       0, 2, 1, 0, 2, 0, 2, 2, 2, 0, 0, 2, 2, 2]), array([2, 0, 1, 1, 2, 1, 1, 2, 1, 2, 0, 2, 1, 1, 1, 2, 1, 1, 1, 0, 1, 0,\n",
      "       0, 2, 2, 2, 1, 0, 2, 1, 2, 0, 1, 0, 2, 0, 0, 0, 2, 1, 2, 0, 0, 2,\n",
      "       0, 1, 0, 1, 0, 1, 2, 1, 1, 1, 1, 1, 2, 0, 1, 2, 2, 0, 0, 0, 1, 2,\n",
      "       0, 2, 2, 0, 2, 1, 1, 0, 2, 0, 2, 2, 1, 0, 1, 1, 0, 0, 1, 2, 1, 2,\n",
      "       1, 2, 0, 1, 2, 0, 1, 2, 1, 1, 2, 1, 1, 2, 2, 1, 2, 2, 1, 0, 0, 1,\n",
      "       1, 2, 0, 1, 0, 0, 2, 0, 2, 0, 2, 2, 0, 0, 2, 0, 0, 1, 2, 0, 2, 0,\n",
      "       1, 0, 1, 2, 2, 0, 1, 2, 1, 0, 0, 0, 2, 0, 0, 1, 0, 0, 2, 2, 0, 2,\n",
      "       2, 2, 2, 1, 2, 1, 0, 1, 2, 2, 0, 1, 0, 0, 2, 0, 1, 2, 0, 0, 1, 1,\n",
      "       0, 0, 1, 2, 2, 2, 0, 0, 2, 0, 1, 2, 2, 1, 1, 2, 0, 1, 0, 1, 0, 1,\n",
      "       0, 2, 1, 0, 2, 1, 0, 1, 2, 1, 2, 0, 1, 2, 1, 2, 2, 2, 0, 2, 1, 2,\n",
      "       2, 2, 0, 2, 1, 2, 1, 1, 0, 1, 1, 1, 0, 1, 1, 0, 2, 1, 1, 0, 0, 2,\n",
      "       0, 1, 2, 0, 0, 1, 0, 0, 1, 1, 1, 2, 0, 0, 2, 2, 2, 0, 0, 2, 1, 0,\n",
      "       2, 1, 2, 0, 1, 2, 0, 0, 2, 1, 1, 0, 1, 1, 1, 0, 1, 0, 1, 1, 1, 0,\n",
      "       0, 2, 1, 0, 2, 0, 2, 2, 2, 0, 0, 2, 2, 2]), array([2, 0, 1, 1, 2, 1, 2, 1, 1, 2, 0, 0, 1, 2, 1, 2, 1, 2, 2, 2, 1, 0,\n",
      "       0, 2, 2, 2, 0, 0, 2, 0, 1, 1, 1, 0, 2, 1, 0, 0, 0, 1, 1, 0, 0, 2,\n",
      "       2, 1, 0, 1, 1, 1, 1, 1, 1, 1, 1, 1, 2, 0, 0, 2, 1, 0, 0, 1, 1, 0,\n",
      "       0, 2, 2, 2, 2, 1, 2, 2, 2, 0, 2, 2, 0, 0, 1, 1, 0, 0, 2, 2, 1, 2,\n",
      "       1, 2, 0, 1, 1, 0, 1, 2, 1, 1, 2, 0, 1, 2, 2, 1, 2, 2, 1, 2, 0, 1,\n",
      "       0, 2, 0, 1, 0, 0, 2, 0, 0, 1, 2, 1, 0, 0, 2, 1, 0, 2, 2, 0, 2, 0,\n",
      "       1, 2, 1, 2, 2, 0, 0, 2, 1, 2, 0, 0, 2, 0, 0, 1, 0, 0, 2, 1, 2, 2,\n",
      "       2, 2, 2, 0, 1, 1, 0, 1, 2, 0, 0, 2, 0, 1, 2, 0, 1, 2, 0, 0, 1, 1,\n",
      "       0, 2, 1, 0, 2, 1, 1, 0, 2, 0, 1, 2, 2, 1, 1, 2, 0, 1, 0, 1, 0, 1,\n",
      "       0, 2, 1, 2, 2, 1, 2, 1, 0, 1, 1, 0, 1, 2, 1, 2, 2, 0, 0, 2, 1, 2,\n",
      "       2, 2, 0, 2, 1, 0, 1, 1, 0, 1, 1, 2, 0, 1, 0, 0, 1, 1, 1, 0, 0, 2,\n",
      "       0, 1, 2, 0, 0, 1, 0, 0, 1, 2, 1, 2, 0, 0, 2, 2, 2, 0, 0, 2, 1, 0,\n",
      "       2, 1, 2, 0, 1, 2, 2, 1, 2, 1, 0, 0, 1, 0, 2, 1, 1, 0, 1, 1, 2, 0,\n",
      "       0, 2, 1, 0, 0, 0, 2, 2, 2, 0, 0, 0, 1, 2]), array([2, 0, 2, 1, 2, 1, 1, 1, 2, 2, 0, 0, 1, 4, 1, 2, 1, 3, 1, 2, 1, 0,\n",
      "       0, 2, 1, 2, 1, 0, 2, 1, 2, 0, 1, 0, 2, 2, 0, 0, 1, 1, 2, 0, 3, 2,\n",
      "       0, 1, 2, 1, 0, 1, 2, 1, 1, 1, 1, 1, 2, 3, 1, 2, 2, 0, 0, 3, 1, 0,\n",
      "       0, 1, 2, 0, 2, 1, 1, 2, 2, 0, 4, 2, 1, 0, 0, 2, 0, 0, 1, 3, 1, 2,\n",
      "       1, 2, 0, 1, 1, 0, 4, 2, 1, 1, 2, 1, 2, 2, 2, 1, 2, 2, 1, 0, 0, 1,\n",
      "       0, 2, 0, 1, 0, 0, 2, 0, 2, 2, 2, 2, 0, 0, 2, 0, 0, 0, 2, 0, 2, 0,\n",
      "       1, 1, 1, 2, 2, 0, 0, 4, 1, 0, 0, 0, 2, 0, 0, 1, 4, 0, 2, 0, 0, 2,\n",
      "       2, 2, 2, 1, 1, 4, 0, 1, 2, 2, 3, 1, 0, 0, 2, 0, 1, 2, 0, 0, 1, 1,\n",
      "       0, 0, 0, 1, 2, 2, 0, 0, 4, 0, 1, 2, 2, 4, 1, 2, 0, 1, 0, 1, 0, 1,\n",
      "       4, 2, 1, 2, 2, 1, 0, 3, 0, 1, 2, 0, 1, 2, 1, 3, 2, 1, 0, 2, 1, 2,\n",
      "       2, 4, 0, 2, 1, 2, 1, 1, 0, 1, 1, 1, 0, 1, 1, 0, 1, 2, 1, 0, 0, 2,\n",
      "       0, 1, 2, 0, 0, 3, 0, 0, 1, 1, 1, 2, 0, 0, 2, 2, 2, 3, 0, 2, 1, 2,\n",
      "       2, 1, 2, 0, 1, 2, 1, 0, 2, 1, 1, 2, 3, 2, 1, 0, 1, 0, 1, 1, 1, 0,\n",
      "       0, 2, 1, 0, 2, 0, 3, 2, 2, 0, 0, 2, 2, 2]), array([0, 0, 0, 1, 0, 1, 1, 1, 0, 0, 0, 0, 1, 1, 1, 0, 1, 1, 1, 0, 1, 0,\n",
      "       0, 0, 1, 0, 1, 0, 0, 1, 0, 0, 1, 0, 0, 0, 0, 0, 1, 1, 0, 0, 0, 0,\n",
      "       0, 1, 0, 1, 0, 1, 0, 1, 1, 1, 1, 1, 0, 0, 1, 0, 0, 0, 0, 0, 1, 0,\n",
      "       0, 1, 0, 0, 0, 1, 1, 0, 0, 0, 0, 0, 1, 0, 0, 1, 0, 0, 1, 0, 1, 0,\n",
      "       1, 0, 0, 1, 1, 0, 1, 0, 1, 1, 0, 1, 0, 0, 0, 1, 0, 0, 1, 0, 0, 1,\n",
      "       0, 0, 0, 1, 0, 0, 0, 0, 0, 0, 0, 0, 0, 0, 0, 0, 0, 0, 0, 0, 0, 0,\n",
      "       1, 0, 1, 0, 0, 0, 0, 0, 1, 0, 0, 0, 0, 0, 0, 1, 0, 0, 0, 0, 0, 0,\n",
      "       0, 0, 0, 1, 1, 1, 0, 1, 0, 0, 0, 0, 0, 0, 0, 0, 1, 0, 0, 0, 1, 1,\n",
      "       0, 0, 1, 1, 0, 0, 0, 0, 0, 0, 1, 0, 0, 1, 1, 0, 0, 1, 0, 1, 0, 1,\n",
      "       0, 0, 1, 0, 0, 1, 0, 1, 0, 1, 0, 0, 1, 0, 1, 0, 0, 1, 0, 0, 1, 0,\n",
      "       0, 0, 0, 0, 1, 0, 1, 1, 0, 1, 1, 1, 0, 1, 1, 0, 1, 0, 1, 0, 0, 0,\n",
      "       0, 1, 0, 0, 0, 1, 0, 0, 1, 1, 1, 0, 0, 0, 0, 0, 0, 0, 0, 0, 1, 0,\n",
      "       0, 1, 0, 0, 1, 0, 1, 0, 0, 1, 1, 0, 1, 0, 1, 0, 1, 0, 1, 1, 1, 0,\n",
      "       0, 0, 1, 0, 0, 0, 0, 0, 0, 0, 0, 0, 0, 0])]\n"
     ]
    }
   ],
   "source": [
    "print(all_data)"
   ]
  },
  {
   "cell_type": "code",
   "execution_count": 48,
   "metadata": {},
   "outputs": [],
   "source": [
    "def perf_measure(y_actual, y_pred):\n",
    "    TP = 0\n",
    "    FP = 0\n",
    "    TN = 0\n",
    "    FN = 0\n",
    "\n",
    "    for i in range(len(y_pred)): \n",
    "        if y_actual[i]==y_pred[i]==1:\n",
    "           TP += 1\n",
    "        \n",
    "        if y_pred[i]==1 and y_actual[i]!=y_pred[i]:\n",
    "           FP += 1\n",
    "        \n",
    "        if y_actual[i]==y_pred[i]==0: \n",
    "           TN += 1\n",
    "        \n",
    "        if y_pred[i]==0 and y_actual[i]!=y_pred[i]:\n",
    "           FN += 1\n",
    "\n",
    "    return (TP, FP, TN, FN)"
   ]
  },
  {
   "cell_type": "code",
   "execution_count": 92,
   "metadata": {},
   "outputs": [],
   "source": [
    "scores = []\n",
    "for i in range(len(all_data)):  \n",
    "    nmi_score = normalized_mutual_info_score(labels_true=ground_truth_array, labels_pred=all_data[i])\n",
    "    \n",
    "    tp, fp, tn, fn = perf_measure(ground_truth_array, all_data[i])\n",
    "    jaccard_score = tp / (tp+fp+fn)\n",
    "    \n",
    "    scores.append([nmi_score, jaccard_score])"
   ]
  },
  {
   "cell_type": "code",
   "execution_count": 93,
   "metadata": {},
   "outputs": [
    {
     "name": "stdout",
     "output_type": "stream",
     "text": [
      "[[0.88962477 0.95098039]\n",
      " [0.64563681 0.83333333]\n",
      " [0.39154375 0.63865546]\n",
      " [0.76427714 0.96774194]\n",
      " [0.73368044 0.5       ]]\n"
     ]
    }
   ],
   "source": [
    "scores = np.array(scores)\n",
    "print(scores)\n",
    "np.savetxt('scores.txt', scores, delimiter=' ')"
   ]
  },
  {
   "cell_type": "code",
   "execution_count": null,
   "metadata": {},
   "outputs": [],
   "source": []
  }
 ],
 "metadata": {
  "kernelspec": {
   "display_name": "Python 3",
   "language": "python",
   "name": "python3"
  },
  "language_info": {
   "codemirror_mode": {
    "name": "ipython",
    "version": 3
   },
   "file_extension": ".py",
   "mimetype": "text/x-python",
   "name": "python",
   "nbconvert_exporter": "python",
   "pygments_lexer": "ipython3",
   "version": "3.8.3"
  }
 },
 "nbformat": 4,
 "nbformat_minor": 4
}
