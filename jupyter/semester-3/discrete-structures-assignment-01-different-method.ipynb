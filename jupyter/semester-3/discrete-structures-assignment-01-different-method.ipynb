{
 "cells": [
  {
   "cell_type": "code",
   "execution_count": 1,
   "metadata": {},
   "outputs": [],
   "source": [
    "def negation(p):\n",
    "    r = \"\"\n",
    "    if p[0] == '~':\n",
    "        r = p[1]\n",
    "    else:\n",
    "        r = '~' + p\n",
    "    return r"
   ]
  },
  {
   "cell_type": "code",
   "execution_count": 5,
   "metadata": {},
   "outputs": [],
   "source": [
    "def converse(eq):\n",
    "    word = \"\"\n",
    "    for i in eq:\n",
    "        if i is \"-\":\n",
    "            before = word\n",
    "            word = \"\"\n",
    "        elif i is \">\":\n",
    "            continue\n",
    "        else:\n",
    "            word = word + i\n",
    "    after = word\n",
    "    con = after + \"->\" + before\n",
    "    return con"
   ]
  },
  {
   "cell_type": "code",
   "execution_count": 11,
   "metadata": {},
   "outputs": [],
   "source": [
    "def contrapositive(eq):\n",
    "    con = converse(eq)\n",
    "    word = \"\"\n",
    "    for i in con:\n",
    "        if i is \"-\":\n",
    "            before = word\n",
    "            word = \"\"\n",
    "        elif i is \">\":\n",
    "            continue\n",
    "        else:\n",
    "            word = word + i\n",
    "    after = word\n",
    "    cont = negation(before) + \"->\" + negation(after)\n",
    "    return cont"
   ]
  },
  {
   "cell_type": "code",
   "execution_count": 16,
   "metadata": {},
   "outputs": [],
   "source": [
    "def inverse(eq):\n",
    "    word = \"\"\n",
    "    for i in eq:\n",
    "        if i is \"-\":\n",
    "            before = word\n",
    "            word = \"\"\n",
    "        elif i is \">\":\n",
    "            continue\n",
    "        else:\n",
    "            word = word + i\n",
    "    after = word\n",
    "    inv = negation(before) + \"->\" + negation(after)\n",
    "    return inv"
   ]
  },
  {
   "cell_type": "code",
   "execution_count": 20,
   "metadata": {},
   "outputs": [
    {
     "data": {
      "text/plain": [
       "'q->p'"
      ]
     },
     "execution_count": 20,
     "metadata": {},
     "output_type": "execute_result"
    }
   ],
   "source": []
  },
  {
   "cell_type": "code",
   "execution_count": null,
   "metadata": {},
   "outputs": [],
   "source": []
  }
 ],
 "metadata": {
  "kernelspec": {
   "display_name": "Python 3",
   "language": "python",
   "name": "python3"
  },
  "language_info": {
   "codemirror_mode": {
    "name": "ipython",
    "version": 3
   },
   "file_extension": ".py",
   "mimetype": "text/x-python",
   "name": "python",
   "nbconvert_exporter": "python",
   "pygments_lexer": "ipython3",
   "version": "3.7.1"
  }
 },
 "nbformat": 4,
 "nbformat_minor": 2
}
