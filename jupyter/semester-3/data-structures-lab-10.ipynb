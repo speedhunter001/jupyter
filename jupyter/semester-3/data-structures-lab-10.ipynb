{
 "cells": [
  {
   "cell_type": "code",
   "execution_count": 7,
   "metadata": {},
   "outputs": [],
   "source": [
    "import networkx as nx\n",
    "import matplotlib.pyplot as plt\n",
    "%matplotlib inline\n",
    "import warnings\n",
    "warnings.filterwarnings(\"ignore\")"
   ]
  },
  {
   "cell_type": "code",
   "execution_count": 8,
   "metadata": {},
   "outputs": [],
   "source": [
    "def draw_graph_with_nx(G):\n",
    "    pos = nx.spring_layout(G, iterations=200)\n",
    "    options = {'node_color':'pink', 'alpha':1, 'node_size':2000, 'width':0.002, 'font_color':'darkred', \n",
    "               'font_size':25, 'arrows':True, 'edge_color':'brown', \n",
    "               'arrowstyle':'Fancy, head_length=1, head_width=1, tail_width=.4'\n",
    "              }\n",
    "    labels = nx.get_node_attributes(G, 'label')\n",
    "    nx.draw(G, pos, labels=labels, **options)\n",
    "    plt.show()"
   ]
  },
  {
   "cell_type": "code",
   "execution_count": 138,
   "metadata": {},
   "outputs": [],
   "source": [
    "class DiGraph:\n",
    "    def __init__(self):\n",
    "        self.g = {}\n",
    "    \n",
    "    def add_node(self, node):\n",
    "        if node in self.g:\n",
    "            raise ValueError(\"Node already is graph\")\n",
    "            \n",
    "        self.g[node] = []\n",
    "        \n",
    "    def add_edge(self, src, dest):\n",
    "        if src not in self.g:\n",
    "            raise ValueError(\"Source not in graph\")\n",
    "            \n",
    "        if dest not in self.g:\n",
    "            raise ValueError(\"Destination not in graph\")\n",
    "\n",
    "        src_edges = self.g[src]\n",
    "        if dest in src_edges:\n",
    "            return\n",
    "        \n",
    "        src_edges.append(dest)\n",
    "        \n",
    "    def traverse_graph(self, start):\n",
    "        que = [ start ]\n",
    "        visited = []\n",
    "        \n",
    "        while que:\n",
    "            current_node = que.pop(0)\n",
    "            \n",
    "            if current_node in visited:\n",
    "                continue\n",
    "            \n",
    "            print(current_node)\n",
    "            visited.append(current_node)\n",
    "            \n",
    "            neighbors = self.g[current_node]\n",
    "            for n in neighbors:\n",
    "                que.append(n)\n",
    "                \n",
    "    def find_path(self, start, end, path=[]):\n",
    "        if start not in self.g:\n",
    "            raise ValueError(\"Source or start is not in graph\")\n",
    "            \n",
    "        if end not in self.g:\n",
    "            raise ValueError(\"Destination or end is not in graph\")\n",
    "\n",
    "        print(start, ',', end)\n",
    "            \n",
    "        path = path + [start]\n",
    "        \n",
    "        if start == end:\n",
    "            return path\n",
    "                \n",
    "        for neighbor in self.g[start]:\n",
    "            if neighbor not in path:\n",
    "                newpath = self.find_path(neighbor, end, path)\n",
    "                if newpath:\n",
    "                    return newpath\n",
    "                \n",
    "        return None\n",
    "    \n",
    "    def find_all_paths(self, start, end, path=[]):\n",
    "        if start not in self.g:\n",
    "            raise ValueError(\"Source or start not in graph\")\n",
    "            \n",
    "        if end not in self.g:\n",
    "            raise ValueError(\"Destination or end not in graph\")\n",
    "\n",
    "        print(start, \",\", end)\n",
    "        \n",
    "        path = path + [start]\n",
    "        all_paths = []\n",
    "        \n",
    "        if start == end:\n",
    "            return [ path ]\n",
    "\n",
    "        for neighbor in self.g[start]:\n",
    "            if neighbor not in path:\n",
    "                all_newpaths = self.find_all_paths(neighbor, end, path)\n",
    "                for newpath in all_newpaths:\n",
    "                    all_paths.append(newpath)\n",
    "                    \n",
    "        return all_paths\n",
    "    \n",
    "    def find_shortest_path(self, start, end, path=[]):\n",
    "        if start not in self.g:\n",
    "            raise ValueError(\"Source or start not in graph\")\n",
    "            \n",
    "        if end not in self.g:\n",
    "            raise ValueError(\"Destination or end not in graph\")\n",
    "            \n",
    "        path = path + [start]\n",
    "        \n",
    "        if start == end:\n",
    "            return path\n",
    "        \n",
    "        shortest = None\n",
    "        \n",
    "        for neighbor in self.g[start]:\n",
    "            newpath = self.find_shortest_path(neighbor, end, path)\n",
    "            if newpath:\n",
    "                if shortest is None or len(newpath) < len(shortest):\n",
    "                    shortest = newpath\n",
    "                    \n",
    "        return shortest\n",
    "    \n",
    "    def find_shortest_path_different_method(self, start, end):\n",
    "        all_paths = self.find_all_paths(start, end)\n",
    "        all_paths.sort(reverse=True)\n",
    "        \n",
    "        if len(all_paths) == 0:\n",
    "            return []\n",
    "        shortest = all_paths[0]\n",
    "        all_shortest = [shortest]\n",
    "        \n",
    "        for path in all_paths:\n",
    "            if path in all_shortest:\n",
    "                continue\n",
    "                \n",
    "            if len(path) <= len(shortest):\n",
    "                shortest = path\n",
    "                all_shortest.append(path)\n",
    "        \n",
    "        if len(all_shortest) == 1:\n",
    "            return all_shortest[0]\n",
    "        \n",
    "        if len(all_shortest) > 1:\n",
    "            return all_shortest\n",
    "        \n",
    "    \n",
    "    def draw_graph(self):\n",
    "        G = nx.DiGraph()\n",
    "        \n",
    "        for src in self.g:\n",
    "            G.add_node(src, label=src)\n",
    "            for dest in self.g[src]:\n",
    "                G.add_edge(src, dest)\n",
    "                \n",
    "        draw_graph_with_nx(G)\n",
    "        "
   ]
  },
  {
   "cell_type": "code",
   "execution_count": 139,
   "metadata": {},
   "outputs": [],
   "source": [
    "g = DiGraph()\n",
    "nodes = ['a', 'b', 'c', 'd', 'e', 'f']\n",
    "for n in nodes:\n",
    "    g.add_node(n)\n",
    "    \n",
    "edges = [\n",
    "    ('a', 'b'),\n",
    "    ('a', 'c'),\n",
    "    ('b', 'c'),\n",
    "    ('b', 'd'),\n",
    "    ('c', 'd'),\n",
    "    ('d', 'c'),\n",
    "    ('e', 'f'),\n",
    "    ('f', 'c')\n",
    "]\n",
    "for e in edges:\n",
    "    g.add_edge(e[0], e[1])"
   ]
  },
  {
   "cell_type": "code",
   "execution_count": 140,
   "metadata": {},
   "outputs": [
    {
     "name": "stdout",
     "output_type": "stream",
     "text": [
      "{'a': ['b', 'c'], 'b': ['c', 'd'], 'c': ['d'], 'd': ['c'], 'e': ['f'], 'f': ['c']}\n"
     ]
    },
    {
     "data": {
      "image/png": "[encoded data removed]",
      "text/plain": [
       "<Figure size 432x288 with 1 Axes>"
      ]
     },
     "metadata": {},
     "output_type": "display_data"
    }
   ],
   "source": [
    "print(g.g)\n",
    "g.draw_graph()"
   ]
  },
  {
   "cell_type": "code",
   "execution_count": 141,
   "metadata": {},
   "outputs": [
    {
     "name": "stdout",
     "output_type": "stream",
     "text": [
      "e\n",
      "f\n",
      "c\n",
      "d\n"
     ]
    }
   ],
   "source": [
    "g.traverse_graph('e')"
   ]
  },
  {
   "cell_type": "code",
   "execution_count": 142,
   "metadata": {},
   "outputs": [
    {
     "name": "stdout",
     "output_type": "stream",
     "text": [
      "a\n",
      "b\n",
      "c\n",
      "d\n"
     ]
    }
   ],
   "source": [
    "g.traverse_graph('a')"
   ]
  },
  {
   "cell_type": "code",
   "execution_count": 143,
   "metadata": {},
   "outputs": [
    {
     "name": "stdout",
     "output_type": "stream",
     "text": [
      "a , d\n",
      "b , d\n",
      "c , d\n",
      "d , d\n"
     ]
    },
    {
     "data": {
      "text/plain": [
       "['a', 'b', 'c', 'd']"
      ]
     },
     "execution_count": 143,
     "metadata": {},
     "output_type": "execute_result"
    }
   ],
   "source": [
    "g.find_path('a', 'd')"
   ]
  },
  {
   "cell_type": "code",
   "execution_count": 144,
   "metadata": {},
   "outputs": [
    {
     "name": "stdout",
     "output_type": "stream",
     "text": [
      "e , b\n",
      "f , b\n",
      "c , b\n",
      "d , b\n"
     ]
    },
    {
     "data": {
      "text/plain": [
       "[]"
      ]
     },
     "execution_count": 144,
     "metadata": {},
     "output_type": "execute_result"
    }
   ],
   "source": [
    "g.find_all_paths('e', 'b')"
   ]
  },
  {
   "cell_type": "code",
   "execution_count": 150,
   "metadata": {},
   "outputs": [
    {
     "data": {
      "text/plain": [
       "['a', 'b', 'd']"
      ]
     },
     "execution_count": 150,
     "metadata": {},
     "output_type": "execute_result"
    }
   ],
   "source": [
    "g.find_shortest_path('a', 'd')"
   ]
  },
  {
   "cell_type": "code",
   "execution_count": 151,
   "metadata": {},
   "outputs": [
    {
     "name": "stdout",
     "output_type": "stream",
     "text": [
      "e , b\n",
      "f , b\n",
      "c , b\n",
      "d , b\n"
     ]
    },
    {
     "data": {
      "text/plain": [
       "[]"
      ]
     },
     "execution_count": 151,
     "metadata": {},
     "output_type": "execute_result"
    }
   ],
   "source": [
    "g.find_shortest_path_different_method('e', 'b') "
   ]
  },
  {
   "cell_type": "code",
   "execution_count": 152,
   "metadata": {},
   "outputs": [
    {
     "name": "stdout",
     "output_type": "stream",
     "text": [
      "a , d\n",
      "b , d\n",
      "c , d\n",
      "d , d\n",
      "d , d\n",
      "c , d\n",
      "d , d\n"
     ]
    },
    {
     "data": {
      "text/plain": [
       "[['a', 'c', 'd'], ['a', 'b', 'd']]"
      ]
     },
     "execution_count": 152,
     "metadata": {},
     "output_type": "execute_result"
    }
   ],
   "source": [
    "g.find_shortest_path_different_method('a', 'd')"
   ]
  },
  {
   "cell_type": "code",
   "execution_count": 153,
   "metadata": {},
   "outputs": [
    {
     "name": "stdout",
     "output_type": "stream",
     "text": [
      "e , c\n",
      "f , c\n",
      "c , c\n"
     ]
    },
    {
     "data": {
      "text/plain": [
       "['e', 'f', 'c']"
      ]
     },
     "execution_count": 153,
     "metadata": {},
     "output_type": "execute_result"
    }
   ],
   "source": [
    "g.find_shortest_path_different_method('e', 'c')"
   ]
  },
  {
   "cell_type": "code",
   "execution_count": null,
   "metadata": {},
   "outputs": [],
   "source": []
  }
 ],
 "metadata": {
  "kernelspec": {
   "display_name": "Python 3",
   "language": "python",
   "name": "python3"
  },
  "language_info": {
   "codemirror_mode": {
    "name": "ipython",
    "version": 3
   },
   "file_extension": ".py",
   "mimetype": "text/x-python",
   "name": "python",
   "nbconvert_exporter": "python",
   "pygments_lexer": "ipython3",
   "version": "3.7.1"
  }
 },
 "nbformat": 4,
 "nbformat_minor": 2
}
