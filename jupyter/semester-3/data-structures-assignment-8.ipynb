{
 "cells": [
  {
   "cell_type": "code",
   "execution_count": 76,
   "metadata": {},
   "outputs": [],
   "source": [
    "class HashMap:\n",
    "    def __init__(self):\n",
    "        self.size = 10\n",
    "        self.map = [None] * self.size\n",
    "        \n",
    "    def _get_hash(self, key):\n",
    "        if type(key) is int:\n",
    "            return key % self.size\n",
    "        \n",
    "        if type(key) is str:\n",
    "            return ord(key[0]) % self.size\n",
    "        \n",
    "        if type(key) is tuple:\n",
    "            return self._get_hash(key[0])\n",
    "    \n",
    "    def add(self, key, value):\n",
    "        key_hash = self._get_hash(key)\n",
    "        key_value_pair = [key, value]\n",
    "        \n",
    "        if self.map[key_hash] is None:\n",
    "            self.map[key_hash] = [key_value_pair]\n",
    "            return True\n",
    "        \n",
    "        else:\n",
    "            for pair in self.map[key_hash]:\n",
    "                if pair[0] == key:\n",
    "                    pair[1] = value\n",
    "                    return True\n",
    "                \n",
    "            self.map[key_hash].append(key_value_pair)\n",
    "            return True\n",
    "    \n",
    "    def get(self, key):\n",
    "        key_hash = self._get_hash(key)\n",
    "        \n",
    "        if self.map[key_hash] is not None:\n",
    "            for pair in self.map[key_hash]:\n",
    "                if pair[0] == key:\n",
    "                    return pair[1]\n",
    "                \n",
    "        raise KeyError( str(key) ) \n",
    "        \n",
    "    def delete(self, key):\n",
    "        key_hash = self._get_hash(key)\n",
    "        \n",
    "        if self.map[key_hash] is None:\n",
    "            raise KeyError( str(key) )\n",
    "            \n",
    "        for i in range( 0, len( self.map[key_hash] ) ):\n",
    "            if self.map[key_hash][i][0] == key:\n",
    "                self.map[key_hash].pop(i)\n",
    "                return True"
   ]
  },
  {
   "cell_type": "code",
   "execution_count": 77,
   "metadata": {},
   "outputs": [
    {
     "name": "stdout",
     "output_type": "stream",
     "text": [
      "[[[10, 'ten'], [20, 'twenty']], None, None, None, None, [[15, 'fifteen']], None, [[27, 'twenty seven'], [17, 'seventeen']], None, None]\n",
      "[[[10, 'ten'], [20, 'twenty']], None, None, None, None, [], None, [[27, 'twenty seven'], [17, 'seventeen']], None, None]\n"
     ]
    }
   ],
   "source": [
    "d_int = HashMap()\n",
    "d_int.add(10, \"ten\")\n",
    "d_int.add(15, \"fifteen\")\n",
    "d_int.add(20, \"twenty\")\n",
    "d_int.add(27, \"twenty seven\")\n",
    "d_int.add(17, \"seventeen\")\n",
    "print(d_int.map)\n",
    "d_int.delete(15)\n",
    "print(d_int.map)"
   ]
  },
  {
   "cell_type": "code",
   "execution_count": 78,
   "metadata": {},
   "outputs": [
    {
     "name": "stdout",
     "output_type": "stream",
     "text": [
      "[None, [['one', 1]], None, None, None, None, [['two', 2], ['three', 3]], None, None, None]\n",
      "3\n"
     ]
    }
   ],
   "source": [
    "d_str = HashMap()\n",
    "d_str.add(\"one\", 1)\n",
    "d_str.add(\"two\", 2)\n",
    "d_str.add(\"three\", 3)\n",
    "print(d_str.map)\n",
    "print(d_str.get(\"three\"))"
   ]
  },
  {
   "cell_type": "code",
   "execution_count": 79,
   "metadata": {},
   "outputs": [
    {
     "name": "stdout",
     "output_type": "stream",
     "text": [
      "[[[(10, 'das'), 'one'], [(100, 'soo'), 'one hundred']], None, None, None, None, [[(35, 'penthis'), 'thirty five']], None, None, None, None]\n",
      "thirty five\n"
     ]
    }
   ],
   "source": [
    "d_tuple = HashMap()\n",
    "d_tuple.add( (10,'das'), \"one\" )\n",
    "d_tuple.add( (35,'penthis'), \"thirty five\" )\n",
    "d_tuple.add( (100,'soo'), \"one hundred\" )\n",
    "print(d_tuple.map)\n",
    "print(d_tuple.get( (35,'penthis') ))"
   ]
  },
  {
   "cell_type": "code",
   "execution_count": 72,
   "metadata": {},
   "outputs": [
    {
     "data": {
      "text/plain": [
       "False"
      ]
     },
     "execution_count": 72,
     "metadata": {},
     "output_type": "execute_result"
    }
   ],
   "source": []
  },
  {
   "cell_type": "code",
   "execution_count": null,
   "metadata": {},
   "outputs": [],
   "source": []
  }
 ],
 "metadata": {
  "kernelspec": {
   "display_name": "Python 3",
   "language": "python",
   "name": "python3"
  },
  "language_info": {
   "codemirror_mode": {
    "name": "ipython",
    "version": 3
   },
   "file_extension": ".py",
   "mimetype": "text/x-python",
   "name": "python",
   "nbconvert_exporter": "python",
   "pygments_lexer": "ipython3",
   "version": "3.7.1"
  }
 },
 "nbformat": 4,
 "nbformat_minor": 2
}
