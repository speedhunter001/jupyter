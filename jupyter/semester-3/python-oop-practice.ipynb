{
 "cells": [
  {
   "cell_type": "code",
   "execution_count": 1,
   "metadata": {},
   "outputs": [
    {
     "name": "stdout",
     "output_type": "stream",
     "text": [
      "yo\n"
     ]
    }
   ],
   "source": [
    "class Idiot:\n",
    "    #dunder init is used for constructor\n",
    "    def __init__(self):  #If self not used gives error that 1 argument was given coz I think python adds self itself\n",
    "        self.x = \"yo\"\n",
    "        \n",
    "    def printer(self):  #Every single time we write a method we need to write self in argument\n",
    "        print(self.x)   #Only x does not works so you if you access x inside class you need to write self.x\n",
    "        \n",
    "i1 = Idiot()\n",
    "print(i1.x)\n",
    "#i1.printer()"
   ]
  },
  {
   "cell_type": "code",
   "execution_count": 11,
   "metadata": {},
   "outputs": [
    {
     "name": "stdout",
     "output_type": "stream",
     "text": [
      "Baka and an idiot\n",
      "<__main__.Baka object at 0x7fb0d43b29b0>\n"
     ]
    }
   ],
   "source": [
    "class Baka:\n",
    "    def __init__(self):\n",
    "        self.status = \"Baka and an idiot\"\n",
    "    \n",
    "    def __str__(self):\n",
    "        return \"THis is a baka class\"\n",
    "        \n",
    "b = Baka()   #even if no other argument must write brackets with class name\n",
    "\n",
    "print(b.status)\n",
    "\n",
    "#print(type(b))  #type(b) will be dunder main coz main source file\n",
    "\n",
    "print(b)  #If no dunder str in class then it will give address but in this way it gives bakayaro konoyaro which is not a string so when you print the object it gives you which u have defined in dunder str \n"
   ]
  },
  {
   "cell_type": "code",
   "execution_count": 12,
   "metadata": {},
   "outputs": [
    {
     "data": {
      "text/plain": [
       "'<__main__.Baka object at 0x7fb0d43b29b0>'"
      ]
     },
     "execution_count": 12,
     "metadata": {},
     "output_type": "execute_result"
    }
   ],
   "source": [
    "str(b)  #now bakayaro.. is converted into string"
   ]
  },
  {
   "cell_type": "code",
   "execution_count": 8,
   "metadata": {},
   "outputs": [
    {
     "name": "stdout",
     "output_type": "stream",
     "text": [
      "ullu\n",
      "insaaaan\n"
     ]
    }
   ],
   "source": [
    "class Human:\n",
    "    def __init__(self, name):\n",
    "        self.name = name\n",
    "        self.status = \"insaaaan\"\n",
    "        \n",
    "class Idiot(Human):\n",
    "    def __init__(self):\n",
    "        super().__init__(\"ullu\")\n",
    "        \n",
    "i = Idiot()\n",
    "print(i.name)\n",
    "print(i.status)"
   ]
  },
  {
   "cell_type": "code",
   "execution_count": null,
   "metadata": {},
   "outputs": [],
   "source": []
  }
 ],
 "metadata": {
  "kernelspec": {
   "display_name": "Python 3",
   "language": "python",
   "name": "python3"
  },
  "language_info": {
   "codemirror_mode": {
    "name": "ipython",
    "version": 3
   },
   "file_extension": ".py",
   "mimetype": "text/x-python",
   "name": "python",
   "nbconvert_exporter": "python",
   "pygments_lexer": "ipython3",
   "version": "3.7.1"
  }
 },
 "nbformat": 4,
 "nbformat_minor": 2
}
