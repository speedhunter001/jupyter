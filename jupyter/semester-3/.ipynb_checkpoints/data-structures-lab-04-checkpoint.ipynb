{
 "cells": [
  {
   "cell_type": "code",
   "execution_count": 25,
   "metadata": {},
   "outputs": [],
   "source": [
    "class Queue:\n",
    "    def __init__(self):\n",
    "        self.size = 2\n",
    "        self.list = list(range(0,self.size))\n",
    "        self._in = 0\n",
    "        self._out = 0\n",
    "        self.is_empty = True\n",
    "        self.is_full = False\n",
    "        \n",
    "    def _inc(self, index):\n",
    "        if index + 1 == self.size:\n",
    "            return 0\n",
    "        \n",
    "        else:\n",
    "            return index + 1\n",
    "        \n",
    "    def enqueue(self, value):\n",
    "        if self.is_full:\n",
    "            raise IndexError(\"Queue is already full\")\n",
    "            \n",
    "        self.list[self._in] = value\n",
    "        self._in = self._inc(self._in)\n",
    "        \n",
    "        self.is_empty = False\n",
    "        if self._in == self._out:\n",
    "            self.is_full = True\n",
    "        \n",
    "        \n",
    "    def dequeue(self):\n",
    "        if self.is_empty:\n",
    "            raise IndexError(\"Queue is empty\")\n",
    "            \n",
    "        out_value = self.list[self._out]\n",
    "        self.list[self._out] = 0\n",
    "        self._out = self._inc(self._out)\n",
    "        \n",
    "        is_full = False     \n",
    "        if self._out == self._in:\n",
    "            self.is_empty = True\n",
    "        \n",
    "        return out_value\n",
    "    \n",
    "    "
   ]
  },
  {
   "cell_type": "code",
   "execution_count": 29,
   "metadata": {},
   "outputs": [
    {
     "name": "stdout",
     "output_type": "stream",
     "text": [
      "5\n",
      "6\n"
     ]
    }
   ],
   "source": [
    "q = Queue()\n",
    "q.enqueue(5)\n",
    "q.enqueue(6)\n",
    "#q.enqueue(8)\n",
    "\n",
    "print(q.dequeue())\n",
    "print(q.dequeue())\n",
    "#print(q.dequeue())\n",
    "\n"
   ]
  },
  {
   "cell_type": "code",
   "execution_count": 58,
   "metadata": {},
   "outputs": [
    {
     "name": "stdout",
     "output_type": "stream",
     "text": [
      "{1, 2, 3}\n",
      "{1, 2, 3}\n",
      "{1, 2, 3, 4}\n",
      "{1, 2, 3}\n",
      "{1, 2, 3, 4, 5, 6}\n",
      "{1, 2, 3, 4, 5, 6}\n",
      "{4, 5, 6}\n",
      "a is less than 1000 and b is greater than 500\n"
     ]
    }
   ],
   "source": [
    "s = set([1, 2, 3])\n",
    "print(s)\n",
    "\n",
    "s = {1, 2, 3}\n",
    "print(s)\n",
    "\n",
    "s.update([4])\n",
    "print(s)\n",
    "\n",
    "s.remove(4)\n",
    "print(s)\n",
    "\n",
    "print(s | {4, 5, 6})\n",
    "\n",
    "s = s.union({4, 5, 6})\n",
    "print(s)\n",
    "\n",
    "b = {4, 5, 6}\n",
    "print(s.intersection(b))\n",
    "\n",
    "s.isdisjoint({7, 8, 9})\n",
    "\n",
    "a = 100\n",
    "b = 500\n",
    "constraints = {a < 1000, b > 200}\n",
    "\n",
    "if all(constraints):\n",
    "    print(\"a is less than 1000 and b is greater than 500\")\n",
    "elif any(constraints):\n",
    "    print(\"Either a is less than 1000 or b is greater than 500\")"
   ]
  },
  {
   "cell_type": "code",
   "execution_count": 59,
   "metadata": {},
   "outputs": [],
   "source": [
    "from collections import Counter"
   ]
  },
  {
   "cell_type": "code",
   "execution_count": 70,
   "metadata": {},
   "outputs": [],
   "source": [
    "c = Counter()\n",
    "for colour in [\"red\", \"blue\", \"green\", \"red\"]:\n",
    "    c[colour] = c[colour] + 1"
   ]
  },
  {
   "cell_type": "code",
   "execution_count": 76,
   "metadata": {},
   "outputs": [
    {
     "data": {
      "text/plain": [
       "'red'"
      ]
     },
     "execution_count": 76,
     "metadata": {},
     "output_type": "execute_result"
    }
   ],
   "source": [
    "c.most_common()[0][0]"
   ]
  },
  {
   "cell_type": "code",
   "execution_count": 79,
   "metadata": {},
   "outputs": [
    {
     "data": {
      "text/plain": [
       "'green'"
      ]
     },
     "execution_count": 79,
     "metadata": {},
     "output_type": "execute_result"
    }
   ],
   "source": [
    "c.most_common()[-1][0]   #least common"
   ]
  },
  {
   "cell_type": "code",
   "execution_count": null,
   "metadata": {},
   "outputs": [],
   "source": []
  }
 ],
 "metadata": {
  "kernelspec": {
   "display_name": "Python 3",
   "language": "python",
   "name": "python3"
  },
  "language_info": {
   "codemirror_mode": {
    "name": "ipython",
    "version": 3
   },
   "file_extension": ".py",
   "mimetype": "text/x-python",
   "name": "python",
   "nbconvert_exporter": "python",
   "pygments_lexer": "ipython3",
   "version": "3.7.1"
  }
 },
 "nbformat": 4,
 "nbformat_minor": 2
}
