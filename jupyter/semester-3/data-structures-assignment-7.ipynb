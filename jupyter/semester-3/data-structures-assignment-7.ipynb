{
 "cells": [
  {
   "cell_type": "code",
   "execution_count": 70,
   "metadata": {},
   "outputs": [
    {
     "name": "stdout",
     "output_type": "stream",
     "text": [
      "A 99\n",
      "A 199\n",
      "['A 99', 'B 98', 'C 197', 'D 96', 'E 95', 'F 94', 'G 93', 'H 192', 'I 91', 'J 90', 'K 89', 'L 88']\n",
      "['C 197', 'H 192', 'A 99', 'B 98', 'D 96', 'E 95', 'F 94', 'G 93', 'I 91', 'J 90', 'K 89', 'L 88']\n"
     ]
    }
   ],
   "source": [
    "class Person: \n",
    "    def __init__(self, name, age, queue_number):\n",
    "        self.name = name\n",
    "        self.age = age\n",
    "        self.queue_number = queue_number\n",
    "\n",
    "    def get_priority(self):\n",
    "        priority = 100 - self.queue_number\n",
    "        \n",
    "        if self.age >= 40:\n",
    "            priority = priority + 100\n",
    "            \n",
    "        return priority\n",
    "            \n",
    "    def __str__(self):\n",
    "        return self.name + \" \" + str(self.get_priority())\n",
    "\n",
    "def heapify(lst, n, root_ind):\n",
    "    largest_ind = root_ind\n",
    "    left_ind = 2 * root_ind + 1\n",
    "    right_ind = 2 * root_ind + 2\n",
    "    \n",
    "    if left_ind < n and lst[left_ind].get_priority() < lst[largest_ind].get_priority():\n",
    "        largest_ind = left_ind\n",
    "        \n",
    "    if right_ind < n  and lst[right_ind].get_priority() < lst[largest_ind].get_priority():\n",
    "        largest_ind = right_ind\n",
    "\n",
    "    if largest_ind != root_ind:\n",
    "        lst[root_ind], lst[largest_ind] = lst[largest_ind], lst[root_ind]\n",
    "        heapify(lst, n, largest_ind)\n",
    "    \n",
    "def build_heap(lst):\n",
    "    n = len(lst)\n",
    "    \n",
    "    for ind in reversed(range(n//2)):\n",
    "        #print(\"heapifying\", lst)\n",
    "        heapify(lst, n, ind)\n",
    "    \n",
    "def heap_sort(lst):\n",
    "    n = len(lst)\n",
    "    \n",
    "    build_heap(lst)\n",
    "    \n",
    "    for ind in reversed(range(n)):\n",
    "        lst[ind], lst[0] = lst[0], lst[ind]\n",
    "        \n",
    "        heapify(lst, ind, 0)\n",
    "\n",
    "\n",
    "\n",
    "\n",
    "if __name__ == '__main__': \n",
    "    p = Person('A', 24, 1) \n",
    "    print(p) # should output: A 99\n",
    "\n",
    "    p = Person('A', 40, 1) \n",
    "    print(p) # should output: A 199\n",
    "    \n",
    "    people = [ \n",
    "        Person('A', 24, 1), \n",
    "        Person('B', 32, 2), \n",
    "        Person('C', 45, 3), \n",
    "        Person('D', 22, 4), \n",
    "        Person('E', 21, 5), \n",
    "        Person('F', 32, 6), \n",
    "        Person('G', 39, 7), \n",
    "        Person('H', 44, 8), \n",
    "        Person('I', 22, 9), \n",
    "        Person('J', 29, 10), \n",
    "        Person('K', 32, 11), \n",
    "        Person('L', 31, 12) \n",
    "    ]\n",
    "    \n",
    "    print([str(p)  for p in people])\n",
    "    heap_sort(people) \n",
    "    print([str(p)  for p in people])\n",
    "    # sould output: \n",
    "    # ['C 197', 'H 192', 'A 99', 'B 98', 'D 96', 'E 95', 'F 94', 'G 93', 'I 91', 'J 90', 'K 89', 'L 88']"
   ]
  },
  {
   "cell_type": "code",
   "execution_count": 73,
   "metadata": {},
   "outputs": [
    {
     "name": "stdout",
     "output_type": "stream",
     "text": [
      "['A 99', 'B 98', 'C 97', 'D 96', 'E 95', 'F 94', 'G 93', 'H 192', 'I 91', 'J 90', 'K 89', 'L 88']\n",
      "['H 192', 'A 99', 'B 98', 'C 97', 'D 96', 'E 95', 'F 94', 'G 93', 'I 91', 'J 90', 'K 89', 'L 88']\n"
     ]
    },
    {
     "ename": "AssertionError",
     "evalue": "",
     "output_type": "error",
     "traceback": [
      "\u001b[0;31m---------------------------------------------------------------------------\u001b[0m",
      "\u001b[0;31mAssertionError\u001b[0m                            Traceback (most recent call last)",
      "\u001b[0;32m<ipython-input-73-c0f9135532fd>\u001b[0m in \u001b[0;36m<module>\u001b[0;34m\u001b[0m\n\u001b[1;32m     25\u001b[0m \u001b[0;32massert\u001b[0m \u001b[0mlen\u001b[0m\u001b[0;34m(\u001b[0m\u001b[0ml\u001b[0m\u001b[0;34m)\u001b[0m \u001b[0;34m==\u001b[0m \u001b[0mlen\u001b[0m\u001b[0;34m(\u001b[0m\u001b[0mpeople\u001b[0m\u001b[0;34m)\u001b[0m\u001b[0;34m\u001b[0m\u001b[0;34m\u001b[0m\u001b[0m\n\u001b[1;32m     26\u001b[0m \u001b[0;32mfor\u001b[0m \u001b[0mi\u001b[0m\u001b[0;34m,\u001b[0m \u001b[0mj\u001b[0m \u001b[0;32min\u001b[0m \u001b[0mzip\u001b[0m\u001b[0;34m(\u001b[0m\u001b[0ml\u001b[0m\u001b[0;34m,\u001b[0m \u001b[0mpeople\u001b[0m\u001b[0;34m)\u001b[0m\u001b[0;34m:\u001b[0m\u001b[0;34m\u001b[0m\u001b[0;34m\u001b[0m\u001b[0m\n\u001b[0;32m---> 27\u001b[0;31m     \u001b[0;32massert\u001b[0m \u001b[0mi\u001b[0m \u001b[0;34m==\u001b[0m \u001b[0mstr\u001b[0m\u001b[0;34m(\u001b[0m\u001b[0mj\u001b[0m\u001b[0;34m)\u001b[0m\u001b[0;34m\u001b[0m\u001b[0;34m\u001b[0m\u001b[0m\n\u001b[0m\u001b[1;32m     28\u001b[0m \u001b[0mi\u001b[0m \u001b[0;34m=\u001b[0m \u001b[0;34m[\u001b[0m\u001b[0mstr\u001b[0m\u001b[0;34m(\u001b[0m\u001b[0mp\u001b[0m\u001b[0;34m)\u001b[0m \u001b[0;32mfor\u001b[0m \u001b[0mp\u001b[0m \u001b[0;32min\u001b[0m \u001b[0mpeople\u001b[0m\u001b[0;34m]\u001b[0m\u001b[0;34m\u001b[0m\u001b[0;34m\u001b[0m\u001b[0m\n\u001b[1;32m     29\u001b[0m \u001b[0mprint\u001b[0m\u001b[0;34m(\u001b[0m\u001b[0mi\u001b[0m\u001b[0;34m)\u001b[0m\u001b[0;34m\u001b[0m\u001b[0;34m\u001b[0m\u001b[0m\n",
      "\u001b[0;31mAssertionError\u001b[0m: "
     ]
    }
   ],
   "source": [
    "people = [\n",
    "            Person('A', 24, 1),\n",
    "            Person('B', 32, 2),\n",
    "            Person('C', 5, 3),\n",
    "            Person('D', 22, 4),\n",
    "            Person('E', 21, 5),\n",
    "            Person('F', 32, 6),\n",
    "            Person('G', 39, 7),\n",
    "            Person('H', 44, 8),\n",
    "            Person('I', 22, 9),\n",
    "            Person('J', 29, 10),\n",
    "            Person('K', 32, 11),\n",
    "            Person('L', 31, 12)\n",
    "        ]\n",
    "i = [str(p) for p in people]\n",
    "print(i)\n",
    "\n",
    "heap_sort(people)\n",
    "\n",
    "i = [str(p) for p in people]\n",
    "print(i)\n",
    "\n",
    "l = ['C 197', 'H 192', 'A 99', 'B 98', 'D 96', 'E 95', 'F 94',\n",
    "                'G 93', 'I 91', 'J 90', 'K 89', 'L 88']\n",
    "assert len(l) == len(people)\n",
    "for i, j in zip(l, people):\n",
    "    assert i == str(j)\n",
    "i = [str(p) for p in people]\n",
    "print(i)\n",
    "#print(l)"
   ]
  },
  {
   "cell_type": "code",
   "execution_count": 43,
   "metadata": {},
   "outputs": [],
   "source": []
  },
  {
   "cell_type": "code",
   "execution_count": null,
   "metadata": {},
   "outputs": [],
   "source": []
  }
 ],
 "metadata": {
  "kernelspec": {
   "display_name": "Python 3",
   "language": "python",
   "name": "python3"
  },
  "language_info": {
   "codemirror_mode": {
    "name": "ipython",
    "version": 3
   },
   "file_extension": ".py",
   "mimetype": "text/x-python",
   "name": "python",
   "nbconvert_exporter": "python",
   "pygments_lexer": "ipython3",
   "version": "3.7.1"
  }
 },
 "nbformat": 4,
 "nbformat_minor": 2
}
