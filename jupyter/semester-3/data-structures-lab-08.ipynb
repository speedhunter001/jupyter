{
 "cells": [
  {
   "cell_type": "code",
   "execution_count": 188,
   "metadata": {},
   "outputs": [],
   "source": [
    "class Person: \n",
    "    def __init__(self, name, age, queue_number):\n",
    "        self.name = name\n",
    "        self.age = age\n",
    "        self.queue_number = queue_number\n",
    "\n",
    "    def get_priority(self):\n",
    "        priority = 100 - self.queue_number\n",
    "        \n",
    "        if self.age >= 40:\n",
    "            priority = priority + 100\n",
    "            \n",
    "        return priority\n",
    "            \n",
    "    def __str__(self):\n",
    "        return self.name + \" \" + str(self.get_priority())"
   ]
  },
  {
   "cell_type": "code",
   "execution_count": 189,
   "metadata": {},
   "outputs": [],
   "source": [
    "def bubble_sort(lst):\n",
    "    if len(lst) <=1:\n",
    "        return \n",
    "    \n",
    "    n = len(lst)\n",
    "    \n",
    "    for i in range(n-1):\n",
    "        for j in range(n-1):\n",
    "            if lst[j].get_priority() < lst[j+1].get_priority():\n",
    "                lst[j], lst[j+1] = lst[j+1], lst[j]\n",
    "                \n",
    "def insertion_sort(lst):\n",
    "    if len(lst) <= 1:\n",
    "        return\n",
    "    \n",
    "    n = len(lst)\n",
    "    \n",
    "    for i in range(n):\n",
    "        to_insert = lst[i]\n",
    "        \n",
    "        index = i\n",
    "        for j in range(i-1, -1, -1):\n",
    "            if to_insert.get_priority() > lst[j].get_priority():\n",
    "                lst[j+1] = lst[j]\n",
    "                index = j\n",
    "        \n",
    "        lst[index] = to_insert\n",
    "        \n",
    "def selection_sort(lst):\n",
    "    if len(lst) <= 1:\n",
    "        return\n",
    "    \n",
    "    n = len(lst)\n",
    "    \n",
    "    for i in range(n-1):\n",
    "        max_ind = i\n",
    "        for k in range(i, n):\n",
    "            if lst[k].get_priority() > lst[max_ind].get_priority():\n",
    "                max_ind = k\n",
    "        \n",
    "        lst[i], lst[max_ind] = lst[max_ind], lst[i]\n",
    "        \n",
    "def quick_sort(l, fst_ind, lst_ind):\n",
    "    if fst_ind >= lst_ind:\n",
    "        return\n",
    "    \n",
    "    import random\n",
    "    i, j = fst_ind, lst_ind\n",
    "    pivot = l[random.randint(fst_ind, lst_ind)]\n",
    "    \n",
    "    while i <= j:\n",
    "        while l[i].get_priority() > pivot.get_priority():\n",
    "            i = i + 1\n",
    "        while l[j].get_priority() < pivot.get_priority():\n",
    "            j = j - 1\n",
    "            \n",
    "        if i <= j:\n",
    "            l[i], l[j] = l[j], l[i]\n",
    "            i, j = i+1, j-1\n",
    "    quick_sort(l, fst_ind, j)\n",
    "    quick_sort(l, i, lst_ind)"
   ]
  },
  {
   "cell_type": "code",
   "execution_count": 190,
   "metadata": {},
   "outputs": [
    {
     "name": "stdout",
     "output_type": "stream",
     "text": [
      "['C 197', 'H 192', 'A 99', 'B 98', 'D 96', 'E 95', 'F 94', 'G 93', 'I 91', 'J 90', 'K 89', 'L 88']\n"
     ]
    }
   ],
   "source": [
    "people = [ \n",
    "        Person('A', 24, 1), \n",
    "        Person('B', 32, 2), \n",
    "        Person('C', 45, 3), \n",
    "        Person('D', 22, 4), \n",
    "        Person('E', 21, 5), \n",
    "        Person('F', 32, 6), \n",
    "        Person('G', 39, 7), \n",
    "        Person('H', 44, 8), \n",
    "        Person('I', 22, 9), \n",
    "        Person('J', 29, 10), \n",
    "        Person('K', 32, 11), \n",
    "        Person('L', 31, 12) \n",
    "    ]\n",
    "bubble_sort(people)\n",
    "print([str(p) for p in people])"
   ]
  },
  {
   "cell_type": "code",
   "execution_count": 191,
   "metadata": {},
   "outputs": [
    {
     "name": "stdout",
     "output_type": "stream",
     "text": [
      "['C 197', 'H 192', 'A 99', 'B 98', 'D 96', 'E 95', 'F 94', 'G 93', 'I 91', 'J 90', 'K 89', 'L 88']\n"
     ]
    }
   ],
   "source": [
    "people = [ \n",
    "        Person('A', 24, 1), \n",
    "        Person('B', 32, 2), \n",
    "        Person('C', 45, 3), \n",
    "        Person('D', 22, 4), \n",
    "        Person('E', 21, 5), \n",
    "        Person('F', 32, 6), \n",
    "        Person('G', 39, 7), \n",
    "        Person('H', 44, 8), \n",
    "        Person('I', 22, 9), \n",
    "        Person('J', 29, 10), \n",
    "        Person('K', 32, 11), \n",
    "        Person('L', 31, 12) \n",
    "    ]\n",
    "insertion_sort(people)\n",
    "print([str(p) for p in people])"
   ]
  },
  {
   "cell_type": "code",
   "execution_count": 192,
   "metadata": {},
   "outputs": [
    {
     "data": {
      "text/plain": [
       "['C 197',\n",
       " 'H 192',\n",
       " 'A 99',\n",
       " 'B 98',\n",
       " 'D 96',\n",
       " 'E 95',\n",
       " 'F 94',\n",
       " 'G 93',\n",
       " 'I 91',\n",
       " 'J 90',\n",
       " 'K 89',\n",
       " 'L 88']"
      ]
     },
     "execution_count": 192,
     "metadata": {},
     "output_type": "execute_result"
    }
   ],
   "source": [
    "people = [ \n",
    "        Person('A', 24, 1), \n",
    "        Person('B', 32, 2), \n",
    "        Person('C', 45, 3), \n",
    "        Person('D', 22, 4), \n",
    "        Person('E', 21, 5), \n",
    "        Person('F', 32, 6), \n",
    "        Person('G', 39, 7), \n",
    "        Person('H', 44, 8), \n",
    "        Person('I', 22, 9), \n",
    "        Person('J', 29, 10), \n",
    "        Person('K', 32, 11), \n",
    "        Person('L', 31, 12) \n",
    "    ]\n",
    "\n",
    "selection_sort(people)\n",
    "[str(p) for p in people]"
   ]
  },
  {
   "cell_type": "code",
   "execution_count": 193,
   "metadata": {},
   "outputs": [
    {
     "data": {
      "text/plain": [
       "['C 197',\n",
       " 'H 192',\n",
       " 'A 99',\n",
       " 'B 98',\n",
       " 'D 96',\n",
       " 'E 95',\n",
       " 'F 94',\n",
       " 'G 93',\n",
       " 'I 91',\n",
       " 'J 90',\n",
       " 'K 89',\n",
       " 'L 88']"
      ]
     },
     "execution_count": 193,
     "metadata": {},
     "output_type": "execute_result"
    }
   ],
   "source": [
    "people = [ \n",
    "        Person('A', 24, 1), \n",
    "        Person('B', 32, 2), \n",
    "        Person('C', 45, 3), \n",
    "        Person('D', 22, 4), \n",
    "        Person('E', 21, 5), \n",
    "        Person('F', 32, 6), \n",
    "        Person('G', 39, 7), \n",
    "        Person('H', 44, 8), \n",
    "        Person('I', 22, 9), \n",
    "        Person('J', 29, 10), \n",
    "        Person('K', 32, 11), \n",
    "        Person('L', 31, 12) \n",
    "    ]\n",
    "\n",
    "quick_sort(people, 0, len(people)-1)\n",
    "[str(p) for p in people]"
   ]
  },
  {
   "cell_type": "code",
   "execution_count": null,
   "metadata": {},
   "outputs": [],
   "source": []
  },
  {
   "cell_type": "code",
   "execution_count": null,
   "metadata": {},
   "outputs": [],
   "source": []
  }
 ],
 "metadata": {
  "kernelspec": {
   "display_name": "Python 3",
   "language": "python",
   "name": "python3"
  },
  "language_info": {
   "codemirror_mode": {
    "name": "ipython",
    "version": 3
   },
   "file_extension": ".py",
   "mimetype": "text/x-python",
   "name": "python",
   "nbconvert_exporter": "python",
   "pygments_lexer": "ipython3",
   "version": "3.7.1"
  }
 },
 "nbformat": 4,
 "nbformat_minor": 2
}
