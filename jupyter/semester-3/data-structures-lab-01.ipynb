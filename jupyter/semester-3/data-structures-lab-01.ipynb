{
 "cells": [
  {
   "cell_type": "code",
   "execution_count": 28,
   "metadata": {},
   "outputs": [],
   "source": [
    "class Point:\n",
    "    def __init__(self, x, y):\n",
    "        self.x = x\n",
    "        self.y = y\n",
    "\n",
    "class Shape:\n",
    "    def __init__(self, point):\n",
    "        self.point = point\n",
    "        \n",
    "    def move(self, point):\n",
    "        self.point = point\n",
    "        "
   ]
  },
  {
   "cell_type": "code",
   "execution_count": 29,
   "metadata": {},
   "outputs": [],
   "source": [
    "class Circle(Shape):\n",
    "    def __init__(self, radius, centre_point):\n",
    "        self.point = centre_point\n",
    "        self.radius = radius\n",
    "        self.area = 0\n",
    "        \n",
    "    def calculate_area(self):\n",
    "        from math import pi\n",
    "        self.area = 2 * pi * (self.radius ** 2)\n",
    "        "
   ]
  },
  {
   "cell_type": "code",
   "execution_count": 30,
   "metadata": {},
   "outputs": [],
   "source": [
    "class Rectangle(Shape):\n",
    "    def __init__(self, p1, length, width):\n",
    "        self.point = p1\n",
    "        self.length = length\n",
    "        self.width = width"
   ]
  },
  {
   "cell_type": "code",
   "execution_count": 31,
   "metadata": {},
   "outputs": [],
   "source": [
    "class Line(Shape):\n",
    "    def __init__(self, p1, p2):\n",
    "        self.point = p1\n",
    "        self.point2 = p2\n",
    "        self.distance = 0\n",
    "        \n",
    "    def calculate_distance_formula(self):\n",
    "        from math import sqrt\n",
    "        n1 = (self.point2.x - self.point.x) ** 2\n",
    "        n2 = (self.point2.y - self.point.y) ** 2\n",
    "        self.distance = sqrt(n1 + n2)"
   ]
  },
  {
   "cell_type": "code",
   "execution_count": 32,
   "metadata": {},
   "outputs": [],
   "source": [
    "class Triangle(Shape):\n",
    "    def __init__(self, p1, p2, p3, area):\n",
    "        self.point = p1\n",
    "        self.point2 = p2\n",
    "        self.point3 = p3\n",
    "        self.area = area"
   ]
  },
  {
   "cell_type": "code",
   "execution_count": null,
   "metadata": {},
   "outputs": [],
   "source": []
  }
 ],
 "metadata": {
  "kernelspec": {
   "display_name": "Python 3",
   "language": "python",
   "name": "python3"
  },
  "language_info": {
   "codemirror_mode": {
    "name": "ipython",
    "version": 3
   },
   "file_extension": ".py",
   "mimetype": "text/x-python",
   "name": "python",
   "nbconvert_exporter": "python",
   "pygments_lexer": "ipython3",
   "version": "3.7.1"
  }
 },
 "nbformat": 4,
 "nbformat_minor": 2
}
