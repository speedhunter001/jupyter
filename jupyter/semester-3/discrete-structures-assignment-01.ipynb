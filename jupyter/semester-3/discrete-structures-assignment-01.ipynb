{
 "cells": [
  {
   "cell_type": "code",
   "execution_count": 1,
   "metadata": {},
   "outputs": [],
   "source": [
    "def negation(proposition):\n",
    "    try:\n",
    "        if proposition[0] == '~':\n",
    "            return proposition[1]\n",
    "        else:\n",
    "            return '~' + proposition\n",
    "    except IndexError:\n",
    "        raise TypeError(\"Type correctly\")"
   ]
  },
  {
   "cell_type": "code",
   "execution_count": 2,
   "metadata": {},
   "outputs": [],
   "source": [
    "def converse(equation):\n",
    "    if equation[equation.find('-')+1] is not '>' or equation[equation.find('>')-1] is not '-':\n",
    "        raise TypeError('Type correctly')\n",
    "    \n",
    "    sign_index = equation.find('->')  #sign_index is of - bcs both - and > are separate\n",
    "    converse = equation[sign_index+2:] + \"->\" + equation[0:sign_index]\n",
    "    \n",
    "    return converse"
   ]
  },
  {
   "cell_type": "code",
   "execution_count": 3,
   "metadata": {},
   "outputs": [],
   "source": [
    "def contrapositive(equation):\n",
    "    if equation[equation.find('-')+1] is not '>' or equation[equation.find('>')-1] is not '-':\n",
    "        raise TypeError('Type correctly')\n",
    "   \n",
    "    conversed = converse(equation)\n",
    "    sign_index = conversed.find('->')  #sign_index is - bcs both - and > are separate\n",
    "    contrapositive = negation(conversed[0:sign_index]) + \"->\" + negation(conversed[sign_index+2:])\n",
    "    \n",
    "    return contrapositive"
   ]
  },
  {
   "cell_type": "code",
   "execution_count": 4,
   "metadata": {},
   "outputs": [],
   "source": [
    "def inverse(equation):\n",
    "    if equation[equation.find('-')+1] is not '>' or equation[equation.find('>')-1] is not '-':\n",
    "        raise TypeError('Type correctly')\n",
    "    \n",
    "    sign_index = equation.find('->')\n",
    "    inverse = negation(equation[0:sign_index]) + \"->\" + negation(equation[sign_index+2:])\n",
    "    \n",
    "    return inverse"
   ]
  },
  {
   "cell_type": "code",
   "execution_count": 5,
   "metadata": {},
   "outputs": [],
   "source": [
    "def impl_conv_contrapos_inv(equation, type):\n",
    "    if type is \"Implication\" or type is \"implication\":\n",
    "        print(\"Equation given in implication form is : \" + equation)\n",
    "        print('Converse is : ' + converse(equation))\n",
    "        print('Contrapositive is : ' + contrapositive(equation))\n",
    "        print('Inverse is : ' + inverse(equation))\n",
    "    \n",
    "    elif type is 'Converse' or type is 'converse':\n",
    "        implication = converse(equation)\n",
    "        print(\"Equation given in converse form is : \" + equation)\n",
    "        print('Implication is : ' + implication)\n",
    "        print('Contrapositive is : ' + contrapositive(implication))\n",
    "        print('Inverse is : ' + inverse(implication))\n",
    "        \n",
    "    elif type is 'Contrapositive' or type is 'contrapositive':\n",
    "        implication = contrapositive(equation)\n",
    "        print(\"Equation given in contrapositive form is : \" + equation)\n",
    "        print('Implication is : ' + implication)\n",
    "        print('Converse is : ' + converse(implication))\n",
    "        print('Inverse is : ' + inverse(implication))\n",
    "        \n",
    "    elif type is 'Inverse' or type is 'inverse':\n",
    "        implication = inverse(equation)\n",
    "        print(\"Equation given in inverse form is : \" + equation)\n",
    "        print('Implication is : ' + implication)\n",
    "        print('Converse is : ' + converse(implication))\n",
    "        print('Contrapositive is : ' + contrapositive(implication))\n",
    "        \n",
    "    else:\n",
    "        raise TypeError(\"Type argument is not typed correctly\")"
   ]
  },
  {
   "cell_type": "code",
   "execution_count": 6,
   "metadata": {},
   "outputs": [
    {
     "name": "stdout",
     "output_type": "stream",
     "text": [
      "Equation given in implication form is : p->q\n",
      "Converse is : q->p\n",
      "Contrapositive is : ~q->~p\n",
      "Inverse is : ~p->~q\n",
      "\n",
      "\n",
      "Equation given in implication form is : ~p->q\n",
      "Converse is : q->~p\n",
      "Contrapositive is : ~q->p\n",
      "Inverse is : p->~q\n",
      "\n",
      "\n",
      "Equation given in implication form is : p->~q\n",
      "Converse is : ~q->p\n",
      "Contrapositive is : q->~p\n",
      "Inverse is : ~p->q\n",
      "\n",
      "\n",
      "Equation given in implication form is : ~p->~q\n",
      "Converse is : ~q->~p\n",
      "Contrapositive is : q->p\n",
      "Inverse is : p->q\n",
      "\n",
      "\n"
     ]
    }
   ],
   "source": [
    "l = ['p->q', '~p->q', 'p->~q', '~p->~q']\n",
    "\n",
    "for eq in l:\n",
    "    impl_conv_contrapos_inv(eq, 'implication')\n",
    "    print('\\n')"
   ]
  },
  {
   "cell_type": "code",
   "execution_count": 7,
   "metadata": {},
   "outputs": [
    {
     "name": "stdout",
     "output_type": "stream",
     "text": [
      "Equation given in converse form is : p->q\n",
      "Implication is : q->p\n",
      "Contrapositive is : ~p->~q\n",
      "Inverse is : ~q->~p\n",
      "\n",
      "\n",
      "Equation given in converse form is : ~p->q\n",
      "Implication is : q->~p\n",
      "Contrapositive is : p->~q\n",
      "Inverse is : ~q->p\n",
      "\n",
      "\n",
      "Equation given in converse form is : p->~q\n",
      "Implication is : ~q->p\n",
      "Contrapositive is : ~p->q\n",
      "Inverse is : q->~p\n",
      "\n",
      "\n",
      "Equation given in converse form is : ~p->~q\n",
      "Implication is : ~q->~p\n",
      "Contrapositive is : p->q\n",
      "Inverse is : q->p\n",
      "\n",
      "\n"
     ]
    }
   ],
   "source": [
    "for eq in l:\n",
    "    impl_conv_contrapos_inv(eq, 'converse')\n",
    "    print('\\n')"
   ]
  },
  {
   "cell_type": "code",
   "execution_count": 8,
   "metadata": {},
   "outputs": [
    {
     "name": "stdout",
     "output_type": "stream",
     "text": [
      "Equation given in contrapositive form is : p->q\n",
      "Implication is : ~q->~p\n",
      "Converse is : ~p->~q\n",
      "Inverse is : q->p\n",
      "\n",
      "\n",
      "Equation given in contrapositive form is : ~p->q\n",
      "Implication is : ~q->p\n",
      "Converse is : p->~q\n",
      "Inverse is : q->~p\n",
      "\n",
      "\n",
      "Equation given in contrapositive form is : p->~q\n",
      "Implication is : q->~p\n",
      "Converse is : ~p->q\n",
      "Inverse is : ~q->p\n",
      "\n",
      "\n",
      "Equation given in contrapositive form is : ~p->~q\n",
      "Implication is : q->p\n",
      "Converse is : p->q\n",
      "Inverse is : ~q->~p\n",
      "\n",
      "\n"
     ]
    }
   ],
   "source": [
    "for eq in l:\n",
    "    impl_conv_contrapos_inv(eq, 'contrapositive')\n",
    "    print('\\n')"
   ]
  },
  {
   "cell_type": "code",
   "execution_count": 9,
   "metadata": {},
   "outputs": [
    {
     "name": "stdout",
     "output_type": "stream",
     "text": [
      "Equation given in inverse form is : p->q\n",
      "Implication is : ~p->~q\n",
      "Converse is : ~q->~p\n",
      "Contrapositive is : q->p\n",
      "\n",
      "\n",
      "Equation given in inverse form is : ~p->q\n",
      "Implication is : p->~q\n",
      "Converse is : ~q->p\n",
      "Contrapositive is : q->~p\n",
      "\n",
      "\n",
      "Equation given in inverse form is : p->~q\n",
      "Implication is : ~p->q\n",
      "Converse is : q->~p\n",
      "Contrapositive is : ~q->p\n",
      "\n",
      "\n",
      "Equation given in inverse form is : ~p->~q\n",
      "Implication is : p->q\n",
      "Converse is : q->p\n",
      "Contrapositive is : ~q->~p\n",
      "\n",
      "\n"
     ]
    }
   ],
   "source": [
    "for eq in l:\n",
    "    impl_conv_contrapos_inv(eq, 'inverse')\n",
    "    print('\\n')"
   ]
  },
  {
   "cell_type": "code",
   "execution_count": 10,
   "metadata": {},
   "outputs": [
    {
     "name": "stdout",
     "output_type": "stream",
     "text": [
      "Equation given in contrapositive form is : ~p->q\n",
      "Implication is : ~q->p\n",
      "Converse is : p->~q\n",
      "Inverse is : q->~p\n"
     ]
    }
   ],
   "source": [
    "impl_conv_contrapos_inv('~p->q', \"Contrapositive\")"
   ]
  },
  {
   "cell_type": "code",
   "execution_count": 11,
   "metadata": {},
   "outputs": [
    {
     "name": "stdout",
     "output_type": "stream",
     "text": [
      "Equation given in inverse form is : ~p->q\n",
      "Implication is : p->~q\n",
      "Converse is : ~q->p\n",
      "Contrapositive is : q->~p\n"
     ]
    }
   ],
   "source": [
    "impl_conv_contrapos_inv('~p->q', \"Inverse\")"
   ]
  },
  {
   "cell_type": "code",
   "execution_count": 12,
   "metadata": {},
   "outputs": [
    {
     "name": "stdout",
     "output_type": "stream",
     "text": [
      "Equation given in converse form is : ~p->q\n",
      "Implication is : q->~p\n",
      "Contrapositive is : p->~q\n",
      "Inverse is : ~q->p\n"
     ]
    }
   ],
   "source": [
    "impl_conv_contrapos_inv('~p->q', \"Converse\")"
   ]
  },
  {
   "cell_type": "code",
   "execution_count": 13,
   "metadata": {},
   "outputs": [
    {
     "name": "stdout",
     "output_type": "stream",
     "text": [
      "Equation given in implication form is : ~p->q\n",
      "Converse is : q->~p\n",
      "Contrapositive is : ~q->p\n",
      "Inverse is : p->~q\n"
     ]
    }
   ],
   "source": [
    "impl_conv_contrapos_inv('~p->q', \"Implication\")"
   ]
  },
  {
   "cell_type": "code",
   "execution_count": 14,
   "metadata": {},
   "outputs": [
    {
     "ename": "TypeError",
     "evalue": "Type argument is not typed correctly",
     "output_type": "error",
     "traceback": [
      "\u001b[0;31m---------------------------------------------------------------------------\u001b[0m",
      "\u001b[0;31mTypeError\u001b[0m                                 Traceback (most recent call last)",
      "\u001b[0;32m<ipython-input-14-76a8923b51a1>\u001b[0m in \u001b[0;36m<module>\u001b[0;34m\u001b[0m\n\u001b[0;32m----> 1\u001b[0;31m \u001b[0mimpl_conv_contrapos_inv\u001b[0m\u001b[0;34m(\u001b[0m\u001b[0;34m'~p->q'\u001b[0m\u001b[0;34m,\u001b[0m \u001b[0;34m'convers'\u001b[0m\u001b[0;34m)\u001b[0m\u001b[0;34m\u001b[0m\u001b[0;34m\u001b[0m\u001b[0m\n\u001b[0m",
      "\u001b[0;32m<ipython-input-5-c02d29361b16>\u001b[0m in \u001b[0;36mimpl_conv_contrapos_inv\u001b[0;34m(equation, type)\u001b[0m\n\u001b[1;32m     28\u001b[0m \u001b[0;34m\u001b[0m\u001b[0m\n\u001b[1;32m     29\u001b[0m     \u001b[0;32melse\u001b[0m\u001b[0;34m:\u001b[0m\u001b[0;34m\u001b[0m\u001b[0;34m\u001b[0m\u001b[0m\n\u001b[0;32m---> 30\u001b[0;31m         \u001b[0;32mraise\u001b[0m \u001b[0mTypeError\u001b[0m\u001b[0;34m(\u001b[0m\u001b[0;34m\"Type argument is not typed correctly\"\u001b[0m\u001b[0;34m)\u001b[0m\u001b[0;34m\u001b[0m\u001b[0;34m\u001b[0m\u001b[0m\n\u001b[0m",
      "\u001b[0;31mTypeError\u001b[0m: Type argument is not typed correctly"
     ]
    }
   ],
   "source": [
    "impl_conv_contrapos_inv('~p->q', 'convers')"
   ]
  },
  {
   "cell_type": "code",
   "execution_count": 16,
   "metadata": {},
   "outputs": [
    {
     "data": {
      "text/plain": [
       "'p->q'"
      ]
     },
     "execution_count": 16,
     "metadata": {},
     "output_type": "execute_result"
    }
   ],
   "source": [
    "converse(converse(\"p->q\"))"
   ]
  },
  {
   "cell_type": "code",
   "execution_count": null,
   "metadata": {},
   "outputs": [],
   "source": []
  }
 ],
 "metadata": {
  "kernelspec": {
   "display_name": "Python 3",
   "language": "python",
   "name": "python3"
  },
  "language_info": {
   "codemirror_mode": {
    "name": "ipython",
    "version": 3
   },
   "file_extension": ".py",
   "mimetype": "text/x-python",
   "name": "python",
   "nbconvert_exporter": "python",
   "pygments_lexer": "ipython3",
   "version": "3.7.1"
  }
 },
 "nbformat": 4,
 "nbformat_minor": 2
}
