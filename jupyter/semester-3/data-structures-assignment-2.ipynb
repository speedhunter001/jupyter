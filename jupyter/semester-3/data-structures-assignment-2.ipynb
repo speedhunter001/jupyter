{
 "cells": [
  {
   "cell_type": "code",
   "execution_count": 33,
   "metadata": {},
   "outputs": [
    {
     "name": "stdout",
     "output_type": "stream",
     "text": [
      "H. No. 2, Street 3, Peshawar Pakistan\n",
      "H. No. 2, Street 3, Peshawar Pakistan\n",
      "H. No. 1, Street 2, Cape Town South Africa\n",
      "H. No. 4, Street 19, Cape Town South Africa\n",
      "1 None H. No. 4, Street 19, Cape Town South Africa\n",
      "H. No. 44, Street 24, KL Malaysia\n",
      "Lecturer: 1 Mr. Bigshot H. No. 44, Street 24, KL Malaysia\n"
     ]
    }
   ],
   "source": [
    "class Address: \n",
    "    def __init__(self, house_no=0, street=0, city=\"\", country=\"\"):\n",
    "        self.house_no = house_no\n",
    "        self.street = street\n",
    "        self.city = city\n",
    "        self.country = country\n",
    "        \n",
    "    def get_full_address(self):\n",
    "        return \"H. No. \" + str(self.house_no) + ', ' + \"Street \" + str(self.street) + ', ' + self.city + \" \"  + self.country \n",
    "\n",
    "    \n",
    "    def __str__(self):\n",
    "        return self.get_full_address()\n",
    "    \n",
    "class Employee: \n",
    "    def __init__(self, id=1, name=None):\n",
    "        self.id = id\n",
    "        self.name = name  \n",
    "        self.current_address = None\n",
    "        self.permanent_address = None    \n",
    "        \n",
    "    def set_current_address(self, house_no, street, city, country):\n",
    "        self.current_address = Address(house_no, street, city, country)\n",
    "        \n",
    "    def set_permanent_address(self, house_no, street, city, country):\n",
    "        self.permanent_address = Address(house_no, street, city, country)\n",
    "        \n",
    "    def get_current_address(self):\n",
    "        return str(self.current_address)\n",
    "    \n",
    "    def get_permanent_address(self):\n",
    "        return str(self.permanent_address)\n",
    "    \n",
    "    def __str__(self):\n",
    "        return str(self.id) + \" \" + str(self.name) + \" \" + self.get_permanent_address()\n",
    "\n",
    "class Lecturer(Employee): \n",
    "    def __init__(self):\n",
    "        super().__init__(1, \"Mr. Bigshot\")\n",
    "    \n",
    "    def __str__(self):\n",
    "        return \"Lecturer: \" + super().__str__()\n",
    "\n",
    "#if __name__ == \"__main__\": \n",
    "    # Uncomment these to test out your code before run.py local \n",
    "\n",
    "a = Address() \n",
    "a.house_no = 2 \n",
    "a.street = 3 \n",
    "a.city = \"Peshawar\"\n",
    "a.country = \"Pakistan\"\n",
    "\n",
    "print(a.get_full_address())\n",
    "print(a)\n",
    "\n",
    "\n",
    "e = Employee() \n",
    "e.set_current_address(1, 2, \"Cape Town\", \"South Africa\")\n",
    "print(e.get_current_address()) \n",
    "\n",
    "e.set_permanent_address(4, 19, \"Cape Town\", \"South Africa\")\n",
    "print(e.get_permanent_address())\n",
    "\n",
    "print(e)\n",
    "\n",
    "l = Lecturer() \n",
    "l.set_permanent_address(44, 24, \"KL\", \"Malaysia\")\n",
    "print(l.get_permanent_address())\n",
    "print(l)"
   ]
  },
  {
   "cell_type": "code",
   "execution_count": null,
   "metadata": {},
   "outputs": [],
   "source": []
  },
  {
   "cell_type": "code",
   "execution_count": null,
   "metadata": {},
   "outputs": [],
   "source": []
  }
 ],
 "metadata": {
  "kernelspec": {
   "display_name": "Python 3",
   "language": "python",
   "name": "python3"
  },
  "language_info": {
   "codemirror_mode": {
    "name": "ipython",
    "version": 3
   },
   "file_extension": ".py",
   "mimetype": "text/x-python",
   "name": "python",
   "nbconvert_exporter": "python",
   "pygments_lexer": "ipython3",
   "version": "3.7.1"
  }
 },
 "nbformat": 4,
 "nbformat_minor": 2
}
