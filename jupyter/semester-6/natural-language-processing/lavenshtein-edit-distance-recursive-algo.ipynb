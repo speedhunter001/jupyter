{
 "cells": [
  {
   "cell_type": "code",
   "execution_count": 1,
   "metadata": {},
   "outputs": [],
   "source": [
    "def edit_distance(source, target, source_len, target_len):\n",
    "    if source_len == 0:\n",
    "        return target_len\n",
    "    \n",
    "    if target_len == 0:       \n",
    "        return source_len\n",
    "    \n",
    "    if source[source_len-1] == target[target_len-1]:\n",
    "        return edit_distance(source, target, source_len-1, target_len-1)\n",
    "    \n",
    "    return min( edit_distance(source, target, source_len, target_len-1) + 1,\n",
    "                edit_distance(source, target, source_len-1, target_len) + 1, \n",
    "                edit_distance(source, target, source_len-1, target_len-1) + 2 )"
   ]
  },
  {
   "cell_type": "code",
   "execution_count": 2,
   "metadata": {},
   "outputs": [],
   "source": [
    "words = ['hello',\n",
    "         'help',\n",
    "         'hear',\n",
    "         'heart',\n",
    "         'horse',\n",
    "         'heat',\n",
    "          \n",
    "         'wolf',\n",
    "         'wolves',\n",
    "         'wound',\n",
    "         'worse',\n",
    "         'worst',\n",
    "         'word',\n",
    "         'ward',\n",
    "         'wonderful',\n",
    "        \n",
    "         'fart',\n",
    "         'fire',\n",
    "         'eiffel',\n",
    "         'fierce',\n",
    "         'first',\n",
    "         'finish',\n",
    "         'fish',\n",
    "        \n",
    "         'earn',\n",
    "         'east',\n",
    "         'ear',\n",
    "         \n",
    "         'kill',\n",
    "         'kim',\n",
    "         'kick',\n",
    "         'king'\n",
    "                ]"
   ]
  },
  {
   "cell_type": "code",
   "execution_count": 12,
   "metadata": {},
   "outputs": [
    {
     "name": "stdout",
     "output_type": "stream",
     "text": [
      "Enter word:hell\n",
      "[('hello', 1), ('help', 2), ('hear', 4)]\n"
     ]
    }
   ],
   "source": [
    "user_word = input(\"Enter word:\")\n",
    "\n",
    "edit_distances = []\n",
    "for word in words:\n",
    "    edit_distances.append( (word, edit_distance(user_word, word, len(user_word), len(word))) )\n",
    "    \n",
    "edit_distances.sort(key=lambda x: x[1])\n",
    "print(edit_distances[:3])"
   ]
  },
  {
   "cell_type": "code",
   "execution_count": 15,
   "metadata": {},
   "outputs": [
    {
     "data": {
      "text/plain": [
       "28"
      ]
     },
     "execution_count": 15,
     "metadata": {},
     "output_type": "execute_result"
    }
   ],
   "source": [
    "len(edit_distances)"
   ]
  },
  {
   "cell_type": "code",
   "execution_count": 13,
   "metadata": {},
   "outputs": [
    {
     "name": "stdout",
     "output_type": "stream",
     "text": [
      "Help on built-in function sorted in module builtins:\n",
      "\n",
      "sorted(iterable, /, *, key=None, reverse=False)\n",
      "    Return a new list containing all items from the iterable in ascending order.\n",
      "    \n",
      "    A custom key function can be supplied to customize the sort order, and the\n",
      "    reverse flag can be set to request the result in descending order.\n",
      "\n"
     ]
    }
   ],
   "source": []
  },
  {
   "cell_type": "code",
   "execution_count": 23,
   "metadata": {},
   "outputs": [],
   "source": []
  },
  {
   "cell_type": "code",
   "execution_count": 26,
   "metadata": {},
   "outputs": [
    {
     "data": {
      "text/plain": [
       "True"
      ]
     },
     "execution_count": 26,
     "metadata": {},
     "output_type": "execute_result"
    }
   ],
   "source": []
  },
  {
   "cell_type": "code",
   "execution_count": null,
   "metadata": {},
   "outputs": [],
   "source": []
  }
 ],
 "metadata": {
  "kernelspec": {
   "display_name": "Python 3",
   "language": "python",
   "name": "python3"
  },
  "language_info": {
   "codemirror_mode": {
    "name": "ipython",
    "version": 3
   },
   "file_extension": ".py",
   "mimetype": "text/x-python",
   "name": "python",
   "nbconvert_exporter": "python",
   "pygments_lexer": "ipython3",
   "version": "3.8.3"
  }
 },
 "nbformat": 4,
 "nbformat_minor": 4
}
