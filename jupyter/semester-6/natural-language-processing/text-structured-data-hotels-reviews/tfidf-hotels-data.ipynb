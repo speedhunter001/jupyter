{
 "cells": [
  {
   "cell_type": "code",
   "execution_count": 19,
   "metadata": {},
   "outputs": [],
   "source": [
    "file = open('dataset2.csv', 'r')  # opening file in read mode, even if 'r' not specified read mode is default\n",
    "corpus = file.read()"
   ]
  },
  {
   "cell_type": "code",
   "execution_count": 20,
   "metadata": {},
   "outputs": [
    {
     "name": "stdout",
     "output_type": "stream",
     "text": [
      "['Review,,,,,,,,,,,,,,,,', ' Everything from the weather, staff, food, property, fire pits, décor, spa, rooms and beach were top notch,,,,,,,,,', '\"The hotel it is fantastic built by the sea, living together with nature. Environment it is great as well as people and service.', 'We full enjoyed the place, and facilities.', 'Thanks for the \"\"cidreira\"\" and \"\"madalenas\"\" tea at reception\",,,,,,,,,,,,,,,,', 'One dream! Cozy  and comfortable Hotel!  The best personalized one! All the employees are congratulated! Very nice taste, since reception to the end of the stay! We were welcome with tea and cake, as I have gluten aversion,, all the employees already knew and were waiting carefully. At night, we were received in the fire pits, with some wine and all the guests were invited to participate and interact. ,,,,,,,,,,', '\"Hotel concept is hard to grasp. They communicate environmental sustainability, through fashionable buzzwords like upcycling but they use pillows made out of duck feathers!?!', 'Pricing is utterly ridiculous, for what you get.', 'Breakfast has high-quality products, but it lacks in choice.', 'Service is friendly, although \"\"too friendly\"\" at times.']\n"
     ]
    }
   ],
   "source": [
    "docs = corpus.split('\\n')  # separating each line\n",
    "print(docs[:10])  # We can see that some sentences have extra spaces at start of sentence etc"
   ]
  },
  {
   "cell_type": "code",
   "execution_count": 21,
   "metadata": {},
   "outputs": [],
   "source": [
    "# Removing extra spaces from each sentence \n",
    "new_docs = []\n",
    "for doc in docs:\n",
    "    new_doc = doc.strip()\n",
    "    new_docs.append(new_doc)"
   ]
  },
  {
   "cell_type": "code",
   "execution_count": 22,
   "metadata": {},
   "outputs": [
    {
     "data": {
      "text/plain": [
       "['Review,,,,,,,,,,,,,,,,',\n",
       " 'Everything from the weather, staff, food, property, fire pits, décor, spa, rooms and beach were top notch,,,,,,,,,',\n",
       " '\"The hotel it is fantastic built by the sea, living together with nature. Environment it is great as well as people and service.',\n",
       " 'We full enjoyed the place, and facilities.',\n",
       " 'Thanks for the \"\"cidreira\"\" and \"\"madalenas\"\" tea at reception\",,,,,,,,,,,,,,,,',\n",
       " 'One dream! Cozy  and comfortable Hotel!  The best personalized one! All the employees are congratulated! Very nice taste, since reception to the end of the stay! We were welcome with tea and cake, as I have gluten aversion,, all the employees already knew and were waiting carefully. At night, we were received in the fire pits, with some wine and all the guests were invited to participate and interact. ,,,,,,,,,,',\n",
       " '\"Hotel concept is hard to grasp. They communicate environmental sustainability, through fashionable buzzwords like upcycling but they use pillows made out of duck feathers!?!',\n",
       " 'Pricing is utterly ridiculous, for what you get.',\n",
       " 'Breakfast has high-quality products, but it lacks in choice.',\n",
       " 'Service is friendly, although \"\"too friendly\"\" at times.']"
      ]
     },
     "execution_count": 22,
     "metadata": {},
     "output_type": "execute_result"
    }
   ],
   "source": [
    "new_docs[:10]  # the sentences now seem to have no extra spaces"
   ]
  },
  {
   "cell_type": "code",
   "execution_count": 23,
   "metadata": {},
   "outputs": [],
   "source": [
    "from sklearn.feature_extraction.text import TfidfVectorizer"
   ]
  },
  {
   "cell_type": "code",
   "execution_count": 24,
   "metadata": {},
   "outputs": [],
   "source": [
    "vec = TfidfVectorizer(min_df=20, max_df=200)\n",
    "# vec = TfidfVectorizer(min_df=20, max_df=200, max_features=100)  # Now trying with max_features parameter"
   ]
  },
  {
   "cell_type": "code",
   "execution_count": 25,
   "metadata": {},
   "outputs": [],
   "source": [
    "X = vec.fit_transform(new_docs)"
   ]
  },
  {
   "cell_type": "code",
   "execution_count": 26,
   "metadata": {},
   "outputs": [
    {
     "data": {
      "text/plain": [
       "<653x126 sparse matrix of type '<class 'numpy.float64'>'\n",
       "\twith 6488 stored elements in Compressed Sparse Row format>"
      ]
     },
     "execution_count": 26,
     "metadata": {},
     "output_type": "execute_result"
    }
   ],
   "source": [
    "X"
   ]
  },
  {
   "cell_type": "code",
   "execution_count": 15,
   "metadata": {},
   "outputs": [
    {
     "data": {
      "text/plain": [
       "array([[0.        , 0.        , 0.        , ..., 0.        , 0.        ,\n",
       "        0.        ],\n",
       "       [0.        , 0.        , 0.        , ..., 0.        , 0.        ,\n",
       "        0.        ],\n",
       "       [0.        , 0.        , 0.        , ..., 0.        , 0.        ,\n",
       "        0.        ],\n",
       "       ...,\n",
       "       [0.        , 0.1514627 , 0.2078368 , ..., 0.        , 0.        ,\n",
       "        0.        ],\n",
       "       [0.41527158, 0.        , 0.        , ..., 0.        , 0.        ,\n",
       "        0.        ],\n",
       "       [0.        , 0.        , 0.        , ..., 0.        , 0.        ,\n",
       "        0.        ]])"
      ]
     },
     "execution_count": 15,
     "metadata": {},
     "output_type": "execute_result"
    }
   ],
   "source": [
    "X.toarray()"
   ]
  },
  {
   "cell_type": "code",
   "execution_count": 16,
   "metadata": {},
   "outputs": [
    {
     "name": "stdout",
     "output_type": "stream",
     "text": [
      "['again', 'all', 'also', 'amazing', 'an', 'are', 'areas', 'as', 'at', 'back', 'be', 'beautiful', 'best', 'breakfast', 'but', 'by', 'can', 'come', 'congratulations', 'day', 'days', 'dinner', 'do', 'every', 'everything', 'excellent', 'experience', 'fantastic', 'feel', 'food', 'friendly', 'from', 'full', 'garden', 'good', 'great', 'had', 'have', 'here', 'hotel', 'if', 'in', 'is', 'it', 'just', 'like', 'love', 'loved', 'lovely', 'made', 'magical', 'menu', 'more', 'much', 'my', 'nice', 'not', 'on', 'one', 'only', 'our', 'people', 'perfect', 'place', 'really', 'restaurant', 'room', 'rooms', 'see', 'seixo', 'service', 'so', 'some', 'soon', 'special', 'staff', 'stay', 'team', 'thank', 'thanks', 'that', 'there', 'they', 'this', 'time', 'unique', 'us', 'very', 'was', 'well', 'were', 'what', 'when', 'which', 'who', 'will', 'with', 'wonderful', 'would', 'your']\n"
     ]
    }
   ],
   "source": [
    "print(vec.get_feature_names())"
   ]
  },
  {
   "cell_type": "code",
   "execution_count": 17,
   "metadata": {},
   "outputs": [
    {
     "data": {
      "text/plain": [
       "{'everything': 24,\n",
       " 'from': 31,\n",
       " 'staff': 75,\n",
       " 'food': 29,\n",
       " 'rooms': 67,\n",
       " 'were': 90,\n",
       " 'hotel': 39,\n",
       " 'it': 43,\n",
       " 'is': 42,\n",
       " 'fantastic': 27,\n",
       " 'by': 15,\n",
       " 'with': 96,\n",
       " 'great': 35,\n",
       " 'as': 7,\n",
       " 'well': 89,\n",
       " 'people': 61,\n",
       " 'service': 70,\n",
       " 'full': 32,\n",
       " 'place': 63,\n",
       " 'thanks': 79,\n",
       " 'at': 8,\n",
       " 'one': 58,\n",
       " 'best': 12,\n",
       " 'all': 1,\n",
       " 'are': 5,\n",
       " 'very': 87,\n",
       " 'nice': 55,\n",
       " 'stay': 76,\n",
       " 'have': 37,\n",
       " 'in': 41,\n",
       " 'some': 72,\n",
       " 'they': 82,\n",
       " 'like': 45,\n",
       " 'but': 14,\n",
       " 'made': 49,\n",
       " 'what': 91,\n",
       " 'breakfast': 13,\n",
       " 'friendly': 30,\n",
       " 'experience': 26,\n",
       " 'was': 88,\n",
       " 'can': 16,\n",
       " 'much': 53,\n",
       " 'this': 83,\n",
       " 'wonderful': 97,\n",
       " 'every': 23,\n",
       " 'room': 66,\n",
       " 'excellent': 25,\n",
       " 'will': 95,\n",
       " 'your': 99,\n",
       " 'loved': 47,\n",
       " 'come': 17,\n",
       " 'back': 9,\n",
       " 'an': 4,\n",
       " 'amazing': 3,\n",
       " 'special': 74,\n",
       " 'here': 38,\n",
       " 'soon': 73,\n",
       " 'congratulations': 18,\n",
       " 'thank': 78,\n",
       " 'be': 10,\n",
       " 'beautiful': 11,\n",
       " 'magical': 50,\n",
       " 'team': 77,\n",
       " 'do': 22,\n",
       " 'seixo': 69,\n",
       " 'see': 68,\n",
       " 'again': 0,\n",
       " 'not': 56,\n",
       " 'only': 59,\n",
       " 'would': 98,\n",
       " 'our': 60,\n",
       " 'us': 86,\n",
       " 'feel': 28,\n",
       " 'that': 80,\n",
       " 'areas': 6,\n",
       " 'love': 46,\n",
       " 'on': 57,\n",
       " 'if': 40,\n",
       " 'had': 36,\n",
       " 'unique': 85,\n",
       " 'which': 93,\n",
       " 'perfect': 62,\n",
       " 'restaurant': 65,\n",
       " 'lovely': 48,\n",
       " 'also': 2,\n",
       " 'good': 34,\n",
       " 'just': 44,\n",
       " 'so': 71,\n",
       " 'there': 81,\n",
       " 'dinner': 21,\n",
       " 'who': 94,\n",
       " 'garden': 33,\n",
       " 'time': 84,\n",
       " 'when': 92,\n",
       " 'my': 54,\n",
       " 'really': 64,\n",
       " 'more': 52,\n",
       " 'day': 19,\n",
       " 'menu': 51,\n",
       " 'days': 20}"
      ]
     },
     "execution_count": 17,
     "metadata": {},
     "output_type": "execute_result"
    }
   ],
   "source": [
    "vec.vocabulary_"
   ]
  },
  {
   "cell_type": "code",
   "execution_count": null,
   "metadata": {},
   "outputs": [],
   "source": []
  }
 ],
 "metadata": {
  "kernelspec": {
   "display_name": "Python 3",
   "language": "python",
   "name": "python3"
  },
  "language_info": {
   "codemirror_mode": {
    "name": "ipython",
    "version": 3
   },
   "file_extension": ".py",
   "mimetype": "text/x-python",
   "name": "python",
   "nbconvert_exporter": "python",
   "pygments_lexer": "ipython3",
   "version": "3.8.3"
  }
 },
 "nbformat": 4,
 "nbformat_minor": 4
}
