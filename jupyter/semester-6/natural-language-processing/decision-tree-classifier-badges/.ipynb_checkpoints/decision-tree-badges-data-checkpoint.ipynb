{
 "cells": [
  {
   "cell_type": "code",
   "execution_count": 41,
   "metadata": {},
   "outputs": [
    {
     "name": "stdout",
     "output_type": "stream",
     "text": [
      "+ Naoki Abe\n",
      "- Myriam Abramson\n",
      "+ David W. Aha\n",
      "+ Kamal M. Ali\n",
      "- Eric Allender\n",
      "+ Dana Angluin\n",
      "- Chidanand Apte\n",
      "+ Minoru Asada\n",
      "+ Lars Asker\n",
      "+ Javed Aslam\n",
      "+ Haralabos Athanassiou\n",
      "+ Jose L. Balcazar\n",
      "+ Timothy P. Barber\n",
      "+ Michael W. Barley\n",
      "- Cristina Baroglio\n",
      "+ Peter Bartlett\n",
      "- Eric Baum\n",
      "+ Welton Becket\n",
      "- Shai Ben-David\n",
      "+ George Berg\n",
      "+ Neil Berkman\n",
      "+ Malini Bhandaru\n",
      "+ Bir Bhanu\n",
      "+ Reinhard Blasig\n",
      "- Avrim Blum\n",
      "- Anselm Blumer\n",
      "+ Justin Boyan\n",
      "+ Carla E. Brodley\n",
      "+ Nader Bshouty\n",
      "- Wray Buntine\n",
      "- Andrey Burago\n",
      "+ Tom Bylander\n",
      "+ Bill Byrne\n",
      "- Claire Cardie\n",
      "+ Richard A. Caruana\n",
      "+ John Case\n",
      "+ Jason Catlett\n",
      "+ Nicolo Cesa-Bianchi\n",
      "- Philip Chan\n",
      "+ Mark Changizi\n",
      "+ Pang-Chieh Chen\n",
      "- Zhixiang Chen\n",
      "+ Wan P. Chiang\n",
      "- Steve A. Chien\n",
      "+ Jeffery Clouse\n",
      "+ William Cohen\n",
      "+ David Cohn\n",
      "- Clare Bates Congdon\n",
      "- Antoine Cornuejols\n",
      "+ Mark W. Craven\n",
      "+ Robert P. Daley\n",
      "+ Lindley Darden\n",
      "- Chris Darken\n",
      "- Bhaskar Dasgupta\n",
      "- Brian D. Davidson\n",
      "+ Michael de la Maza\n",
      "- Olivier De Vel\n",
      "- Scott E. Decatur\n",
      "+ Gerald F. DeJong\n",
      "+ Kan Deng\n",
      "- Thomas G. Dietterich\n",
      "+ Michael J. Donahue\n",
      "+ George A. Drastal\n",
      "+ Harris Drucker\n",
      "- Chris Drummond\n",
      "+ Hal Duncan\n",
      "- Thomas Ellman\n",
      "+ Tapio Elomaa\n",
      "+ Susan L. Epstein\n",
      "+ Bob Evans\n",
      "- Claudio Facchinetti\n",
      "+ Tom Fawcett\n",
      "- Usama Fayyad\n",
      "+ Aaron Feigelson\n",
      "+ Nicolas Fiechter\n",
      "+ David Finton\n",
      "+ John Fischer\n",
      "+ Paul Fischer\n",
      "+ Seth Flanders\n",
      "+ Lance Fortnow\n",
      "- Ameur Foued\n",
      "+ Judy A. Franklin\n",
      "+ Yoav Freund\n",
      "+ Johannes Furnkranz\n",
      "+ Merrick L. Furst\n",
      "+ Jean Gabriel Ganascia\n",
      "+ William Gasarch\n",
      "+ Ricard Gavalda\n",
      "+ Melinda T. Gervasio\n",
      "+ Yolanda Gil\n",
      "+ David Gillman\n",
      "- Attilio Giordana\n",
      "+ Kate Goelz\n",
      "+ Paul W. Goldberg\n",
      "+ Sally Goldman\n",
      "+ Diana Gordon\n",
      "+ Geoffrey Gordon\n",
      "+ Jonathan Gratch\n",
      "+ Leslie Grate\n",
      "+ William A. Greene\n",
      "+ Russell Greiner\n",
      "+ Marko Grobelnik\n",
      "+ Tal Grossman\n",
      "+ Margo Guertin\n",
      "+ Tom Hancock\n",
      "+ Earl S. Harris Jr.\n",
      "+ David Haussler\n",
      "+ Matthias Heger\n",
      "+ Lisa Hellerstein\n",
      "+ David Helmbold\n",
      "+ Daniel Hennessy\n",
      "+ Haym Hirsh\n",
      "+ Jonathan Hodgson\n",
      "+ Robert C. Holte\n",
      "+ Jiarong Hong\n",
      "- Chun-Nan Hsu\n",
      "+ Kazushi Ikeda\n",
      "+ Masayuki Inaba\n",
      "- Drago Indjic\n",
      "+ Nitin Indurkhya\n",
      "+ Jeff Jackson\n",
      "+ Sanjay Jain\n",
      "+ Wolfgang Janko\n",
      "- Klaus P. Jantke\n",
      "+ Nathalie Japkowicz\n",
      "+ George H. John\n",
      "+ Randolph Jones\n",
      "+ Michael I. Jordan\n",
      "+ Leslie Pack Kaelbling\n",
      "+ Bala Kalyanasundaram\n",
      "- Thomas E. Kammeyer\n",
      "- Grigoris Karakoulas\n",
      "+ Michael Kearns\n",
      "+ Neela Khan\n",
      "+ Roni Khardon\n",
      "+ Dennis F. Kibler\n",
      "+ Jorg-Uwe Kietz\n",
      "- Efim Kinber\n",
      "- Jyrki Kivinen\n",
      "- Emanuel Knill\n",
      "- Craig Knoblock\n",
      "+ Ron Kohavi\n",
      "+ Pascal Koiran\n",
      "+ Moshe Koppel\n",
      "+ Daniel Kortenkamp\n",
      "+ Matevz Kovacic\n",
      "- Stefan Kramer\n",
      "+ Martinch Krikis\n",
      "+ Martin Kummer\n",
      "- Eyal Kushilevitz\n",
      "- Stephen Kwek\n",
      "+ Wai Lam\n",
      "+ Ken Lang\n",
      "- Steffen Lange\n",
      "+ Pat Langley\n",
      "+ Mary Soon Lee\n",
      "+ Wee Sun Lee\n",
      "+ Moshe Leshno\n",
      "+ Long-Ji Lin\n",
      "- Charles X. Ling\n",
      "+ Michael Littman\n",
      "+ David Loewenstern\n",
      "- Phil Long\n",
      "+ Wolfgang Maass\n",
      "- Bruce A. MacDonald\n",
      "+ Rich Maclin\n",
      "- Sridhar Mahadevan\n",
      "- J. Jeffrey Mahoney\n",
      "+ Yishay Mansour\n",
      "+ Mario Marchand\n",
      "- Shaul Markovitch\n",
      "- Oded Maron\n",
      "+ Maja Mataric\n",
      "+ David Mathias\n",
      "+ Toshiyasu Matsushima\n",
      "- Stan Matwin\n",
      "- Eddy Mayoraz\n",
      "- R. Andrew McCallum\n",
      "- L. Thorne McCarty\n",
      "- Alexander M. Meystel\n",
      "+ Michael A. meystel\n",
      "- Steven Minton\n",
      "+ Nina Mishra\n",
      "+ Tom M. Mitchell\n",
      "+ Dunja Mladenic\n",
      "+ David Montgomery\n",
      "- Andrew W. Moore\n",
      "+ Johanne Morin\n",
      "+ Hiroshi Motoda\n",
      "- Stephen Muggleton\n",
      "+ Patrick M. Murphy\n",
      "- Sreerama K. Murthy\n",
      "+ Filippo Neri\n",
      "- Craig Nevill-Manning\n",
      "- Andrew Y. Ng\n",
      "+ Nikolay Nikolaev\n",
      "- Steven W. Norton\n",
      "+ Joseph O'Sullivan\n",
      "+ Dan Oblinger\n",
      "+ Jong-Hoon Oh\n",
      "- Arlindo Oliveira\n",
      "+ David W. Opitz\n",
      "+ Sandra Panizza\n",
      "+ Barak A. Pearlmutter\n",
      "- Ed Pednault\n",
      "+ Jing Peng\n",
      "+ Fernando Pereira\n",
      "+ Aurora Perez\n",
      "+ Bernhard Pfahringer\n",
      "+ David Pierce\n",
      "- Krishnan Pillaipakkamnatt\n",
      "+ Roberto Piola\n",
      "+ Leonard Pitt\n",
      "+ Lorien Y. Pratt\n",
      "- Armand Prieditis\n",
      "+ Foster J. Provost\n",
      "- J. R. Quinlan\n",
      "+ John Rachlin\n",
      "+ Vijay Raghavan\n",
      "- R. Bharat Rao\n",
      "- Priscilla Rasmussen\n",
      "+ Joel Ratsaby\n",
      "+ Michael Redmond\n",
      "+ Patricia J. Riddle\n",
      "+ Lance Riley\n",
      "+ Ronald L. Rivest\n",
      "+ Huw Roberts\n",
      "+ Dana Ron\n",
      "+ Robert S. Roos\n",
      "+ Justinian Rosca\n",
      "+ John R. Rose\n",
      "+ Dan Roth\n",
      "+ James S. Royer\n",
      "+ Ronitt Rubinfeld\n",
      "- Stuart Russell\n",
      "+ Lorenza Saitta\n",
      "+ Yoshifumi Sakai\n",
      "+ William Sakas\n",
      "+ Marcos Salganicoff\n",
      "- Steven Salzberg\n",
      "- Claude Sammut\n",
      "+ Cullen Schaffer\n",
      "+ Robert Schapire\n",
      "+ Mark Schwabacher\n",
      "+ Michele Sebag\n",
      "+ Gary M. Selzer\n",
      "+ Sebastian Seung\n",
      "- Arun Sharma\n",
      "+ Jude Shavlik\n",
      "+ Daniel L. Silver\n",
      "- Glenn Silverstein\n",
      "+ Yoram Singer\n",
      "+ Mona Singh\n",
      "+ Satinder Pal Singh\n",
      "+ Kimmen Sjolander\n",
      "+ David B. Skalak\n",
      "+ Sean Slattery\n",
      "+ Robert Sloan\n",
      "+ Donna Slonim\n",
      "+ Carl H. Smith\n",
      "+ Sonya Snedecor\n",
      "+ Von-Wun Soo\n",
      "- Thomas G. Spalthoff\n",
      "+ Mark Staley\n",
      "- Frank Stephan\n",
      "+ Mandayam T. Suraj\n",
      "+ Richard S. Sutton\n",
      "+ Joe Suzuki\n",
      "- Prasad Tadepalli\n",
      "+ Hiroshi Tanaka\n",
      "- Irina Tchoumatchenko\n",
      "- Brian Tester\n",
      "- Chen K. Tham\n",
      "+ Tatsuo Unemi\n",
      "- Lyle H. Ungar\n",
      "+ Paul Utgoff\n",
      "+ Karsten Verbeurgt\n",
      "+ Paul Vitanyi\n",
      "+ Xuemei Wang\n",
      "+ Manfred Warmuth\n",
      "+ Gary Weiss\n",
      "- Sholom Weiss\n",
      "- Thomas Wengerek\n",
      "- Bradley L. Whitehall\n",
      "- Alma Whitten\n",
      "+ Robert Williamson\n",
      "+ Janusz Wnek\n",
      "+ Kenji Yamanishi\n",
      "+ Takefumi Yamazaki\n",
      "+ Holly Yanco\n",
      "+ John M. Zelle\n",
      "- Thomas Zeugmann\n",
      "+ Jean-Daniel Zucker\n",
      "+ Darko Zupanic\n"
     ]
    }
   ],
   "source": [
    "corpus = open('./badges.data').read()  # reading file\n",
    "print(corpus)"
   ]
  },
  {
   "cell_type": "code",
   "execution_count": 42,
   "metadata": {},
   "outputs": [
    {
     "name": "stdout",
     "output_type": "stream",
     "text": [
      "['+ Naoki Abe', '- Myriam Abramson', '+ David W. Aha', '+ Kamal M. Ali', '- Eric Allender', '+ Dana Angluin', '- Chidanand Apte', '+ Minoru Asada', '+ Lars Asker', '+ Javed Aslam', '+ Haralabos Athanassiou', '+ Jose L. Balcazar', '+ Timothy P. Barber', '+ Michael W. Barley', '- Cristina Baroglio', '+ Peter Bartlett', '- Eric Baum', '+ Welton Becket', '- Shai Ben-David', '+ George Berg', '+ Neil Berkman', '+ Malini Bhandaru', '+ Bir Bhanu', '+ Reinhard Blasig', '- Avrim Blum', '- Anselm Blumer', '+ Justin Boyan', '+ Carla E. Brodley', '+ Nader Bshouty', '- Wray Buntine', '- Andrey Burago', '+ Tom Bylander', '+ Bill Byrne', '- Claire Cardie', '+ Richard A. Caruana', '+ John Case', '+ Jason Catlett', '+ Nicolo Cesa-Bianchi', '- Philip Chan', '+ Mark Changizi', '+ Pang-Chieh Chen', '- Zhixiang Chen', '+ Wan P. Chiang', '- Steve A. Chien', '+ Jeffery Clouse', '+ William Cohen', '+ David Cohn', '- Clare Bates Congdon', '- Antoine Cornuejols', '+ Mark W. Craven', '+ Robert P. Daley', '+ Lindley Darden', '- Chris Darken', '- Bhaskar Dasgupta', '- Brian D. Davidson', '+ Michael de la Maza', '- Olivier De Vel', '- Scott E. Decatur', '+ Gerald F. DeJong', '+ Kan Deng', '- Thomas G. Dietterich', '+ Michael J. Donahue', '+ George A. Drastal', '+ Harris Drucker', '- Chris Drummond', '+ Hal Duncan', '- Thomas Ellman', '+ Tapio Elomaa', '+ Susan L. Epstein', '+ Bob Evans', '- Claudio Facchinetti', '+ Tom Fawcett', '- Usama Fayyad', '+ Aaron Feigelson', '+ Nicolas Fiechter', '+ David Finton', '+ John Fischer', '+ Paul Fischer', '+ Seth Flanders', '+ Lance Fortnow', '- Ameur Foued', '+ Judy A. Franklin', '+ Yoav Freund', '+ Johannes Furnkranz', '+ Merrick L. Furst', '+ Jean Gabriel Ganascia', '+ William Gasarch', '+ Ricard Gavalda', '+ Melinda T. Gervasio', '+ Yolanda Gil', '+ David Gillman', '- Attilio Giordana', '+ Kate Goelz', '+ Paul W. Goldberg', '+ Sally Goldman', '+ Diana Gordon', '+ Geoffrey Gordon', '+ Jonathan Gratch', '+ Leslie Grate', '+ William A. Greene', '+ Russell Greiner', '+ Marko Grobelnik', '+ Tal Grossman', '+ Margo Guertin', '+ Tom Hancock', '+ Earl S. Harris Jr.', '+ David Haussler', '+ Matthias Heger', '+ Lisa Hellerstein', '+ David Helmbold', '+ Daniel Hennessy', '+ Haym Hirsh', '+ Jonathan Hodgson', '+ Robert C. Holte', '+ Jiarong Hong', '- Chun-Nan Hsu', '+ Kazushi Ikeda', '+ Masayuki Inaba', '- Drago Indjic', '+ Nitin Indurkhya', '+ Jeff Jackson', '+ Sanjay Jain', '+ Wolfgang Janko', '- Klaus P. Jantke', '+ Nathalie Japkowicz', '+ George H. John', '+ Randolph Jones', '+ Michael I. Jordan', '+ Leslie Pack Kaelbling', '+ Bala Kalyanasundaram', '- Thomas E. Kammeyer', '- Grigoris Karakoulas', '+ Michael Kearns', '+ Neela Khan', '+ Roni Khardon', '+ Dennis F. Kibler', '+ Jorg-Uwe Kietz', '- Efim Kinber', '- Jyrki Kivinen', '- Emanuel Knill', '- Craig Knoblock', '+ Ron Kohavi', '+ Pascal Koiran', '+ Moshe Koppel', '+ Daniel Kortenkamp', '+ Matevz Kovacic', '- Stefan Kramer', '+ Martinch Krikis', '+ Martin Kummer', '- Eyal Kushilevitz', '- Stephen Kwek', '+ Wai Lam', '+ Ken Lang', '- Steffen Lange', '+ Pat Langley', '+ Mary Soon Lee', '+ Wee Sun Lee', '+ Moshe Leshno', '+ Long-Ji Lin', '- Charles X. Ling', '+ Michael Littman', '+ David Loewenstern', '- Phil Long', '+ Wolfgang Maass', '- Bruce A. MacDonald', '+ Rich Maclin', '- Sridhar Mahadevan', '- J. Jeffrey Mahoney', '+ Yishay Mansour', '+ Mario Marchand', '- Shaul Markovitch', '- Oded Maron', '+ Maja Mataric', '+ David Mathias', '+ Toshiyasu Matsushima', '- Stan Matwin', '- Eddy Mayoraz', '- R. Andrew McCallum', '- L. Thorne McCarty', '- Alexander M. Meystel', '+ Michael A. meystel', '- Steven Minton', '+ Nina Mishra', '+ Tom M. Mitchell', '+ Dunja Mladenic', '+ David Montgomery', '- Andrew W. Moore', '+ Johanne Morin', '+ Hiroshi Motoda', '- Stephen Muggleton', '+ Patrick M. Murphy', '- Sreerama K. Murthy', '+ Filippo Neri', '- Craig Nevill-Manning', '- Andrew Y. Ng', '+ Nikolay Nikolaev', '- Steven W. Norton', \"+ Joseph O'Sullivan\", '+ Dan Oblinger', '+ Jong-Hoon Oh', '- Arlindo Oliveira', '+ David W. Opitz', '+ Sandra Panizza', '+ Barak A. Pearlmutter', '- Ed Pednault', '+ Jing Peng', '+ Fernando Pereira', '+ Aurora Perez', '+ Bernhard Pfahringer', '+ David Pierce', '- Krishnan Pillaipakkamnatt', '+ Roberto Piola', '+ Leonard Pitt', '+ Lorien Y. Pratt', '- Armand Prieditis', '+ Foster J. Provost', '- J. R. Quinlan', '+ John Rachlin', '+ Vijay Raghavan', '- R. Bharat Rao', '- Priscilla Rasmussen', '+ Joel Ratsaby', '+ Michael Redmond', '+ Patricia J. Riddle', '+ Lance Riley', '+ Ronald L. Rivest', '+ Huw Roberts', '+ Dana Ron', '+ Robert S. Roos', '+ Justinian Rosca', '+ John R. Rose', '+ Dan Roth', '+ James S. Royer', '+ Ronitt Rubinfeld', '- Stuart Russell', '+ Lorenza Saitta', '+ Yoshifumi Sakai', '+ William Sakas', '+ Marcos Salganicoff', '- Steven Salzberg', '- Claude Sammut', '+ Cullen Schaffer', '+ Robert Schapire', '+ Mark Schwabacher', '+ Michele Sebag', '+ Gary M. Selzer', '+ Sebastian Seung', '- Arun Sharma', '+ Jude Shavlik', '+ Daniel L. Silver', '- Glenn Silverstein', '+ Yoram Singer', '+ Mona Singh', '+ Satinder Pal Singh', '+ Kimmen Sjolander', '+ David B. Skalak', '+ Sean Slattery', '+ Robert Sloan', '+ Donna Slonim', '+ Carl H. Smith', '+ Sonya Snedecor', '+ Von-Wun Soo', '- Thomas G. Spalthoff', '+ Mark Staley', '- Frank Stephan', '+ Mandayam T. Suraj', '+ Richard S. Sutton', '+ Joe Suzuki', '- Prasad Tadepalli', '+ Hiroshi Tanaka', '- Irina Tchoumatchenko', '- Brian Tester', '- Chen K. Tham', '+ Tatsuo Unemi', '- Lyle H. Ungar', '+ Paul Utgoff', '+ Karsten Verbeurgt', '+ Paul Vitanyi', '+ Xuemei Wang', '+ Manfred Warmuth', '+ Gary Weiss', '- Sholom Weiss', '- Thomas Wengerek', '- Bradley L. Whitehall', '- Alma Whitten', '+ Robert Williamson', '+ Janusz Wnek', '+ Kenji Yamanishi', '+ Takefumi Yamazaki', '+ Holly Yanco', '+ John M. Zelle', '- Thomas Zeugmann', '+ Jean-Daniel Zucker', '+ Darko Zupanic']\n"
     ]
    }
   ],
   "source": [
    "docs = corpus.split('\\n')\n",
    "print(docs)"
   ]
  },
  {
   "cell_type": "code",
   "execution_count": 43,
   "metadata": {},
   "outputs": [
    {
     "name": "stdout",
     "output_type": "stream",
     "text": [
      "['Naoki Abe', 'Myriam Abramson', 'David W. Aha', 'Kamal M. Ali', 'Eric Allender', 'Dana Angluin', 'Chidanand Apte', 'Minoru Asada', 'Lars Asker', 'Javed Aslam'] ['+', '-', '+', '+', '-', '+', '-', '+', '+', '+']\n"
     ]
    }
   ],
   "source": [
    "y = [doc[0] for doc in docs]   # As first element is y\n",
    "X = [doc[2:] for doc in docs]  # As on 2 index ther is space \n",
    "print(X[:10], y[:10])"
   ]
  },
  {
   "cell_type": "code",
   "execution_count": 44,
   "metadata": {},
   "outputs": [
    {
     "data": {
      "text/plain": [
       "<294x523 sparse matrix of type '<class 'numpy.float64'>'\n",
       "\twith 607 stored elements in Compressed Sparse Row format>"
      ]
     },
     "execution_count": 44,
     "metadata": {},
     "output_type": "execute_result"
    }
   ],
   "source": [
    "from sklearn.feature_extraction.text import TfidfVectorizer\n",
    "\n",
    "vec = TfidfVectorizer()\n",
    "X_matrix =  vec.fit_transform(X)\n",
    "X_matrix"
   ]
  },
  {
   "cell_type": "code",
   "execution_count": 45,
   "metadata": {},
   "outputs": [
    {
     "data": {
      "text/plain": [
       "DecisionTreeClassifier()"
      ]
     },
     "execution_count": 45,
     "metadata": {},
     "output_type": "execute_result"
    }
   ],
   "source": [
    "from sklearn.tree import DecisionTreeClassifier\n",
    "\n",
    "dt = DecisionTreeClassifier()\n",
    "dt.fit(X_matrix[:-10], y[:-10])"
   ]
  },
  {
   "cell_type": "code",
   "execution_count": 46,
   "metadata": {},
   "outputs": [
    {
     "name": "stdout",
     "output_type": "stream",
     "text": [
      "['+' '+' '+' '+' '+' '+' '+' '-' '+' '+']\n"
     ]
    }
   ],
   "source": [
    "print(dt.predict(X_matrix[-10:]))"
   ]
  },
  {
   "cell_type": "code",
   "execution_count": 47,
   "metadata": {},
   "outputs": [
    {
     "name": "stdout",
     "output_type": "stream",
     "text": [
      "[[1. 0.]\n",
      " [1. 0.]\n",
      " [1. 0.]\n",
      " [1. 0.]\n",
      " [1. 0.]\n",
      " [1. 0.]\n",
      " [1. 0.]\n",
      " [0. 1.]\n",
      " [1. 0.]\n",
      " [1. 0.]]\n"
     ]
    }
   ],
   "source": [
    "print(dt.predict_proba(X_matrix[-10:]))"
   ]
  },
  {
   "cell_type": "code",
   "execution_count": 48,
   "metadata": {},
   "outputs": [
    {
     "name": "stdout",
     "output_type": "stream",
     "text": [
      "['+' '+' '+' '+' '+' '+' '+' '-' '+' '+']\n",
      "[[0.73188406 0.26811594]\n",
      " [0.73188406 0.26811594]\n",
      " [0.73188406 0.26811594]\n",
      " [0.73188406 0.26811594]\n",
      " [0.73188406 0.26811594]\n",
      " [0.73188406 0.26811594]\n",
      " [0.73188406 0.26811594]\n",
      " [0.         1.        ]\n",
      " [0.73188406 0.26811594]\n",
      " [0.73188406 0.26811594]]\n"
     ]
    }
   ],
   "source": [
    "# For max_depth equal to 2\n",
    "dt_2 = DecisionTreeClassifier(max_depth=2)\n",
    "dt_2.fit(X_matrix[:-10], y[:-10])\n",
    "\n",
    "print(dt_2.predict(X_matrix[-10:]))\n",
    "\n",
    "print(dt_2.predict_proba(X_matrix[-10:]))"
   ]
  },
  {
   "cell_type": "code",
   "execution_count": 51,
   "metadata": {},
   "outputs": [
    {
     "name": "stdout",
     "output_type": "stream",
     "text": [
      "['+' '+' '+' '+' '+' '+' '+' '-' '+' '+']\n",
      "[[0.73992674 0.26007326]\n",
      " [0.73992674 0.26007326]\n",
      " [0.73992674 0.26007326]\n",
      " [0.73992674 0.26007326]\n",
      " [0.73992674 0.26007326]\n",
      " [0.73992674 0.26007326]\n",
      " [0.73992674 0.26007326]\n",
      " [0.         1.        ]\n",
      " [0.73992674 0.26007326]\n",
      " [0.73992674 0.26007326]]\n"
     ]
    }
   ],
   "source": [
    "# For max_depth equal to 3\n",
    "dt_3 = DecisionTreeClassifier(max_depth=3)\n",
    "dt_3.fit(X_matrix[:-10], y[:-10])\n",
    "\n",
    "print(dt_3.predict(X_matrix[-10:]))\n",
    "\n",
    "print(dt_3.predict_proba(X_matrix[-10:]))"
   ]
  },
  {
   "cell_type": "code",
   "execution_count": 52,
   "metadata": {},
   "outputs": [
    {
     "name": "stdout",
     "output_type": "stream",
     "text": [
      "['+' '+' '+' '+' '+' '+' '+' '-' '+' '+']\n",
      "[[0.74538745 0.25461255]\n",
      " [0.74538745 0.25461255]\n",
      " [0.74538745 0.25461255]\n",
      " [0.74538745 0.25461255]\n",
      " [0.74538745 0.25461255]\n",
      " [0.74538745 0.25461255]\n",
      " [0.74538745 0.25461255]\n",
      " [0.         1.        ]\n",
      " [0.74538745 0.25461255]\n",
      " [0.74538745 0.25461255]]\n"
     ]
    }
   ],
   "source": [
    "# For max_depth equal to 4\n",
    "dt_4 = DecisionTreeClassifier(max_depth=4)\n",
    "dt_4.fit(X_matrix[:-10], y[:-10])\n",
    "\n",
    "print(dt_4.predict(X_matrix[-10:]))\n",
    "\n",
    "print(dt_4.predict_proba(X_matrix[-10:]))"
   ]
  },
  {
   "cell_type": "code",
   "execution_count": null,
   "metadata": {},
   "outputs": [],
   "source": []
  },
  {
   "cell_type": "code",
   "execution_count": null,
   "metadata": {},
   "outputs": [],
   "source": []
  }
 ],
 "metadata": {
  "kernelspec": {
   "display_name": "Python 3",
   "language": "python",
   "name": "python3"
  },
  "language_info": {
   "codemirror_mode": {
    "name": "ipython",
    "version": 3
   },
   "file_extension": ".py",
   "mimetype": "text/x-python",
   "name": "python",
   "nbconvert_exporter": "python",
   "pygments_lexer": "ipython3",
   "version": "3.8.3"
  }
 },
 "nbformat": 4,
 "nbformat_minor": 4
}
