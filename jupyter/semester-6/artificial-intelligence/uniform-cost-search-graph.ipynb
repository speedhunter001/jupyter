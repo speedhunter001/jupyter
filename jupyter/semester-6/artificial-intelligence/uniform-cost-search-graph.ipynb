{
 "cells": [
  {
   "cell_type": "code",
   "execution_count": 1,
   "metadata": {},
   "outputs": [],
   "source": [
    "import networkx as nx\n",
    "import matplotlib.pyplot as plt\n",
    "\n",
    "%matplotlib inline\n",
    "import warnings\n",
    "warnings.filterwarnings(\"ignore\")"
   ]
  },
  {
   "cell_type": "code",
   "execution_count": 2,
   "metadata": {},
   "outputs": [],
   "source": [
    "def draw_graph_with_nx(G):\n",
    "    pos = nx.spring_layout(G, k=1000, iterations=200)  #k is for spacing between nodes\n",
    "    options = {'node_color':'pink', 'alpha':1, 'node_size':2500, 'width':0.2, 'font_color':'darkred', \n",
    "               'font_size':12, 'arrows':True, 'edge_color':'brown', \n",
    "               'arrowstyle':'Fancy, head_length=1, head_width=1, tail_width=.4'\n",
    "              }\n",
    "    weight_labels = nx.get_edge_attributes(G, 'weight')\n",
    "    labels = nx.get_node_attributes(G, 'label')\n",
    "    nx.draw(G, pos, labels=labels, **options)\n",
    "    nx.draw_networkx_edge_labels(G, pos, edge_labels=weight_labels, font_size=10)\n",
    "    plt.show()"
   ]
  },
  {
   "cell_type": "code",
   "execution_count": 16,
   "metadata": {},
   "outputs": [],
   "source": [
    "class WeightedDiGraph:\n",
    "    def __init__(self):\n",
    "        self.g = {}\n",
    "        \n",
    "    def add_node(self, node):\n",
    "        if node in self.g:\n",
    "            raise ValueError(\"Node already in graph\")\n",
    "            \n",
    "        self.g[node] = []\n",
    "        \n",
    "    def add_edge(self, src, dest, cost):\n",
    "            if src not in self.g:\n",
    "                raise ValueError(\"Source node not in graph\")\n",
    "                \n",
    "            if dest not in self.g:\n",
    "                raise ValueError(\"Destination node not in graph\")\n",
    "                \n",
    "            src_edges = self.g[src]\n",
    "            if dest in src_edges:\n",
    "                return\n",
    "                \n",
    "            src_edges.append( (dest, cost) )\n",
    "            \n",
    "    def traverse_graph(self, start):\n",
    "        q = [start]\n",
    "        visited = []\n",
    "        \n",
    "        while q:\n",
    "            current = q.pop(0)\n",
    "            \n",
    "            if current in visited:\n",
    "                continue\n",
    "                \n",
    "            print(current)\n",
    "            \n",
    "            visited.append(current)\n",
    "            \n",
    "            next_nodes = self.g[current]\n",
    "            \n",
    "            for n in next_nodes:\n",
    "                q.append(n[0])\n",
    "                \n",
    "    \n",
    "    def uniform_cost_search(self, src, goal):\n",
    "        priority_queue = [(0, src)]\n",
    "        visited = []\n",
    "        \n",
    "        while len(priority_queue) != 0:\n",
    "            path_cost, current = priority_queue.pop(0)\n",
    "            print(path_cost, current)\n",
    "            \n",
    "            if current == goal:\n",
    "                return True\n",
    "            \n",
    "            for neighbor in self.g[current]:\n",
    "                if neighbor[0] not in visited:\n",
    "                    visited.append(neighbor[0])\n",
    "                    \n",
    "                    cost_till_neighbor = path_cost + neighbor[1]\n",
    "                    priority_queue.append((cost_till_neighbor, neighbor[0]))\n",
    "                    \n",
    "            priority_queue = sorted(priority_queue, key=lambda node: node[0])\n",
    "            \n",
    "        return False\n",
    "\n",
    "    \n",
    "    # Probably wrong not tested\n",
    "    def uniform_cost_search_min_3(self, src, goal):\n",
    "        priority_queue = [(0, src)]\n",
    "        visited = []\n",
    "        min_list = []\n",
    "        \n",
    "        while len(priority_queue) != 0:\n",
    "            path_cost, current = priority_queue.pop(0)\n",
    "            print(path_cost, current)\n",
    "            \n",
    "            if current == goal:\n",
    "                min_list.append(path_cost)\n",
    "#                 return True\n",
    "            \n",
    "            for neighbor in self.g[current]:\n",
    "                if neighbor[0] not in visited:\n",
    "                    visited.append(neighbor[0])\n",
    "                    \n",
    "                    cost_till_neighbor = path_cost + neighbor[1]\n",
    "                    priority_queue.append((cost_till_neighbor, neighbor[0]))\n",
    "                    \n",
    "            priority_queue = sorted(priority_queue, key=lambda node: node[0])\n",
    "            \n",
    "        return min_list\n",
    "    \n",
    "    \n",
    "                    \n",
    "    def draw_graph(self):\n",
    "        G = nx.DiGraph()\n",
    "        for src in self.g:\n",
    "            G.add_node(src, label=src)\n",
    "            for dest in self.g[src]:\n",
    "                G.add_edge(src, dest[0], weight=str(dest[1]))\n",
    "        \n",
    "        draw_graph_with_nx(G)    "
   ]
  },
  {
   "cell_type": "code",
   "execution_count": 17,
   "metadata": {},
   "outputs": [],
   "source": [
    "g = WeightedDiGraph()\n",
    "\n",
    "nodes = [ 'S', \n",
    "          'A',\n",
    "          'B',\n",
    "          'C', \n",
    "          'D', \n",
    "          'E', \n",
    "          'F', \n",
    "          'G', \n",
    "          'H',\n",
    "          'I',\n",
    "          'J',\n",
    "          'K',  ]\n",
    "for n in nodes:\n",
    "    g.add_node(n)\n",
    "    \n",
    "edges_1 = [\n",
    "    ('S', 'A', 140),  #(source, destination, time, distance)\n",
    "    ('A', 'B', 360),\n",
    "    ('B', 'C', 130),\n",
    "    ('B', 'D', 200),\n",
    "    ('C', 'E', 260),\n",
    "    ('D', 'E', 200),\n",
    "    ('E', 'F', 400),\n",
    "    ('F', 'G', 290),\n",
    "    ('G', 'H', 160),\n",
    "    ('A', 'I', 240),\n",
    "    ('I', 'J', 660),\n",
    "    ('J', 'F', 320),\n",
    "    ('A', 'K', 290),\n",
    "    ('K', 'E', 320),\n",
    "    ('S', 'B', 230),\n",
    "    ('S', 'C', 260)\n",
    "]\n",
    "for e in edges_1:\n",
    "    g.add_edge(e[0], e[1], e[2])    "
   ]
  },
  {
   "cell_type": "code",
   "execution_count": 18,
   "metadata": {},
   "outputs": [
    {
     "data": {
      "image/png": "[encoded data removed]",
      "text/plain": [
       "<Figure size 432x288 with 1 Axes>"
      ]
     },
     "metadata": {},
     "output_type": "display_data"
    }
   ],
   "source": [
    "g.draw_graph()"
   ]
  },
  {
   "cell_type": "code",
   "execution_count": 19,
   "metadata": {},
   "outputs": [
    {
     "name": "stdout",
     "output_type": "stream",
     "text": [
      "0 S\n",
      "140 A\n",
      "230 B\n",
      "260 C\n",
      "380 I\n",
      "430 K\n",
      "430 D\n",
      "520 E\n",
      "920 F\n",
      "1040 J\n",
      "1210 G\n",
      "1370 H\n"
     ]
    },
    {
     "data": {
      "text/plain": [
       "True"
      ]
     },
     "execution_count": 19,
     "metadata": {},
     "output_type": "execute_result"
    }
   ],
   "source": [
    "g.uniform_cost_search('S', 'H')"
   ]
  },
  {
   "cell_type": "code",
   "execution_count": 20,
   "metadata": {},
   "outputs": [
    {
     "name": "stdout",
     "output_type": "stream",
     "text": [
      "0 S\n",
      "140 A\n",
      "230 B\n",
      "260 C\n",
      "380 I\n",
      "430 K\n",
      "430 D\n",
      "520 E\n",
      "920 F\n",
      "1040 J\n",
      "1210 G\n",
      "1370 H\n"
     ]
    },
    {
     "data": {
      "text/plain": [
       "[1370]"
      ]
     },
     "execution_count": 20,
     "metadata": {},
     "output_type": "execute_result"
    }
   ],
   "source": [
    "g.uniform_cost_search_min_3('S', 'H')"
   ]
  },
  {
   "cell_type": "code",
   "execution_count": null,
   "metadata": {},
   "outputs": [],
   "source": []
  }
 ],
 "metadata": {
  "kernelspec": {
   "display_name": "Python 3",
   "language": "python",
   "name": "python3"
  },
  "language_info": {
   "codemirror_mode": {
    "name": "ipython",
    "version": 3
   },
   "file_extension": ".py",
   "mimetype": "text/x-python",
   "name": "python",
   "nbconvert_exporter": "python",
   "pygments_lexer": "ipython3",
   "version": "3.8.3"
  }
 },
 "nbformat": 4,
 "nbformat_minor": 4
}
