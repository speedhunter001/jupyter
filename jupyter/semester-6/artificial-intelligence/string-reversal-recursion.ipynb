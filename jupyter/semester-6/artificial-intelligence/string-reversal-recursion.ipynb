{
 "cells": [
  {
   "cell_type": "code",
   "execution_count": 25,
   "metadata": {},
   "outputs": [],
   "source": [
    "def reverse_string(string, index=0):\n",
    "    if index+1 == len(string):  # base case: last character\n",
    "        return string[index]\n",
    "    else:\n",
    "        return  reverse_string(string, index+1) + string[index]     "
   ]
  },
  {
   "cell_type": "code",
   "execution_count": 38,
   "metadata": {},
   "outputs": [
    {
     "name": "stdout",
     "output_type": "stream",
     "text": [
      "olleh\n"
     ]
    }
   ],
   "source": [
    "print(reverse_string('hello'))"
   ]
  },
  {
   "cell_type": "code",
   "execution_count": 36,
   "metadata": {},
   "outputs": [],
   "source": [
    "def reverse_sentence(sentence, words=[], index=0):\n",
    "    \n",
    "    words = sentence.split(' ')\n",
    "    \n",
    "    if index+1 == len(words):\n",
    "        return words[index]\n",
    "    \n",
    "    else:\n",
    "        return reverse_sentence(sentence, words, index+1) + ' ' +words[index]"
   ]
  },
  {
   "cell_type": "code",
   "execution_count": 37,
   "metadata": {},
   "outputs": [
    {
     "name": "stdout",
     "output_type": "stream",
     "text": [
      "ammar is name my hello\n"
     ]
    }
   ],
   "source": [
    "print(reverse_sentence('hello my name is ammar'))"
   ]
  },
  {
   "cell_type": "code",
   "execution_count": null,
   "metadata": {},
   "outputs": [],
   "source": []
  }
 ],
 "metadata": {
  "kernelspec": {
   "display_name": "Python 3",
   "language": "python",
   "name": "python3"
  },
  "language_info": {
   "codemirror_mode": {
    "name": "ipython",
    "version": 3
   },
   "file_extension": ".py",
   "mimetype": "text/x-python",
   "name": "python",
   "nbconvert_exporter": "python",
   "pygments_lexer": "ipython3",
   "version": "3.8.3"
  }
 },
 "nbformat": 4,
 "nbformat_minor": 4
}
