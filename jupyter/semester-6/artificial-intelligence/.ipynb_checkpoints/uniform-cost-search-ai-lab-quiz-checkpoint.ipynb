{
 "cells": [
  {
   "cell_type": "code",
   "execution_count": 1,
   "metadata": {},
   "outputs": [],
   "source": [
    "import pandas as pd\n",
    "import random as rand"
   ]
  },
  {
   "cell_type": "code",
   "execution_count": 2,
   "metadata": {},
   "outputs": [
    {
     "data": {
      "text/plain": [
       "[['Z', 'A', 'E', 'B', 'W', '$'],\n",
       " ['H', 'F', 'G', 'X', 'F', 'D'],\n",
       " ['*', 'R', 'S', '#', 'M', 'K'],\n",
       " ['G', 'H', 'T', 'O', 'R', 'L'],\n",
       " ['D', 'I', '@', 'S', 'C', 'Y'],\n",
       " ['V', 'W', 'N', 'P', 'Q', 'X']]"
      ]
     },
     "execution_count": 2,
     "metadata": {},
     "output_type": "execute_result"
    }
   ],
   "source": [
    "d = open('./characters.txt').read()\n",
    "board = []\n",
    "row = []\n",
    "\n",
    "for ch in d:\n",
    "    if ch in [',', ' ']:\n",
    "        continue\n",
    "    elif ch == '\\n':\n",
    "        board.append(row)\n",
    "        row = []\n",
    "    else:\n",
    "        row.append(ch)\n",
    "board.append(row)\n",
    "board"
   ]
  },
  {
   "cell_type": "code",
   "execution_count": 5,
   "metadata": {},
   "outputs": [],
   "source": [
    "def generate_k_random_states(board, k):\n",
    "    k_states = []\n",
    "    for _ in range(k):\n",
    "        rand_row = rand.randrange(0,len(board))\n",
    "        rand_col = rand.randrange(0,len(board))\n",
    "        k_states.append((rand_row, rand_col))    \n",
    "    return k_states\n",
    "\n",
    "def generate_all_successors(board, k_states):\n",
    "    successors = []\n",
    "    for state in k_states:\n",
    "        for action in possible_actions(state):\n",
    "            child = transition_model(board, state, action)\n",
    "            successors.append(child)    \n",
    "    return successors\n",
    "\n",
    "def increment_decrement_pos(board, row, num_to_move):\n",
    "    return (row + num_to_move)%len(board)\n",
    "\n",
    "\n",
    "def possible_actions(state):\n",
    "    return ['up', 'down', 'left', 'right']\n",
    "\n",
    "def transition_model(board, state, action):\n",
    "    row, col = state\n",
    "    new_row, new_col = row, col\n",
    "    if action == 'up':\n",
    "        new_row = increment_decrement_pos(board, row, -1)\n",
    "    elif action == 'down':\n",
    "        new_row = increment_decrement_pos(board, row, 1)        \n",
    "    elif action == 'left':\n",
    "        new_col = increment_decrement_pos(board, col, -1)\n",
    "    elif action == 'right':\n",
    "        new_row = increment_decrement_pos(board, row, 1)\n",
    "    \n",
    "    return new_row, new_col\n",
    "\n",
    "def goal(board, successors):\n",
    "    for state in successors:\n",
    "        row, col = state\n",
    "        if ord(board[row][col]) >= 80:\n",
    "            return True\n",
    "    return False\n",
    "\n",
    "\n",
    "\n",
    "def local_beam_search(board, k):\n",
    "    # generate k random states\n",
    "    k_states = generate_k_random_states(board, k)\n",
    "    \n",
    "    while True:\n",
    "        # generate all successors of k states\n",
    "        successors = generate_all_successors(board, k_states)\n",
    "        \n",
    "        # if goal\n",
    "        if goal(board, successors):\n",
    "            return max(successors, key=lambda state: ord(board[state[0]][state[1]]))\n",
    "        \n",
    "        # select k best successors\n",
    "        sorted_successors = sorted(successors, key=lambda state: ord(board[state[0]][state[1]]), reverse=True) # sorted in descending order\n",
    "        k_states = sorted_successors[:k]"
   ]
  },
  {
   "cell_type": "code",
   "execution_count": 6,
   "metadata": {},
   "outputs": [
    {
     "name": "stdout",
     "output_type": "stream",
     "text": [
      "Z\n"
     ]
    }
   ],
   "source": [
    "sol = local_beam_search(board, 4)\n",
    "print(board[sol[0]][sol[1]])"
   ]
  },
  {
   "cell_type": "code",
   "execution_count": null,
   "metadata": {},
   "outputs": [],
   "source": []
  }
 ],
 "metadata": {
  "kernelspec": {
   "display_name": "Python 3",
   "language": "python",
   "name": "python3"
  },
  "language_info": {
   "codemirror_mode": {
    "name": "ipython",
    "version": 3
   },
   "file_extension": ".py",
   "mimetype": "text/x-python",
   "name": "python",
   "nbconvert_exporter": "python",
   "pygments_lexer": "ipython3",
   "version": "3.8.3"
  }
 },
 "nbformat": 4,
 "nbformat_minor": 4
}
