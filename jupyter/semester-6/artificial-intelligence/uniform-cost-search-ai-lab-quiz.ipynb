{
 "cells": [
  {
   "cell_type": "code",
   "execution_count": 11,
   "metadata": {},
   "outputs": [],
   "source": [
    "import pandas as pd"
   ]
  },
  {
   "cell_type": "code",
   "execution_count": 12,
   "metadata": {},
   "outputs": [
    {
     "data": {
      "text/plain": [
       "[['Z', 'A', 'E', 'B', 'W', '$'],\n",
       " ['H', 'F', 'G', 'X', 'F', 'D'],\n",
       " ['*', 'R', 'S', '#', 'M', 'K'],\n",
       " ['G', 'H', 'T', 'O', 'R', 'L'],\n",
       " ['D', 'I', '@', 'S', 'C', 'Y'],\n",
       " ['V', 'W', 'N', 'P', 'Q', 'X']]"
      ]
     },
     "execution_count": 12,
     "metadata": {},
     "output_type": "execute_result"
    }
   ],
   "source": [
    "d = open('./characters.txt').read()\n",
    "board = []\n",
    "row = []\n",
    "\n",
    "for ch in d:\n",
    "    if ch in [',', ' ']:\n",
    "        continue\n",
    "    elif ch == '\\n':\n",
    "        board.append(row)\n",
    "        row = []\n",
    "    else:\n",
    "        row.append(ch)\n",
    "board.append(row)\n",
    "board"
   ]
  },
  {
   "cell_type": "code",
   "execution_count": 18,
   "metadata": {},
   "outputs": [],
   "source": [
    "def possible_actions(board, state):\n",
    "    actions = []\n",
    "    if state['row']-1 >= 0:\n",
    "        actions.append('up')\n",
    "    \n",
    "    if state['row']+1 < len(board):\n",
    "        actions.append('down')\n",
    "        \n",
    "    if state['col']-1 >= 0:\n",
    "        actions.append('left')\n",
    "        \n",
    "    if state['col']+1 < len(board):\n",
    "        actions.append('right')\n",
    "        \n",
    "    return actions\n",
    "\n",
    "def transition_model(board, state, action):\n",
    "    row, col = state['row'], state['col']\n",
    "    new_row, new_col = row, col\n",
    "    \n",
    "    if action == 'up':\n",
    "        new_row = row-1\n",
    "    elif action == 'down':\n",
    "        new_row = row+1\n",
    "    elif action == 'left':\n",
    "        new_col = col-1\n",
    "    elif action == 'right':\n",
    "        new_col = col+1\n",
    "    \n",
    "    return {'row':new_row, 'col':new_col}\n",
    "\n",
    "\n",
    "def goal(board, state, goal_state):\n",
    "    if state['row'] == goal_state['row'] and state['col'] == goal_state['col']:\n",
    "        return True\n",
    "    return False\n",
    "\n",
    "\n",
    "# Would be used in searching tree we construct later\n",
    "class Node:\n",
    "    def __init__(self, parent, state, parent_action, path_cost):\n",
    "        self.parent = parent\n",
    "        self.state = state\n",
    "        self.parent_action = parent_action\n",
    "        self.path_cost = path_cost \n",
    "        \n",
    "class ChildNode(Node):\n",
    "    def __init__(self, parent, parent_action):\n",
    "        state = transition_model(board, parent.state, parent_action)  # This will give new state when a state applies an action\n",
    "        path_cost = parent.path_cost + manhattan_dist(initial_state, state)  # This would sum of step costs of path at each individual state\n",
    "\n",
    "        super().__init__(parent=parent, \n",
    "                         state=state, \n",
    "                         parent_action=parent_action,\n",
    "                         path_cost=path_cost)\n",
    "\n",
    "\n",
    "def uniform_cost_search(board, initial_state, val_to_search):\n",
    "    priority_queue = [Node(parent=None, \n",
    "                           state=initial_state,\n",
    "                           parent_action=None,\n",
    "                           path_cost=0)]\n",
    "    explored = []\n",
    "    \n",
    "    while len(priority_queue) != 0:\n",
    "        current_node = priority_queue.pop(0)\n",
    "\n",
    "        if goal(board, current_node.state, goal_state):\n",
    "            return True\n",
    "        \n",
    "#         print(possible_actions(board, current_node.state))\n",
    "        explored.append(current_node.state)\n",
    "        for action in possible_actions(board, current_node.state):\n",
    "            child = ChildNode(current_node, action)\n",
    "#             print('child of', board[current_node.state['row']][current_node.state['col']], 'is',board[child.state['row']][child.state['col']])\n",
    "            if child.state not in explored:\n",
    "                priority_queue.append(child)\n",
    "            \n",
    "        priority_queue = sorted(priority_queue, key=lambda node: node.path_cost)\n",
    "        \n",
    "    return False\n",
    "\n",
    "def manhattan_dist(initial_state, state):\n",
    "    return  ( abs( initial_state['row']-state['row'] )\n",
    "                            +\n",
    "              abs( initial_state['col']-state['col'] )  )"
   ]
  },
  {
   "cell_type": "code",
   "execution_count": 19,
   "metadata": {},
   "outputs": [
    {
     "data": {
      "text/plain": [
       "True"
      ]
     },
     "execution_count": 19,
     "metadata": {},
     "output_type": "execute_result"
    }
   ],
   "source": [
    "initial_state = {'row':0, 'col':0}\n",
    "goal_state = {'row':4, 'col':5}\n",
    "\n",
    "uniform_cost_search(board, initial_state, goal_state)"
   ]
  },
  {
   "cell_type": "code",
   "execution_count": null,
   "metadata": {},
   "outputs": [],
   "source": []
  },
  {
   "cell_type": "code",
   "execution_count": null,
   "metadata": {},
   "outputs": [],
   "source": []
  }
 ],
 "metadata": {
  "kernelspec": {
   "display_name": "Python 3",
   "language": "python",
   "name": "python3"
  },
  "language_info": {
   "codemirror_mode": {
    "name": "ipython",
    "version": 3
   },
   "file_extension": ".py",
   "mimetype": "text/x-python",
   "name": "python",
   "nbconvert_exporter": "python",
   "pygments_lexer": "ipython3",
   "version": "3.8.3"
  }
 },
 "nbformat": 4,
 "nbformat_minor": 4
}
