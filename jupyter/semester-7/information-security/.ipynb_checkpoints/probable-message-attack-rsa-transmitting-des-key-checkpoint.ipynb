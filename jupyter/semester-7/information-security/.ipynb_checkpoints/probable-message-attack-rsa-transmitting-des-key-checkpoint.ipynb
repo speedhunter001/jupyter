{
 "cells": [
  {
   "cell_type": "code",
   "execution_count": 148,
   "metadata": {},
   "outputs": [],
   "source": [
    "# If you use a library for RSA probable message attack may not work as they use salt which gives different cipher each time\n",
    "class RSA:\n",
    "    def __init__(self):\n",
    "        self.p = 211\n",
    "        self.q = 719\n",
    "        self.k = 14\n",
    "\n",
    "        self.n = self.p * self.q     # Must be greater than ascii of each character to be encrypted otherwise decryption won't be same\n",
    "        self.phi = (self.p-1) * (self.q-1)\n",
    "\n",
    "        self.e = self._get_e(self.phi)\n",
    "        self.d = self._get_d()\n",
    "\n",
    "    # Help function to find e\n",
    "    def _gcd(self, a, b):\n",
    "\n",
    "        while b != 0:\n",
    "            a, b = b, a % b\n",
    "\n",
    "        return a\n",
    "\n",
    "    \n",
    "    # Finding e\n",
    "    def _get_e(self, phi):\n",
    "        e = 2\n",
    "\n",
    "        while self._gcd(e, phi) != 1:   # It breaks if e is co-factor of phi\n",
    "            e = e + 1\n",
    "\n",
    "        return e\n",
    "\n",
    "\n",
    "    # Now finding d\n",
    "    def _get_d(self, init_val = 1):\n",
    "\n",
    "        d = init_val\n",
    "\n",
    "        while (self.e*d % self.phi) != 1:\n",
    "            d = d + 1\n",
    "\n",
    "        return d\n",
    "    \n",
    "    \n",
    "    # Encrypting whole message using public key (e, n)\n",
    "    def encrypt(self, message):\n",
    "        cipher = []\n",
    "        \n",
    "        for ch in message:\n",
    "            ch = ord(ch)   # Getting ASCII\n",
    "            encrypted = ch**self.e % self.n\n",
    "            cipher.append(encrypted)\n",
    "        \n",
    "        cipher = list( map(lambda enc_ch: str(enc_ch), cipher) )   \n",
    "        return ','.join(cipher)\n",
    "        \n",
    "    \n",
    "    # Decrypting a cipher using private key (d)\n",
    "    def decrypt(self, cipher):\n",
    "        cipher = cipher.split(',')\n",
    "        message = []\n",
    "        \n",
    "        for ch in cipher:\n",
    "            ch = int(ch)   \n",
    "            decrypted = ch**self.d % self.n\n",
    "            message.append(chr(decrypted))\n",
    "        \n",
    "        return ''.join(message)"
   ]
  },
  {
   "cell_type": "code",
   "execution_count": 147,
   "metadata": {},
   "outputs": [],
   "source": [
    "# Probable Message Attack for a RSA encryption transmitting 56 bit DES key\n",
    "class ProbableMessageAttack:\n",
    "    def __init__(self, possible_key_byte_vals, rsa, cipher):\n",
    "        self.possible_key_byte_vals = possible_key_byte_vals\n",
    "        self.possible_des_keys = self.gen_possible_des_keys(possible_key_byte_vals)\n",
    "        self.cipher = cipher\n",
    "        \n",
    "    \n",
    "    # Method used for generating key one by one upon requirement\n",
    "    def gen_possible_des_keys(self, k_vals):\n",
    "    # Loops are 7 times because we are sayting that key must have 7 bytes only (56 bits) and each byte can be any value from k_vals\n",
    "        for one in k_vals:\n",
    "            for two in k_vals:\n",
    "                for three in k_vals:\n",
    "                    for four in k_vals:\n",
    "                        for five in k_vals:\n",
    "                            for six in k_vals:\n",
    "                                for seven in k_vals:\n",
    "                                    yield one+two+three+four+five+six+seven\n",
    "                                        \n",
    "    # Method to start brute forcing\n",
    "    def start_attack(self):\n",
    "        keys_searched = 0\n",
    "        \n",
    "        for des_key in self.possible_des_keys:\n",
    "            keys_searched += 1\n",
    "            print(\"des_key:\", des_key)\n",
    "            \n",
    "            des_key_rsa_cipher = rsa.encrypt(des_key)\n",
    "            print(\"Actual cipher:\", self.cipher, \"Generated cipher:\", des_key_rsa_cipher, '\\n')\n",
    "            \n",
    "            if des_key_rsa_cipher == self.cipher:\n",
    "                print(\"DES Key found:\", des_key, 'by brute forcing', keys_searched, 'keys')\n",
    "                return des_key"
   ]
  },
  {
   "cell_type": "code",
   "execution_count": 154,
   "metadata": {},
   "outputs": [
    {
     "name": "stdout",
     "output_type": "stream",
     "text": [
      "cipher: 82116,82116,82116,82116,82116,82116,144613\n",
      "decrypted: 1111115\n"
     ]
    }
   ],
   "source": [
    "rsa = RSA()\n",
    "message = '1111115'  # Message to be transmitted is DES key thats why probable message attack can be performed\n",
    "\n",
    "cipher = rsa.encrypt(message)\n",
    "print('cipher:', cipher)\n",
    "\n",
    "decrypted = rsa.decrypt(cipher)\n",
    "print('decrypted:', decrypted)"
   ]
  },
  {
   "cell_type": "code",
   "execution_count": 155,
   "metadata": {},
   "outputs": [
    {
     "name": "stdout",
     "output_type": "stream",
     "text": [
      "des_key: 1111111\n",
      "Actual cipher: 82116,82116,82116,82116,82116,82116,144613 Generated cipher: 82116,82116,82116,82116,82116,82116,82116 \n",
      "\n",
      "des_key: 1111112\n",
      "Actual cipher: 82116,82116,82116,82116,82116,82116,144613 Generated cipher: 82116,82116,82116,82116,82116,82116,50386 \n",
      "\n",
      "des_key: 1111113\n",
      "Actual cipher: 82116,82116,82116,82116,82116,82116,144613 Generated cipher: 82116,82116,82116,82116,82116,82116,27486 \n",
      "\n",
      "des_key: 1111114\n",
      "Actual cipher: 82116,82116,82116,82116,82116,82116,144613 Generated cipher: 82116,82116,82116,82116,82116,82116,57894 \n",
      "\n",
      "des_key: 1111115\n",
      "Actual cipher: 82116,82116,82116,82116,82116,82116,144613 Generated cipher: 82116,82116,82116,82116,82116,82116,144613 \n",
      "\n",
      "DES Key found: 1111115 by brute forcing 5 keys\n",
      "1111115\n"
     ]
    }
   ],
   "source": [
    "possible_key_vals = ['1', '2', '3', '4', '5', '6', '7']   # Originally there are 56 bits in DES key so 7 bytes so each byte should have any of 256 possible values but that would take so much time\n",
    "probable_message_attack = ProbableMessageAttack(possible_key_vals, rsa, cipher)\n",
    "des_key_transmitted = probable_message_attack.start_attack()\n",
    "print(des_key_transmitted)"
   ]
  },
  {
   "cell_type": "code",
   "execution_count": null,
   "metadata": {},
   "outputs": [],
   "source": []
  }
 ],
 "metadata": {
  "kernelspec": {
   "display_name": "Python 3",
   "language": "python",
   "name": "python3"
  },
  "language_info": {
   "codemirror_mode": {
    "name": "ipython",
    "version": 3
   },
   "file_extension": ".py",
   "mimetype": "text/x-python",
   "name": "python",
   "nbconvert_exporter": "python",
   "pygments_lexer": "ipython3",
   "version": "3.8.10"
  }
 },
 "nbformat": 4,
 "nbformat_minor": 4
}
