{
 "cells": [
  {
   "cell_type": "markdown",
   "metadata": {
    "colab_type": "text",
    "id": "Rvn8TD_9XJRO"
   },
   "source": [
    "# Contours, More Functions"
   ]
  },
  {
   "cell_type": "code",
   "execution_count": 2,
   "metadata": {},
   "outputs": [],
   "source": [
    "import cv2\n",
    "import matplotlib.pyplot as plt\n",
    "import numpy as np"
   ]
  },
  {
   "cell_type": "markdown",
   "metadata": {
    "colab_type": "text",
    "id": "Bw-TQYmxXJRo"
   },
   "source": [
    "### Getting the center for the contours"
   ]
  },
  {
   "cell_type": "code",
   "execution_count": 0,
   "metadata": {
    "colab": {},
    "colab_type": "code",
    "id": "hzCtcFgVXJRp",
    "outputId": "37f0b6c1-ef5a-404c-e55d-94ed6a8a2f29"
   },
   "outputs": [
    {
     "name": "stdout",
     "output_type": "stream",
     "text": [
      "65 66\n"
     ]
    }
   ],
   "source": [
    "cx = int(M['m10']/M['m00'])\n",
    "cy = int(M['m01']/M['m00'])\n",
    "print(cx,cy)\n",
    "\n",
    "cv2.circle(img,(cx,cy), 5, (0,0,255), -1)\n",
    "cv2.imshow('image',img)\n",
    "cv2.waitKey(0)\n",
    "cv2.destroyAllWindows()"
   ]
  },
  {
   "cell_type": "markdown",
   "metadata": {
    "colab_type": "text",
    "id": "bSyJxjkBXJRs"
   },
   "source": [
    "### Getting Area & Perimeter"
   ]
  },
  {
   "cell_type": "code",
   "execution_count": 0,
   "metadata": {
    "colab": {},
    "colab_type": "code",
    "id": "R2TEWhnuXJRt",
    "outputId": "f319d581-9774-4cd3-ebda-f5ebcdb212eb"
   },
   "outputs": [
    {
     "name": "stdout",
     "output_type": "stream",
     "text": [
      "4043.0 4043.0\n",
      "609.7543948888779\n"
     ]
    }
   ],
   "source": [
    "area = cv2.contourArea(cnt)\n",
    "area2 = M['m00']\n",
    "print(area,area2)\n",
    "#contour perimeter is also called arc length. It can be found out using cv2.arcLength() function.\n",
    "#Second argument specify whether shape is a closed contour (if passed True), or just a curve.\n",
    "perimeter = cv2.arcLength(cnt,True)\n",
    "print(perimeter)"
   ]
  },
  {
   "cell_type": "code",
   "execution_count": 0,
   "metadata": {
    "colab": {},
    "colab_type": "code",
    "id": "Ru_izyBfXJR4",
    "outputId": "c31a7739-69a5-4812-e265-5e6f8af50ef6"
   },
   "outputs": [
    {
     "data": {
      "text/plain": [
       "False"
      ]
     },
     "execution_count": 9,
     "metadata": {
      "tags": []
     },
     "output_type": "execute_result"
    }
   ],
   "source": [
    "#checking convexity\n",
    "cv2.isContourConvex(cnt)\n"
   ]
  },
  {
   "cell_type": "markdown",
   "metadata": {
    "colab_type": "text",
    "id": "pMFXowGzXJSI"
   },
   "source": [
    "## Hu- moments\n",
    "Hu-Moments are some moments invariant to translation, and some other variations"
   ]
  },
  {
   "cell_type": "markdown",
   "metadata": {
    "colab_type": "text",
    "id": "c2d1fW3gXJSI"
   },
   "source": [
    "#### Aspect ratio\n",
    "It is the ratio of width to height of bounding rect of the object.\n",
    "\n"
   ]
  },
  {
   "cell_type": "code",
   "execution_count": 0,
   "metadata": {
    "colab": {},
    "colab_type": "code",
    "id": "fpZkNhvcXJSJ",
    "outputId": "50f8af38-9ef8-4f54-cffe-88b581241350"
   },
   "outputs": [
    {
     "data": {
      "text/plain": [
       "0.9781021897810219"
      ]
     },
     "execution_count": 87,
     "metadata": {
      "tags": []
     },
     "output_type": "execute_result"
    }
   ],
   "source": [
    "x,y,w,h = cv2.boundingRect(cnt)\n",
    "aspect_ratio = float(w)/h\n",
    "aspect_ratio"
   ]
  },
  {
   "cell_type": "markdown",
   "metadata": {
    "colab_type": "text",
    "id": "fl175P9RXJSM"
   },
   "source": [
    "#### Extent\n",
    "Extent is the ratio of contour area to bounding rectangle area."
   ]
  },
  {
   "cell_type": "code",
   "execution_count": 0,
   "metadata": {
    "colab": {},
    "colab_type": "code",
    "id": "sktXfChmXJSO",
    "outputId": "fed8156b-3e97-4dc2-e982-8a8c057ba450"
   },
   "outputs": [
    {
     "data": {
      "text/plain": [
       "0.145672186512692"
      ]
     },
     "execution_count": 88,
     "metadata": {
      "tags": []
     },
     "output_type": "execute_result"
    }
   ],
   "source": [
    "area = cv2.contourArea(cnt)\n",
    "x,y,w,h = cv2.boundingRect(cnt)\n",
    "rect_area = w*h\n",
    "extent = float(area)/rect_area\n",
    "extent"
   ]
  },
  {
   "cell_type": "markdown",
   "metadata": {
    "colab_type": "text",
    "id": "GoJiGrfkXJST"
   },
   "source": [
    "#### Solidity\n",
    "Solidity is the ratio of contour area to its convex hull area."
   ]
  },
  {
   "cell_type": "code",
   "execution_count": 0,
   "metadata": {
    "colab": {},
    "colab_type": "code",
    "id": "cuJcLsIXXJSU",
    "outputId": "7b158cec-7f2b-4ca5-fd82-91d74a2ab1aa"
   },
   "outputs": [
    {
     "data": {
      "text/plain": [
       "0.5726598677694799"
      ]
     },
     "execution_count": 89,
     "metadata": {
      "tags": []
     },
     "output_type": "execute_result"
    }
   ],
   "source": [
    "area = cv2.contourArea(cnt)\n",
    "hull = cv2.convexHull(cnt)\n",
    "hull_area = cv2.contourArea(hull)\n",
    "solidity = float(area)/hull_area\n",
    "solidity"
   ]
  },
  {
   "cell_type": "markdown",
   "metadata": {
    "colab_type": "text",
    "id": "OJtBC7TzXJSW"
   },
   "source": [
    "#### Equivalent Diameter\n",
    "Equivalent Diameter is the diameter of the circle whose area is same as the contour area."
   ]
  },
  {
   "cell_type": "code",
   "execution_count": 0,
   "metadata": {
    "colab": {},
    "colab_type": "code",
    "id": "XiNZBCFHXJSX",
    "outputId": "34ad2dc6-5c77-4d76-f98d-68eed2eacb62"
   },
   "outputs": [
    {
     "data": {
      "text/plain": [
       "116.70408480439764"
      ]
     },
     "execution_count": 90,
     "metadata": {
      "tags": []
     },
     "output_type": "execute_result"
    }
   ],
   "source": [
    "area = cv2.contourArea(cnt)\n",
    "equi_diameter = np.sqrt(4*area/np.pi) # we are making pi r square to 2 pi which is the diameter\n",
    "equi_diameter"
   ]
  },
  {
   "cell_type": "markdown",
   "metadata": {
    "colab_type": "text",
    "id": "rx13edN0XJSZ"
   },
   "source": [
    "#### Orientation\n",
    "Orientation is the angle at which object is directed. Following method also gives the Major Axis and Minor Axis lengths."
   ]
  },
  {
   "cell_type": "code",
   "execution_count": 0,
   "metadata": {
    "colab": {},
    "colab_type": "code",
    "id": "XJTQzLz5XJSa",
    "outputId": "a2184295-2637-4b85-9c3b-dfa13cdc6a5a"
   },
   "outputs": [
    {
     "data": {
      "text/plain": [
       "139.1864471435547"
      ]
     },
     "execution_count": 91,
     "metadata": {
      "tags": []
     },
     "output_type": "execute_result"
    }
   ],
   "source": [
    "(x,y),(MA,ma),angle = cv2.fitEllipse(cnt)\n",
    "angle"
   ]
  },
  {
   "cell_type": "markdown",
   "metadata": {
    "colab_type": "text",
    "id": "E0QtbSXZXJSc"
   },
   "source": [
    "### Get contour Mask"
   ]
  },
  {
   "cell_type": "code",
   "execution_count": 0,
   "metadata": {
    "colab": {},
    "colab_type": "code",
    "id": "PSABKM2AXJSd"
   },
   "outputs": [],
   "source": [
    "img22 = cv2.imread('media/M9/sword1.PNG',1)\n",
    "img2= cv2.cvtColor(img22,cv2.COLOR_BGR2GRAY)\n",
    "ret,thresh = cv2.threshold(img2,234,255,0)  # for maps\n",
    "thresh2 = cv2.bitwise_not(thresh)\n",
    "_,contours,hierarchy = cv2.findContours(thresh2,cv2.RETR_EXTERNAL,cv2.CHAIN_APPROX_SIMPLE)\n",
    "cnt= contours[0]\n",
    "\n",
    "\n",
    "mask = np.zeros(img22.shape[:2],np.uint8)\n",
    "cv2.drawContours(mask,[cnt],0,255,-1)\n",
    "cv2.imshow('image',mask)\n",
    "cv2.waitKey(0)\n",
    "cv2.destroyAllWindows()"
   ]
  },
  {
   "cell_type": "markdown",
   "metadata": {
    "colab_type": "text",
    "id": "rgqcqYAJXJSf"
   },
   "source": [
    "### Mean Color \n",
    "Here, we can find the average color of an object. Or it can be average intensity of the object in grayscale mode. We again use the same mask to do it.\n",
    "\n"
   ]
  },
  {
   "cell_type": "code",
   "execution_count": 0,
   "metadata": {
    "colab": {},
    "colab_type": "code",
    "id": "OMkkDFEPXJSg",
    "outputId": "78007bbb-ce1f-4913-99e7-33d09180d534"
   },
   "outputs": [
    {
     "data": {
      "text/plain": [
       "(79.24207119741101, 89.28381877022653, 169.5443365695793, 0.0)"
      ]
     },
     "execution_count": 92,
     "metadata": {
      "tags": []
     },
     "output_type": "execute_result"
    }
   ],
   "source": [
    "mean_val = cv2.mean(img,mask=mask)\n",
    "mean_val"
   ]
  },
  {
   "cell_type": "markdown",
   "metadata": {
    "colab_type": "text",
    "id": "TqQJr3T6XJSi"
   },
   "source": [
    "#### Extreme Points\n",
    "Extreme Points means topmost, bottommost, rightmost and leftmost points of the object."
   ]
  },
  {
   "cell_type": "code",
   "execution_count": 0,
   "metadata": {
    "colab": {},
    "colab_type": "code",
    "id": "5H8sNZGPXJSj"
   },
   "outputs": [],
   "source": [
    "img22 = cv2.imread('media/M9/map.PNG',1)\n",
    "img2= cv2.cvtColor(img22,cv2.COLOR_BGR2GRAY)\n",
    "ret,thresh = cv2.threshold(img2,234,255,0)  # for maps\n",
    "thresh2 = cv2.bitwise_not(thresh)\n",
    "_,contours,hierarchy = cv2.findContours(thresh2,cv2.RETR_EXTERNAL,cv2.CHAIN_APPROX_SIMPLE)\n",
    "cnt= contours[0]\n",
    "\n",
    "leftmost = tuple(cnt[cnt[:,:,0].argmin()][0])\n",
    "cv2.circle(img22,leftmost,4,(0,255,0),2)   #make radius bigger to finish overlap\n",
    "\n",
    "rightmost = tuple(cnt[cnt[:,:,0].argmax()][0])\n",
    "cv2.circle(img22,rightmost,4,(0,255,0),2)\n",
    "\n",
    "topmost = tuple(cnt[cnt[:,:,1].argmin()][0])\n",
    "cv2.circle(img22,topmost,4,(0,255,0),2)\n",
    "\n",
    "bottommost = tuple(cnt[cnt[:,:,1].argmax()][0])\n",
    "cv2.circle(img22,bottommost,4,(0,255,0),2)\n",
    "\n",
    "cv2.imshow('image',img22)\n",
    "cv2.waitKey(0)\n",
    "cv2.destroyAllWindows()"
   ]
  },
  {
   "cell_type": "markdown",
   "metadata": {},
   "source": [
    "# Point Polygon Test\n",
    "This function finds the shortest distance between a point in the image and a contour. It returns the distance which is negative when point is outside the contour, positive when point is inside and zero if point is on the contour.\n",
    "\n",
    "For example, we can check the point (50,50) as follows:\n",
    "\n",
    "\n",
    "In the following function, third argument is measureDist. If it is True, it finds the signed distance. If False, it finds whether the point is inside or outside or on the contour (it returns +1, -1, 0 respectively).\n",
    "\n",
    "Note If you don’t want to find the distance, make sure third argument is False, because, it is a time consuming process. So, making it False gives about 2-3X speedup."
   ]
  },
  {
   "cell_type": "code",
   "execution_count": null,
   "metadata": {},
   "outputs": [],
   "source": [
    "dist = cv2.pointPolygonTest(cnt,(50,50),False)\n",
    "dist"
   ]
  },
  {
   "cell_type": "markdown",
   "metadata": {},
   "source": [
    "# Match Shapes\n",
    "OpenCV comes with a function cv2.matchShapes() which enables us to compare two shapes, or two contours and returns a metric showing the similarity. The lower the result, the better match it is. It is calculated based on the hu-moment values. Different measurement methods are explained in the docs."
   ]
  },
  {
   "cell_type": "code",
   "execution_count": 1,
   "metadata": {},
   "outputs": [
    {
     "ename": "ValueError",
     "evalue": "not enough values to unpack (expected 3, got 2)",
     "output_type": "error",
     "traceback": [
      "\u001b[1;31m---------------------------------------------------------------------------\u001b[0m",
      "\u001b[1;31mValueError\u001b[0m                                Traceback (most recent call last)",
      "\u001b[1;32m<ipython-input-1-709b4c44d428>\u001b[0m in \u001b[0;36m<module>\u001b[1;34m\u001b[0m\n\u001b[0;32m     13\u001b[0m \u001b[1;33m\u001b[0m\u001b[0m\n\u001b[0;32m     14\u001b[0m \u001b[0mthresh1\u001b[0m \u001b[1;33m=\u001b[0m \u001b[0mcv2\u001b[0m\u001b[1;33m.\u001b[0m\u001b[0mbitwise_not\u001b[0m\u001b[1;33m(\u001b[0m\u001b[0mthresh\u001b[0m\u001b[1;33m)\u001b[0m\u001b[1;33m\u001b[0m\u001b[1;33m\u001b[0m\u001b[0m\n\u001b[1;32m---> 15\u001b[1;33m \u001b[0m_\u001b[0m\u001b[1;33m,\u001b[0m\u001b[0mcontours1\u001b[0m\u001b[1;33m,\u001b[0m\u001b[0mhierarchy\u001b[0m \u001b[1;33m=\u001b[0m \u001b[0mcv2\u001b[0m\u001b[1;33m.\u001b[0m\u001b[0mfindContours\u001b[0m\u001b[1;33m(\u001b[0m\u001b[0mthresh1\u001b[0m\u001b[1;33m,\u001b[0m\u001b[0mcv2\u001b[0m\u001b[1;33m.\u001b[0m\u001b[0mRETR_EXTERNAL\u001b[0m\u001b[1;33m,\u001b[0m\u001b[0mcv2\u001b[0m\u001b[1;33m.\u001b[0m\u001b[0mCHAIN_APPROX_SIMPLE\u001b[0m\u001b[1;33m)\u001b[0m\u001b[1;33m\u001b[0m\u001b[1;33m\u001b[0m\u001b[0m\n\u001b[0m\u001b[0;32m     16\u001b[0m \u001b[0mcnt1\u001b[0m \u001b[1;33m=\u001b[0m \u001b[0mcontours1\u001b[0m\u001b[1;33m[\u001b[0m\u001b[1;36m0\u001b[0m\u001b[1;33m]\u001b[0m\u001b[1;33m\u001b[0m\u001b[1;33m\u001b[0m\u001b[0m\n\u001b[0;32m     17\u001b[0m \u001b[1;33m\u001b[0m\u001b[0m\n",
      "\u001b[1;31mValueError\u001b[0m: not enough values to unpack (expected 3, got 2)"
     ]
    }
   ],
   "source": [
    "import cv2\n",
    "import numpy as np\n",
    "\n",
    "img1 = cv2.imread('media/M9/cstar.jpg',0)\n",
    "img1 = cv2.imread('media/M9/circle.PNG',0)\n",
    "img1 = cv2.imread('media/M9/square1.PNG',0)\n",
    "img2 = cv2.imread('media/M9/star1.PNG',0)\n",
    "\n",
    "\n",
    "\n",
    "ret, thresh = cv2.threshold(img1, 220, 255,0)\n",
    "ret, thresh2 = cv2.threshold(img2, 220, 255,0)\n",
    "\n",
    "thresh1 = cv2.bitwise_not(thresh)\n",
    "_,contours1,hierarchy = cv2.findContours(thresh1,cv2.RETR_EXTERNAL,cv2.CHAIN_APPROX_SIMPLE)\n",
    "cnt1 = contours1[0]\n",
    "\n",
    "\n",
    "thresh22 = cv2.bitwise_not(thresh2)\n",
    "_,contours2,hierarchy2 = cv2.findContours(thresh22,cv2.RETR_EXTERNAL,cv2.CHAIN_APPROX_SIMPLE)\n",
    "cnt2 = contours2[0]\n",
    "\n",
    "cv2.imshow('img',thresh1)\n",
    "cv2.imshow('imgs',thresh22)\n",
    "\n",
    "cv2.waitKey(0)\n",
    "cv2.destroyAllWindows()\n",
    "\n",
    "\n",
    "ret = cv2.matchShapes(cnt1,cnt2,1,0.0)\n",
    "print(ret)"
   ]
  }
 ],
 "metadata": {
  "colab": {
   "name": "OpenCV Tutorial 9 - Contours, Hull, Match Shapes-checkpoint.ipynb",
   "provenance": []
  },
  "kernelspec": {
   "display_name": "Python 3",
   "language": "python",
   "name": "python3"
  },
  "language_info": {
   "codemirror_mode": {
    "name": "ipython",
    "version": 3
   },
   "file_extension": ".py",
   "mimetype": "text/x-python",
   "name": "python",
   "nbconvert_exporter": "python",
   "pygments_lexer": "ipython3",
   "version": "3.7.3"
  }
 },
 "nbformat": 4,
 "nbformat_minor": 1
}
