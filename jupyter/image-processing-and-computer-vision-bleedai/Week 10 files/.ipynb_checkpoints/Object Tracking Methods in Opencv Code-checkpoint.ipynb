{
 "cells": [
  {
   "cell_type": "code",
   "execution_count": 9,
   "metadata": {},
   "outputs": [
    {
     "name": "stdout",
     "output_type": "stream",
     "text": [
      "(201, 16, 206, 344)\n"
     ]
    }
   ],
   "source": [
    "import cv2\n",
    "import sys\n",
    "import time\n",
    "\n",
    "def selecttracker(frame,box,no):\n",
    "    global tracker, tracker_type,tracker_types\n",
    "    tracker_types = ['BOOSTING', 'MIL','KCF', 'TLD', 'MEDIANFLOW', 'CSRT','GOTURN']\n",
    "    tracker_type = tracker_types[no]\n",
    "    if tracker_type == 'BOOSTING':\n",
    "        tracker = cv2.TrackerBoosting_create()\n",
    "    if tracker_type == 'MIL':\n",
    "        tracker = cv2.TrackerMIL_create()\n",
    "    if tracker_type == 'KCF':\n",
    "        tracker = cv2.TrackerKCF_create()\n",
    "    if tracker_type == 'TLD':\n",
    "        tracker = cv2.TrackerTLD_create()\n",
    "    if tracker_type == 'MEDIANFLOW':\n",
    "        tracker = cv2.TrackerMedianFlow_create()\n",
    "    if tracker_type == \"CSRT\":\n",
    "        tracker = cv2.TrackerCSRT_create()\n",
    "    if tracker_type == \"GOTURN\":\n",
    "        tracker = cv2.TrackerGOTURN_create()   \n",
    "\n",
    "        \n",
    "    ok = tracker.init(frame, box)\n",
    "\n",
    "\n",
    "# Read video\n",
    "cap = cv2.VideoCapture(\"chaplin.mp4\")\n",
    "#cap = cv2.VideoCapture(0)\n",
    "\n",
    "# Exit if video not opened.\n",
    "if not cap.isOpened():    \n",
    "    print (\"Could not open video\")\n",
    "    sys.exit()\n",
    "\n",
    "ret, frame = cap.read() # read in initial frame\n",
    "if not ret:\n",
    "    print ('Cannot read frame')\n",
    "    sys.exit()\n",
    "frame = cv2.flip( frame, 1 ) \n",
    "\n",
    "no= 6\n",
    "box = cv2.selectROI(frame,False)\n",
    "print(box)\n",
    "# Initialize tracker with first frame and bounding box\n",
    "selecttracker(frame,box,no)\n",
    "fps = 0\n",
    "\n",
    "#print(ok)\n",
    "while True:\n",
    "    # Read a new frame\n",
    "    start_time = time.time()\n",
    "    ret, frame = cap.read()\n",
    "    if not ret:\n",
    "        break\n",
    "    frame = cv2.flip( frame, 1 ) \n",
    "\n",
    "\n",
    "    # Update tracker\n",
    "    success, box = tracker.update(frame)\n",
    "\n",
    "    # Calculate Frames per second (FPS)\n",
    "\n",
    "    # Draw bounding box\n",
    "    if success:\n",
    "        # Tracking success\n",
    "        p1 = (int(box[0]), int(box[1]))\n",
    "        p2 = (int(box[0] + box[2]), int(box[1] + box[3]))\n",
    "        cv2.rectangle(frame, p1, p2, (255,0,0), 2, 1)\n",
    "    else :\n",
    "        # Tracking failure\n",
    "        cv2.putText(frame, \"Tracking failure detected\", (100,80), cv2.FONT_HERSHEY_SIMPLEX, 0.75,(0,0,255),2)\n",
    "\n",
    "    # Display tracker type on frame\n",
    "    cv2.putText(frame, tracker_type + \" Tracker\", (100,20), cv2.FONT_HERSHEY_SIMPLEX, 0.75, (50,170,50),2)\n",
    "\n",
    "    # Display FPS on frame\n",
    "    cv2.putText(frame, \"FPS : \" + str(int(fps)), (105,50), cv2.FONT_HERSHEY_SIMPLEX, 0.77, (50,170,50), 2)\n",
    "\n",
    "\n",
    "    # Display result\n",
    "    cv2.imshow(\"Tracking\", frame)\n",
    "    fps= (1.0 / (time.time() - start_time))\n",
    "\n",
    "\n",
    "    # Exit if ESC pressed\n",
    "    k = cv2.waitKey(1) \n",
    "    if k == 27 : \n",
    "        break\n",
    "    elif k == ord('a'):\n",
    "        if len(tracker_types) > no + 1:\n",
    "           no += 1 \n",
    "        else:\n",
    "            no =0\n",
    "        selecttracker(frame,box,no)\n",
    "\n",
    "        \n",
    "cv2.destroyAllWindows()\n",
    "cap.release()"
   ]
  },
  {
   "cell_type": "code",
   "execution_count": null,
   "metadata": {},
   "outputs": [],
   "source": [
    "#Look at theory here \n",
    "#https://www.learnopencv.com/object-tracking-using-opencv-cpp-python/"
   ]
  },
  {
   "cell_type": "code",
   "execution_count": 7,
   "metadata": {},
   "outputs": [],
   "source": []
  },
  {
   "cell_type": "code",
   "execution_count": null,
   "metadata": {},
   "outputs": [],
   "source": []
  },
  {
   "cell_type": "code",
   "execution_count": 3,
   "metadata": {},
   "outputs": [],
   "source": []
  },
  {
   "cell_type": "code",
   "execution_count": null,
   "metadata": {},
   "outputs": [],
   "source": []
  }
 ],
 "metadata": {
  "kernelspec": {
   "display_name": "Python 3",
   "language": "python",
   "name": "python3"
  },
  "language_info": {
   "codemirror_mode": {
    "name": "ipython",
    "version": 3
   },
   "file_extension": ".py",
   "mimetype": "text/x-python",
   "name": "python",
   "nbconvert_exporter": "python",
   "pygments_lexer": "ipython3",
   "version": "3.7.3"
  }
 },
 "nbformat": 4,
 "nbformat_minor": 2
}
