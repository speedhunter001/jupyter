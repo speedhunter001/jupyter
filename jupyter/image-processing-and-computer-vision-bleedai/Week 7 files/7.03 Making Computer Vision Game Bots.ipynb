{
 "cells": [
  {
   "cell_type": "markdown",
   "metadata": {},
   "source": [
    "#  <center> <font style=\"color:rgb(100,109,254)\">Making Computer Vision Game Bots  </font> </center>\n",
    "In this notebook we'll see how we can combine Template Matching with Pyautogui to built some interesting Video Game Bots. You can take this same concept and either built your own bots or perform Vision powered GUI automation."
   ]
  },
  {
   "cell_type": "code",
   "execution_count": 1,
   "metadata": {},
   "outputs": [],
   "source": [
    "import pyautogui as pyg\n",
    "import glob\n",
    "import matplotlib.pyplot as plt\n",
    "import numpy as np\n",
    "import cv2\n",
    "import time"
   ]
  },
  {
   "cell_type": "markdown",
   "metadata": {},
   "source": [
    "## <font style=\"color:rgb(134,19,348)\"> Google Dino Game </font>\n",
    "We are now going to built a game that will play the Google dino game (The one you play when Internet goes down 🤕)"
   ]
  },
  {
   "cell_type": "markdown",
   "metadata": {},
   "source": [
    "Now there are several objects that the dino need to avoid, like several type of spikes and that crow, lets load them all up from our folder named dinor, we'll use all these pictures as templates"
   ]
  },
  {
   "cell_type": "code",
   "execution_count": 2,
   "metadata": {},
   "outputs": [],
   "source": [
    "obstacles = []\n",
    "for image in glob.glob(\"media/M4/dinor/*.png\"):\n",
    "    obstacles.append(cv2.imread(image,0))  "
   ]
  },
  {
   "cell_type": "markdown",
   "metadata": {},
   "source": [
    "**You can see all obstacles below**"
   ]
  },
  {
   "cell_type": "code",
   "execution_count": 3,
   "metadata": {},
   "outputs": [
    {
     "data": {
      "text/plain": [
       "<Figure size 504x504 with 0 Axes>"
      ]
     },
     "metadata": {},
     "output_type": "display_data"
    }
   ],
   "source": [
    "rows = np.ceil(len(obstacles)/3)\n",
    "plt.figure(figsize=[7,7])    \n",
    "for index, obstacle in enumerate(obstacles,1):\n",
    "    plt.subplot(rows,3,index);plt.imshow(obstacle,cmap='gray');\n",
    "    plt.title(\"Obstacle: {}\".format(index));plt.axis('off')  "
   ]
  },
  {
   "attachments": {
    "dinopic.JPG": {
     "image/jpeg": "[encoded data removed]"
    }
   },
   "cell_type": "markdown",
   "metadata": {},
   "source": [
    "**Here is our Dino**\n",
    "![dinopic.JPG](attachment:dinopic.JPG)"
   ]
  },
  {
   "cell_type": "markdown",
   "metadata": {},
   "source": [
    "## [Play Dino Game here](http://www.trex-game.skipser.com/)"
   ]
  },
  {
   "cell_type": "code",
   "execution_count": 4,
   "metadata": {},
   "outputs": [],
   "source": [
    "def find_dino():\n",
    "    while True:         \n",
    "        image = pyg.screenshot()\n",
    "        # Convert PIL image to numpy format and also RGB to BGR\n",
    "        img = cv2.cvtColor(np.array(image), cv2.COLOR_RGB2BGR)\n",
    "        dino_location =  pyg.locateOnScreen('Media/M4/dinopic.jpg' , confidence=0.90)\n",
    "        if dino_location is not None:\n",
    "            # we will get the right corner x location of the bounding box of our dinosour\n",
    "            return dino_location[0], dino_location[1], dino_location[2], dino_location[3]"
   ]
  },
  {
   "cell_type": "markdown",
   "metadata": {},
   "source": [
    "##  <font style=\"color:rgb(134,19,348)\"> Estimating the Detection Area </font>\n",
    "Its really inefficient to search for the dinosaur on the whole screen When we know we only have to look a specific area on the screen to find it, so now we'll just use the detected dinosaur coordinates and some heuristics to estimate the area to perform detection, the estimation also makes sure that the code works regardless of where the dinosaur is on the screen."
   ]
  },
  {
   "cell_type": "code",
   "execution_count": null,
   "metadata": {},
   "outputs": [],
   "source": [
    "initial_x, initial_y, width, height = find_dino()\n",
    "\n",
    "y1 = initial_y - 2 * height \n",
    "y2 = initial_y + height\n",
    "x1 = initial_x - width\n",
    "x2 = initial_x + 13 * width\n",
    "\n",
    "image = pyg.screenshot()\n",
    "img = cv2.cvtColor(np.array(image), cv2.COLOR_RGB2BGR)\n",
    "\n",
    "estimated_roi = img[y1:y2, x1:x2]  \n",
    "\n",
    "plt.figure(figsize=[10,10])    \n",
    "plt.imshow(estimated_roi);"
   ]
  },
  {
   "cell_type": "markdown",
   "metadata": {},
   "source": [
    "## <font style=\"color:rgb(134,19,348)\">Test Detection of Obstacles </font>\n",
    "Check if your obstacle templates are being successfully detected, also record this as a video"
   ]
  },
  {
   "cell_type": "code",
   "execution_count": null,
   "metadata": {},
   "outputs": [],
   "source": [
    "initial_x, initial_y, width, height = find_dino()\n",
    "\n",
    "y1 = initial_y - 2 * height \n",
    "y2 = initial_y + height\n",
    "x1 = initial_x - width\n",
    "x2 = initial_x + 13 * width\n",
    "\n",
    "# This is the confidence for template matching\n",
    "thresh = 0.55\n",
    "\n",
    "fourcc = cv2.VideoWriter_fourcc(*'XVID')\n",
    "\n",
    "# Set the fps according to your PC, what you're trying to do here is analize the and set the parameters\n",
    "out = cv2.VideoWriter(r'media/M4/dino_recording.mp4',fourcc, 10.0, (x2-x1,y2-y1))\n",
    "\n",
    "while True:\n",
    " \n",
    "    image = pyg.screenshot()\n",
    "    img = cv2.cvtColor(np.array(image), cv2.COLOR_RGB2BGR)\n",
    "    \n",
    "    estimated_roi = img[y1:y2, x1:x2].copy()\n",
    "\n",
    "    allx=[]\n",
    "    gray_img = cv2.cvtColor(estimated_roi, cv2.COLOR_BGR2GRAY)\n",
    "   \n",
    "    for template in obstacles:\n",
    "        result = cv2.matchTemplate(gray_img, template,cv2.TM_CCOEFF_NORMED)\n",
    "        \n",
    "        loc = np.where(result >= thresh)\n",
    "        \n",
    "        for pt in zip(*loc):\n",
    "            top_left = pt[::-1]\n",
    "            top_right = (top_left[0] + template.shape[1], top_left[1] + template.shape[0])\n",
    "            cv2.rectangle(estimated_roi, top_left, top_right, (0, 255, 0), 2) \n",
    "            # Appending the x position only, since we only care how close obstacle are in x direction.\n",
    "            allx.append(top_left[0])             \n",
    "            break \n",
    "        \n",
    "    if allx:                   \n",
    "        cv2.putText(estimated_roi, 'Distance: {} '.format(np.sort(allx)[0]), (10, 13),\n",
    "                    fontFace=cv2.FONT_HERSHEY_SIMPLEX,fontScale=0.5,color=(0, 0, 255))    \n",
    "        \n",
    "                       \n",
    "    cv2.imshow('image_result',estimated_roi)\n",
    "    out.write(estimated_roi)\n",
    "    \n",
    "    k = cv2.waitKey(1)\n",
    "    if k == 27:   \n",
    "        break\n",
    "        \n",
    "cv2.destroyAllWindows()\n",
    "out.release()"
   ]
  },
  {
   "cell_type": "markdown",
   "metadata": {},
   "source": [
    "## <font style=\"color:rgb(134,19,348)\">Adding Logic for Jumping </font>\n",
    "Now After seeing that our obstacles are being detected we will add logic for the dinosaur to jump, from the above script I have determined that a good threshold to jump would be `260` for my case, (Your's might be different). Now I will just add the following 2 lines to the above script to make the dinosaur jump.\n",
    "\n",
    "```if np.sort(allx)[0] <  jump:\n",
    "         pyg.press('up') ```\n",
    "                \n",
    "Which just says if the distance of closest obstacle to the dino is less than our defined threshold then press up (meaning jump)."
   ]
  },
  {
   "cell_type": "code",
   "execution_count": null,
   "metadata": {},
   "outputs": [],
   "source": [
    "initial_x, initial_y, width, height = find_dino()\n",
    "\n",
    "y1 = initial_y - 2 * height \n",
    "y2 = initial_y + height\n",
    "x1 = initial_x - width\n",
    "x2 = initial_x + 13 * width\n",
    "\n",
    "thresh = 0.55\n",
    "\n",
    "# This is the distance at which we will jump\n",
    "jump = 260\n",
    "\n",
    "fourcc = cv2.VideoWriter_fourcc(*'XVID')\n",
    "\n",
    "# Set the fps according to your PC, what you're trying to do here is analize the and set the parameters\n",
    "out = cv2.VideoWriter(r'media/M4/dino_recording.mp4',fourcc, 10.0, (x2-x1,y2-y1))\n",
    "\n",
    "while True:\n",
    " \n",
    "    image = pyg.screenshot()\n",
    "    img = cv2.cvtColor(np.array(image), cv2.COLOR_RGB2BGR)\n",
    "    \n",
    "    estimated_roi = img[y1:y2, x1:x2].copy()\n",
    "\n",
    "    allx=[]\n",
    "    gray_img = cv2.cvtColor(estimated_roi, cv2.COLOR_BGR2GRAY)\n",
    "   \n",
    "    for template in obstacles:\n",
    "        result = cv2.matchTemplate(gray_img, template,cv2.TM_CCOEFF_NORMED)\n",
    "        \n",
    "        loc = np.where(result >= thresh)\n",
    "        \n",
    "        for pt in zip(*loc):\n",
    "            top_left = pt[::-1]\n",
    "            top_right = (top_left[0] + template.shape[1], top_left[1] + template.shape[0])\n",
    "            cv2.rectangle(estimated_roi, top_left, top_right, (0, 255, 0), 2) \n",
    "            allx.append(top_left[0]) #appending the x position only \n",
    "            \n",
    "            break \n",
    "        \n",
    "    if allx:   \n",
    "\n",
    "        if np.sort(allx)[0] <  jump:\n",
    "                pyg.press('up')\n",
    "                \n",
    "        cv2.putText(estimated_roi, 'Distance: {} '.format(np.sort(allx)[0]), (10, 13),\n",
    "                    fontFace=cv2.FONT_HERSHEY_SIMPLEX,fontScale=0.5,color=(0, 0, 255))    \n",
    "        \n",
    "                       \n",
    "    cv2.imshow('image_result',estimated_roi)\n",
    "    out.write(estimated_roi)\n",
    "    \n",
    "    k = cv2.waitKey(1)\n",
    "    if k == 27:   \n",
    "        break\n",
    "        \n",
    "cv2.destroyAllWindows()\n",
    "out.release()"
   ]
  },
  {
   "cell_type": "markdown",
   "metadata": {},
   "source": [
    "## <font style=\"color:rgb(134,19,348)\"> Ways to Improve the above Bot </font>\n",
    "- Crop the pictures of obstacles yourself, and notice the examples that are being missed and add more of them.\n",
    "- Try using masks for obstacle examples since, it will get rid of background (May give better results).\n",
    "- Instead of using template matching to detect obstacles you can use contour detection.\n",
    "- Duck when you detect Crow at a certain height.\n",
    "- Check for the canvas to go dark and then use another obstacle list, (This list will contain the same obstacles but inverted), this way you can even get along when it goes dark.\n",
    "- Most Importantly Map the Jump variable as a function of time, so as the time increases (so does the speed of incoming obstacles) your dinosaur jumps. So in simple terms you will have to decrease the distance for jumping when the time increases as obstacles will be coming at you at a faster speed."
   ]
  },
  {
   "cell_type": "markdown",
   "metadata": {},
   "source": [
    "###  <font style=\"color:rgb(34,169,134)\"> Assignment: Upgrading Dino Bot </font>\n",
    "Improve the above Dino Bot using at least 3 or more techniques mentioned above, Kudos to you if you can take this to superhuman performance and beyond."
   ]
  },
  {
   "cell_type": "code",
   "execution_count": null,
   "metadata": {},
   "outputs": [],
   "source": [
    "### ADD CODE HERE\n",
    "\n"
   ]
  },
  {
   "attachments": {
    "melont2.PNG": {
     "image/png": "[encoded data removed]"
    }
   },
   "cell_type": "markdown",
   "metadata": {},
   "source": [
    "## <font style=\"color:rgb(134,19,348)\">Making a Shooting Bot </font>\n",
    "Now lets make another simple Game Bot, this time we are going to make a simple shooting Bot which will shoot watermelons, And this time we will see the real advantage of a bot as it will perform better than any human on this game.\n",
    "\n",
    "Here is the template for the watermelon:\n",
    "\n",
    "![melont2.PNG](attachment:melont2.PNG)\n",
    "\n",
    "## [Play the Game here](https://scratch.mit.edu/projects/313306691/)"
   ]
  },
  {
   "cell_type": "code",
   "execution_count": null,
   "metadata": {},
   "outputs": [],
   "source": [
    "target = cv2.imread(\"media/M4/watermelon.png\", 0)\n",
    "\n",
    "# Gr\n",
    "y,x = pyg.size()\n",
    "\n",
    "fourcc = cv2.VideoWriter_fourcc(*'XVID')\n",
    "out = cv2.VideoWriter(r'media/M4/guns.mp4',fourcc, 10.0, (y,x))\n",
    "\n",
    "thresh = 0.45\n",
    "                      \n",
    "while True:\n",
    " \n",
    "    image = pyg.screenshot()\n",
    "    img = cv2.cvtColor(np.array(image), cv2.COLOR_RGB2BGR)\n",
    "    \n",
    "   \n",
    "    gray_img = cv2.cvtColor(img, cv2.COLOR_BGR2GRAY)\n",
    "\n",
    "    result = cv2.matchTemplate(gray_img, target ,cv2.TM_CCOEFF_NORMED)\n",
    "    loc = np.where(result >= 0.45)\n",
    "    min_val, max_val, min_loc, max_loc = cv2.minMaxLoc(result)\n",
    "    \n",
    "    if max_val >= thresh:\n",
    "        pt = max_loc\n",
    "        cv2.rectangle(img, (pt[0] , pt[1] ), (pt[0] + target.shape[1], pt[1] + target.shape[0] ), (255, 145, 67), 2)  \n",
    "        cv2.putText(img,'Hit here',(pt[0] , pt[1]  + 90), cv2.FONT_HERSHEY_SIMPLEX, 0.7, (0,255,0), 2, cv2.LINE_AA)\n",
    "        pyg.click(x=pt[0], y=pt[1])\n",
    "                      \n",
    "    cv2.putText(img,'After Image processing',(0,70), cv2.FONT_HERSHEY_SIMPLEX, 1, (0,25,155), 2, cv2.LINE_AA)\n",
    "    cv2.imshow('result',cv2.resize(img, (0,0), fx=0.8, fy=0.8) )\n",
    "\n",
    "    out.write(img)\n",
    "    k = cv2.waitKey(1)\n",
    "    if k == 27:   \n",
    "        break\n",
    "        \n",
    "cv2.destroyAllWindows()\n",
    "out.release()"
   ]
  },
  {
   "cell_type": "markdown",
   "metadata": {},
   "source": [
    "**Note:** When things go wild, for e.g. you put in a low confidence score then your mouse will start clicking things all over, One easy to get out of that situation is to take your mouse to the top left corner of the screen this will trigger a built in failsafe mechanism in pyautogui, which will exit the program. Another way is to stop the program by hitting the stop button but if can't control the mouse if will be harder to do that. "
   ]
  },
  {
   "cell_type": "markdown",
   "metadata": {},
   "source": [
    "###  <font style=\"color:rgb(34,169,134)\"> Assignment: Your Own Gaming Bot</font>\n",
    "Now that you're familiar with the automation tools and how to use it to built a gaming bots, you should built your own bot and make it perform better than a human. You can choose any game from the Internet. "
   ]
  },
  {
   "cell_type": "code",
   "execution_count": null,
   "metadata": {},
   "outputs": [],
   "source": [
    "### ADD CODE HERE\n",
    "\n"
   ]
  }
 ],
 "metadata": {
  "kernelspec": {
   "display_name": "Python 3",
   "language": "python",
   "name": "python3"
  },
  "language_info": {
   "codemirror_mode": {
    "name": "ipython",
    "version": 3
   },
   "file_extension": ".py",
   "mimetype": "text/x-python",
   "name": "python",
   "nbconvert_exporter": "python",
   "pygments_lexer": "ipython3",
   "version": "3.8.3"
  }
 },
 "nbformat": 4,
 "nbformat_minor": 2
}
