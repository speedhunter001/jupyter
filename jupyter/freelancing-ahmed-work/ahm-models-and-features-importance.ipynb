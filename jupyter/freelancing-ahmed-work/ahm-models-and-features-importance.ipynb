{
 "cells": [
  {
   "cell_type": "code",
   "execution_count": 1,
   "metadata": {},
   "outputs": [
    {
     "name": "stdout",
     "output_type": "stream",
     "text": [
      "Requirement already satisfied: xgboost in /home/muhammadammarabid/anaconda3/lib/python3.8/site-packages (1.2.0)\n",
      "Requirement already satisfied: scipy in /home/muhammadammarabid/anaconda3/lib/python3.8/site-packages (from xgboost) (1.5.0)\n",
      "Requirement already satisfied: numpy in /home/muhammadammarabid/anaconda3/lib/python3.8/site-packages (from xgboost) (1.18.5)\n"
     ]
    }
   ],
   "source": [
    "!pip install xgboost  # For installing xgboost if not present"
   ]
  },
  {
   "cell_type": "code",
   "execution_count": 2,
   "metadata": {},
   "outputs": [],
   "source": [
    "# Importing libraries\n",
    "import pandas as pd\n",
    "import matplotlib.pyplot as plt\n",
    "import seaborn as sns\n",
    "import numpy as np\n",
    "\n",
    "# Importing important functions/algorithms\n",
    "from sklearn.preprocessing import StandardScaler\n",
    "from sklearn.preprocessing import LabelEncoder\n",
    "from sklearn.model_selection import train_test_split\n",
    "from sklearn.metrics import classification_report\n",
    "from sklearn.model_selection import KFold, cross_val_score\n",
    "\n",
    "from sklearn.ensemble import RandomForestClassifier\n",
    "from xgboost import XGBClassifier\n",
    "from sklearn.linear_model import LogisticRegression\n",
    "from sklearn.metrics import accuracy_score\n",
    "from xgboost import plot_importance"
   ]
  },
  {
   "cell_type": "code",
   "execution_count": 3,
   "metadata": {},
   "outputs": [],
   "source": [
    "# Change the path in first parameter becuase the notebook and excel file are both on same directory on my machine\n",
    "df = pd.read_excel('./Patterns Project.xlsx', sheet_name='Original')  # ./  is for current directory and there is no need here for this but just for sake of understanding.Do change the path if file is somewhere else "
   ]
  },
  {
   "cell_type": "code",
   "execution_count": 4,
   "metadata": {},
   "outputs": [
    {
     "data": {
      "text/html": [
       "<div>\n",
       "<style scoped>\n",
       "    .dataframe tbody tr th:only-of-type {\n",
       "        vertical-align: middle;\n",
       "    }\n",
       "\n",
       "    .dataframe tbody tr th {\n",
       "        vertical-align: top;\n",
       "    }\n",
       "\n",
       "    .dataframe thead th {\n",
       "        text-align: right;\n",
       "    }\n",
       "</style>\n",
       "<table border=\"1\" class=\"dataframe\">\n",
       "  <thead>\n",
       "    <tr style=\"text-align: right;\">\n",
       "      <th></th>\n",
       "      <th>Month</th>\n",
       "      <th>Date</th>\n",
       "      <th>EURKM vs Budget</th>\n",
       "      <th>EURKM vs Budget(abs)</th>\n",
       "      <th>Plan Capacity</th>\n",
       "      <th>Plan  Km</th>\n",
       "      <th>Plan Load</th>\n",
       "      <th>Plan Net Revenue per Bus Km</th>\n",
       "      <th>Plan Net Yield</th>\n",
       "      <th>Plan Pax Km</th>\n",
       "      <th>...</th>\n",
       "      <th>YIELD vs Budget</th>\n",
       "      <th>YIELD vs Budget (abs)</th>\n",
       "      <th>Km</th>\n",
       "      <th>Km Total</th>\n",
       "      <th>Net Revenue Per Km</th>\n",
       "      <th>Net Revenue Per Seat Km</th>\n",
       "      <th>Net Yield</th>\n",
       "      <th>Seat Km</th>\n",
       "      <th>Utilization (%)</th>\n",
       "      <th>Outcome</th>\n",
       "    </tr>\n",
       "  </thead>\n",
       "  <tbody>\n",
       "    <tr>\n",
       "      <th>count</th>\n",
       "      <td>22831.000000</td>\n",
       "      <td>22831.000000</td>\n",
       "      <td>22421.000000</td>\n",
       "      <td>22421.000000</td>\n",
       "      <td>22441.000000</td>\n",
       "      <td>22831.000000</td>\n",
       "      <td>22441.000000</td>\n",
       "      <td>22441.000000</td>\n",
       "      <td>22423.000000</td>\n",
       "      <td>2.283100e+04</td>\n",
       "      <td>...</td>\n",
       "      <td>22421.000000</td>\n",
       "      <td>22421.000000</td>\n",
       "      <td>22831.000000</td>\n",
       "      <td>2.283100e+04</td>\n",
       "      <td>22831.000000</td>\n",
       "      <td>22831.000000</td>\n",
       "      <td>22831.000000</td>\n",
       "      <td>2.283100e+04</td>\n",
       "      <td>22831.000000</td>\n",
       "      <td>22831.000000</td>\n",
       "    </tr>\n",
       "    <tr>\n",
       "      <th>mean</th>\n",
       "      <td>6.747273</td>\n",
       "      <td>2018.194735</td>\n",
       "      <td>-0.001725</td>\n",
       "      <td>-0.048463</td>\n",
       "      <td>54.490245</td>\n",
       "      <td>51830.204809</td>\n",
       "      <td>0.565135</td>\n",
       "      <td>1.486628</td>\n",
       "      <td>4.745389</td>\n",
       "      <td>1.722844e+06</td>\n",
       "      <td>...</td>\n",
       "      <td>0.016235</td>\n",
       "      <td>-0.177123</td>\n",
       "      <td>49664.515377</td>\n",
       "      <td>1.642622e+06</td>\n",
       "      <td>1.425633</td>\n",
       "      <td>0.025686</td>\n",
       "      <td>4.524891</td>\n",
       "      <td>2.832515e+06</td>\n",
       "      <td>0.532803</td>\n",
       "      <td>0.295213</td>\n",
       "    </tr>\n",
       "    <tr>\n",
       "      <th>std</th>\n",
       "      <td>3.375115</td>\n",
       "      <td>0.787724</td>\n",
       "      <td>0.508887</td>\n",
       "      <td>0.485943</td>\n",
       "      <td>23.634161</td>\n",
       "      <td>37821.740364</td>\n",
       "      <td>0.117718</td>\n",
       "      <td>0.851328</td>\n",
       "      <td>1.284120</td>\n",
       "      <td>1.961437e+06</td>\n",
       "      <td>...</td>\n",
       "      <td>0.881198</td>\n",
       "      <td>1.296406</td>\n",
       "      <td>37756.517776</td>\n",
       "      <td>1.751325e+06</td>\n",
       "      <td>0.882839</td>\n",
       "      <td>0.011066</td>\n",
       "      <td>1.740832</td>\n",
       "      <td>2.770321e+06</td>\n",
       "      <td>0.181587</td>\n",
       "      <td>0.456148</td>\n",
       "    </tr>\n",
       "    <tr>\n",
       "      <th>min</th>\n",
       "      <td>1.000000</td>\n",
       "      <td>2017.000000</td>\n",
       "      <td>-1.000000</td>\n",
       "      <td>-9.667131</td>\n",
       "      <td>19.975494</td>\n",
       "      <td>0.000000</td>\n",
       "      <td>0.000000</td>\n",
       "      <td>0.000000</td>\n",
       "      <td>0.000000</td>\n",
       "      <td>0.000000e+00</td>\n",
       "      <td>...</td>\n",
       "      <td>-1.000000</td>\n",
       "      <td>-18.500173</td>\n",
       "      <td>0.000000</td>\n",
       "      <td>0.000000e+00</td>\n",
       "      <td>0.000000</td>\n",
       "      <td>0.000000</td>\n",
       "      <td>0.000000</td>\n",
       "      <td>0.000000e+00</td>\n",
       "      <td>0.000000</td>\n",
       "      <td>0.000000</td>\n",
       "    </tr>\n",
       "    <tr>\n",
       "      <th>25%</th>\n",
       "      <td>4.000000</td>\n",
       "      <td>2018.000000</td>\n",
       "      <td>-0.155681</td>\n",
       "      <td>-0.228383</td>\n",
       "      <td>48.130141</td>\n",
       "      <td>30174.500000</td>\n",
       "      <td>0.500003</td>\n",
       "      <td>1.105292</td>\n",
       "      <td>4.137426</td>\n",
       "      <td>7.983725e+05</td>\n",
       "      <td>...</td>\n",
       "      <td>-0.085798</td>\n",
       "      <td>-0.412930</td>\n",
       "      <td>28560.270000</td>\n",
       "      <td>7.272003e+05</td>\n",
       "      <td>1.055965</td>\n",
       "      <td>0.020400</td>\n",
       "      <td>3.965144</td>\n",
       "      <td>1.432746e+06</td>\n",
       "      <td>0.472096</td>\n",
       "      <td>0.000000</td>\n",
       "    </tr>\n",
       "    <tr>\n",
       "      <th>50%</th>\n",
       "      <td>7.000000</td>\n",
       "      <td>2018.000000</td>\n",
       "      <td>-0.009038</td>\n",
       "      <td>-0.011545</td>\n",
       "      <td>49.012477</td>\n",
       "      <td>43916.000000</td>\n",
       "      <td>0.568541</td>\n",
       "      <td>1.381691</td>\n",
       "      <td>4.644370</td>\n",
       "      <td>1.320326e+06</td>\n",
       "      <td>...</td>\n",
       "      <td>0.003860</td>\n",
       "      <td>0.018346</td>\n",
       "      <td>43130.200000</td>\n",
       "      <td>1.289940e+06</td>\n",
       "      <td>1.385265</td>\n",
       "      <td>0.026201</td>\n",
       "      <td>4.639051</td>\n",
       "      <td>2.267225e+06</td>\n",
       "      <td>0.564207</td>\n",
       "      <td>0.000000</td>\n",
       "    </tr>\n",
       "    <tr>\n",
       "      <th>75%</th>\n",
       "      <td>10.000000</td>\n",
       "      <td>2019.000000</td>\n",
       "      <td>0.149559</td>\n",
       "      <td>0.192533</td>\n",
       "      <td>54.003739</td>\n",
       "      <td>63656.000000</td>\n",
       "      <td>0.641165</td>\n",
       "      <td>1.741116</td>\n",
       "      <td>5.252786</td>\n",
       "      <td>2.128926e+06</td>\n",
       "      <td>...</td>\n",
       "      <td>0.091472</td>\n",
       "      <td>0.412197</td>\n",
       "      <td>62702.000000</td>\n",
       "      <td>2.108328e+06</td>\n",
       "      <td>1.766882</td>\n",
       "      <td>0.031978</td>\n",
       "      <td>5.349114</td>\n",
       "      <td>3.524148e+06</td>\n",
       "      <td>0.646336</td>\n",
       "      <td>1.000000</td>\n",
       "    </tr>\n",
       "    <tr>\n",
       "      <th>max</th>\n",
       "      <td>12.000000</td>\n",
       "      <td>2019.000000</td>\n",
       "      <td>14.431777</td>\n",
       "      <td>4.741925</td>\n",
       "      <td>730.036259</td>\n",
       "      <td>427338.000000</td>\n",
       "      <td>0.961876</td>\n",
       "      <td>24.063893</td>\n",
       "      <td>27.221611</td>\n",
       "      <td>4.833879e+07</td>\n",
       "      <td>...</td>\n",
       "      <td>31.196276</td>\n",
       "      <td>4.883833</td>\n",
       "      <td>425402.800000</td>\n",
       "      <td>4.065796e+07</td>\n",
       "      <td>22.559918</td>\n",
       "      <td>0.090757</td>\n",
       "      <td>27.607777</td>\n",
       "      <td>5.244246e+07</td>\n",
       "      <td>0.964033</td>\n",
       "      <td>1.000000</td>\n",
       "    </tr>\n",
       "  </tbody>\n",
       "</table>\n",
       "<p>8 rows × 25 columns</p>\n",
       "</div>"
      ],
      "text/plain": [
       "              Month          Date  EURKM vs Budget  EURKM vs Budget(abs)  \\\n",
       "count  22831.000000  22831.000000     22421.000000          22421.000000   \n",
       "mean       6.747273   2018.194735        -0.001725             -0.048463   \n",
       "std        3.375115      0.787724         0.508887              0.485943   \n",
       "min        1.000000   2017.000000        -1.000000             -9.667131   \n",
       "25%        4.000000   2018.000000        -0.155681             -0.228383   \n",
       "50%        7.000000   2018.000000        -0.009038             -0.011545   \n",
       "75%       10.000000   2019.000000         0.149559              0.192533   \n",
       "max       12.000000   2019.000000        14.431777              4.741925   \n",
       "\n",
       "       Plan Capacity       Plan  Km     Plan Load  \\\n",
       "count   22441.000000   22831.000000  22441.000000   \n",
       "mean       54.490245   51830.204809      0.565135   \n",
       "std        23.634161   37821.740364      0.117718   \n",
       "min        19.975494       0.000000      0.000000   \n",
       "25%        48.130141   30174.500000      0.500003   \n",
       "50%        49.012477   43916.000000      0.568541   \n",
       "75%        54.003739   63656.000000      0.641165   \n",
       "max       730.036259  427338.000000      0.961876   \n",
       "\n",
       "       Plan Net Revenue per Bus Km  Plan Net Yield   Plan Pax Km  ...  \\\n",
       "count                 22441.000000    22423.000000  2.283100e+04  ...   \n",
       "mean                      1.486628        4.745389  1.722844e+06  ...   \n",
       "std                       0.851328        1.284120  1.961437e+06  ...   \n",
       "min                       0.000000        0.000000  0.000000e+00  ...   \n",
       "25%                       1.105292        4.137426  7.983725e+05  ...   \n",
       "50%                       1.381691        4.644370  1.320326e+06  ...   \n",
       "75%                       1.741116        5.252786  2.128926e+06  ...   \n",
       "max                      24.063893       27.221611  4.833879e+07  ...   \n",
       "\n",
       "       YIELD vs Budget  YIELD vs Budget (abs)             Km      Km Total  \\\n",
       "count     22421.000000           22421.000000   22831.000000  2.283100e+04   \n",
       "mean          0.016235              -0.177123   49664.515377  1.642622e+06   \n",
       "std           0.881198               1.296406   37756.517776  1.751325e+06   \n",
       "min          -1.000000             -18.500173       0.000000  0.000000e+00   \n",
       "25%          -0.085798              -0.412930   28560.270000  7.272003e+05   \n",
       "50%           0.003860               0.018346   43130.200000  1.289940e+06   \n",
       "75%           0.091472               0.412197   62702.000000  2.108328e+06   \n",
       "max          31.196276               4.883833  425402.800000  4.065796e+07   \n",
       "\n",
       "       Net Revenue Per Km  Net Revenue Per Seat Km     Net Yield  \\\n",
       "count        22831.000000             22831.000000  22831.000000   \n",
       "mean             1.425633                 0.025686      4.524891   \n",
       "std              0.882839                 0.011066      1.740832   \n",
       "min              0.000000                 0.000000      0.000000   \n",
       "25%              1.055965                 0.020400      3.965144   \n",
       "50%              1.385265                 0.026201      4.639051   \n",
       "75%              1.766882                 0.031978      5.349114   \n",
       "max             22.559918                 0.090757     27.607777   \n",
       "\n",
       "            Seat Km  Utilization (%)       Outcome  \n",
       "count  2.283100e+04     22831.000000  22831.000000  \n",
       "mean   2.832515e+06         0.532803      0.295213  \n",
       "std    2.770321e+06         0.181587      0.456148  \n",
       "min    0.000000e+00         0.000000      0.000000  \n",
       "25%    1.432746e+06         0.472096      0.000000  \n",
       "50%    2.267225e+06         0.564207      0.000000  \n",
       "75%    3.524148e+06         0.646336      1.000000  \n",
       "max    5.244246e+07         0.964033      1.000000  \n",
       "\n",
       "[8 rows x 25 columns]"
      ]
     },
     "execution_count": 4,
     "metadata": {},
     "output_type": "execute_result"
    }
   ],
   "source": [
    "df.describe()  # The std(standard deviation) of some features is big which could cause a problem "
   ]
  },
  {
   "cell_type": "code",
   "execution_count": 5,
   "metadata": {},
   "outputs": [
    {
     "name": "stdout",
     "output_type": "stream",
     "text": [
      "<class 'pandas.core.frame.DataFrame'>\n",
      "RangeIndex: 22831 entries, 0 to 22830\n",
      "Data columns (total 26 columns):\n",
      " #   Column                       Non-Null Count  Dtype  \n",
      "---  ------                       --------------  -----  \n",
      " 0   Line Code                    22831 non-null  object \n",
      " 1   Month                        22831 non-null  int64  \n",
      " 2   Date                         22831 non-null  int64  \n",
      " 3   EURKM vs Budget              22421 non-null  float64\n",
      " 4   EURKM vs Budget(abs)         22421 non-null  float64\n",
      " 5   Plan Capacity                22441 non-null  float64\n",
      " 6   Plan  Km                     22831 non-null  int64  \n",
      " 7   Plan Load                    22441 non-null  float64\n",
      " 8   Plan Net Revenue per Bus Km  22441 non-null  float64\n",
      " 9   Plan Net Yield               22423 non-null  float64\n",
      " 10  Plan Pax Km                  22831 non-null  int64  \n",
      " 11  Plan Seat Km                 22831 non-null  int64  \n",
      " 12  SKM vs Budget                22441 non-null  float64\n",
      " 13  SKM vs Budget(abs)           22441 non-null  float64\n",
      " 14  UTIL vs Budget               22423 non-null  float64\n",
      " 15  UTIL vs Budget (abs)         22423 non-null  float64\n",
      " 16  YIELD vs Budget              22421 non-null  float64\n",
      " 17  YIELD vs Budget (abs)        22421 non-null  float64\n",
      " 18  Km                           22831 non-null  float64\n",
      " 19  Km Total                     22831 non-null  float64\n",
      " 20  Net Revenue Per Km           22831 non-null  float64\n",
      " 21  Net Revenue Per Seat Km      22831 non-null  float64\n",
      " 22  Net Yield                    22831 non-null  float64\n",
      " 23  Seat Km                      22831 non-null  float64\n",
      " 24  Utilization (%)              22831 non-null  float64\n",
      " 25  Outcome                      22831 non-null  int64  \n",
      "dtypes: float64(19), int64(6), object(1)\n",
      "memory usage: 4.5+ MB\n"
     ]
    }
   ],
   "source": [
    "df.info()  # Deal with the string/object column types.Object is basically string but machine learning algorithms don't understand strings so need to encode that"
   ]
  },
  {
   "cell_type": "code",
   "execution_count": 6,
   "metadata": {},
   "outputs": [
    {
     "name": "stderr",
     "output_type": "stream",
     "text": [
      "<ipython-input-6-fece3db35fee>:2: SettingWithCopyWarning: \n",
      "A value is trying to be set on a copy of a slice from a DataFrame.\n",
      "Try using .loc[row_indexer,col_indexer] = value instead\n",
      "\n",
      "See the caveats in the documentation: https://pandas.pydata.org/pandas-docs/stable/user_guide/indexing.html#returning-a-view-versus-a-copy\n",
      "  df_2['Line Code'] = df_2['Line Code'].astype(str)  # .astype(str) is because Line Code is an object they are strings but need to do it explicitly\n"
     ]
    }
   ],
   "source": [
    "df_2 = df.dropna() # Dealing with missing values\n",
    "df_2['Line Code'] = df_2['Line Code'].astype(str)  # .astype(str) is because Line Code is an object they are strings but need to do it explicitly "
   ]
  },
  {
   "cell_type": "code",
   "execution_count": 7,
   "metadata": {},
   "outputs": [
    {
     "name": "stderr",
     "output_type": "stream",
     "text": [
      "<ipython-input-7-895a87dff11c>:1: SettingWithCopyWarning: \n",
      "A value is trying to be set on a copy of a slice from a DataFrame.\n",
      "Try using .loc[row_indexer,col_indexer] = value instead\n",
      "\n",
      "See the caveats in the documentation: https://pandas.pydata.org/pandas-docs/stable/user_guide/indexing.html#returning-a-view-versus-a-copy\n",
      "  df_2['Line Code'] = LabelEncoder().fit_transform(df_2['Line Code'])  # Encoding Line Code as it contains alphabets too.I found LabelEncoder the best choice here\n"
     ]
    }
   ],
   "source": [
    "df_2['Line Code'] = LabelEncoder().fit_transform(df_2['Line Code'])  # Encoding Line Code as it contains alphabets too.I found LabelEncoder the best choice here"
   ]
  },
  {
   "cell_type": "code",
   "execution_count": 8,
   "metadata": {},
   "outputs": [
    {
     "name": "stdout",
     "output_type": "stream",
     "text": [
      "<class 'pandas.core.frame.DataFrame'>\n",
      "Int64Index: 22421 entries, 0 to 22830\n",
      "Data columns (total 26 columns):\n",
      " #   Column                       Non-Null Count  Dtype  \n",
      "---  ------                       --------------  -----  \n",
      " 0   Line Code                    22421 non-null  int64  \n",
      " 1   Month                        22421 non-null  int64  \n",
      " 2   Date                         22421 non-null  int64  \n",
      " 3   EURKM vs Budget              22421 non-null  float64\n",
      " 4   EURKM vs Budget(abs)         22421 non-null  float64\n",
      " 5   Plan Capacity                22421 non-null  float64\n",
      " 6   Plan  Km                     22421 non-null  int64  \n",
      " 7   Plan Load                    22421 non-null  float64\n",
      " 8   Plan Net Revenue per Bus Km  22421 non-null  float64\n",
      " 9   Plan Net Yield               22421 non-null  float64\n",
      " 10  Plan Pax Km                  22421 non-null  int64  \n",
      " 11  Plan Seat Km                 22421 non-null  int64  \n",
      " 12  SKM vs Budget                22421 non-null  float64\n",
      " 13  SKM vs Budget(abs)           22421 non-null  float64\n",
      " 14  UTIL vs Budget               22421 non-null  float64\n",
      " 15  UTIL vs Budget (abs)         22421 non-null  float64\n",
      " 16  YIELD vs Budget              22421 non-null  float64\n",
      " 17  YIELD vs Budget (abs)        22421 non-null  float64\n",
      " 18  Km                           22421 non-null  float64\n",
      " 19  Km Total                     22421 non-null  float64\n",
      " 20  Net Revenue Per Km           22421 non-null  float64\n",
      " 21  Net Revenue Per Seat Km      22421 non-null  float64\n",
      " 22  Net Yield                    22421 non-null  float64\n",
      " 23  Seat Km                      22421 non-null  float64\n",
      " 24  Utilization (%)              22421 non-null  float64\n",
      " 25  Outcome                      22421 non-null  int64  \n",
      "dtypes: float64(19), int64(7)\n",
      "memory usage: 4.6 MB\n"
     ]
    }
   ],
   "source": [
    "# # The code in this cell is basically just converting time and year in datetime index but it was just a step which I found unimportant so thats why commented out\n",
    "\n",
    "# df_2.drop(['Month', 'Date'], axis=1, inplace=True)\n",
    "\n",
    "# df_2['Year_and_Month'] = df['Date'].astype('str') + '-' + df['Month'].astype('str')\n",
    "# df_2['Year_and_Month'] = pd.to_datetime(df_2['Year_and_Month'])  # Converting Year_and_month col into datetime.As default day is 01 but right now it wouldn't make a problem\n",
    "# df_2 = df_2.set_index('Year_and_Month')\n",
    "\n",
    "# df_2['Year'] = df_2.index.year\n",
    "# df_2['Month'] = df_2.index.month\n",
    "\n",
    "df_2.info()"
   ]
  },
  {
   "cell_type": "code",
   "execution_count": 9,
   "metadata": {},
   "outputs": [],
   "source": [
    "# Defining our features\n",
    "features = df_2.drop('Outcome', axis=1)  \n",
    "\n",
    "# Defining our labels\n",
    "labels = df_2['Outcome']\n",
    "\n",
    "# Scaling features\n",
    "scaler = StandardScaler()  \n",
    "scaled_features = scaler.fit_transform(features)  \n",
    "\n",
    "# Train Test split\n",
    "X_train, X_test, y_train, y_test = train_test_split(scaled_features, labels, test_size=0.1, stratify=labels)"
   ]
  },
  {
   "cell_type": "code",
   "execution_count": 10,
   "metadata": {},
   "outputs": [
    {
     "name": "stdout",
     "output_type": "stream",
     "text": [
      "0.8849754792688364\n"
     ]
    }
   ],
   "source": [
    "rf = RandomForestClassifier(n_estimators = 1000, n_jobs=-1)\n",
    "rf.fit(X_train, y_train)\n",
    "\n",
    "print( accuracy_score(y_test, rf.predict(X_test)) )"
   ]
  },
  {
   "cell_type": "code",
   "execution_count": 11,
   "metadata": {},
   "outputs": [],
   "source": [
    "# # Printing the bar plot of random forest only\n",
    "\n",
    "# columns = [col  for col in df_2.columns  if col != 'Outcome' and col != 'Line Code']\n",
    "# print(len(columns))\n",
    "# plt.bar(range(X_train.shape[1] - 1), rf.feature_importances_[1:])\n",
    "# plt.xticks(range(X_train.shape[1] - 1), columns, fontsize=30, rotation=90)\n",
    "# plt.yticks(fontsize=30)\n",
    "# fig = plt.gcf()  # get current figure\n",
    "# fig.set_size_inches(30,30)"
   ]
  },
  {
   "cell_type": "code",
   "execution_count": 12,
   "metadata": {},
   "outputs": [
    {
     "name": "stdout",
     "output_type": "stream",
     "text": [
      "0.96121266161391\n"
     ]
    }
   ],
   "source": [
    "xgb = XGBClassifier()\n",
    "xgb.fit(X_train, y_train)\n",
    "\n",
    "print( accuracy_score(y_test, xgb.predict(X_test)) )"
   ]
  },
  {
   "cell_type": "code",
   "execution_count": 13,
   "metadata": {},
   "outputs": [],
   "source": [
    "# # Printing the bar plot of xgboost only\n",
    "\n",
    "# plt.bar(range(X_train.shape[1]), xgb.feature_importances_)\n",
    "# plt.xticks(range(X_train.shape[1]), columns, fontsize=30, rotation=90)\n",
    "# plt.yticks(fontsize=30)\n",
    "# fig = plt.gcf()  # get current figure\n",
    "# fig.set_size_inches(30,30)"
   ]
  },
  {
   "cell_type": "code",
   "execution_count": 14,
   "metadata": {},
   "outputs": [
    {
     "data": {
      "image/png": "[encoded data removed]",
      "text/plain": [
       "<Figure size 2160x2160 with 1 Axes>"
      ]
     },
     "metadata": {
      "needs_background": "light"
     },
     "output_type": "display_data"
    }
   ],
   "source": [
    "# Comparing features important by both models through plotting them on same graph\n",
    "\n",
    "columns = [col  for col in df_2.columns  if col != 'Outcome'] # Because X_train or training set/features have only features not the target variable\n",
    "\n",
    "plt.bar(range(X_train.shape[1]), rf.feature_importances_, color='red', label=\"Random Forest's Feature importance\")\n",
    "plt.bar(range(X_train.shape[1]), xgb.feature_importances_, color='orange', label=\"XGBoost's Feature importance\")\n",
    "\n",
    "plt.legend(fontsize=30)\n",
    "plt.xticks(range(X_train.shape[1]), columns, fontsize=30, rotation=90)  # Fixing the x axis and replacing the values with column names and rotating names 90 degree\n",
    "plt.yticks(fontsize=30)\n",
    "fig = plt.gcf()  # get current figure\n",
    "fig.set_size_inches(30,30)\n",
    "\n",
    "# plt.savefig('feature-importance-comparison.png')"
   ]
  },
  {
   "cell_type": "code",
   "execution_count": 15,
   "metadata": {
    "scrolled": true
   },
   "outputs": [
    {
     "name": "stdout",
     "output_type": "stream",
     "text": [
      "              precision    recall  f1-score   support\n",
      "\n",
      "           0       0.88      0.97      0.92      1598\n",
      "           1       0.89      0.68      0.77       645\n",
      "\n",
      "    accuracy                           0.88      2243\n",
      "   macro avg       0.89      0.82      0.85      2243\n",
      "weighted avg       0.89      0.88      0.88      2243\n",
      "\n"
     ]
    }
   ],
   "source": [
    "print( classification_report(y_test, rf.predict(X_test)) )  # This shows the better insight into performance of model\n",
    "# You can see that recall for predicting 1 is low compared to recall for 0 so that tells us that the model is not that much good"
   ]
  },
  {
   "cell_type": "code",
   "execution_count": 16,
   "metadata": {},
   "outputs": [
    {
     "name": "stdout",
     "output_type": "stream",
     "text": [
      "              precision    recall  f1-score   support\n",
      "\n",
      "           0       0.96      0.99      0.97      1598\n",
      "           1       0.96      0.90      0.93       645\n",
      "\n",
      "    accuracy                           0.96      2243\n",
      "   macro avg       0.96      0.94      0.95      2243\n",
      "weighted avg       0.96      0.96      0.96      2243\n",
      "\n"
     ]
    }
   ],
   "source": [
    "print( classification_report(y_test, xgb.predict(X_test)) )  # This shows xGBoost's performance is good\n",
    "# Overall you can see that there is not that much difference between any two values so thats why going forward with xgboost is good choice"
   ]
  },
  {
   "cell_type": "code",
   "execution_count": 17,
   "metadata": {
    "scrolled": true
   },
   "outputs": [
    {
     "name": "stdout",
     "output_type": "stream",
     "text": [
      "Random Forest: 0.893794296445671 Xtreme Gradient Boosting: 0.959709618741008\n"
     ]
    }
   ],
   "source": [
    "kf = KFold(n_splits=30)  # Split dataset into k consecutive folds (without shuffling by default).Each fold is then used once as a validation whil\n",
    "\n",
    "random_forest = RandomForestClassifier()\n",
    "xtreme_gb = XGBClassifier()\n",
    "\n",
    "# Cross validating to gain better performance idea \n",
    "rf_score = cross_val_score(random_forest, X_train, y_train, cv=kf)  \n",
    "xgb_score = cross_val_score(xtreme_gb, X_train ,y_train, cv=kf)\n",
    "\n",
    "print(\"Random Forest:\", np.mean(rf_score), \"Xtreme Gradient Boosting:\", np.mean(xgb_score))  \n",
    "# By cross validating on different subsets after taking mean on scoers by each model we can see that xgb is still good while random forest's score decreased little"
   ]
  },
  {
   "cell_type": "code",
   "execution_count": 18,
   "metadata": {},
   "outputs": [],
   "source": [
    "# Highlighting  probabilities after 3 months\n",
    "\n",
    "#np.set_printoptions(suppress=True)  # When you print probs after next line then the data may appear in scientific notation so this line is used to represent in decimal form\n",
    "\n",
    "# Predicting on scaled data i.e preprocessed data\n",
    "probs = xgb.predict_proba(scaled_features)    # 2d shape of resulting array and first element and in each row first element would be probability of it being 0 and second element would be probability of being failed line(1)\n",
    "\n",
    "prob_after_months = [] # For Probability of being a failure line after 3 months\n",
    "mask = []   # We are creating a mask of booleans and then applying to original data so wherever there would be True it will take that row and where there will be False it will not take that row\n",
    "for i in range( df_2.shape[0] ):    # Iterating over rows\n",
    "    if i+3 >= df_2.shape[0]:    # If row after three months for last line code's third last row is not present\n",
    "        prob_after_months.extend([None, None, None]) # To make it equal in length to original data thats why adding [None,..] to prob array\n",
    "        mask.extend([False, False, False])    # To make it equal in length to original data thats why adding this boolean array to mask array\n",
    "        break    # We have reached the end so break iteration\n",
    "        \n",
    "    current_line_code = df_2.iloc[i]['Line Code']     # Line Code of current row\n",
    "    next_3_months_line_code = df_2.iloc[i+3]['Line Code']    # Line Code of row after three months or after three rows\n",
    "\n",
    "    if next_3_months_line_code == current_line_code:    # If the entry after three steps belongs to the same line code i.e data after next three months\n",
    "        if probs[i+3, 1] >= 0.70:     # Probability being greater or equal to 70%\n",
    "            mask.append(True)        # Adding True to mask array because we need to keep this row\n",
    "        else:\n",
    "            mask.append(False)   # Adding False to mask array because this row does not meet requirement\n",
    "        prob_after_months.append(probs[i+3, 1])  # Adding Probability of becoming failed line after 3 months\n",
    "    else:\n",
    "        # If entry after month belongs to different line code and not the next three months of current line code so still we need to not take this row in account\n",
    "        prob_after_months.append(None)  \n",
    "        mask.append(False)      "
   ]
  },
  {
   "cell_type": "code",
   "execution_count": 19,
   "metadata": {},
   "outputs": [
    {
     "name": "stdout",
     "output_type": "stream",
     "text": [
      "True\n",
      "True\n"
     ]
    }
   ],
   "source": [
    "df_3 = df.dropna()\n",
    "print(len(mask) == df_3.shape[0])\n",
    "print(len(prob_after_months) == df_3.shape[0])"
   ]
  },
  {
   "cell_type": "code",
   "execution_count": 20,
   "metadata": {},
   "outputs": [],
   "source": [
    "failed_line_in_3_months = df_3[mask]  # Applying mask to original data for filtering out rows which meets our requirements"
   ]
  },
  {
   "cell_type": "code",
   "execution_count": 21,
   "metadata": {},
   "outputs": [
    {
     "data": {
      "text/html": [
       "<div>\n",
       "<style scoped>\n",
       "    .dataframe tbody tr th:only-of-type {\n",
       "        vertical-align: middle;\n",
       "    }\n",
       "\n",
       "    .dataframe tbody tr th {\n",
       "        vertical-align: top;\n",
       "    }\n",
       "\n",
       "    .dataframe thead th {\n",
       "        text-align: right;\n",
       "    }\n",
       "</style>\n",
       "<table border=\"1\" class=\"dataframe\">\n",
       "  <thead>\n",
       "    <tr style=\"text-align: right;\">\n",
       "      <th></th>\n",
       "      <th>Line Code</th>\n",
       "      <th>Month</th>\n",
       "      <th>Date</th>\n",
       "      <th>EURKM vs Budget</th>\n",
       "      <th>EURKM vs Budget(abs)</th>\n",
       "      <th>Plan Capacity</th>\n",
       "      <th>Plan  Km</th>\n",
       "      <th>Plan Load</th>\n",
       "      <th>Plan Net Revenue per Bus Km</th>\n",
       "      <th>Plan Net Yield</th>\n",
       "      <th>...</th>\n",
       "      <th>YIELD vs Budget</th>\n",
       "      <th>YIELD vs Budget (abs)</th>\n",
       "      <th>Km</th>\n",
       "      <th>Km Total</th>\n",
       "      <th>Net Revenue Per Km</th>\n",
       "      <th>Net Revenue Per Seat Km</th>\n",
       "      <th>Net Yield</th>\n",
       "      <th>Seat Km</th>\n",
       "      <th>Utilization (%)</th>\n",
       "      <th>Outcome</th>\n",
       "    </tr>\n",
       "  </thead>\n",
       "  <tbody>\n",
       "    <tr>\n",
       "      <th>60</th>\n",
       "      <td>5</td>\n",
       "      <td>1</td>\n",
       "      <td>2017</td>\n",
       "      <td>0.017129</td>\n",
       "      <td>0.020989</td>\n",
       "      <td>52.492927</td>\n",
       "      <td>43968</td>\n",
       "      <td>0.579058</td>\n",
       "      <td>1.225323</td>\n",
       "      <td>4.031142</td>\n",
       "      <td>...</td>\n",
       "      <td>0.066267</td>\n",
       "      <td>0.267130</td>\n",
       "      <td>43962.1</td>\n",
       "      <td>1274709.4</td>\n",
       "      <td>1.246312</td>\n",
       "      <td>0.025934</td>\n",
       "      <td>4.298272</td>\n",
       "      <td>2112671.0</td>\n",
       "      <td>0.603364</td>\n",
       "      <td>1</td>\n",
       "    </tr>\n",
       "    <tr>\n",
       "      <th>61</th>\n",
       "      <td>5</td>\n",
       "      <td>2</td>\n",
       "      <td>2017</td>\n",
       "      <td>-0.094778</td>\n",
       "      <td>-0.104072</td>\n",
       "      <td>52.492740</td>\n",
       "      <td>34712</td>\n",
       "      <td>0.586531</td>\n",
       "      <td>1.098064</td>\n",
       "      <td>3.566459</td>\n",
       "      <td>...</td>\n",
       "      <td>0.102760</td>\n",
       "      <td>0.366489</td>\n",
       "      <td>34707.2</td>\n",
       "      <td>877171.0</td>\n",
       "      <td>0.993992</td>\n",
       "      <td>0.020712</td>\n",
       "      <td>3.932948</td>\n",
       "      <td>1665626.4</td>\n",
       "      <td>0.526631</td>\n",
       "      <td>1</td>\n",
       "    </tr>\n",
       "    <tr>\n",
       "      <th>62</th>\n",
       "      <td>5</td>\n",
       "      <td>3</td>\n",
       "      <td>2017</td>\n",
       "      <td>-0.007904</td>\n",
       "      <td>-0.008972</td>\n",
       "      <td>52.497787</td>\n",
       "      <td>45859</td>\n",
       "      <td>0.579802</td>\n",
       "      <td>1.135044</td>\n",
       "      <td>3.729001</td>\n",
       "      <td>...</td>\n",
       "      <td>0.064635</td>\n",
       "      <td>0.241023</td>\n",
       "      <td>45857.0</td>\n",
       "      <td>1300705.6</td>\n",
       "      <td>1.126073</td>\n",
       "      <td>0.023621</td>\n",
       "      <td>3.970024</td>\n",
       "      <td>2186157.3</td>\n",
       "      <td>0.594973</td>\n",
       "      <td>1</td>\n",
       "    </tr>\n",
       "    <tr>\n",
       "      <th>63</th>\n",
       "      <td>5</td>\n",
       "      <td>4</td>\n",
       "      <td>2017</td>\n",
       "      <td>-0.040072</td>\n",
       "      <td>-0.055151</td>\n",
       "      <td>52.498404</td>\n",
       "      <td>16290</td>\n",
       "      <td>0.636999</td>\n",
       "      <td>1.376304</td>\n",
       "      <td>4.115566</td>\n",
       "      <td>...</td>\n",
       "      <td>0.161390</td>\n",
       "      <td>0.664212</td>\n",
       "      <td>16382.6</td>\n",
       "      <td>452822.9</td>\n",
       "      <td>1.321154</td>\n",
       "      <td>0.025739</td>\n",
       "      <td>4.779778</td>\n",
       "      <td>840911.3</td>\n",
       "      <td>0.538491</td>\n",
       "      <td>1</td>\n",
       "    </tr>\n",
       "    <tr>\n",
       "      <th>64</th>\n",
       "      <td>5</td>\n",
       "      <td>5</td>\n",
       "      <td>2017</td>\n",
       "      <td>0.001386</td>\n",
       "      <td>0.001733</td>\n",
       "      <td>52.500000</td>\n",
       "      <td>12488</td>\n",
       "      <td>0.607602</td>\n",
       "      <td>1.250721</td>\n",
       "      <td>3.920865</td>\n",
       "      <td>...</td>\n",
       "      <td>0.324611</td>\n",
       "      <td>1.272758</td>\n",
       "      <td>12866.0</td>\n",
       "      <td>310266.5</td>\n",
       "      <td>1.252454</td>\n",
       "      <td>0.023631</td>\n",
       "      <td>5.193622</td>\n",
       "      <td>681898.0</td>\n",
       "      <td>0.455004</td>\n",
       "      <td>1</td>\n",
       "    </tr>\n",
       "  </tbody>\n",
       "</table>\n",
       "<p>5 rows × 26 columns</p>\n",
       "</div>"
      ],
      "text/plain": [
       "   Line Code  Month  Date  EURKM vs Budget  EURKM vs Budget(abs)  \\\n",
       "60         5      1  2017         0.017129              0.020989   \n",
       "61         5      2  2017        -0.094778             -0.104072   \n",
       "62         5      3  2017        -0.007904             -0.008972   \n",
       "63         5      4  2017        -0.040072             -0.055151   \n",
       "64         5      5  2017         0.001386              0.001733   \n",
       "\n",
       "    Plan Capacity  Plan  Km  Plan Load  Plan Net Revenue per Bus Km  \\\n",
       "60      52.492927     43968   0.579058                     1.225323   \n",
       "61      52.492740     34712   0.586531                     1.098064   \n",
       "62      52.497787     45859   0.579802                     1.135044   \n",
       "63      52.498404     16290   0.636999                     1.376304   \n",
       "64      52.500000     12488   0.607602                     1.250721   \n",
       "\n",
       "    Plan Net Yield  ...  YIELD vs Budget  YIELD vs Budget (abs)       Km  \\\n",
       "60        4.031142  ...         0.066267               0.267130  43962.1   \n",
       "61        3.566459  ...         0.102760               0.366489  34707.2   \n",
       "62        3.729001  ...         0.064635               0.241023  45857.0   \n",
       "63        4.115566  ...         0.161390               0.664212  16382.6   \n",
       "64        3.920865  ...         0.324611               1.272758  12866.0   \n",
       "\n",
       "     Km Total  Net Revenue Per Km  Net Revenue Per Seat Km  Net Yield  \\\n",
       "60  1274709.4            1.246312                 0.025934   4.298272   \n",
       "61   877171.0            0.993992                 0.020712   3.932948   \n",
       "62  1300705.6            1.126073                 0.023621   3.970024   \n",
       "63   452822.9            1.321154                 0.025739   4.779778   \n",
       "64   310266.5            1.252454                 0.023631   5.193622   \n",
       "\n",
       "      Seat Km  Utilization (%)  Outcome  \n",
       "60  2112671.0         0.603364        1  \n",
       "61  1665626.4         0.526631        1  \n",
       "62  2186157.3         0.594973        1  \n",
       "63   840911.3         0.538491        1  \n",
       "64   681898.0         0.455004        1  \n",
       "\n",
       "[5 rows x 26 columns]"
      ]
     },
     "execution_count": 21,
     "metadata": {},
     "output_type": "execute_result"
    }
   ],
   "source": [
    "failed_line_in_3_months.head()"
   ]
  },
  {
   "cell_type": "code",
   "execution_count": 22,
   "metadata": {},
   "outputs": [
    {
     "data": {
      "text/plain": [
       "(4742, 26)"
      ]
     },
     "execution_count": 22,
     "metadata": {},
     "output_type": "execute_result"
    }
   ],
   "source": [
    "failed_line_in_3_months.shape # Checking how many rows met the requirement"
   ]
  },
  {
   "cell_type": "code",
   "execution_count": 23,
   "metadata": {},
   "outputs": [],
   "source": [
    "# # In this cell we are seeing that how many failed lines did not meet the requirements\n",
    "\n",
    "# failed_lines = df_3[df_3['Outcome'] == 1]\n",
    "\n",
    "# print(failed_lines.shape[0] - failed_line_in_3_months.shape[0])  "
   ]
  },
  {
   "cell_type": "code",
   "execution_count": 24,
   "metadata": {},
   "outputs": [],
   "source": [
    "failed_line_in_3_months.to_excel('./failed-lines-in-3-months.xlsx', index=False)  # ./ is for saving in current directory index=False is for not saving index or row number as a separate column "
   ]
  },
  {
   "cell_type": "code",
   "execution_count": 25,
   "metadata": {},
   "outputs": [
    {
     "name": "stderr",
     "output_type": "stream",
     "text": [
      "<ipython-input-25-1102904b9748>:1: SettingWithCopyWarning: \n",
      "A value is trying to be set on a copy of a slice from a DataFrame.\n",
      "Try using .loc[row_indexer,col_indexer] = value instead\n",
      "\n",
      "See the caveats in the documentation: https://pandas.pydata.org/pandas-docs/stable/user_guide/indexing.html#returning-a-view-versus-a-copy\n",
      "  df_3['Probability of Failure(after 3 months)'] = prob_after_months\n"
     ]
    }
   ],
   "source": [
    "df_3['Probability of Failure(after 3 months)'] = prob_after_months"
   ]
  },
  {
   "cell_type": "code",
   "execution_count": 26,
   "metadata": {},
   "outputs": [
    {
     "name": "stdout",
     "output_type": "stream",
     "text": [
      "<class 'pandas.core.frame.DataFrame'>\n",
      "Int64Index: 22421 entries, 0 to 22830\n",
      "Data columns (total 27 columns):\n",
      " #   Column                                  Non-Null Count  Dtype  \n",
      "---  ------                                  --------------  -----  \n",
      " 0   Line Code                               22421 non-null  object \n",
      " 1   Month                                   22421 non-null  int64  \n",
      " 2   Date                                    22421 non-null  int64  \n",
      " 3   EURKM vs Budget                         22421 non-null  float64\n",
      " 4   EURKM vs Budget(abs)                    22421 non-null  float64\n",
      " 5   Plan Capacity                           22421 non-null  float64\n",
      " 6   Plan  Km                                22421 non-null  int64  \n",
      " 7   Plan Load                               22421 non-null  float64\n",
      " 8   Plan Net Revenue per Bus Km             22421 non-null  float64\n",
      " 9   Plan Net Yield                          22421 non-null  float64\n",
      " 10  Plan Pax Km                             22421 non-null  int64  \n",
      " 11  Plan Seat Km                            22421 non-null  int64  \n",
      " 12  SKM vs Budget                           22421 non-null  float64\n",
      " 13  SKM vs Budget(abs)                      22421 non-null  float64\n",
      " 14  UTIL vs Budget                          22421 non-null  float64\n",
      " 15  UTIL vs Budget (abs)                    22421 non-null  float64\n",
      " 16  YIELD vs Budget                         22421 non-null  float64\n",
      " 17  YIELD vs Budget (abs)                   22421 non-null  float64\n",
      " 18  Km                                      22421 non-null  float64\n",
      " 19  Km Total                                22421 non-null  float64\n",
      " 20  Net Revenue Per Km                      22421 non-null  float64\n",
      " 21  Net Revenue Per Seat Km                 22421 non-null  float64\n",
      " 22  Net Yield                               22421 non-null  float64\n",
      " 23  Seat Km                                 22421 non-null  float64\n",
      " 24  Utilization (%)                         22421 non-null  float64\n",
      " 25  Outcome                                 22421 non-null  int64  \n",
      " 26  Probability of Failure(after 3 months)  19367 non-null  float64\n",
      "dtypes: float64(20), int64(6), object(1)\n",
      "memory usage: 4.8+ MB\n"
     ]
    }
   ],
   "source": [
    "df_3.info()"
   ]
  },
  {
   "cell_type": "code",
   "execution_count": 27,
   "metadata": {},
   "outputs": [
    {
     "data": {
      "text/html": [
       "<div>\n",
       "<style scoped>\n",
       "    .dataframe tbody tr th:only-of-type {\n",
       "        vertical-align: middle;\n",
       "    }\n",
       "\n",
       "    .dataframe tbody tr th {\n",
       "        vertical-align: top;\n",
       "    }\n",
       "\n",
       "    .dataframe thead th {\n",
       "        text-align: right;\n",
       "    }\n",
       "</style>\n",
       "<table border=\"1\" class=\"dataframe\">\n",
       "  <thead>\n",
       "    <tr style=\"text-align: right;\">\n",
       "      <th></th>\n",
       "      <th>Line Code</th>\n",
       "      <th>Month</th>\n",
       "      <th>Date</th>\n",
       "      <th>EURKM vs Budget</th>\n",
       "      <th>EURKM vs Budget(abs)</th>\n",
       "      <th>Plan Capacity</th>\n",
       "      <th>Plan  Km</th>\n",
       "      <th>Plan Load</th>\n",
       "      <th>Plan Net Revenue per Bus Km</th>\n",
       "      <th>Plan Net Yield</th>\n",
       "      <th>...</th>\n",
       "      <th>YIELD vs Budget (abs)</th>\n",
       "      <th>Km</th>\n",
       "      <th>Km Total</th>\n",
       "      <th>Net Revenue Per Km</th>\n",
       "      <th>Net Revenue Per Seat Km</th>\n",
       "      <th>Net Yield</th>\n",
       "      <th>Seat Km</th>\n",
       "      <th>Utilization (%)</th>\n",
       "      <th>Outcome</th>\n",
       "      <th>Probability of Failure(after 3 months)</th>\n",
       "    </tr>\n",
       "  </thead>\n",
       "  <tbody>\n",
       "    <tr>\n",
       "      <th>0</th>\n",
       "      <td>1</td>\n",
       "      <td>1</td>\n",
       "      <td>2017</td>\n",
       "      <td>0.023122</td>\n",
       "      <td>0.033176</td>\n",
       "      <td>53.000862</td>\n",
       "      <td>114857</td>\n",
       "      <td>0.583000</td>\n",
       "      <td>1.434802</td>\n",
       "      <td>4.643446</td>\n",
       "      <td>...</td>\n",
       "      <td>0.095164</td>\n",
       "      <td>114858.9</td>\n",
       "      <td>3558222.1</td>\n",
       "      <td>1.467977</td>\n",
       "      <td>0.029198</td>\n",
       "      <td>4.738610</td>\n",
       "      <td>5774745.2</td>\n",
       "      <td>0.616170</td>\n",
       "      <td>0</td>\n",
       "      <td>0.000634</td>\n",
       "    </tr>\n",
       "    <tr>\n",
       "      <th>1</th>\n",
       "      <td>1</td>\n",
       "      <td>2</td>\n",
       "      <td>2017</td>\n",
       "      <td>-0.132650</td>\n",
       "      <td>-0.211710</td>\n",
       "      <td>50.001359</td>\n",
       "      <td>103028</td>\n",
       "      <td>0.700649</td>\n",
       "      <td>1.596003</td>\n",
       "      <td>4.555663</td>\n",
       "      <td>...</td>\n",
       "      <td>-0.214174</td>\n",
       "      <td>103030.8</td>\n",
       "      <td>3285158.4</td>\n",
       "      <td>1.384293</td>\n",
       "      <td>0.027453</td>\n",
       "      <td>4.341488</td>\n",
       "      <td>5195309.6</td>\n",
       "      <td>0.632332</td>\n",
       "      <td>0</td>\n",
       "      <td>0.000508</td>\n",
       "    </tr>\n",
       "    <tr>\n",
       "      <th>2</th>\n",
       "      <td>1</td>\n",
       "      <td>3</td>\n",
       "      <td>2017</td>\n",
       "      <td>0.163055</td>\n",
       "      <td>0.229740</td>\n",
       "      <td>51.001362</td>\n",
       "      <td>113816</td>\n",
       "      <td>0.638601</td>\n",
       "      <td>1.408976</td>\n",
       "      <td>4.326056</td>\n",
       "      <td>...</td>\n",
       "      <td>0.279776</td>\n",
       "      <td>113819.1</td>\n",
       "      <td>4049587.4</td>\n",
       "      <td>1.638716</td>\n",
       "      <td>0.032499</td>\n",
       "      <td>4.605832</td>\n",
       "      <td>5739253.6</td>\n",
       "      <td>0.705595</td>\n",
       "      <td>0</td>\n",
       "      <td>0.000518</td>\n",
       "    </tr>\n",
       "    <tr>\n",
       "      <th>3</th>\n",
       "      <td>1</td>\n",
       "      <td>4</td>\n",
       "      <td>2017</td>\n",
       "      <td>0.169769</td>\n",
       "      <td>0.278225</td>\n",
       "      <td>50.998759</td>\n",
       "      <td>124902</td>\n",
       "      <td>0.686000</td>\n",
       "      <td>1.638845</td>\n",
       "      <td>4.684405</td>\n",
       "      <td>...</td>\n",
       "      <td>0.684334</td>\n",
       "      <td>124898.9</td>\n",
       "      <td>4459891.7</td>\n",
       "      <td>1.917070</td>\n",
       "      <td>0.038194</td>\n",
       "      <td>5.368739</td>\n",
       "      <td>6269035.2</td>\n",
       "      <td>0.711416</td>\n",
       "      <td>0</td>\n",
       "      <td>0.001000</td>\n",
       "    </tr>\n",
       "    <tr>\n",
       "      <th>4</th>\n",
       "      <td>1</td>\n",
       "      <td>5</td>\n",
       "      <td>2017</td>\n",
       "      <td>0.056917</td>\n",
       "      <td>0.085502</td>\n",
       "      <td>51.999176</td>\n",
       "      <td>137066</td>\n",
       "      <td>0.627200</td>\n",
       "      <td>1.502218</td>\n",
       "      <td>4.606067</td>\n",
       "      <td>...</td>\n",
       "      <td>0.505796</td>\n",
       "      <td>137063.9</td>\n",
       "      <td>4257137.2</td>\n",
       "      <td>1.587720</td>\n",
       "      <td>0.031693</td>\n",
       "      <td>5.111863</td>\n",
       "      <td>6866404.7</td>\n",
       "      <td>0.619995</td>\n",
       "      <td>0</td>\n",
       "      <td>0.000915</td>\n",
       "    </tr>\n",
       "  </tbody>\n",
       "</table>\n",
       "<p>5 rows × 27 columns</p>\n",
       "</div>"
      ],
      "text/plain": [
       "  Line Code  Month  Date  EURKM vs Budget  EURKM vs Budget(abs)  \\\n",
       "0         1      1  2017         0.023122              0.033176   \n",
       "1         1      2  2017        -0.132650             -0.211710   \n",
       "2         1      3  2017         0.163055              0.229740   \n",
       "3         1      4  2017         0.169769              0.278225   \n",
       "4         1      5  2017         0.056917              0.085502   \n",
       "\n",
       "   Plan Capacity  Plan  Km  Plan Load  Plan Net Revenue per Bus Km  \\\n",
       "0      53.000862    114857   0.583000                     1.434802   \n",
       "1      50.001359    103028   0.700649                     1.596003   \n",
       "2      51.001362    113816   0.638601                     1.408976   \n",
       "3      50.998759    124902   0.686000                     1.638845   \n",
       "4      51.999176    137066   0.627200                     1.502218   \n",
       "\n",
       "   Plan Net Yield  ...  YIELD vs Budget (abs)        Km   Km Total  \\\n",
       "0        4.643446  ...               0.095164  114858.9  3558222.1   \n",
       "1        4.555663  ...              -0.214174  103030.8  3285158.4   \n",
       "2        4.326056  ...               0.279776  113819.1  4049587.4   \n",
       "3        4.684405  ...               0.684334  124898.9  4459891.7   \n",
       "4        4.606067  ...               0.505796  137063.9  4257137.2   \n",
       "\n",
       "   Net Revenue Per Km  Net Revenue Per Seat Km  Net Yield    Seat Km  \\\n",
       "0            1.467977                 0.029198   4.738610  5774745.2   \n",
       "1            1.384293                 0.027453   4.341488  5195309.6   \n",
       "2            1.638716                 0.032499   4.605832  5739253.6   \n",
       "3            1.917070                 0.038194   5.368739  6269035.2   \n",
       "4            1.587720                 0.031693   5.111863  6866404.7   \n",
       "\n",
       "   Utilization (%)  Outcome  Probability of Failure(after 3 months)  \n",
       "0         0.616170        0                                0.000634  \n",
       "1         0.632332        0                                0.000508  \n",
       "2         0.705595        0                                0.000518  \n",
       "3         0.711416        0                                0.001000  \n",
       "4         0.619995        0                                0.000915  \n",
       "\n",
       "[5 rows x 27 columns]"
      ]
     },
     "execution_count": 27,
     "metadata": {},
     "output_type": "execute_result"
    }
   ],
   "source": [
    "df_3.head()"
   ]
  },
  {
   "cell_type": "code",
   "execution_count": 28,
   "metadata": {},
   "outputs": [],
   "source": [
    "df_3.to_excel('./original-data-with-probs.xlsx', index=False) "
   ]
  },
  {
   "cell_type": "code",
   "execution_count": 29,
   "metadata": {},
   "outputs": [
    {
     "data": {
      "text/plain": [
       "XGBClassifier(base_score=0.5, booster='gbtree', colsample_bylevel=1,\n",
       "              colsample_bynode=1, colsample_bytree=1, gamma=0, gpu_id=-1,\n",
       "              importance_type='gain', interaction_constraints='',\n",
       "              learning_rate=0.300000012, max_delta_step=0, max_depth=6,\n",
       "              min_child_weight=1, missing=nan, monotone_constraints='()',\n",
       "              n_estimators=100, n_jobs=0, num_parallel_tree=1, random_state=0,\n",
       "              reg_alpha=0, reg_lambda=1, scale_pos_weight=1, subsample=1,\n",
       "              tree_method='exact', validate_parameters=1, verbosity=None)"
      ]
     },
     "execution_count": 29,
     "metadata": {},
     "output_type": "execute_result"
    }
   ],
   "source": [
    "xtreme_gb.fit(X_train, y_train)"
   ]
  },
  {
   "cell_type": "code",
   "execution_count": 30,
   "metadata": {},
   "outputs": [
    {
     "ename": "ValueError",
     "evalue": "feature_names mismatch: ['f0', 'f1', 'f2', 'f3', 'f4', 'f5', 'f6', 'f7', 'f8', 'f9', 'f10', 'f11', 'f12', 'f13', 'f14', 'f15', 'f16', 'f17', 'f18', 'f19', 'f20', 'f21', 'f22', 'f23', 'f24'] ['f0', 'f1', 'f2', 'f3', 'f4', 'f5', 'f6', 'f7', 'f8', 'f9', 'f10', 'f11', 'f12', 'f13', 'f14', 'f15', 'f16', 'f17', 'f18', 'f19']\nexpected f21, f24, f23, f20, f22 in input data",
     "output_type": "error",
     "traceback": [
      "\u001b[0;31m---------------------------------------------------------------------------\u001b[0m",
      "\u001b[0;31mValueError\u001b[0m                                Traceback (most recent call last)",
      "\u001b[0;32m<ipython-input-30-1bce69e0dc66>\u001b[0m in \u001b[0;36m<module>\u001b[0;34m\u001b[0m\n\u001b[1;32m      3\u001b[0m                      \u001b[0;36m0.\u001b[0m        \u001b[0;34m,\u001b[0m  \u001b[0;36m0.\u001b[0m        \u001b[0;34m,\u001b[0m  \u001b[0;36m0.\u001b[0m        \u001b[0;34m,\u001b[0m  \u001b[0;36m0.\u001b[0m        \u001b[0;34m,\u001b[0m  \u001b[0;36m0.\u001b[0m        \u001b[0;34m,\u001b[0m\u001b[0;34m\u001b[0m\u001b[0;34m\u001b[0m\u001b[0m\n\u001b[1;32m      4\u001b[0m                      0.7579883 , -0.0706823 , -0.02469647,  0.31020082,  0.13747536]])\n\u001b[0;32m----> 5\u001b[0;31m \u001b[0mxtreme_gb\u001b[0m\u001b[0;34m.\u001b[0m\u001b[0mpredict\u001b[0m\u001b[0;34m(\u001b[0m\u001b[0mdummy\u001b[0m\u001b[0;34m)\u001b[0m\u001b[0;34m\u001b[0m\u001b[0;34m\u001b[0m\u001b[0m\n\u001b[0m",
      "\u001b[0;32m~/anaconda3/lib/python3.8/site-packages/xgboost/sklearn.py\u001b[0m in \u001b[0;36mpredict\u001b[0;34m(self, data, output_margin, ntree_limit, validate_features, base_margin)\u001b[0m\n\u001b[1;32m    892\u001b[0m         \u001b[0;32mif\u001b[0m \u001b[0mntree_limit\u001b[0m \u001b[0;32mis\u001b[0m \u001b[0;32mNone\u001b[0m\u001b[0;34m:\u001b[0m\u001b[0;34m\u001b[0m\u001b[0;34m\u001b[0m\u001b[0m\n\u001b[1;32m    893\u001b[0m             \u001b[0mntree_limit\u001b[0m \u001b[0;34m=\u001b[0m \u001b[0mgetattr\u001b[0m\u001b[0;34m(\u001b[0m\u001b[0mself\u001b[0m\u001b[0;34m,\u001b[0m \u001b[0;34m\"best_ntree_limit\"\u001b[0m\u001b[0;34m,\u001b[0m \u001b[0;36m0\u001b[0m\u001b[0;34m)\u001b[0m\u001b[0;34m\u001b[0m\u001b[0;34m\u001b[0m\u001b[0m\n\u001b[0;32m--> 894\u001b[0;31m         class_probs = self.get_booster().predict(\n\u001b[0m\u001b[1;32m    895\u001b[0m             \u001b[0mtest_dmatrix\u001b[0m\u001b[0;34m,\u001b[0m\u001b[0;34m\u001b[0m\u001b[0;34m\u001b[0m\u001b[0m\n\u001b[1;32m    896\u001b[0m             \u001b[0moutput_margin\u001b[0m\u001b[0;34m=\u001b[0m\u001b[0moutput_margin\u001b[0m\u001b[0;34m,\u001b[0m\u001b[0;34m\u001b[0m\u001b[0;34m\u001b[0m\u001b[0m\n",
      "\u001b[0;32m~/anaconda3/lib/python3.8/site-packages/xgboost/core.py\u001b[0m in \u001b[0;36mpredict\u001b[0;34m(self, data, output_margin, ntree_limit, pred_leaf, pred_contribs, approx_contribs, pred_interactions, validate_features, training)\u001b[0m\n\u001b[1;32m   1362\u001b[0m \u001b[0;34m\u001b[0m\u001b[0m\n\u001b[1;32m   1363\u001b[0m         \u001b[0;32mif\u001b[0m \u001b[0mvalidate_features\u001b[0m\u001b[0;34m:\u001b[0m\u001b[0;34m\u001b[0m\u001b[0;34m\u001b[0m\u001b[0m\n\u001b[0;32m-> 1364\u001b[0;31m             \u001b[0mself\u001b[0m\u001b[0;34m.\u001b[0m\u001b[0m_validate_features\u001b[0m\u001b[0;34m(\u001b[0m\u001b[0mdata\u001b[0m\u001b[0;34m)\u001b[0m\u001b[0;34m\u001b[0m\u001b[0;34m\u001b[0m\u001b[0m\n\u001b[0m\u001b[1;32m   1365\u001b[0m \u001b[0;34m\u001b[0m\u001b[0m\n\u001b[1;32m   1366\u001b[0m         \u001b[0mlength\u001b[0m \u001b[0;34m=\u001b[0m \u001b[0mc_bst_ulong\u001b[0m\u001b[0;34m(\u001b[0m\u001b[0;34m)\u001b[0m\u001b[0;34m\u001b[0m\u001b[0;34m\u001b[0m\u001b[0m\n",
      "\u001b[0;32m~/anaconda3/lib/python3.8/site-packages/xgboost/core.py\u001b[0m in \u001b[0;36m_validate_features\u001b[0;34m(self, data)\u001b[0m\n\u001b[1;32m   1933\u001b[0m                             ', '.join(str(s) for s in my_missing))\n\u001b[1;32m   1934\u001b[0m \u001b[0;34m\u001b[0m\u001b[0m\n\u001b[0;32m-> 1935\u001b[0;31m                 raise ValueError(msg.format(self.feature_names,\n\u001b[0m\u001b[1;32m   1936\u001b[0m                                             data.feature_names))\n\u001b[1;32m   1937\u001b[0m \u001b[0;34m\u001b[0m\u001b[0m\n",
      "\u001b[0;31mValueError\u001b[0m: feature_names mismatch: ['f0', 'f1', 'f2', 'f3', 'f4', 'f5', 'f6', 'f7', 'f8', 'f9', 'f10', 'f11', 'f12', 'f13', 'f14', 'f15', 'f16', 'f17', 'f18', 'f19', 'f20', 'f21', 'f22', 'f23', 'f24'] ['f0', 'f1', 'f2', 'f3', 'f4', 'f5', 'f6', 'f7', 'f8', 'f9', 'f10', 'f11', 'f12', 'f13', 'f14', 'f15', 'f16', 'f17', 'f18', 'f19']\nexpected f21, f24, f23, f20, f22 in input data"
     ]
    }
   ],
   "source": [
    "dummy = np.array([[-0.69708394,  0.0852767 ,  1.00745052,  0.30569428,  0.46520926,\n",
    "                    -0.31715014,  0.24372845, -0.2117296 , -0.39210425, -0.15903603,\n",
    "                     0.        ,  0.        ,  0.        ,  0.        ,  0.        ,\n",
    "                     0.7579883 , -0.0706823 , -0.02469647,  0.31020082,  0.13747536]])\n",
    "xtreme_gb.predict(dummy)"
   ]
  },
  {
   "cell_type": "code",
   "execution_count": 31,
   "metadata": {},
   "outputs": [
    {
     "name": "stdout",
     "output_type": "stream",
     "text": [
      "4, 5, 6\n"
     ]
    }
   ],
   "source": [
    "print(\"{}, {}, {}\".format(4, 5, 6))"
   ]
  },
  {
   "cell_type": "code",
   "execution_count": null,
   "metadata": {},
   "outputs": [],
   "source": [
    "X_test[0].reshape?"
   ]
  },
  {
   "cell_type": "code",
   "execution_count": null,
   "metadata": {},
   "outputs": [],
   "source": [
    "X_test[0].reshape"
   ]
  },
  {
   "cell_type": "code",
   "execution_count": null,
   "metadata": {},
   "outputs": [],
   "source": [
    "xgb"
   ]
  },
  {
   "cell_type": "code",
   "execution_count": null,
   "metadata": {},
   "outputs": [],
   "source": []
  }
 ],
 "metadata": {
  "kernelspec": {
   "display_name": "Python 3",
   "language": "python",
   "name": "python3"
  },
  "language_info": {
   "codemirror_mode": {
    "name": "ipython",
    "version": 3
   },
   "file_extension": ".py",
   "mimetype": "text/x-python",
   "name": "python",
   "nbconvert_exporter": "python",
   "pygments_lexer": "ipython3",
   "version": "3.8.10"
  }
 },
 "nbformat": 4,
 "nbformat_minor": 2
}
