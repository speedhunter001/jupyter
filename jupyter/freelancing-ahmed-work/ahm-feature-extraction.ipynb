{
 "cells": [
  {
   "cell_type": "code",
   "execution_count": 8,
   "metadata": {},
   "outputs": [],
   "source": [
    "# Importing libraries\n",
    "import pandas as pd\n",
    "import matplotlib.pyplot as plt\n",
    "import seaborn as sns\n",
    "import numpy as np\n",
    "\n",
    "# Importing important functions/algorithms\n",
    "from sklearn.preprocessing import StandardScaler\n",
    "from sklearn.preprocessing import LabelEncoder\n",
    "from sklearn.decomposition import PCA\n",
    "from sklearn.linear_model import LogisticRegression"
   ]
  },
  {
   "cell_type": "code",
   "execution_count": 2,
   "metadata": {},
   "outputs": [],
   "source": [
    "df = pd.read_excel('./Patterns Project.xlsx', sheet_name='Original')  # ./  is for current directory and there is no need here for this but just for sake of understanding.Do change the path if file is somewhere else "
   ]
  },
  {
   "cell_type": "code",
   "execution_count": 3,
   "metadata": {},
   "outputs": [
    {
     "data": {
      "text/html": [
       "<div>\n",
       "<style scoped>\n",
       "    .dataframe tbody tr th:only-of-type {\n",
       "        vertical-align: middle;\n",
       "    }\n",
       "\n",
       "    .dataframe tbody tr th {\n",
       "        vertical-align: top;\n",
       "    }\n",
       "\n",
       "    .dataframe thead th {\n",
       "        text-align: right;\n",
       "    }\n",
       "</style>\n",
       "<table border=\"1\" class=\"dataframe\">\n",
       "  <thead>\n",
       "    <tr style=\"text-align: right;\">\n",
       "      <th></th>\n",
       "      <th>Month</th>\n",
       "      <th>Date</th>\n",
       "      <th>EURKM vs Budget</th>\n",
       "      <th>EURKM vs Budget(abs)</th>\n",
       "      <th>Plan Capacity</th>\n",
       "      <th>Plan  Km</th>\n",
       "      <th>Plan Load</th>\n",
       "      <th>Plan Net Revenue per Bus Km</th>\n",
       "      <th>Plan Net Yield</th>\n",
       "      <th>Plan Pax Km</th>\n",
       "      <th>...</th>\n",
       "      <th>YIELD vs Budget</th>\n",
       "      <th>YIELD vs Budget (abs)</th>\n",
       "      <th>Km</th>\n",
       "      <th>Km Total</th>\n",
       "      <th>Net Revenue Per Km</th>\n",
       "      <th>Net Revenue Per Seat Km</th>\n",
       "      <th>Net Yield</th>\n",
       "      <th>Seat Km</th>\n",
       "      <th>Utilization (%)</th>\n",
       "      <th>Outcome</th>\n",
       "    </tr>\n",
       "  </thead>\n",
       "  <tbody>\n",
       "    <tr>\n",
       "      <th>count</th>\n",
       "      <td>22831.000000</td>\n",
       "      <td>22831.000000</td>\n",
       "      <td>22421.000000</td>\n",
       "      <td>22421.000000</td>\n",
       "      <td>22441.000000</td>\n",
       "      <td>22831.000000</td>\n",
       "      <td>22441.000000</td>\n",
       "      <td>22441.000000</td>\n",
       "      <td>22423.000000</td>\n",
       "      <td>2.283100e+04</td>\n",
       "      <td>...</td>\n",
       "      <td>22421.000000</td>\n",
       "      <td>22421.000000</td>\n",
       "      <td>22831.000000</td>\n",
       "      <td>2.283100e+04</td>\n",
       "      <td>22831.000000</td>\n",
       "      <td>22831.000000</td>\n",
       "      <td>22831.000000</td>\n",
       "      <td>2.283100e+04</td>\n",
       "      <td>22831.000000</td>\n",
       "      <td>22831.000000</td>\n",
       "    </tr>\n",
       "    <tr>\n",
       "      <th>mean</th>\n",
       "      <td>6.747273</td>\n",
       "      <td>2018.194735</td>\n",
       "      <td>-0.001725</td>\n",
       "      <td>-0.048463</td>\n",
       "      <td>54.490245</td>\n",
       "      <td>51830.204809</td>\n",
       "      <td>0.565135</td>\n",
       "      <td>1.486628</td>\n",
       "      <td>4.745389</td>\n",
       "      <td>1.722844e+06</td>\n",
       "      <td>...</td>\n",
       "      <td>0.016235</td>\n",
       "      <td>-0.177123</td>\n",
       "      <td>49664.515377</td>\n",
       "      <td>1.642622e+06</td>\n",
       "      <td>1.425633</td>\n",
       "      <td>0.025686</td>\n",
       "      <td>4.524891</td>\n",
       "      <td>2.832515e+06</td>\n",
       "      <td>0.532803</td>\n",
       "      <td>0.295213</td>\n",
       "    </tr>\n",
       "    <tr>\n",
       "      <th>std</th>\n",
       "      <td>3.375115</td>\n",
       "      <td>0.787724</td>\n",
       "      <td>0.508887</td>\n",
       "      <td>0.485943</td>\n",
       "      <td>23.634161</td>\n",
       "      <td>37821.740364</td>\n",
       "      <td>0.117718</td>\n",
       "      <td>0.851328</td>\n",
       "      <td>1.284120</td>\n",
       "      <td>1.961437e+06</td>\n",
       "      <td>...</td>\n",
       "      <td>0.881198</td>\n",
       "      <td>1.296406</td>\n",
       "      <td>37756.517776</td>\n",
       "      <td>1.751325e+06</td>\n",
       "      <td>0.882839</td>\n",
       "      <td>0.011066</td>\n",
       "      <td>1.740832</td>\n",
       "      <td>2.770321e+06</td>\n",
       "      <td>0.181587</td>\n",
       "      <td>0.456148</td>\n",
       "    </tr>\n",
       "    <tr>\n",
       "      <th>min</th>\n",
       "      <td>1.000000</td>\n",
       "      <td>2017.000000</td>\n",
       "      <td>-1.000000</td>\n",
       "      <td>-9.667131</td>\n",
       "      <td>19.975494</td>\n",
       "      <td>0.000000</td>\n",
       "      <td>0.000000</td>\n",
       "      <td>0.000000</td>\n",
       "      <td>0.000000</td>\n",
       "      <td>0.000000e+00</td>\n",
       "      <td>...</td>\n",
       "      <td>-1.000000</td>\n",
       "      <td>-18.500173</td>\n",
       "      <td>0.000000</td>\n",
       "      <td>0.000000e+00</td>\n",
       "      <td>0.000000</td>\n",
       "      <td>0.000000</td>\n",
       "      <td>0.000000</td>\n",
       "      <td>0.000000e+00</td>\n",
       "      <td>0.000000</td>\n",
       "      <td>0.000000</td>\n",
       "    </tr>\n",
       "    <tr>\n",
       "      <th>25%</th>\n",
       "      <td>4.000000</td>\n",
       "      <td>2018.000000</td>\n",
       "      <td>-0.155681</td>\n",
       "      <td>-0.228383</td>\n",
       "      <td>48.130141</td>\n",
       "      <td>30174.500000</td>\n",
       "      <td>0.500003</td>\n",
       "      <td>1.105292</td>\n",
       "      <td>4.137426</td>\n",
       "      <td>7.983725e+05</td>\n",
       "      <td>...</td>\n",
       "      <td>-0.085798</td>\n",
       "      <td>-0.412930</td>\n",
       "      <td>28560.270000</td>\n",
       "      <td>7.272003e+05</td>\n",
       "      <td>1.055965</td>\n",
       "      <td>0.020400</td>\n",
       "      <td>3.965144</td>\n",
       "      <td>1.432746e+06</td>\n",
       "      <td>0.472096</td>\n",
       "      <td>0.000000</td>\n",
       "    </tr>\n",
       "    <tr>\n",
       "      <th>50%</th>\n",
       "      <td>7.000000</td>\n",
       "      <td>2018.000000</td>\n",
       "      <td>-0.009038</td>\n",
       "      <td>-0.011545</td>\n",
       "      <td>49.012477</td>\n",
       "      <td>43916.000000</td>\n",
       "      <td>0.568541</td>\n",
       "      <td>1.381691</td>\n",
       "      <td>4.644370</td>\n",
       "      <td>1.320326e+06</td>\n",
       "      <td>...</td>\n",
       "      <td>0.003860</td>\n",
       "      <td>0.018346</td>\n",
       "      <td>43130.200000</td>\n",
       "      <td>1.289940e+06</td>\n",
       "      <td>1.385265</td>\n",
       "      <td>0.026201</td>\n",
       "      <td>4.639051</td>\n",
       "      <td>2.267225e+06</td>\n",
       "      <td>0.564207</td>\n",
       "      <td>0.000000</td>\n",
       "    </tr>\n",
       "    <tr>\n",
       "      <th>75%</th>\n",
       "      <td>10.000000</td>\n",
       "      <td>2019.000000</td>\n",
       "      <td>0.149559</td>\n",
       "      <td>0.192533</td>\n",
       "      <td>54.003739</td>\n",
       "      <td>63656.000000</td>\n",
       "      <td>0.641165</td>\n",
       "      <td>1.741116</td>\n",
       "      <td>5.252786</td>\n",
       "      <td>2.128926e+06</td>\n",
       "      <td>...</td>\n",
       "      <td>0.091472</td>\n",
       "      <td>0.412197</td>\n",
       "      <td>62702.000000</td>\n",
       "      <td>2.108328e+06</td>\n",
       "      <td>1.766882</td>\n",
       "      <td>0.031978</td>\n",
       "      <td>5.349114</td>\n",
       "      <td>3.524148e+06</td>\n",
       "      <td>0.646336</td>\n",
       "      <td>1.000000</td>\n",
       "    </tr>\n",
       "    <tr>\n",
       "      <th>max</th>\n",
       "      <td>12.000000</td>\n",
       "      <td>2019.000000</td>\n",
       "      <td>14.431777</td>\n",
       "      <td>4.741925</td>\n",
       "      <td>730.036259</td>\n",
       "      <td>427338.000000</td>\n",
       "      <td>0.961876</td>\n",
       "      <td>24.063893</td>\n",
       "      <td>27.221611</td>\n",
       "      <td>4.833879e+07</td>\n",
       "      <td>...</td>\n",
       "      <td>31.196276</td>\n",
       "      <td>4.883833</td>\n",
       "      <td>425402.800000</td>\n",
       "      <td>4.065796e+07</td>\n",
       "      <td>22.559918</td>\n",
       "      <td>0.090757</td>\n",
       "      <td>27.607777</td>\n",
       "      <td>5.244246e+07</td>\n",
       "      <td>0.964033</td>\n",
       "      <td>1.000000</td>\n",
       "    </tr>\n",
       "  </tbody>\n",
       "</table>\n",
       "<p>8 rows × 25 columns</p>\n",
       "</div>"
      ],
      "text/plain": [
       "              Month          Date  EURKM vs Budget  EURKM vs Budget(abs)  \\\n",
       "count  22831.000000  22831.000000     22421.000000          22421.000000   \n",
       "mean       6.747273   2018.194735        -0.001725             -0.048463   \n",
       "std        3.375115      0.787724         0.508887              0.485943   \n",
       "min        1.000000   2017.000000        -1.000000             -9.667131   \n",
       "25%        4.000000   2018.000000        -0.155681             -0.228383   \n",
       "50%        7.000000   2018.000000        -0.009038             -0.011545   \n",
       "75%       10.000000   2019.000000         0.149559              0.192533   \n",
       "max       12.000000   2019.000000        14.431777              4.741925   \n",
       "\n",
       "       Plan Capacity       Plan  Km     Plan Load  \\\n",
       "count   22441.000000   22831.000000  22441.000000   \n",
       "mean       54.490245   51830.204809      0.565135   \n",
       "std        23.634161   37821.740364      0.117718   \n",
       "min        19.975494       0.000000      0.000000   \n",
       "25%        48.130141   30174.500000      0.500003   \n",
       "50%        49.012477   43916.000000      0.568541   \n",
       "75%        54.003739   63656.000000      0.641165   \n",
       "max       730.036259  427338.000000      0.961876   \n",
       "\n",
       "       Plan Net Revenue per Bus Km  Plan Net Yield   Plan Pax Km  \\\n",
       "count                 22441.000000    22423.000000  2.283100e+04   \n",
       "mean                      1.486628        4.745389  1.722844e+06   \n",
       "std                       0.851328        1.284120  1.961437e+06   \n",
       "min                       0.000000        0.000000  0.000000e+00   \n",
       "25%                       1.105292        4.137426  7.983725e+05   \n",
       "50%                       1.381691        4.644370  1.320326e+06   \n",
       "75%                       1.741116        5.252786  2.128926e+06   \n",
       "max                      24.063893       27.221611  4.833879e+07   \n",
       "\n",
       "           ...       YIELD vs Budget  YIELD vs Budget (abs)             Km  \\\n",
       "count      ...          22421.000000           22421.000000   22831.000000   \n",
       "mean       ...              0.016235              -0.177123   49664.515377   \n",
       "std        ...              0.881198               1.296406   37756.517776   \n",
       "min        ...             -1.000000             -18.500173       0.000000   \n",
       "25%        ...             -0.085798              -0.412930   28560.270000   \n",
       "50%        ...              0.003860               0.018346   43130.200000   \n",
       "75%        ...              0.091472               0.412197   62702.000000   \n",
       "max        ...             31.196276               4.883833  425402.800000   \n",
       "\n",
       "           Km Total  Net Revenue Per Km  Net Revenue Per Seat Km  \\\n",
       "count  2.283100e+04        22831.000000             22831.000000   \n",
       "mean   1.642622e+06            1.425633                 0.025686   \n",
       "std    1.751325e+06            0.882839                 0.011066   \n",
       "min    0.000000e+00            0.000000                 0.000000   \n",
       "25%    7.272003e+05            1.055965                 0.020400   \n",
       "50%    1.289940e+06            1.385265                 0.026201   \n",
       "75%    2.108328e+06            1.766882                 0.031978   \n",
       "max    4.065796e+07           22.559918                 0.090757   \n",
       "\n",
       "          Net Yield       Seat Km  Utilization (%)       Outcome  \n",
       "count  22831.000000  2.283100e+04     22831.000000  22831.000000  \n",
       "mean       4.524891  2.832515e+06         0.532803      0.295213  \n",
       "std        1.740832  2.770321e+06         0.181587      0.456148  \n",
       "min        0.000000  0.000000e+00         0.000000      0.000000  \n",
       "25%        3.965144  1.432746e+06         0.472096      0.000000  \n",
       "50%        4.639051  2.267225e+06         0.564207      0.000000  \n",
       "75%        5.349114  3.524148e+06         0.646336      1.000000  \n",
       "max       27.607777  5.244246e+07         0.964033      1.000000  \n",
       "\n",
       "[8 rows x 25 columns]"
      ]
     },
     "execution_count": 3,
     "metadata": {},
     "output_type": "execute_result"
    }
   ],
   "source": [
    "df.describe()  # The std of some features is big which could cause a problem in PCA so standardize it first"
   ]
  },
  {
   "cell_type": "code",
   "execution_count": 4,
   "metadata": {},
   "outputs": [
    {
     "name": "stdout",
     "output_type": "stream",
     "text": [
      "<class 'pandas.core.frame.DataFrame'>\n",
      "RangeIndex: 22831 entries, 0 to 22830\n",
      "Data columns (total 26 columns):\n",
      "Line Code                      22831 non-null object\n",
      "Month                          22831 non-null int64\n",
      "Date                           22831 non-null int64\n",
      "EURKM vs Budget                22421 non-null float64\n",
      "EURKM vs Budget(abs)           22421 non-null float64\n",
      "Plan Capacity                  22441 non-null float64\n",
      "Plan  Km                       22831 non-null int64\n",
      "Plan Load                      22441 non-null float64\n",
      "Plan Net Revenue per Bus Km    22441 non-null float64\n",
      "Plan Net Yield                 22423 non-null float64\n",
      "Plan Pax Km                    22831 non-null int64\n",
      "Plan Seat Km                   22831 non-null int64\n",
      "SKM vs Budget                  22441 non-null float64\n",
      "SKM vs Budget(abs)             22441 non-null float64\n",
      "UTIL vs Budget                 22423 non-null float64\n",
      "UTIL vs Budget (abs)           22423 non-null float64\n",
      "YIELD vs Budget                22421 non-null float64\n",
      "YIELD vs Budget (abs)          22421 non-null float64\n",
      "Km                             22831 non-null float64\n",
      "Km Total                       22831 non-null float64\n",
      "Net Revenue Per Km             22831 non-null float64\n",
      "Net Revenue Per Seat Km        22831 non-null float64\n",
      "Net Yield                      22831 non-null float64\n",
      "Seat Km                        22831 non-null float64\n",
      "Utilization (%)                22831 non-null float64\n",
      "Outcome                        22831 non-null int64\n",
      "dtypes: float64(19), int64(6), object(1)\n",
      "memory usage: 4.5+ MB\n"
     ]
    }
   ],
   "source": [
    "df.info()  # Deal with the string/object column types"
   ]
  },
  {
   "cell_type": "code",
   "execution_count": 5,
   "metadata": {},
   "outputs": [
    {
     "name": "stderr",
     "output_type": "stream",
     "text": [
      "/home/muhammadammarabid/Desktop/S/softwares/anaconda3/lib/python3.7/site-packages/ipykernel_launcher.py:2: SettingWithCopyWarning: \n",
      "A value is trying to be set on a copy of a slice from a DataFrame.\n",
      "Try using .loc[row_indexer,col_indexer] = value instead\n",
      "\n",
      "See the caveats in the documentation: http://pandas.pydata.org/pandas-docs/stable/indexing.html#indexing-view-versus-copy\n",
      "  \n"
     ]
    }
   ],
   "source": [
    "df_2 = df.dropna() # Dealing with missing values\n",
    "df_2['Line Code'] = df_2['Line Code'].astype(str)  "
   ]
  },
  {
   "cell_type": "code",
   "execution_count": 6,
   "metadata": {},
   "outputs": [
    {
     "name": "stderr",
     "output_type": "stream",
     "text": [
      "/home/muhammadammarabid/Desktop/S/softwares/anaconda3/lib/python3.7/site-packages/ipykernel_launcher.py:1: SettingWithCopyWarning: \n",
      "A value is trying to be set on a copy of a slice from a DataFrame.\n",
      "Try using .loc[row_indexer,col_indexer] = value instead\n",
      "\n",
      "See the caveats in the documentation: http://pandas.pydata.org/pandas-docs/stable/indexing.html#indexing-view-versus-copy\n",
      "  \"\"\"Entry point for launching an IPython kernel.\n",
      "/home/muhammadammarabid/Desktop/S/softwares/anaconda3/lib/python3.7/site-packages/pandas/core/frame.py:3697: SettingWithCopyWarning: \n",
      "A value is trying to be set on a copy of a slice from a DataFrame\n",
      "\n",
      "See the caveats in the documentation: http://pandas.pydata.org/pandas-docs/stable/indexing.html#indexing-view-versus-copy\n",
      "  errors=errors)\n"
     ]
    }
   ],
   "source": [
    "df_2['Line Code Label Encoded'] = LabelEncoder().fit_transform(df_2['Line Code'])\n",
    "df_2.drop(['Line Code'], axis=1, inplace=True)"
   ]
  },
  {
   "cell_type": "code",
   "execution_count": 7,
   "metadata": {},
   "outputs": [
    {
     "name": "stdout",
     "output_type": "stream",
     "text": [
      "<class 'pandas.core.frame.DataFrame'>\n",
      "Int64Index: 22421 entries, 0 to 22830\n",
      "Data columns (total 26 columns):\n",
      "Month                          22421 non-null int64\n",
      "Date                           22421 non-null int64\n",
      "EURKM vs Budget                22421 non-null float64\n",
      "EURKM vs Budget(abs)           22421 non-null float64\n",
      "Plan Capacity                  22421 non-null float64\n",
      "Plan  Km                       22421 non-null int64\n",
      "Plan Load                      22421 non-null float64\n",
      "Plan Net Revenue per Bus Km    22421 non-null float64\n",
      "Plan Net Yield                 22421 non-null float64\n",
      "Plan Pax Km                    22421 non-null int64\n",
      "Plan Seat Km                   22421 non-null int64\n",
      "SKM vs Budget                  22421 non-null float64\n",
      "SKM vs Budget(abs)             22421 non-null float64\n",
      "UTIL vs Budget                 22421 non-null float64\n",
      "UTIL vs Budget (abs)           22421 non-null float64\n",
      "YIELD vs Budget                22421 non-null float64\n",
      "YIELD vs Budget (abs)          22421 non-null float64\n",
      "Km                             22421 non-null float64\n",
      "Km Total                       22421 non-null float64\n",
      "Net Revenue Per Km             22421 non-null float64\n",
      "Net Revenue Per Seat Km        22421 non-null float64\n",
      "Net Yield                      22421 non-null float64\n",
      "Seat Km                        22421 non-null float64\n",
      "Utilization (%)                22421 non-null float64\n",
      "Outcome                        22421 non-null int64\n",
      "Line Code Label Encoded        22421 non-null int64\n",
      "dtypes: float64(19), int64(7)\n",
      "memory usage: 4.6 MB\n"
     ]
    }
   ],
   "source": [
    "#df_2.drop(['Month', 'Date'], axis=1, inplace=True)\n",
    "\n",
    "#df_2['Year_and_Month'] = df['Date'].astype('str') + '-' + df['Month'].astype('str')\n",
    "#df_2['Year_and_Month'] = pd.to_datetime(df_2['Year_and_Month'])  # Converting Year_and_month col into datetime.As default day is 01 but right now it wouldn't make a problem\n",
    "#df_2 = df_2.set_index('Year_and_Month')\n",
    "\n",
    "#df_2['Year'] = df_2.index.year\n",
    "#df_2['Month'] = df_2.index.month\n",
    "\n",
    "df_2.info()"
   ]
  },
  {
   "cell_type": "code",
   "execution_count": 7,
   "metadata": {},
   "outputs": [
    {
     "name": "stderr",
     "output_type": "stream",
     "text": [
      "/home/muhammadammarabid/Desktop/S/softwares/anaconda3/lib/python3.7/site-packages/sklearn/preprocessing/data.py:625: DataConversionWarning: Data with input dtype int64, float64 were all converted to float64 by StandardScaler.\n",
      "  return self.partial_fit(X, y)\n",
      "/home/muhammadammarabid/Desktop/S/softwares/anaconda3/lib/python3.7/site-packages/sklearn/base.py:462: DataConversionWarning: Data with input dtype int64, float64 were all converted to float64 by StandardScaler.\n",
      "  return self.fit(X, **fit_params).transform(X)\n"
     ]
    }
   ],
   "source": [
    "# Defining our features\n",
    "features = df_2.drop('Outcome', axis=1)  \n",
    "\n",
    "# Defining our labels\n",
    "labels = df_2['Outcome']\n",
    "\n",
    "# Scaling features\n",
    "scaler = StandardScaler()\n",
    "scaled_train_features = scaler.fit_transform(features)"
   ]
  },
  {
   "cell_type": "code",
   "execution_count": 23,
   "metadata": {},
   "outputs": [
    {
     "data": {
      "text/plain": [
       "Text(0.5, 0, 'Principar Component #')"
      ]
     },
     "execution_count": 23,
     "metadata": {},
     "output_type": "execute_result"
    },
    {
     "data": {
      "image/png": "[encoded data removed]",
      "text/plain": [
       "<Figure size 432x288 with 1 Axes>"
      ]
     },
     "metadata": {
      "needs_background": "light"
     },
     "output_type": "display_data"
    }
   ],
   "source": [
    "# Getting our explained variance ratios from PCA using all features\n",
    "pca = PCA()\n",
    "pca.fit(scaled_train_features)\n",
    "exp_variance = pca.explained_variance_ratio_\n",
    "\n",
    "# Plotting the explained variance using a barplot\n",
    "fig, ax = plt.subplots()\n",
    "plt.bar(range(pca.n_components_), exp_variance)\n",
    "ax.set_xlabel('Principar Component #')"
   ]
  },
  {
   "cell_type": "code",
   "execution_count": 37,
   "metadata": {},
   "outputs": [
    {
     "data": {
      "text/plain": [
       "<matplotlib.lines.Line2D at 0x7f649b2945f8>"
      ]
     },
     "execution_count": 37,
     "metadata": {},
     "output_type": "execute_result"
    },
    {
     "data": {
      "image/png": "[encoded data removed]",
      "text/plain": [
       "<Figure size 432x288 with 1 Axes>"
      ]
     },
     "metadata": {
      "needs_background": "light"
     },
     "output_type": "display_data"
    }
   ],
   "source": [
    "# Calculate ther cumulative explained variance\n",
    "cum_exp_variance = np.cumsum(exp_variance)\n",
    "\n",
    "# Plotting cumulative explained variance and drawing a dashed line at 0.90\n",
    "fig, ax = plt.subplots()\n",
    "ax.plot(range(0, pca.n_components_), cum_exp_variance)\n",
    "ax.axhline(y=0.9, linestyle='--', c='red')\n",
    "ax.axvline(x=9, linestyle='--', c='red')  # 9 n_components would do but actually its near 8.5 but can't do that coz PCA() requires n_components to be of int type "
   ]
  },
  {
   "cell_type": "code",
   "execution_count": null,
   "metadata": {},
   "outputs": [],
   "source": []
  },
  {
   "cell_type": "code",
   "execution_count": null,
   "metadata": {},
   "outputs": [],
   "source": []
  },
  {
   "cell_type": "code",
   "execution_count": null,
   "metadata": {},
   "outputs": [],
   "source": []
  },
  {
   "cell_type": "code",
   "execution_count": null,
   "metadata": {},
   "outputs": [],
   "source": []
  }
 ],
 "metadata": {
  "kernelspec": {
   "display_name": "Python 3",
   "language": "python",
   "name": "python3"
  },
  "language_info": {
   "codemirror_mode": {
    "name": "ipython",
    "version": 3
   },
   "file_extension": ".py",
   "mimetype": "text/x-python",
   "name": "python",
   "nbconvert_exporter": "python",
   "pygments_lexer": "ipython3",
   "version": "3.8.3"
  }
 },
 "nbformat": 4,
 "nbformat_minor": 2
}
