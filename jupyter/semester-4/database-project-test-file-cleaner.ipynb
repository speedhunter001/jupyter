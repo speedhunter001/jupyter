{
 "cells": [
  {
   "cell_type": "code",
   "execution_count": 1,
   "metadata": {},
   "outputs": [],
   "source": [
    "import pandas as pd"
   ]
  },
  {
   "cell_type": "code",
   "execution_count": 8,
   "metadata": {},
   "outputs": [],
   "source": [
    "df = pd.read_csv('dummy-data-2.csv')"
   ]
  },
  {
   "cell_type": "code",
   "execution_count": 9,
   "metadata": {},
   "outputs": [
    {
     "data": {
      "text/html": [
       "<div>\n",
       "<style scoped>\n",
       "    .dataframe tbody tr th:only-of-type {\n",
       "        vertical-align: middle;\n",
       "    }\n",
       "\n",
       "    .dataframe tbody tr th {\n",
       "        vertical-align: top;\n",
       "    }\n",
       "\n",
       "    .dataframe thead th {\n",
       "        text-align: right;\n",
       "    }\n",
       "</style>\n",
       "<table border=\"1\" class=\"dataframe\">\n",
       "  <thead>\n",
       "    <tr style=\"text-align: right;\">\n",
       "      <th></th>\n",
       "      <th>ID</th>\n",
       "      <th>FULL_NAME</th>\n",
       "      <th>FIRST_NAME</th>\n",
       "      <th>LAST_NAME</th>\n",
       "      <th>CALLING_NBR</th>\n",
       "      <th>CALLED_NBR</th>\n",
       "      <th>START_DATE</th>\n",
       "      <th>END_DATE</th>\n",
       "      <th>DURATION</th>\n",
       "      <th>CELL_SITE</th>\n",
       "      <th>CITY</th>\n",
       "      <th>STATE</th>\n",
       "      <th>ADDRESS_CELL_SITE</th>\n",
       "    </tr>\n",
       "  </thead>\n",
       "  <tbody>\n",
       "    <tr>\n",
       "      <th>0</th>\n",
       "      <td>0</td>\n",
       "      <td>Alec Fuentes</td>\n",
       "      <td>Alec</td>\n",
       "      <td>Fuentes</td>\n",
       "      <td>1-123-324-4248</td>\n",
       "      <td>1-810-571-4199</td>\n",
       "      <td>1585040660</td>\n",
       "      <td>1565646465</td>\n",
       "      <td>3867</td>\n",
       "      <td>88</td>\n",
       "      <td>Cap-Saint-Ignace</td>\n",
       "      <td>QC</td>\n",
       "      <td>2518 Et Av.</td>\n",
       "    </tr>\n",
       "    <tr>\n",
       "      <th>1</th>\n",
       "      <td>1</td>\n",
       "      <td>Tiger Holmes</td>\n",
       "      <td>Tiger</td>\n",
       "      <td>Holmes</td>\n",
       "      <td>1-367-597-1080</td>\n",
       "      <td>1-670-903-0684</td>\n",
       "      <td>1556355660</td>\n",
       "      <td>1580673072</td>\n",
       "      <td>2854</td>\n",
       "      <td>12</td>\n",
       "      <td>Penticton</td>\n",
       "      <td>BC</td>\n",
       "      <td>P.O. Box 363, 6007 Suspendisse Ave</td>\n",
       "    </tr>\n",
       "    <tr>\n",
       "      <th>2</th>\n",
       "      <td>2</td>\n",
       "      <td>Claire Joyner</td>\n",
       "      <td>Claire</td>\n",
       "      <td>Joyner</td>\n",
       "      <td>1-791-301-2705</td>\n",
       "      <td>1-445-728-6303</td>\n",
       "      <td>1557119719</td>\n",
       "      <td>1570636179</td>\n",
       "      <td>3452</td>\n",
       "      <td>147</td>\n",
       "      <td>Amqui</td>\n",
       "      <td>Quebec</td>\n",
       "      <td>750-2007 Faucibus Rd.</td>\n",
       "    </tr>\n",
       "    <tr>\n",
       "      <th>3</th>\n",
       "      <td>3</td>\n",
       "      <td>Colby Valdez</td>\n",
       "      <td>Colby</td>\n",
       "      <td>Valdez</td>\n",
       "      <td>1-482-462-8789</td>\n",
       "      <td>1-389-766-9288</td>\n",
       "      <td>1555981175</td>\n",
       "      <td>1587477368</td>\n",
       "      <td>9050</td>\n",
       "      <td>37</td>\n",
       "      <td>Saint-Hilarion</td>\n",
       "      <td>Quebec</td>\n",
       "      <td>614 Metus. St.</td>\n",
       "    </tr>\n",
       "    <tr>\n",
       "      <th>4</th>\n",
       "      <td>4</td>\n",
       "      <td>Tarik Mullen</td>\n",
       "      <td>Tarik</td>\n",
       "      <td>Mullen</td>\n",
       "      <td>1-303-324-3702</td>\n",
       "      <td>1-456-546-1018</td>\n",
       "      <td>1579991319</td>\n",
       "      <td>1583028711</td>\n",
       "      <td>3732</td>\n",
       "      <td>86</td>\n",
       "      <td>East Gwillimbury</td>\n",
       "      <td>Ontario</td>\n",
       "      <td>Ap #753-8045 Volutpat Av.</td>\n",
       "    </tr>\n",
       "  </tbody>\n",
       "</table>\n",
       "</div>"
      ],
      "text/plain": [
       "   ID      FULL_NAME FIRST_NAME LAST_NAME     CALLING_NBR      CALLED_NBR  \\\n",
       "0   0   Alec Fuentes       Alec   Fuentes  1-123-324-4248  1-810-571-4199   \n",
       "1   1   Tiger Holmes      Tiger    Holmes  1-367-597-1080  1-670-903-0684   \n",
       "2   2  Claire Joyner     Claire    Joyner  1-791-301-2705  1-445-728-6303   \n",
       "3   3   Colby Valdez      Colby    Valdez  1-482-462-8789  1-389-766-9288   \n",
       "4   4   Tarik Mullen      Tarik    Mullen  1-303-324-3702  1-456-546-1018   \n",
       "\n",
       "   START_DATE    END_DATE  DURATION  CELL_SITE              CITY    STATE  \\\n",
       "0  1585040660  1565646465      3867         88  Cap-Saint-Ignace       QC   \n",
       "1  1556355660  1580673072      2854         12         Penticton       BC   \n",
       "2  1557119719  1570636179      3452        147             Amqui   Quebec   \n",
       "3  1555981175  1587477368      9050         37    Saint-Hilarion   Quebec   \n",
       "4  1579991319  1583028711      3732         86  East Gwillimbury  Ontario   \n",
       "\n",
       "                    ADDRESS_CELL_SITE  \n",
       "0                         2518 Et Av.  \n",
       "1  P.O. Box 363, 6007 Suspendisse Ave  \n",
       "2               750-2007 Faucibus Rd.  \n",
       "3                      614 Metus. St.  \n",
       "4           Ap #753-8045 Volutpat Av.  "
      ]
     },
     "execution_count": 9,
     "metadata": {},
     "output_type": "execute_result"
    }
   ],
   "source": [
    "df.head()"
   ]
  },
  {
   "cell_type": "code",
   "execution_count": 10,
   "metadata": {},
   "outputs": [
    {
     "name": "stdout",
     "output_type": "stream",
     "text": [
      "<class 'pandas.core.frame.DataFrame'>\n",
      "RangeIndex: 100 entries, 0 to 99\n",
      "Data columns (total 13 columns):\n",
      "ID                   100 non-null int64\n",
      "FULL_NAME            100 non-null object\n",
      "FIRST_NAME           100 non-null object\n",
      "LAST_NAME            100 non-null object\n",
      "CALLING_NBR          100 non-null object\n",
      "CALLED_NBR           100 non-null object\n",
      "START_DATE           100 non-null int64\n",
      "END_DATE             100 non-null int64\n",
      "DURATION             100 non-null int64\n",
      "CELL_SITE            100 non-null int64\n",
      "CITY                 100 non-null object\n",
      "STATE                100 non-null object\n",
      "ADDRESS_CELL_SITE    100 non-null object\n",
      "dtypes: int64(5), object(8)\n",
      "memory usage: 10.2+ KB\n"
     ]
    }
   ],
   "source": [
    "df.info()"
   ]
  },
  {
   "cell_type": "code",
   "execution_count": 12,
   "metadata": {},
   "outputs": [
    {
     "data": {
      "text/plain": [
       "ID                   0\n",
       "FULL_NAME            0\n",
       "FIRST_NAME           0\n",
       "LAST_NAME            0\n",
       "CALLING_NBR          0\n",
       "CALLED_NBR           0\n",
       "START_DATE           0\n",
       "END_DATE             0\n",
       "DURATION             0\n",
       "CELL_SITE            0\n",
       "CITY                 0\n",
       "STATE                0\n",
       "ADDRESS_CELL_SITE    0\n",
       "dtype: int64"
      ]
     },
     "execution_count": 12,
     "metadata": {},
     "output_type": "execute_result"
    }
   ],
   "source": [
    "df.isna().sum()"
   ]
  },
  {
   "cell_type": "code",
   "execution_count": 13,
   "metadata": {},
   "outputs": [
    {
     "ename": "PermissionError",
     "evalue": "[Errno 13] Permission denied: '/var/lib/neo4j/import/dummy-data-2.csv'",
     "output_type": "error",
     "traceback": [
      "\u001b[0;31m---------------------------------------------------------------------------\u001b[0m",
      "\u001b[0;31mPermissionError\u001b[0m                           Traceback (most recent call last)",
      "\u001b[0;32m<ipython-input-13-ec889c897219>\u001b[0m in \u001b[0;36m<module>\u001b[0;34m\u001b[0m\n\u001b[0;32m----> 1\u001b[0;31m \u001b[0mdf\u001b[0m\u001b[0;34m.\u001b[0m\u001b[0mto_csv\u001b[0m\u001b[0;34m(\u001b[0m\u001b[0;34m'/var/lib/neo4j/import/dummy-data-2.csv'\u001b[0m\u001b[0;34m,\u001b[0m \u001b[0mindex\u001b[0m\u001b[0;34m=\u001b[0m\u001b[0;32mFalse\u001b[0m\u001b[0;34m)\u001b[0m\u001b[0;34m\u001b[0m\u001b[0;34m\u001b[0m\u001b[0m\n\u001b[0m",
      "\u001b[0;32m~/Desktop/S/softwares/anaconda3/lib/python3.7/site-packages/pandas/core/frame.py\u001b[0m in \u001b[0;36mto_csv\u001b[0;34m(self, path_or_buf, sep, na_rep, float_format, columns, header, index, index_label, mode, encoding, compression, quoting, quotechar, line_terminator, chunksize, tupleize_cols, date_format, doublequote, escapechar, decimal)\u001b[0m\n\u001b[1;32m   1743\u001b[0m                                  \u001b[0mdoublequote\u001b[0m\u001b[0;34m=\u001b[0m\u001b[0mdoublequote\u001b[0m\u001b[0;34m,\u001b[0m\u001b[0;34m\u001b[0m\u001b[0;34m\u001b[0m\u001b[0m\n\u001b[1;32m   1744\u001b[0m                                  escapechar=escapechar, decimal=decimal)\n\u001b[0;32m-> 1745\u001b[0;31m         \u001b[0mformatter\u001b[0m\u001b[0;34m.\u001b[0m\u001b[0msave\u001b[0m\u001b[0;34m(\u001b[0m\u001b[0;34m)\u001b[0m\u001b[0;34m\u001b[0m\u001b[0;34m\u001b[0m\u001b[0m\n\u001b[0m\u001b[1;32m   1746\u001b[0m \u001b[0;34m\u001b[0m\u001b[0m\n\u001b[1;32m   1747\u001b[0m         \u001b[0;32mif\u001b[0m \u001b[0mpath_or_buf\u001b[0m \u001b[0;32mis\u001b[0m \u001b[0;32mNone\u001b[0m\u001b[0;34m:\u001b[0m\u001b[0;34m\u001b[0m\u001b[0;34m\u001b[0m\u001b[0m\n",
      "\u001b[0;32m~/Desktop/S/softwares/anaconda3/lib/python3.7/site-packages/pandas/io/formats/csvs.py\u001b[0m in \u001b[0;36msave\u001b[0;34m(self)\u001b[0m\n\u001b[1;32m    154\u001b[0m             f, handles = _get_handle(self.path_or_buf, self.mode,\n\u001b[1;32m    155\u001b[0m                                      \u001b[0mencoding\u001b[0m\u001b[0;34m=\u001b[0m\u001b[0mencoding\u001b[0m\u001b[0;34m,\u001b[0m\u001b[0;34m\u001b[0m\u001b[0;34m\u001b[0m\u001b[0m\n\u001b[0;32m--> 156\u001b[0;31m                                      compression=self.compression)\n\u001b[0m\u001b[1;32m    157\u001b[0m             \u001b[0mclose\u001b[0m \u001b[0;34m=\u001b[0m \u001b[0;32mTrue\u001b[0m\u001b[0;34m\u001b[0m\u001b[0;34m\u001b[0m\u001b[0m\n\u001b[1;32m    158\u001b[0m \u001b[0;34m\u001b[0m\u001b[0m\n",
      "\u001b[0;32m~/Desktop/S/softwares/anaconda3/lib/python3.7/site-packages/pandas/io/common.py\u001b[0m in \u001b[0;36m_get_handle\u001b[0;34m(path_or_buf, mode, encoding, compression, memory_map, is_text)\u001b[0m\n\u001b[1;32m    398\u001b[0m         \u001b[0;32melif\u001b[0m \u001b[0mencoding\u001b[0m\u001b[0;34m:\u001b[0m\u001b[0;34m\u001b[0m\u001b[0;34m\u001b[0m\u001b[0m\n\u001b[1;32m    399\u001b[0m             \u001b[0;31m# Python 3 and encoding\u001b[0m\u001b[0;34m\u001b[0m\u001b[0;34m\u001b[0m\u001b[0;34m\u001b[0m\u001b[0m\n\u001b[0;32m--> 400\u001b[0;31m             \u001b[0mf\u001b[0m \u001b[0;34m=\u001b[0m \u001b[0mopen\u001b[0m\u001b[0;34m(\u001b[0m\u001b[0mpath_or_buf\u001b[0m\u001b[0;34m,\u001b[0m \u001b[0mmode\u001b[0m\u001b[0;34m,\u001b[0m \u001b[0mencoding\u001b[0m\u001b[0;34m=\u001b[0m\u001b[0mencoding\u001b[0m\u001b[0;34m)\u001b[0m\u001b[0;34m\u001b[0m\u001b[0;34m\u001b[0m\u001b[0m\n\u001b[0m\u001b[1;32m    401\u001b[0m         \u001b[0;32melif\u001b[0m \u001b[0mis_text\u001b[0m\u001b[0;34m:\u001b[0m\u001b[0;34m\u001b[0m\u001b[0;34m\u001b[0m\u001b[0m\n\u001b[1;32m    402\u001b[0m             \u001b[0;31m# Python 3 and no explicit encoding\u001b[0m\u001b[0;34m\u001b[0m\u001b[0;34m\u001b[0m\u001b[0;34m\u001b[0m\u001b[0m\n",
      "\u001b[0;31mPermissionError\u001b[0m: [Errno 13] Permission denied: '/var/lib/neo4j/import/dummy-data-2.csv'"
     ]
    }
   ],
   "source": [
    "df.to_csv('/var/lib/neo4j/import/dummy-data-2.csv', index=False)"
   ]
  },
  {
   "cell_type": "code",
   "execution_count": 1,
   "metadata": {},
   "outputs": [],
   "source": [
    "from py2neo import Graph"
   ]
  },
  {
   "cell_type": "code",
   "execution_count": 23,
   "metadata": {},
   "outputs": [],
   "source": [
    "g = Graph(\"bolt://0.0.0.0:7687\", auth=(\"neo4j\",\"speed150\"))"
   ]
  },
  {
   "cell_type": "code",
   "execution_count": 48,
   "metadata": {},
   "outputs": [
    {
     "data": {
      "text/plain": [
       "str"
      ]
     },
     "execution_count": 48,
     "metadata": {},
     "output_type": "execute_result"
    }
   ],
   "source": [
    "g.run(\"\"\"MATCH (a:CALL)-[:LOCATED_IN]->(b:LOCATION) WHERE b.cell_tower = '88' OR b.cell_tower = '89' AND 1416904730 < toInteger(a.start) AND toInteger(a.start) < 1416911930 WITH a, b MATCH (c:PERSON)-[:MADE_CALL]->(a)-[:RECEIVED_CALL]->(d:PERSON)\n",
    "RETURN c.full_name as caller, d.full_name as called, a.start as time, a.duration as duration, b.address_cell_site as address_cell_site\"\"\").to_data_frame()"
   ]
  },
  {
   "cell_type": "code",
   "execution_count": 51,
   "metadata": {},
   "outputs": [
    {
     "name": "stdout",
     "output_type": "stream",
     "text": [
      "2020-06-19\n",
      "2020\n",
      "6\n",
      "19\n"
     ]
    }
   ],
   "source": [
    "from datetime import date\n",
    "today = date.today()\n",
    "print(today)\n",
    "print(today.year)\n",
    "print(today.month)\n",
    "print(today.day)"
   ]
  },
  {
   "cell_type": "code",
   "execution_count": 58,
   "metadata": {},
   "outputs": [
    {
     "name": "stdout",
     "output_type": "stream",
     "text": [
      "\n",
      "Unix Timestamp:  1592545200.0\n",
      "\n"
     ]
    }
   ],
   "source": [
    "import datetime\n",
    "import time\n",
    "dt = datetime.datetime(today.year, today.month, today.day, 10, 40)\n",
    "print()\n",
    "print(\"Unix Timestamp: \",(time.mktime(dt.timetuple())))\n",
    "print()"
   ]
  },
  {
   "cell_type": "code",
   "execution_count": 63,
   "metadata": {},
   "outputs": [],
   "source": [
    "time_str = '19:20'\n",
    "colon_index = time_str.find(':')\n",
    "hour = time_str[:colon_index]\n",
    "minutes = time_str[colon_index+1:]"
   ]
  },
  {
   "cell_type": "code",
   "execution_count": 64,
   "metadata": {},
   "outputs": [
    {
     "name": "stdout",
     "output_type": "stream",
     "text": [
      "19\n",
      "20\n"
     ]
    }
   ],
   "source": [
    "print(hour)\n",
    "print(minutes)"
   ]
  },
  {
   "cell_type": "code",
   "execution_count": 65,
   "metadata": {},
   "outputs": [
    {
     "data": {
      "text/plain": [
       "'hello yaaar mister\\n   baaaka\\n'"
      ]
     },
     "execution_count": 65,
     "metadata": {},
     "output_type": "execute_result"
    }
   ],
   "source": [
    "\"\"\"hello {} mister\n",
    "   {}\n",
    "\"\"\".format(\"yaaar\", \"baaaka\")"
   ]
  },
  {
   "cell_type": "code",
   "execution_count": 69,
   "metadata": {},
   "outputs": [
    {
     "data": {
      "text/plain": [
       "True"
      ]
     },
     "execution_count": 69,
     "metadata": {},
     "output_type": "execute_result"
    }
   ],
   "source": [
    "1585039850 < 1585040660 and 1585040660 < 1585041000"
   ]
  },
  {
   "cell_type": "code",
   "execution_count": 75,
   "metadata": {},
   "outputs": [
    {
     "data": {
      "text/plain": [
       "'MATCH (a:CALL)-[:LOCATED_IN]->(b:LOCATION) WHERE b.cell_tower = 1 OR b.cell_tower = 2 AND 3 < toInteger(a.start) AND toInteger(a.start) < 4 WITH a, b \\n                             MATCH (c:PERSON)-[:MADE_CALL]->(a)-[:RECEIVED_CALL]->(d:PERSON)\\n                             RETURN c.full_name as caller, d.full_name as called, a.start as time, a.duration as duration, b.address_cell_site as address_cell_site'"
      ]
     },
     "execution_count": 75,
     "metadata": {},
     "output_type": "execute_result"
    }
   ],
   "source": [
    "\"\"\"MATCH (a:CALL)-[:LOCATED_IN]->(b:LOCATION) WHERE b.cell_tower = {} OR b.cell_tower = {} AND {} < toInteger(a.start) AND toInteger(a.start) < {} WITH a, b \n",
    "                             MATCH (c:PERSON)-[:MADE_CALL]->(a)-[:RECEIVED_CALL]->(d:PERSON)\n",
    "                             RETURN c.full_name as caller, d.full_name as called, a.start as time, a.duration as duration, b.address_cell_site as address_cell_site\"\"\".format('1', 2, 3, 4)"
   ]
  },
  {
   "cell_type": "code",
   "execution_count": 78,
   "metadata": {},
   "outputs": [
    {
     "data": {
      "text/plain": [
       "' 1 ss'"
      ]
     },
     "execution_count": 78,
     "metadata": {},
     "output_type": "execute_result"
    }
   ],
   "source": [
    "\" {} ss\".format(1)"
   ]
  },
  {
   "cell_type": "code",
   "execution_count": null,
   "metadata": {},
   "outputs": [],
   "source": []
  }
 ],
 "metadata": {
  "kernelspec": {
   "display_name": "Python 3",
   "language": "python",
   "name": "python3"
  },
  "language_info": {
   "codemirror_mode": {
    "name": "ipython",
    "version": 3
   },
   "file_extension": ".py",
   "mimetype": "text/x-python",
   "name": "python",
   "nbconvert_exporter": "python",
   "pygments_lexer": "ipython3",
   "version": "3.7.1"
  }
 },
 "nbformat": 4,
 "nbformat_minor": 2
}
