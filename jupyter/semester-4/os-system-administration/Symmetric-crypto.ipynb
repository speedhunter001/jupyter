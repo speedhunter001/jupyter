{
 "cells": [
  {
   "cell_type": "code",
   "execution_count": 1,
   "metadata": {},
   "outputs": [
    {
     "data": {
      "text/plain": [
       "'0b11'"
      ]
     },
     "execution_count": 1,
     "metadata": {},
     "output_type": "execute_result"
    }
   ],
   "source": [
    "bin(3)"
   ]
  },
  {
   "cell_type": "code",
   "execution_count": 2,
   "metadata": {},
   "outputs": [
    {
     "data": {
      "text/plain": [
       "str"
      ]
     },
     "execution_count": 2,
     "metadata": {},
     "output_type": "execute_result"
    }
   ],
   "source": [
    "type( bin(4) )   # bin() return string"
   ]
  },
  {
   "cell_type": "code",
   "execution_count": 3,
   "metadata": {},
   "outputs": [
    {
     "data": {
      "text/plain": [
       "65"
      ]
     },
     "execution_count": 3,
     "metadata": {},
     "output_type": "execute_result"
    }
   ],
   "source": [
    "ord('A')"
   ]
  },
  {
   "cell_type": "code",
   "execution_count": 4,
   "metadata": {},
   "outputs": [
    {
     "name": "stdout",
     "output_type": "stream",
     "text": [
      "1576\n",
      "ب\n"
     ]
    }
   ],
   "source": [
    "urdu_ch_unicode = ord('ب')   # Hence it returns unicode\n",
    "\n",
    "print( urdu_ch_unicode )\n",
    "print( chr(urdu_ch_unicode) )"
   ]
  },
  {
   "cell_type": "code",
   "execution_count": 5,
   "metadata": {},
   "outputs": [
    {
     "name": "stdout",
     "output_type": "stream",
     "text": [
      "11\n"
     ]
    }
   ],
   "source": [
    "print(00 ^ 11)"
   ]
  },
  {
   "cell_type": "code",
   "execution_count": 6,
   "metadata": {},
   "outputs": [
    {
     "name": "stdout",
     "output_type": "stream",
     "text": [
      "10\n"
     ]
    }
   ],
   "source": [
    "print(00 ^ 10)"
   ]
  },
  {
   "cell_type": "code",
   "execution_count": 7,
   "metadata": {},
   "outputs": [
    {
     "name": "stdout",
     "output_type": "stream",
     "text": [
      "0\n"
     ]
    }
   ],
   "source": [
    "print(11 ^ 11)  # XOR operator is ^ "
   ]
  },
  {
   "cell_type": "code",
   "execution_count": 8,
   "metadata": {},
   "outputs": [
    {
     "name": "stdout",
     "output_type": "stream",
     "text": [
      "0b110\n"
     ]
    }
   ],
   "source": [
    "print( bin(0b1010 ^ 0b1100) )"
   ]
  },
  {
   "cell_type": "code",
   "execution_count": 9,
   "metadata": {},
   "outputs": [
    {
     "name": "stdout",
     "output_type": "stream",
     "text": [
      "0b0\n"
     ]
    }
   ],
   "source": [
    "print( bin(0b1111 ^ 0b1111) ) # If you XOR a number with itself you get 0"
   ]
  },
  {
   "cell_type": "code",
   "execution_count": 10,
   "metadata": {},
   "outputs": [
    {
     "name": "stdout",
     "output_type": "stream",
     "text": [
      "0b1111\n"
     ]
    }
   ],
   "source": [
    "print( bin(0b1111 ^ 0b0000) ) # If you XOR a number with 0 you get back the number"
   ]
  },
  {
   "cell_type": "code",
   "execution_count": 11,
   "metadata": {},
   "outputs": [
    {
     "name": "stdout",
     "output_type": "stream",
     "text": [
      "0b1010 XOR 0b11 -> 0b1001 and 0b1001 XOR 0b11 -> 0b1010\n"
     ]
    }
   ],
   "source": [
    "# If you XOR the number with the same key you get back teh original number\n",
    "num = 0b1010\n",
    "key = 0b0011\n",
    "\n",
    "num_xor_key = num ^ key\n",
    "original_num = num_xor_key ^ key\n",
    "\n",
    "print( \"{} XOR {} -> {} and {} XOR {} -> {}\".format(\n",
    "                                                    bin(num), bin(key), bin(num_xor_key), \n",
    "                                                    bin(num_xor_key), bin(key), bin(original_num)) \n",
    "                                                    )"
   ]
  },
  {
   "cell_type": "code",
   "execution_count": 12,
   "metadata": {},
   "outputs": [],
   "source": [
    "message = \"Eagle has left its nest.\""
   ]
  },
  {
   "cell_type": "code",
   "execution_count": 13,
   "metadata": {},
   "outputs": [],
   "source": [
    "def encrypt(message, key):\n",
    "    \n",
    "    encrypted_message = ''.join( [chr(ord(ch) ^ key) for ch in message] )\n",
    "    \n",
    "    return encrypted_message"
   ]
  },
  {
   "cell_type": "code",
   "execution_count": 14,
   "metadata": {},
   "outputs": [
    {
     "name": "stdout",
     "output_type": "stream",
     "text": [
      "Úþøóú¿÷þì¿óúùë¿öëì¿ñúìë±\n"
     ]
    }
   ],
   "source": [
    "key = 159\n",
    "cypher_text = encrypt(message, key)\n",
    "\n",
    "print(cypher_text)"
   ]
  },
  {
   "cell_type": "code",
   "execution_count": 15,
   "metadata": {},
   "outputs": [],
   "source": [
    "def decrypt(message, key):\n",
    "    \n",
    "    decrypted_message = ''.join( [chr(ord(ch) ^ key) for ch in message] )\n",
    "    \n",
    "    return decrypted_message"
   ]
  },
  {
   "cell_type": "code",
   "execution_count": 16,
   "metadata": {},
   "outputs": [
    {
     "name": "stdout",
     "output_type": "stream",
     "text": [
      "Eagle has left its nest.\n"
     ]
    }
   ],
   "source": [
    "key = 159\n",
    "decrypted_message = decrypt(cypher_text, key)\n",
    "\n",
    "print(decrypted_message)"
   ]
  },
  {
   "cell_type": "code",
   "execution_count": 18,
   "metadata": {},
   "outputs": [
    {
     "name": "stdout",
     "output_type": "stream",
     "text": [
      "Lhnel)ahz)elo})`}z)glz}' \n",
      "\n",
      "Miodm(`i{(dmn|(a|{(fm{|& \n",
      "\n",
      "Bf`kb'oft'kbas'nst'ibts) \n",
      "\n",
      "Cgajc&ngu&jc`r&oru&hcur( \n",
      "\n",
      "@dbi`%mdv%i`cq%lqv%k`vq+ \n",
      "\n",
      "Aecha$lew$habp$mpw$jawp* \n",
      "\n",
      "Fbdof#kbp#ofew#jwp#mfpw- \n",
      "\n",
      "Gceng\"jcq\"ngdv\"kvq\"lgqv, \n",
      "\n",
      "D`fmd!i`r!mdgu!hur!odru/ \n",
      "\n",
      "Eagle has left its nest. \n",
      "\n",
      "z^XSZ\u001fW^L\u001fSZYK\u001fVKL\u001fQZLK\u0011 \n",
      "\n",
      "{_YR[\u001e",
      "V_M\u001e",
      "R[XJ\u001e",
      "WJM\u001e",
      "P[MJ\u0010 \n",
      "\n",
      "x\\ZQX\u001d",
      "U\\N\u001d",
      "QX[I\u001d",
      "TIN\u001d",
      "SXNI\u0013 \n",
      "\n",
      "y][PY\u001c",
      "T]O\u001c",
      "PYZH\u001c",
      "UHO\u001c",
      "RYOH\u0012 \n",
      "\n",
      "~Z\\W^\u001bSZH\u001bW^]O\u001bROH\u001bU^HO\u0015 \n",
      "\n"
     ]
    }
   ],
   "source": [
    "# Breaking the key\n",
    "for key in range(150, 165):\n",
    "    print(decrypt(cypher_text, key),'\\n')"
   ]
  },
  {
   "cell_type": "code",
   "execution_count": null,
   "metadata": {},
   "outputs": [],
   "source": []
  }
 ],
 "metadata": {
  "kernelspec": {
   "display_name": "Python 3",
   "language": "python",
   "name": "python3"
  },
  "language_info": {
   "codemirror_mode": {
    "name": "ipython",
    "version": 3
   },
   "file_extension": ".py",
   "mimetype": "text/x-python",
   "name": "python",
   "nbconvert_exporter": "python",
   "pygments_lexer": "ipython3",
   "version": "3.7.1"
  }
 },
 "nbformat": 4,
 "nbformat_minor": 2
}
