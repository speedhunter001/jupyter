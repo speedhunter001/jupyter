{
 "cells": [
  {
   "cell_type": "code",
   "execution_count": 28,
   "metadata": {},
   "outputs": [],
   "source": [
    "def make_binary_string_pairs(string):\n",
    "    if len(string) % 2 != 0:      \n",
    "        string = '0' + string     #if string has odd characters append '0' to the start\n",
    "    \n",
    "    pairs_list = []\n",
    "    pair = ''\n",
    "    \n",
    "    for letter in string:\n",
    "        if len(pair) < 1:         #if pair has no character\n",
    "            pair = pair + letter\n",
    "        \n",
    "        else:\n",
    "            pair = pair + letter   \n",
    "            pairs_list.append(pair)   #appending pair to pairs_list\n",
    "            pair = ''                  #reinitializing the pair\n",
    "            \n",
    "    return pairs_list"
   ]
  },
  {
   "cell_type": "code",
   "execution_count": 111,
   "metadata": {},
   "outputs": [],
   "source": [
    "def mul_divide_and_conquer(num1, num2):\n",
    "    #Making binary pairs of each number e.g, 1234 becomes ['12', '34']\n",
    "    num1_str_pairs = make_binary_string_pairs( str(num1) )\n",
    "    num2_str_pairs = make_binary_string_pairs( str(num2) )\n",
    "    \n",
    "    products_with_shifts_str = []\n",
    "   \n",
    "    #Now multiplying each pair of num1 with each pair of num2\n",
    "    for num1_pair_index, num1_pair_str in enumerate(num1_str_pairs):\n",
    "        for num2_pair_index, num2_pair_str in enumerate(num2_str_pairs):\n",
    "            \n",
    "            #Calculating the total number of remaining digits e.g, 1234 x 5678 -> .. -> 12 x 78 = .. 2 digits remaining i.e 34\n",
    "            num1_remaining_digits = ( len(num1_str_pairs) - (num1_pair_index + 1) ) * 2\n",
    "            num2_remaining_digits = ( len(num2_str_pairs) - (num2_pair_index + 1) ) * 2\n",
    "            remaining_num1_num2_digits = num1_remaining_digits + num2_remaining_digits\n",
    "    \n",
    "            num1_pair = int(num1_pair_str)\n",
    "            num2_pair = int(num2_pair_str)\n",
    "            \n",
    "            #Multiplying the pairs and then appending remaining digits times 0's e.g, product '81' with 2 remaining digits gives '8100' \n",
    "            num1_num2_pairs_product_str_shifted = str(num1_pair * num2_pair) + (remaining_num1_num2_digits * '0')\n",
    "            products_with_shifts_str.append(num1_num2_pairs_product_str_shifted)\n",
    "            \n",
    "            product_with_shifts = [int(product) for product in products_with_shifts_str]\n",
    "    \n",
    "    #Summing over all pairs multiplications\n",
    "    return sum(product_with_shifts) "
   ]
  },
  {
   "cell_type": "code",
   "execution_count": 115,
   "metadata": {},
   "outputs": [
    {
     "data": {
      "text/plain": [
       "121056634"
      ]
     },
     "execution_count": 115,
     "metadata": {},
     "output_type": "execute_result"
    }
   ],
   "source": [
    "mul_divide_and_conquer(1234, 98101)"
   ]
  },
  {
   "cell_type": "code",
   "execution_count": 23,
   "metadata": {},
   "outputs": [
    {
     "data": {
      "text/plain": [
       "array([[ 1,  2,  3,  4,  5,  6],\n",
       "       [ 7,  8,  9, 10, 11, 12]])"
      ]
     },
     "execution_count": 23,
     "metadata": {},
     "output_type": "execute_result"
    }
   ],
   "source": [
    "l = np.array([[1,2,3], [7,8,9]])\n",
    "q = np.array([[4,5,6], [10,11,12]])\n",
    "import numpy as np\n",
    "np.hstack([l, q])"
   ]
  },
  {
   "cell_type": "code",
   "execution_count": null,
   "metadata": {},
   "outputs": [],
   "source": []
  },
  {
   "cell_type": "code",
   "execution_count": null,
   "metadata": {},
   "outputs": [],
   "source": []
  }
 ],
 "metadata": {
  "kernelspec": {
   "display_name": "Python 3",
   "language": "python",
   "name": "python3"
  },
  "language_info": {
   "codemirror_mode": {
    "name": "ipython",
    "version": 3
   },
   "file_extension": ".py",
   "mimetype": "text/x-python",
   "name": "python",
   "nbconvert_exporter": "python",
   "pygments_lexer": "ipython3",
   "version": "3.7.1"
  }
 },
 "nbformat": 4,
 "nbformat_minor": 2
}
