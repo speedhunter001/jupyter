{
 "cells": [
  {
   "cell_type": "code",
   "execution_count": 5,
   "metadata": {},
   "outputs": [
    {
     "name": "stdout",
     "output_type": "stream",
     "text": [
      "p18-0016,Ammar,6,8,9\n",
      "\n",
      "\n",
      "   \n",
      "p18-0058,Zohaib,8,5\n",
      "\n",
      "\n",
      "   \n"
     ]
    }
   ],
   "source": [
    "def write_missing_error(filename):\n",
    "    import os\n",
    "    #file = os.path.join(filename)\n",
    "    list = []\n",
    "    word = \"\"\n",
    "    with open(filename, 'r') as f1:\n",
    "        with open(\"logerror.log\", 'w') as f2:\n",
    "            for line in f1:\n",
    "                line = line.strip('/n')\n",
    "                print(line)\n",
    "                try:\n",
    "                    for letter in line:\n",
    "                        if letter is ',' or line[-1]:\n",
    "                            if letter is line[-1]:\n",
    "                                word = word + letter\n",
    "                                list.append(word)\n",
    "                            else:\n",
    "                                list.append(word)\n",
    "                        else:\n",
    "                            word = word + letter\n",
    "                    print(list[0],list[1],list[2],list[3])\n",
    "                    list[4]\n",
    "                except IndexError:\n",
    "                    f2.write(line)\n",
    "write_missing_error(\"student.txt\")"
   ]
  },
  {
   "cell_type": "code",
   "execution_count": null,
   "metadata": {},
   "outputs": [],
   "source": []
  }
 ],
 "metadata": {
  "kernelspec": {
   "display_name": "Python 3",
   "language": "python",
   "name": "python3"
  },
  "language_info": {
   "codemirror_mode": {
    "name": "ipython",
    "version": 3
   },
   "file_extension": ".py",
   "mimetype": "text/x-python",
   "name": "python",
   "nbconvert_exporter": "python",
   "pygments_lexer": "ipython3",
   "version": "3.7.1"
  }
 },
 "nbformat": 4,
 "nbformat_minor": 2
}
