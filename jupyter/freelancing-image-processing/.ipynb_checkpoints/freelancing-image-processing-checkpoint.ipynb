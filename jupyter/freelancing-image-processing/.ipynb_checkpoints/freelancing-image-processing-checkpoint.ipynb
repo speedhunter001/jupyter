{
 "cells": [
  {
   "cell_type": "code",
   "execution_count": null,
   "metadata": {},
   "outputs": [
    {
     "name": "stdout",
     "output_type": "stream",
     "text": [
      "Collecting scikit-image\n",
      "  Downloading https://files.pythonhosted.org/packages/bb/7f/d27fadff2c2b8cd45fffe44330b3f26014e94e856d4b61e5bfd2701b1ccb/scikit_image-0.14.5-cp27-cp27mu-manylinux1_x86_64.whl (25.5MB)\n",
      "\u001b[K    28% |█████████▎                      | 7.4MB 992kB/s eta 0:00:192"
     ]
    }
   ],
   "source": [
    "!pip install scikit-image"
   ]
  },
  {
   "cell_type": "code",
   "execution_count": null,
   "metadata": {},
   "outputs": [],
   "source": []
  }
 ],
 "metadata": {
  "kernelspec": {
   "display_name": "Python 3",
   "language": "python",
   "name": "python3"
  },
  "language_info": {
   "codemirror_mode": {
    "name": "ipython",
    "version": 3
   },
   "file_extension": ".py",
   "mimetype": "text/x-python",
   "name": "python",
   "nbconvert_exporter": "python",
   "pygments_lexer": "ipython3",
   "version": "3.6.9"
  }
 },
 "nbformat": 4,
 "nbformat_minor": 2
}
