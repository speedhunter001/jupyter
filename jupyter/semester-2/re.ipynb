dummy_url_str_1 = "https://example.org/some-url.html?first=true"

domain_our_str =  "example.org"

uri_our_str = "some-url"

first_our_str = "true"

our_url_str = "https://" + domain_our_str + "/" + uri_our_str + ".html?first=" + first_our_str

import re
match = re.search(our_url_str, dummy_url_str_1)
if match:
    print("Found!!!")
    print( match.group() )
else:
    print(dummy_url_str_1)
    print(our_url_str)
    print("Not Found!!")