{
 "cells": [
  {
   "cell_type": "code",
   "execution_count": 18,
   "metadata": {},
   "outputs": [
    {
     "name": "stdout",
     "output_type": "stream",
     "text": [
      "1\n",
      "2\n",
      "3\n",
      "40\n",
      "22\n",
      "44\n",
      "6\n",
      "78\n",
      "sum is: 184\n"
     ]
    }
   ],
   "source": [
    "x = [[1,2,3,40,22],[44,6,78]]\n",
    "sum = 0\n",
    "for i in range(0,len(x)):\n",
    "    for j in range(0,len(x[i])):\n",
    "        print(x[i][j])\n",
    "        if x[i][j] > 10:\n",
    "            sum = sum + x[i][j]\n",
    "print(\"sum is:\",sum)"
   ]
  },
  {
   "cell_type": "code",
   "execution_count": 19,
   "metadata": {},
   "outputs": [
    {
     "name": "stdout",
     "output_type": "stream",
     "text": [
      "1\n",
      "2\n",
      "3\n",
      "40\n",
      "22\n",
      "44\n",
      "6\n",
      "78\n",
      "sum is: 184\n"
     ]
    }
   ],
   "source": [
    "x = [[1,2,3,40,22],[44,6,78]]\n",
    "sum = 0\n",
    "for i in x:\n",
    "    for j in i:\n",
    "        print(j)\n",
    "        if j > 10:\n",
    "            sum = sum + j\n",
    "print(\"sum is:\",sum)"
   ]
  },
  {
   "cell_type": "code",
   "execution_count": null,
   "metadata": {},
   "outputs": [],
   "source": []
  }
 ],
 "metadata": {
  "kernelspec": {
   "display_name": "Python 3",
   "language": "python",
   "name": "python3"
  },
  "language_info": {
   "codemirror_mode": {
    "name": "ipython",
    "version": 3
   },
   "file_extension": ".py",
   "mimetype": "text/x-python",
   "name": "python",
   "nbconvert_exporter": "python",
   "pygments_lexer": "ipython3",
   "version": "3.7.1"
  }
 },
 "nbformat": 4,
 "nbformat_minor": 2
}
