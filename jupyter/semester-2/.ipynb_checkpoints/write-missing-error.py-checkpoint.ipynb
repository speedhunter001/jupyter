{
 "cells": [
  {
   "cell_type": "code",
   "execution_count": 47,
   "metadata": {},
   "outputs": [
    {
     "name": "stdout",
     "output_type": "stream",
     "text": [
      "p18-0016,Ammar,6,8,9\n",
      "p18-0016\n",
      "Ammar\n",
      "6\n",
      "8\n",
      "end of line is 9\n",
      "9\n",
      "['p18-0016', 'Ammar', '6', '8', '9']\n",
      "p18-0000,unknown,8,5\n",
      "p18-0000\n",
      "unknown\n",
      "8\n",
      "end of line is 5\n",
      "5\n",
      "['p18-0000', 'unknown', '8', '5']\n"
     ]
    }
   ],
   "source": [
    "def write_missing_error(filename):\n",
    "    import os\n",
    "    #file = os.path.join(filename)\n",
    "    list = []\n",
    "    word = \"\"\n",
    "    with open(filename, 'r') as f1:\n",
    "        with open(\"logerror.log\", 'w') as f2:\n",
    "            for line in f1:\n",
    "                line = line.strip()\n",
    "                print(line)\n",
    "                try:\n",
    "                    for letter in line:\n",
    "                        if letter is \",\" or letter is line[-1]:\n",
    "                            if letter is line[-1]:\n",
    "                                print(\"end of line is\",line[-1])\n",
    "                                word = word + letter\n",
    "                                print(word)\n",
    "                                list.append(word)\n",
    "                                word = \"\"\n",
    "                            else:\n",
    "                                list.append(word)\n",
    "                                print(word)\n",
    "                                word = \"\"\n",
    "                        else:\n",
    "                            word = word + letter\n",
    "                    \n",
    "                    print(list)\n",
    "                    list[4]\n",
    "                    list = []\n",
    "                except IndexError:\n",
    "                    f2.write(line)\n",
    "                    \n",
    "write_missing_error(\"student.txt\")"
   ]
  },
  {
   "cell_type": "code",
   "execution_count": 16,
   "metadata": {},
   "outputs": [
    {
     "name": "stdout",
     "output_type": "stream",
     "text": [
      "18p-608944,ali ahmad,7,9,4\n",
      "['18p-608944', 'ali ahmad', '7', '9', '4']\n"
     ]
    }
   ],
   "source": [
    "def write_missing_error(line):\n",
    "    #file = os.path.join(filename)\n",
    "    word = \"\"\n",
    "    with open(\"logerror.log\", 'w') as f:\n",
    "            line = line.strip()\n",
    "            print(line)\n",
    "            try:\n",
    "                line_in_list = line.split(',')\n",
    "                    \n",
    "                print(line_in_list)\n",
    "                line_in_list[4]\n",
    "            except IndexError:\n",
    "                f.write(line)\n",
    "                    \n",
    "write_missing_error(\"18p-608944,ali ahmad,7,9,4\")"
   ]
  },
  {
   "cell_type": "code",
   "execution_count": 17,
   "metadata": {},
   "outputs": [
    {
     "data": {
      "text/plain": [
       "list"
      ]
     },
     "execution_count": 17,
     "metadata": {},
     "output_type": "execute_result"
    }
   ],
   "source": [
    "str = \"hello,ammar\"\n",
    "hi = str.split(',')\n",
    "type(hi)"
   ]
  },
  {
   "cell_type": "code",
   "execution_count": 27,
   "metadata": {},
   "outputs": [],
   "source": [
    "def write_missing_error(line):\n",
    "    with open(\"logerror.log\", 'w') as f:\n",
    "        try:\n",
    "            line_in_list = line.split(',')\n",
    "            line_in_list[4]\n",
    "        except IndexError:\n",
    "            f.write(line)\n",
    "                    \n",
    "write_missing_error('18P-6089,Muhammad,14')"
   ]
  },
  {
   "cell_type": "code",
   "execution_count": 2,
   "metadata": {},
   "outputs": [
    {
     "name": "stdout",
     "output_type": "stream",
     "text": [
      "He's here\n"
     ]
    }
   ],
   "source": [
    "word = 'He\\'s here'\n",
    "print(word)"
   ]
  },
  {
   "cell_type": "code",
   "execution_count": 9,
   "metadata": {},
   "outputs": [
    {
     "name": "stdout",
     "output_type": "stream",
     "text": [
      "{'م': 1605, 'ج': 1580, 'ھ': 1726, 'ے': 1746, ' ': 32, 'ت': 1578, 'س': 1587, 'ن': 1606, 'ف': 1601, 'ر': 1585, 'ہ': 1729, 'ب': 1576, 'ا': 1575, 'ئ': 1574, 'ی': 1740}\n"
     ]
    }
   ],
   "source": [
    "dum = \"مجھے تم سے نفرت ہے بھائی\"\n",
    "print({c:ord(c) for c in dum})"
   ]
  },
  {
   "cell_type": "code",
   "execution_count": 10,
   "metadata": {},
   "outputs": [
    {
     "name": "stdout",
     "output_type": "stream",
     "text": [
      "م\n",
      "ج\n",
      "ھ\n",
      "ے\n",
      " \n",
      "ت\n",
      "م\n",
      " \n",
      "س\n",
      "ے\n",
      " \n",
      "ن\n",
      "ف\n",
      "ر\n",
      "ت\n",
      " \n",
      "ہ\n",
      "ے\n",
      " \n",
      "ب\n",
      "ھ\n",
      "ا\n",
      "ئ\n",
      "ی\n"
     ]
    },
    {
     "data": {
      "text/plain": [
       "[None,\n",
       " None,\n",
       " None,\n",
       " None,\n",
       " None,\n",
       " None,\n",
       " None,\n",
       " None,\n",
       " None,\n",
       " None,\n",
       " None,\n",
       " None,\n",
       " None,\n",
       " None,\n",
       " None,\n",
       " None,\n",
       " None,\n",
       " None,\n",
       " None,\n",
       " None,\n",
       " None,\n",
       " None,\n",
       " None,\n",
       " None]"
      ]
     },
     "execution_count": 10,
     "metadata": {},
     "output_type": "execute_result"
    }
   ],
   "source": [
    "[print(c) for c in dum"
   ]
  },
  {
   "cell_type": "code",
   "execution_count": null,
   "metadata": {},
   "outputs": [],
   "source": []
  }
 ],
 "metadata": {
  "kernelspec": {
   "display_name": "Python 3",
   "language": "python",
   "name": "python3"
  },
  "language_info": {
   "codemirror_mode": {
    "name": "ipython",
    "version": 3
   },
   "file_extension": ".py",
   "mimetype": "text/x-python",
   "name": "python",
   "nbconvert_exporter": "python",
   "pygments_lexer": "ipython3",
   "version": "3.7.1"
  }
 },
 "nbformat": 4,
 "nbformat_minor": 2
}
